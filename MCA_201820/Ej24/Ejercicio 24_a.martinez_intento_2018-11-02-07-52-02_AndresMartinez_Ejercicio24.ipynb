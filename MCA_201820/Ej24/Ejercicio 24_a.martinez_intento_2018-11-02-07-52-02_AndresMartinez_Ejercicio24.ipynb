{
 "cells": [
  {
   "cell_type": "code",
   "execution_count": 41,
   "metadata": {},
   "outputs": [],
   "source": [
    "import numpy as np\n",
    "import matplotlib.pyplot as plt\n",
    "import pandas as pd\n",
    "from sklearn.cluster import KMeans\n",
    "from sklearn import preprocessing\n",
    "from sklearn.decomposition import PCA\n",
    "import warnings\n",
    "warnings.filterwarnings('ignore')\n",
    "%matplotlib inline"
   ]
  },
  {
   "cell_type": "code",
   "execution_count": 42,
   "metadata": {},
   "outputs": [],
   "source": [
    "data = np.array(pd.read_csv('dengue.csv').dropna()[['humid', 'temp' , 'h10pix', 'trees' , 'Xmin', 'Ymin']])\n",
    "for i in range(np.size(data[0,:])):\n",
    "    data[:,i]=(data[:,i]-np.mean(data[:,i]))/np.std(data[:,i])"
   ]
  },
  {
   "cell_type": "code",
   "execution_count": 43,
   "metadata": {},
   "outputs": [
    {
     "data": {
      "text/plain": [
       "[<matplotlib.lines.Line2D at 0x7fa4bbadd668>]"
      ]
     },
     "execution_count": 43,
     "metadata": {},
     "output_type": "execute_result"
    },
    {
     "data": {
      "image/png": "[encoded data removed]",
      "text/plain": [
       "<Figure size 432x288 with 1 Axes>"
      ]
     },
     "metadata": {
      "needs_background": "light"
     },
     "output_type": "display_data"
    }
   ],
   "source": [
    "error=[]\n",
    "clusters=[]\n",
    "for i in range(1,16):\n",
    "    errort=[]\n",
    "    for j in range(5):\n",
    "        kmeans = KMeans(n_clusters=i,random_state=np.random.randint(10))\n",
    "        kmeans.fit(data)\n",
    "        errort.append(kmeans.inertia_)\n",
    "    error.append(np.mean(np.array(errort)))\n",
    "    clusters.append(i)\n",
    "plt.scatter(clusters,error) \n",
    "plt.plot(clusters,error)"
   ]
  },
  {
   "cell_type": "code",
   "execution_count": 44,
   "metadata": {},
   "outputs": [],
   "source": [
    "#El numero optimo de clusters puede ser 3 ya que a partir de este punto ya no existe un cambio tan brusco."
   ]
  },
  {
   "cell_type": "code",
   "execution_count": 45,
   "metadata": {},
   "outputs": [],
   "source": [
    "data = pd.read_csv('BreadBasket_DMS.csv').dropna()\n",
    "data['Time'] =pd.to_timedelta(data['Time'])/ pd.offsets.Minute(1)\n",
    "data['Date'] = pd.to_datetime(data['Date'])\n",
    "data['Date'] = (data['Date'] - data['Date'].min())  / np.timedelta64(1,'D')   \n",
    "data = np.array(data)"
   ]
  },
  {
   "cell_type": "code",
   "execution_count": 47,
   "metadata": {},
   "outputs": [],
   "source": [
    "pca = PCA()\n",
    "pca.fit(data[:,:-1])\n",
    "E=pca.explained_variance_/np.sum(pca.explained_variance_)"
   ]
  },
  {
   "cell_type": "code",
   "execution_count": null,
   "metadata": {},
   "outputs": [],
   "source": [
    "error=[]\n",
    "clusters=[]\n",
    "for i in range(1,16):\n",
    "    kmeans = KMeans(n_clusters=i)\n",
    "    kmeans.fit(data[:,:-1])\n",
    "    error.append(kmeans.inertia_)\n",
    "    clusters.append(i)\n",
    "plt.scatter(clusters,error) \n",
    "plt.plot(clusters,error)"
   ]
  },
  {
   "cell_type": "code",
   "execution_count": null,
   "metadata": {},
   "outputs": [],
   "source": [
    "kmeans = KMeans(n_clusters=5)\n",
    "clusters = kmeans.fit_predict(data[:,:-1])"
   ]
  },
  {
   "cell_type": "code",
   "execution_count": null,
   "metadata": {},
   "outputs": [],
   "source": [
    "k=1\n",
    "nombres=['Dia','Hora','Transaccion','Producto']\n",
    "plt.figure(figsize=(22,22))\n",
    "for i in range(3):\n",
    "    for j in range(3):\n",
    "        plt.subplot(3, 3, k)\n",
    "        plt.scatter(data[:,i],data[:,j],c=clusters,alpha=0.5)\n",
    "        plt.xlabel(nombres[i])\n",
    "        plt.ylabel(nombres[j])\n",
    "        k=k+1"
   ]
  },
  {
   "cell_type": "code",
   "execution_count": null,
   "metadata": {},
   "outputs": [],
   "source": []
  }
 ],
 "metadata": {
  "kernelspec": {
   "display_name": "Python 3",
   "language": "python",
   "name": "python3"
  },
  "language_info": {
   "codemirror_mode": {
    "name": "ipython",
    "version": 3
   },
   "file_extension": ".py",
   "mimetype": "text/x-python",
   "name": "python",
   "nbconvert_exporter": "python",
   "pygments_lexer": "ipython3",
   "version": "3.6.6"
  }
 },
 "nbformat": 4,
 "nbformat_minor": 2
}
