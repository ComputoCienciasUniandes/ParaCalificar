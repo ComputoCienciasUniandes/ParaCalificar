{
 "cells": [
  {
   "cell_type": "code",
   "execution_count": 428,
   "metadata": {
    "collapsed": true
   },
   "outputs": [],
   "source": [
    "import numpy as np \n",
    "import pandas as pd \n",
    "import matplotlib.pyplot as plt \n",
    "from mpl_toolkits.mplot3d import Axes3D\n",
    "from sklearn.preprocessing import LabelEncoder\n",
    "from sklearn.preprocessing import StandardScaler\n",
    "from sklearn.preprocessing import OneHotEncoder\n",
    "from sklearn.model_selection import train_test_split\n",
    "from sklearn.decomposition import PCA\n",
    "from sklearn.cluster import KMeans"
   ]
  },
  {
   "cell_type": "code",
   "execution_count": 409,
   "metadata": {
    "collapsed": false
   },
   "outputs": [
    {
     "name": "stdout",
     "output_type": "stream",
     "text": [
      "      Unnamed: 0      humid    humid90       temp     temp90     h10pix  \\\n",
      "0              1   0.671389   4.416667   2.037500   8.470835  17.356529   \n",
      "1              2   7.648334   8.167500  12.325000  14.925000  10.983610   \n",
      "2              3   6.979056   9.563058   6.925000  14.591660  17.508329   \n",
      "3              4   1.110416   1.825361   4.641665   6.046669  17.417635   \n",
      "4              5   9.027055   9.742751  18.175000  19.710000  13.843060   \n",
      "5              6   8.914111   9.516778  11.900000  16.643341  11.691670   \n",
      "6              7   5.295555   5.781750   9.254150  13.165820  17.838750   \n",
      "7              8   1.150833   1.218611   7.116670   8.875000  11.691670   \n",
      "8              9   8.529445   8.941834  20.424999  22.086641  18.875000   \n",
      "9             10   8.543639   9.065972  15.154150  17.226690  12.250280   \n",
      "10            11   6.594583   6.626528  10.191700  10.291700  17.894720   \n",
      "11            12   1.032444   1.298777   0.954165   2.397497  17.736945   \n",
      "12            13   4.263444   6.460777   6.583330  11.838309  17.941669   \n",
      "13            14   7.392917   8.652639  10.462515  14.185863  17.894720   \n",
      "14            15   4.868139   5.051972   8.629165   9.552497  17.894720   \n",
      "15            16  10.002168  11.078502  14.841700  17.634980  17.941669   \n",
      "16            17  10.051144  10.276806  22.116651  23.183320  20.028890   \n",
      "17            18   3.435445   4.500389   8.541670  13.185000  16.833891   \n",
      "18            19   6.576167   7.424833  10.716700  13.529980  17.894720   \n",
      "19            20   3.546833   3.932278   4.950000   5.256664  17.700830   \n",
      "20            21   8.267223   8.690056  18.275000  20.560020  18.250000   \n",
      "21            22  11.687668  11.690336  17.233299  17.426660  16.418610   \n",
      "22            23   8.874722   9.929165  10.075000  15.191700  17.403609   \n",
      "23            24   2.650222   3.783222   4.500000   7.046664  17.782780   \n",
      "24            25   6.438639   7.265028  14.112500  16.335000  17.774859   \n",
      "25            26   6.025389   7.835667  12.716700  15.946640  17.894720   \n",
      "26            27   9.928889  10.321251  16.170800  17.279201  13.352500   \n",
      "27            28  10.349442  10.567496  15.200000  17.496700  11.691670   \n",
      "28            29   8.291556   9.714221  12.208300  15.556700  16.418610   \n",
      "29            30   8.480222   9.814887  13.875000  17.093310  15.542220   \n",
      "...          ...        ...        ...        ...        ...        ...   \n",
      "1970        1971  20.391948  20.621836  23.666700  25.601700  26.383060   \n",
      "1971        1972  28.501669  29.125003  27.391700  28.909200  30.317221   \n",
      "1972        1973  14.408558  14.540446  17.058300  17.351659  30.317221   \n",
      "1973        1974  26.907166  27.642722  28.891701  29.316660  30.317221   \n",
      "1974        1975  19.144973  19.271971  22.641650  23.542490  30.128059   \n",
      "1975        1976  19.539329  20.663663  19.287500  22.539190  30.317221   \n",
      "1976        1977  16.498057  17.804725  19.166651  21.439971  30.222640   \n",
      "1977        1978  15.605442  16.139774  17.516650  18.349970  30.317221   \n",
      "1978        1979  18.720332  19.465668  21.408300  22.946700  30.317221   \n",
      "1979        1980  13.532640  15.025420  17.454150  20.416650  29.935004   \n",
      "1980        1981  13.776115  15.242920  17.308300  18.933300  30.317221   \n",
      "1981        1982  25.926698  28.470199  24.587500  28.714189  30.317221   \n",
      "1982        1983  17.296830  17.770948  22.366699  22.729980  19.701389   \n",
      "1983        1984  16.318358  16.752279  21.150000  21.674970  20.670561   \n",
      "1984        1985  17.482470  17.874775  21.945850  22.578321  22.562360   \n",
      "1985        1986  17.867727  18.817611  21.658300  23.194980  22.398609   \n",
      "1986        1987  17.148942  18.223389  21.066700  22.585020  22.398609   \n",
      "1987        1988  16.565830  16.692780  21.125000  21.924999  20.893061   \n",
      "1988        1989  16.662640  17.825695  21.775000  22.841650  20.551670   \n",
      "1989        1990  16.117976  16.173446  20.554200  20.841680  20.893061   \n",
      "1990        1991  18.777610  19.254690  22.383300  23.840010  21.074169   \n",
      "1991        1992  17.642334  18.823670  19.375000  21.249979  25.186670   \n",
      "1992        1993  16.416666  17.615889  20.716700  22.921701  23.715000   \n",
      "1993        1994  19.358891  19.791941  21.741699  23.933300  24.251671   \n",
      "1994        1995  17.066111  18.656389  19.133301  22.325001  24.981670   \n",
      "1995        1996  18.238696  18.733833  21.754150  23.888301  22.329165   \n",
      "1996        1997  16.900721  17.979446  21.433300  23.051680  20.635000   \n",
      "1997        1998  16.567168  17.541224  20.116699  22.208360  23.225000   \n",
      "1998        1999  19.427892  20.092612  21.237500  22.116640  24.429030   \n",
      "1999        2000  13.771333  15.041668  18.395800  20.975009  15.765830   \n",
      "\n",
      "       h10pix90  trees  trees90  NoYes  Xmin  Xmax  Ymin  Ymax  \n",
      "0     17.808611    0.0      1.5      0  70.5  74.5  38.0  35.5  \n",
      "1     11.691670    0.0      1.0      0  62.5  64.5  35.5  34.5  \n",
      "2     17.625280    0.0      1.2      0  68.5  69.5  36.0  35.0  \n",
      "3     17.516939    0.0      0.6      0  67.0  68.0  35.0  34.0  \n",
      "4     13.843060    0.0      0.0      0  61.0  64.5  33.5  32.0  \n",
      "5     11.691670    0.0      0.2      0  64.5  65.5  36.5  35.0  \n",
      "6     17.894720    0.0      0.0      0  67.5  68.5  33.5  32.0  \n",
      "7     15.225280    0.0      0.0      0  64.0  66.5  35.0  33.0  \n",
      "8     23.642220    0.0      0.0      0  63.5  65.5  33.0  29.5  \n",
      "9     13.843060    0.0      0.6      0  61.0  64.5  35.0  33.5  \n",
      "10    17.894720    0.0      0.0      0  69.5  70.0  34.5  34.5  \n",
      "11    17.773613    0.0      0.0      0  70.0  70.5  35.5  35.0  \n",
      "12    17.941669    2.0     36.2      0  71.0  71.5  35.5  34.5  \n",
      "13    17.894720    0.5      0.9      0  70.5  70.5  35.0  34.5  \n",
      "14    17.894720    0.0      0.0      0  69.0  69.5  34.0  33.5  \n",
      "15    17.941669    0.0      3.2      0  70.0  71.0  34.0  34.0  \n",
      "16    24.405001    0.0      0.0      0  61.5  63.5  31.5  29.5  \n",
      "17    17.515217    0.0      0.0      0  65.5  67.5  34.0  32.5  \n",
      "18    17.894720    0.0      0.8      0  69.5  70.0  33.5  33.0  \n",
      "19    17.766390    1.0      1.8      0  68.5  69.5  35.0  34.5  \n",
      "20    21.698886    0.0      0.0      0  65.5  67.5  32.0  29.5  \n",
      "21    16.418610    1.0      1.8      0  68.5  69.0  37.0  36.5  \n",
      "22    17.625280    0.0      1.0      0  69.5  70.5  37.0  35.5  \n",
      "23    17.872332    0.0      0.0      0  68.0  69.0  34.0  34.0  \n",
      "24    17.850586    0.0      0.0      0  66.5  68.0  32.5  31.5  \n",
      "25    17.925942    0.0      0.0      0  68.5  69.5  33.0  31.5  \n",
      "26    16.141939    0.0      1.0      0  67.0  67.5  37.0  35.5  \n",
      "27    13.427670    0.0      1.0      0  66.0  66.5  37.0  35.0  \n",
      "28    17.153052    0.0      0.0      0  67.5  68.5  36.5  35.5  \n",
      "29    15.542220    0.5      1.0      0   5.5   6.5  35.5  35.0  \n",
      "...         ...    ...      ...    ...   ...   ...   ...   ...  \n",
      "1970  28.397779    0.0      0.0      0  48.0  51.0  18.0  14.0  \n",
      "1971  30.317221    0.0      0.7      1  44.0  45.0  13.5  12.5  \n",
      "1972  30.317221    0.0      0.8      0  45.0  46.0  14.0  14.0  \n",
      "1973  30.317221    0.0      1.0      0  43.0  43.5  15.5  13.5  \n",
      "1974  30.128059    0.0      0.0      0  44.5  46.5  16.5  16.0  \n",
      "1975  30.317221    1.0      1.0      0  44.0  45.0  14.5  14.0  \n",
      "1976  30.298305    0.5      0.9      0  43.5  44.0  16.0  16.0  \n",
      "1977  30.317221    3.0      4.6      0  44.5  44.5  14.0  13.5  \n",
      "1978  30.317221    0.0      0.0      0  45.0  46.5  15.5  14.5  \n",
      "1979  30.128059    0.0      1.0      0  43.5  45.0  17.0  16.5  \n",
      "1980  30.317221    0.0      1.0      0  44.0  45.0  16.5  15.0  \n",
      "1981  30.317221    1.0     14.3      1  43.5  44.5  13.5  13.0  \n",
      "1982  19.701389   16.0     31.0      0  22.5  25.5 -14.0 -17.5  \n",
      "1983  21.794636   28.0     43.9      0  26.0  31.5 -12.5 -15.5  \n",
      "1984  23.324450   26.0     32.7      0  30.5  33.5 -11.0 -15.0  \n",
      "1985  23.103167   33.0     46.0      0  29.0  30.5  -9.0 -12.5  \n",
      "1986  22.757500   28.0     42.2      0  29.5  33.5  -8.5 -13.0  \n",
      "1987  21.124439   43.0     49.0      0  22.5  27.5 -11.5 -14.5  \n",
      "1988  20.670561   15.5     22.0      0  25.5  29.0 -16.0 -18.0  \n",
      "1989  21.073891   37.0     44.6      0  27.5  29.0 -13.0 -14.0  \n",
      "1990  21.979303   19.5     39.1      0  28.5  30.5 -15.0 -16.0  \n",
      "1991  25.186670   21.0     34.0      1  31.5  33.0 -18.0 -21.0  \n",
      "1992  24.322615   13.0     26.2      0  28.5  31.5 -17.5 -21.0  \n",
      "1993  24.614170   11.0     18.0      1  30.5  32.5 -16.5 -17.5  \n",
      "1994  25.186670   11.0     20.0      1  31.0  33.0 -17.0 -19.0  \n",
      "1995  23.715000   14.0     40.8      0  28.5  30.5 -16.0 -19.0  \n",
      "1996  22.275829   18.0     38.6      0  26.0  29.0 -17.5 -20.0  \n",
      "1997  23.782331   14.0     21.8      0  28.0  31.0 -20.0 -22.5  \n",
      "1998  24.981670   17.0     29.1      0  30.5  32.5 -20.0 -22.5  \n",
      "1999  18.948305    0.0      0.0      0  13.5  16.0 -20.0 -25.0  \n",
      "\n",
      "[1986 rows x 14 columns]\n"
     ]
    }
   ],
   "source": [
    "data = pd.read_csv('dengue.csv').dropna()\n",
    "print(data)"
   ]
  },
  {
   "cell_type": "code",
   "execution_count": 410,
   "metadata": {
    "collapsed": false
   },
   "outputs": [],
   "source": [
    "X = data[['humid', 'temp' , 'h10pix', 'trees' , 'Xmin', 'Ymin']].values\n",
    "\n",
    "wcss = []\n",
    "for i in range(1,11):\n",
    "    km = KMeans(n_clusters=i)\n",
    "    km.fit(X)\n",
    "    wcss.append(km.inertia_)"
   ]
  },
  {
   "cell_type": "code",
   "execution_count": 411,
   "metadata": {
    "collapsed": false
   },
   "outputs": [
    {
     "data": {
      "image/png": "[encoded data removed]",
      "text/plain": [
       "<matplotlib.figure.Figure at 0x7f6935627c88>"
      ]
     },
     "metadata": {},
     "output_type": "display_data"
    }
   ],
   "source": [
    "plt.plot(np.linspace(1,10,10), wcss)\n",
    "plt.scatter(np.linspace(1,10,10), wcss)\n",
    "plt.xlabel('# de clusters')\n",
    "plt.ylabel('wcss')\n",
    "plt.title('elbow method')\n",
    "plt.show()"
   ]
  },
  {
   "cell_type": "markdown",
   "metadata": {},
   "source": [
    "El número óptimo de clusters es 3"
   ]
  },
  {
   "cell_type": "code",
   "execution_count": 412,
   "metadata": {
    "collapsed": false
   },
   "outputs": [
    {
     "name": "stdout",
     "output_type": "stream",
     "text": [
      "             Date      Time  Transaction                  Item\n",
      "0      2016-10-30  09:58:11            1                 Bread\n",
      "1      2016-10-30  10:05:34            2          Scandinavian\n",
      "2      2016-10-30  10:05:34            2          Scandinavian\n",
      "3      2016-10-30  10:07:57            3         Hot chocolate\n",
      "4      2016-10-30  10:07:57            3                   Jam\n",
      "5      2016-10-30  10:07:57            3               Cookies\n",
      "6      2016-10-30  10:08:41            4                Muffin\n",
      "7      2016-10-30  10:13:03            5                Coffee\n",
      "8      2016-10-30  10:13:03            5                Pastry\n",
      "9      2016-10-30  10:13:03            5                 Bread\n",
      "10     2016-10-30  10:16:55            6             Medialuna\n",
      "11     2016-10-30  10:16:55            6                Pastry\n",
      "12     2016-10-30  10:16:55            6                Muffin\n",
      "13     2016-10-30  10:19:12            7             Medialuna\n",
      "14     2016-10-30  10:19:12            7                Pastry\n",
      "15     2016-10-30  10:19:12            7                Coffee\n",
      "16     2016-10-30  10:19:12            7                   Tea\n",
      "17     2016-10-30  10:20:51            8                Pastry\n",
      "18     2016-10-30  10:20:51            8                 Bread\n",
      "19     2016-10-30  10:21:59            9                 Bread\n",
      "20     2016-10-30  10:21:59            9                Muffin\n",
      "21     2016-10-30  10:25:58           10          Scandinavian\n",
      "22     2016-10-30  10:25:58           10             Medialuna\n",
      "23     2016-10-30  10:27:21           11                 Bread\n",
      "24     2016-10-30  10:27:21           11             Medialuna\n",
      "25     2016-10-30  10:27:21           11                 Bread\n",
      "26     2016-10-30  10:27:21           11                  NONE\n",
      "27     2016-10-30  10:30:14           12                   Jam\n",
      "28     2016-10-30  10:30:14           12                Coffee\n",
      "29     2016-10-30  10:30:14           12               Tartine\n",
      "...           ...       ...          ...                   ...\n",
      "21263  2017-04-09  12:28:01         9671                 Bread\n",
      "21264  2017-04-09  12:31:28         9672                Coffee\n",
      "21265  2017-04-09  12:31:28         9672               Cookies\n",
      "21266  2017-04-09  12:31:28         9672                  NONE\n",
      "21267  2017-04-09  12:31:28         9672  Extra Salami or Feta\n",
      "21268  2017-04-09  12:32:03         9673        Spanish Brunch\n",
      "21269  2017-04-09  12:32:03         9673                Coffee\n",
      "21270  2017-04-09  12:32:03         9673                 Bread\n",
      "21271  2017-04-09  13:04:08         9674                Coffee\n",
      "21272  2017-04-09  13:06:34         9676             Smoothies\n",
      "21273  2017-04-09  13:06:34         9676              Sandwich\n",
      "21274  2017-04-09  13:20:23         9677          Tacos/Fajita\n",
      "21275  2017-04-09  13:20:23         9677                  Coke\n",
      "21276  2017-04-09  13:49:21         9678                Coffee\n",
      "21277  2017-04-09  13:49:21         9678          Tacos/Fajita\n",
      "21278  2017-04-09  13:49:21         9678                 Toast\n",
      "21279  2017-04-09  14:08:37         9679                 Bread\n",
      "21280  2017-04-09  14:08:37         9679        Spanish Brunch\n",
      "21281  2017-04-09  14:24:03         9680                 Bread\n",
      "21282  2017-04-09  14:30:09         9681              Truffles\n",
      "21283  2017-04-09  14:30:09         9681                   Tea\n",
      "21284  2017-04-09  14:30:09         9681        Spanish Brunch\n",
      "21285  2017-04-09  14:30:09         9681      Christmas common\n",
      "21286  2017-04-09  14:32:58         9682                Muffin\n",
      "21287  2017-04-09  14:32:58         9682          Tacos/Fajita\n",
      "21288  2017-04-09  14:32:58         9682                Coffee\n",
      "21289  2017-04-09  14:32:58         9682                   Tea\n",
      "21290  2017-04-09  14:57:06         9683                Coffee\n",
      "21291  2017-04-09  14:57:06         9683                Pastry\n",
      "21292  2017-04-09  15:04:24         9684             Smoothies\n",
      "\n",
      "[21293 rows x 4 columns]\n",
      "2016-10-30\n",
      "[[1 35891.0]\n",
      " [1 36334.0]\n",
      " [1 36334.0]\n",
      " ..., \n",
      " [159 53826.0]\n",
      " [159 53826.0]\n",
      " [159 54264.0]]\n"
     ]
    }
   ],
   "source": [
    "data = pd.read_csv('BreadBasket_DMS.csv')\n",
    "X = data.iloc[:,0:2].values\n",
    "y = data.iloc[:,3].values\n",
    "import datetime\n",
    "import time\n",
    "print(data)\n",
    "for i in range(len(X[:,1])):\n",
    "    X[i,1] = time.strptime(X[i,1].split(',')[0],'%H:%M:%S')\n",
    "    X[i,1] = datetime.timedelta(hours=X[i,1].tm_hour,minutes=X[i,1].tm_min,seconds=X[i,1].tm_sec).total_seconds()\n",
    "counter = 1\n",
    "date = X[0,0]\n",
    "print(date)\n",
    "for i in range(len(X[:,0])):\n",
    "    if (X[i,0] == date):\n",
    "        X[i,0] = counter\n",
    "    else:\n",
    "        date = X[i,0]\n",
    "        counter += 1\n",
    "        X[i,0] = counter\n",
    "print(X)"
   ]
  },
  {
   "cell_type": "code",
   "execution_count": 413,
   "metadata": {
    "collapsed": false
   },
   "outputs": [
    {
     "name": "stdout",
     "output_type": "stream",
     "text": [
      "[ 0.52954172  0.47045828]\n"
     ]
    },
    {
     "name": "stderr",
     "output_type": "stream",
     "text": [
      "/home/juan/anaconda3/lib/python3.6/site-packages/sklearn/utils/validation.py:429: DataConversionWarning: Data with input dtype object was converted to float64 by StandardScaler.\n",
      "  warnings.warn(msg, _DataConversionWarning)\n"
     ]
    }
   ],
   "source": [
    "sc = StandardScaler()\n",
    "x = sc.fit_transform(X)\n",
    "n_features = len(x[0,:])\n",
    "pca = PCA(n_components=None)\n",
    "pca.fit(x)\n",
    "Variance_Ratio = pca.explained_variance_ratio_\n",
    "print(Variance_Ratio)"
   ]
  },
  {
   "cell_type": "code",
   "execution_count": 414,
   "metadata": {
    "collapsed": false
   },
   "outputs": [
    {
     "name": "stdout",
     "output_type": "stream",
     "text": [
      "[[ 0.70710678  0.70710678]\n",
      " [-0.70710678  0.70710678]]\n"
     ]
    }
   ],
   "source": [
    "pca3 = PCA(n_components=2)\n",
    "P = pca3.fit_transform(x)\n",
    "Z = pca3.components_\n",
    "print(Z)"
   ]
  },
  {
   "cell_type": "code",
   "execution_count": 415,
   "metadata": {
    "collapsed": false
   },
   "outputs": [
    {
     "data": {
      "image/png": "[encoded data removed]",
      "text/plain": [
       "<matplotlib.figure.Figure at 0x7f69361ba400>"
      ]
     },
     "metadata": {},
     "output_type": "display_data"
    }
   ],
   "source": [
    "X1 = np.linspace(1,2,2)\n",
    "plt.plot(X1, Variance_Ratio)\n",
    "plt.scatter(X1, Variance_Ratio)\n",
    "plt.show()"
   ]
  },
  {
   "cell_type": "code",
   "execution_count": 416,
   "metadata": {
    "collapsed": false
   },
   "outputs": [
    {
     "data": {
      "image/png": "[encoded data removed]",
      "text/plain": [
       "<matplotlib.figure.Figure at 0x7f69355ffc88>"
      ]
     },
     "metadata": {},
     "output_type": "display_data"
    }
   ],
   "source": [
    "X1 = P[:,0]\n",
    "X2 = P[:,1]\n",
    "\n",
    "def f(x, y):\n",
    "    m = y/x\n",
    "    return m\n",
    "\n",
    "x = np.linspace(0,0.5)\n",
    "plt.scatter(X1,-X2)\n",
    "plt.plot(x, -f(Z[0,0], Z[1,0])*x, color = 'red')\n",
    "plt.plot(x, -f(Z[0,1], Z[1,1])*x, color = 'red')\n",
    "plt.ylabel('Second Principal Component')\n",
    "plt.xlabel('First Principal Component')\n",
    "plt.show()"
   ]
  },
  {
   "cell_type": "code",
   "execution_count": 425,
   "metadata": {
    "collapsed": false
   },
   "outputs": [],
   "source": [
    "X = data.iloc[:,0:3].values\n",
    "y = data.iloc[:,3].values\n",
    "\n",
    "label_encoder = LabelEncoder()\n",
    "y = label_encoder.fit_transform(y)\n",
    "\n",
    "import datetime\n",
    "import time\n",
    "for i in range(len(X[:,1])):\n",
    "    X[i,1] = time.strptime(X[i,1].split(',')[0],'%H:%M:%S')\n",
    "    X[i,1] = datetime.timedelta(hours=X[i,1].tm_hour,minutes=X[i,1].tm_min,seconds=X[i,1].tm_sec).total_seconds()\n",
    "counter = 1\n",
    "date = X[0,0]\n",
    "for i in range(len(X[:,0])):\n",
    "    if (X[i,0] == date):\n",
    "        X[i,0] = counter\n",
    "    else:\n",
    "        date = X[i,0]\n",
    "        counter += 1\n",
    "        X[i,0] = counter\n",
    "\n",
    "Z = X[:,[0,1]]"
   ]
  },
  {
   "cell_type": "code",
   "execution_count": 426,
   "metadata": {
    "collapsed": true
   },
   "outputs": [],
   "source": [
    "wcss = []\n",
    "for i in range(1,11):\n",
    "    km = KMeans(n_clusters=i)\n",
    "    km.fit(X)\n",
    "    wcss.append(km.inertia_)"
   ]
  },
  {
   "cell_type": "code",
   "execution_count": 427,
   "metadata": {
    "collapsed": false
   },
   "outputs": [
    {
     "data": {
      "image/png": "[encoded data removed]",
      "text/plain": [
       "<matplotlib.figure.Figure at 0x7f6935833cc0>"
      ]
     },
     "metadata": {},
     "output_type": "display_data"
    }
   ],
   "source": [
    "plt.plot(np.linspace(1,10,10), wcss)\n",
    "plt.scatter(np.linspace(1,10,10), wcss)\n",
    "plt.xlabel('# de clusters')\n",
    "plt.ylabel('wcss')\n",
    "plt.title('elbow method')\n",
    "plt.show()"
   ]
  },
  {
   "cell_type": "code",
   "execution_count": 436,
   "metadata": {
    "collapsed": true
   },
   "outputs": [],
   "source": [
    "kmeans = KMeans(n_clusters=3)\n",
    "y_kmeans = kmeans.fit_predict(Z)"
   ]
  },
  {
   "cell_type": "code",
   "execution_count": 421,
   "metadata": {
    "collapsed": false
   },
   "outputs": [
    {
     "data": {
      "image/png": "[encoded data removed]",
      "text/plain": [
       "<matplotlib.figure.Figure at 0x7f6935577390>"
      ]
     },
     "metadata": {},
     "output_type": "display_data"
    }
   ],
   "source": [
    "plt.scatter(Z[y_kmeans == 0, 0], Z[y_kmeans == 0, 1], s = 100, c = 'red', label = 'cluster 1')\n",
    "plt.scatter(Z[y_kmeans == 1, 0], Z[y_kmeans == 1, 1], s = 100, c = 'cyan', label = 'cluster 2')\n",
    "plt.scatter(Z[y_kmeans == 2, 0], Z[y_kmeans == 2, 1], s = 100, c = 'green', label = 'cluster 3')\n",
    "plt.legend()\n",
    "plt.ylabel('Time of Day (seconds)')\n",
    "plt.xlabel('Date (from 2016-10-30)')\n",
    "plt.title('Clusters')\n",
    "plt.show()"
   ]
  },
  {
   "cell_type": "code",
   "execution_count": null,
   "metadata": {
    "collapsed": true
   },
   "outputs": [],
   "source": []
  },
  {
   "cell_type": "code",
   "execution_count": 351,
   "metadata": {
    "collapsed": true
   },
   "outputs": [],
   "source": [
    "data = pd.read_csv('BreadBasket_DMS.csv')"
   ]
  },
  {
   "cell_type": "code",
   "execution_count": 386,
   "metadata": {
    "collapsed": false
   },
   "outputs": [
    {
     "name": "stdout",
     "output_type": "stream",
     "text": [
      "[['30' '10' '05' ..., '10' '34' '2']\n",
      " ['30' '10' '05' ..., '10' '34' '2']\n",
      " ['30' '10' '07' ..., '10' '57' '3']\n",
      " ..., \n",
      " ['09' '04' '57' ..., '14' '06' '9683']\n",
      " ['09' '04' '57' ..., '14' '06' '9683']\n",
      " ['09' '04' '04' ..., '15' '24' '9684']]\n"
     ]
    }
   ],
   "source": [
    "D = []\n",
    "M = []\n",
    "Y = []\n",
    "H = []\n",
    "S = []\n",
    "Mn = []\n",
    "T = [] \n",
    "\n",
    "for i in (data['Date'][1:]):\n",
    "    K = i.split(\"-\")\n",
    "    D.append(K[2])\n",
    "    M.append(K[1])\n",
    "    Y.append(K[0])\n",
    "    \n",
    "for i in (data['Time'][1:]):\n",
    "    K = i.split(':')\n",
    "    H.append(K[0])\n",
    "    Mn.append(K[1])\n",
    "    S.append(K[2])\n",
    "\n",
    "for i in (data['Transaction'][1:]):\n",
    "    T.append(i)\n",
    "    \n",
    "X = np.transpose(np.array([D, M,Mn, Y, H, S, T]))\n",
    "print(X)"
   ]
  },
  {
   "cell_type": "code",
   "execution_count": 387,
   "metadata": {
    "collapsed": false
   },
   "outputs": [
    {
     "name": "stdout",
     "output_type": "stream",
     "text": [
      "[[ 1.66746011  0.89851066 -1.38313568 ..., -0.97081329  0.26332999\n",
      "  -1.77583184]\n",
      " [ 1.66746011  0.89851066 -1.38313568 ..., -0.97081329  0.26332999\n",
      "  -1.77583184]\n",
      " [ 1.66746011  0.89851066 -1.26899808 ..., -0.97081329  1.58974695\n",
      "  -1.7754731 ]\n",
      " ..., \n",
      " [-0.68346511 -0.41789396  1.58444176 ...,  0.75119496 -1.35143848\n",
      "   1.69710798]\n",
      " [-0.68346511 -0.41789396  1.58444176 ...,  0.75119496 -1.35143848\n",
      "   1.69710798]\n",
      " [-0.68346511 -0.41789396 -1.44020447 ...,  1.18169703 -0.31337303\n",
      "   1.69746672]]\n"
     ]
    },
    {
     "name": "stderr",
     "output_type": "stream",
     "text": [
      "/home/juan/anaconda3/lib/python3.6/site-packages/sklearn/utils/validation.py:429: DataConversionWarning: Data with input dtype <U4 was converted to float64 by StandardScaler.\n",
      "  warnings.warn(msg, _DataConversionWarning)\n"
     ]
    }
   ],
   "source": [
    "n_feat = 7\n",
    "\n",
    "sc = StandardScaler()\n",
    "X = sc.fit_transform(X)\n",
    "pca = PCA(n_components=None)\n",
    "pca.fit(X)\n",
    "Variance_Ratio = pca.explained_variance_ratio_\n",
    "\n",
    "comvariance = []\n",
    "count = Variance_Ratio[0]\n",
    "for i in range(0,7):\n",
    "    if i > 0:\n",
    "        count += Variance_Ratio[i]\n",
    "    comvariance.append(count)\n",
    "print(X)"
   ]
  },
  {
   "cell_type": "code",
   "execution_count": 388,
   "metadata": {
    "collapsed": false
   },
   "outputs": [
    {
     "name": "stdout",
     "output_type": "stream",
     "text": [
      "[[ 2.29437902  0.05597255]\n",
      " [ 2.29437902  0.05597255]\n",
      " [ 2.29780026 -0.14427117]\n",
      " ..., \n",
      " [-1.73552577 -0.41502015]\n",
      " [-1.73552577 -0.41502015]\n",
      " [-1.7074289   1.92539606]]\n"
     ]
    }
   ],
   "source": [
    "pca3 = PCA(n_components=2)\n",
    "X1 = pca3.fit_transform(X)\n",
    "components = pca3.components_\n",
    "print(X1)"
   ]
  },
  {
   "cell_type": "code",
   "execution_count": 393,
   "metadata": {
    "collapsed": false
   },
   "outputs": [
    {
     "data": {
      "image/png": "[encoded data removed]",
      "text/plain": [
       "<matplotlib.figure.Figure at 0x7f69361aec50>"
      ]
     },
     "metadata": {},
     "output_type": "display_data"
    }
   ],
   "source": [
    "def f(x, y):\n",
    "    m = y/x\n",
    "    return m\n",
    "\n",
    "\n",
    "x = np.linspace(0,0.5)\n",
    "plt.scatter(X1[:,0], X1[:,1])\n",
    "for i in range(n_features):\n",
    "    plt.plot(x, f(components[0,i], components[1,i])*x, color = 'red')\n",
    "plt.xlabel('First PC')\n",
    "plt.ylabel\n",
    "plt.show()"
   ]
  },
  {
   "cell_type": "code",
   "execution_count": 396,
   "metadata": {
    "collapsed": true
   },
   "outputs": [],
   "source": [
    "X = np.transpose(np.array([D, M,Mn, Y, H, S, T]))\n",
    "\n",
    "\n",
    "wcss = []\n",
    "for i in range(1,11):\n",
    "    km = KMeans(n_clusters=i)\n",
    "    km.fit(X)\n",
    "    wcss.append(km.inertia_)"
   ]
  },
  {
   "cell_type": "code",
   "execution_count": 398,
   "metadata": {
    "collapsed": false
   },
   "outputs": [
    {
     "data": {
      "image/png": "[encoded data removed]",
      "text/plain": [
       "<matplotlib.figure.Figure at 0x7f6935c33ba8>"
      ]
     },
     "metadata": {},
     "output_type": "display_data"
    }
   ],
   "source": [
    "plt.plot(np.linspace(1,10,10), wcss)\n",
    "plt.scatter(np.linspace(1,10,10), wcss)\n",
    "plt.xlabel('# de clusters')\n",
    "plt.ylabel('wcss')\n",
    "plt.title('elbow method')\n",
    "plt.show()"
   ]
  },
  {
   "cell_type": "code",
   "execution_count": 431,
   "metadata": {
    "collapsed": true
   },
   "outputs": [],
   "source": [
    "kmeans = KMeans(n_clusters=3)\n",
    "y_kmeans = kmeans.fit_predict(X)"
   ]
  },
  {
   "cell_type": "code",
   "execution_count": null,
   "metadata": {
    "collapsed": false
   },
   "outputs": [],
   "source": []
  }
 ],
 "metadata": {
  "kernelspec": {
   "display_name": "Python 3",
   "language": "python",
   "name": "python3"
  },
  "language_info": {
   "codemirror_mode": {
    "name": "ipython",
    "version": 3
   },
   "file_extension": ".py",
   "mimetype": "text/x-python",
   "name": "python",
   "nbconvert_exporter": "python",
   "pygments_lexer": "ipython3",
   "version": "3.6.0"
  }
 },
 "nbformat": 4,
 "nbformat_minor": 2
}
