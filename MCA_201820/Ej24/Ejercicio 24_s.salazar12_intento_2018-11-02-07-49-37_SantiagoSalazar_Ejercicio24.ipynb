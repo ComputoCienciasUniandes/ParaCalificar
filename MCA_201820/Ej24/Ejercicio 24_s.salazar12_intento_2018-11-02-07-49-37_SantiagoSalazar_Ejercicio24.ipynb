{
 "cells": [
  {
   "cell_type": "code",
   "execution_count": 1,
   "metadata": {},
   "outputs": [],
   "source": [
    "import numpy as np\n",
    "import matplotlib.pyplot as plt\n",
    "from sklearn.cluster import KMeans\n",
    "from sklearn import preprocessing\n",
    "from sklearn.decomposition import PCA\n",
    "import pandas as pd\n"
   ]
  },
  {
   "cell_type": "code",
   "execution_count": 2,
   "metadata": {},
   "outputs": [],
   "source": [
    "data_deng=pd.read_csv('dengue.csv')\n",
    "data_deng=data_deng.drop('Unnamed: 0', axis=1)\n",
    "data_deng=data_deng.dropna()"
   ]
  },
  {
   "cell_type": "code",
   "execution_count": 3,
   "metadata": {},
   "outputs": [],
   "source": [
    "data_deng.head()\n",
    "deng_feat=data_deng[['humid','temp','h10pix','trees','Xmin','Ymin']]"
   ]
  },
  {
   "cell_type": "code",
   "execution_count": 4,
   "metadata": {},
   "outputs": [
    {
     "data": {
      "image/png": "[encoded data removed]",
      "text/plain": [
       "<Figure size 432x288 with 1 Axes>"
      ]
     },
     "metadata": {},
     "output_type": "display_data"
    }
   ],
   "source": [
    "inert = []\n",
    "#elbow method\n",
    "for i in range(1,11):\n",
    "    kmeans = KMeans(n_clusters=i,init='k-means++',max_iter=500,n_init=10)\n",
    "    kmeans.fit(deng_feat)\n",
    "    inert.append(kmeans.inertia_)\n",
    "plt.plot(range(1,11),inert)\n",
    "plt.title('Elbow Method')\n",
    "plt.xlabel('Number of clusters')\n",
    "plt.ylabel('Inertia')\n",
    "plt.show()"
   ]
  },
  {
   "cell_type": "code",
   "execution_count": 5,
   "metadata": {},
   "outputs": [
    {
     "name": "stdout",
     "output_type": "stream",
     "text": [
      "Los resultados indican que 3 clusters es una buena opcion\n"
     ]
    }
   ],
   "source": [
    "print('Los resultados indican que 3 clusters es una buena opcion')\n"
   ]
  },
  {
   "cell_type": "code",
   "execution_count": 6,
   "metadata": {},
   "outputs": [],
   "source": [
    "data_bread=pd.read_csv('BreadBasket_DMS.csv')"
   ]
  },
  {
   "cell_type": "code",
   "execution_count": 7,
   "metadata": {},
   "outputs": [
    {
     "data": {
      "text/html": [
       "<div>\n",
       "<style scoped>\n",
       "    .dataframe tbody tr th:only-of-type {\n",
       "        vertical-align: middle;\n",
       "    }\n",
       "\n",
       "    .dataframe tbody tr th {\n",
       "        vertical-align: top;\n",
       "    }\n",
       "\n",
       "    .dataframe thead th {\n",
       "        text-align: right;\n",
       "    }\n",
       "</style>\n",
       "<table border=\"1\" class=\"dataframe\">\n",
       "  <thead>\n",
       "    <tr style=\"text-align: right;\">\n",
       "      <th></th>\n",
       "      <th>Date</th>\n",
       "      <th>Time</th>\n",
       "      <th>Transaction</th>\n",
       "      <th>Item</th>\n",
       "    </tr>\n",
       "  </thead>\n",
       "  <tbody>\n",
       "    <tr>\n",
       "      <th>0</th>\n",
       "      <td>2016-10-30</td>\n",
       "      <td>09:58:11</td>\n",
       "      <td>1</td>\n",
       "      <td>Bread</td>\n",
       "    </tr>\n",
       "    <tr>\n",
       "      <th>1</th>\n",
       "      <td>2016-10-30</td>\n",
       "      <td>10:05:34</td>\n",
       "      <td>2</td>\n",
       "      <td>Scandinavian</td>\n",
       "    </tr>\n",
       "    <tr>\n",
       "      <th>2</th>\n",
       "      <td>2016-10-30</td>\n",
       "      <td>10:05:34</td>\n",
       "      <td>2</td>\n",
       "      <td>Scandinavian</td>\n",
       "    </tr>\n",
       "    <tr>\n",
       "      <th>3</th>\n",
       "      <td>2016-10-30</td>\n",
       "      <td>10:07:57</td>\n",
       "      <td>3</td>\n",
       "      <td>Hot chocolate</td>\n",
       "    </tr>\n",
       "    <tr>\n",
       "      <th>4</th>\n",
       "      <td>2016-10-30</td>\n",
       "      <td>10:07:57</td>\n",
       "      <td>3</td>\n",
       "      <td>Jam</td>\n",
       "    </tr>\n",
       "  </tbody>\n",
       "</table>\n",
       "</div>"
      ],
      "text/plain": [
       "         Date      Time  Transaction           Item\n",
       "0  2016-10-30  09:58:11            1          Bread\n",
       "1  2016-10-30  10:05:34            2   Scandinavian\n",
       "2  2016-10-30  10:05:34            2   Scandinavian\n",
       "3  2016-10-30  10:07:57            3  Hot chocolate\n",
       "4  2016-10-30  10:07:57            3            Jam"
      ]
     },
     "execution_count": 7,
     "metadata": {},
     "output_type": "execute_result"
    }
   ],
   "source": [
    "data_bread.head()\n",
    "#filas con el mismo valor de transaction pertenecen a la misma compra"
   ]
  },
  {
   "cell_type": "code",
   "execution_count": 8,
   "metadata": {},
   "outputs": [
    {
     "data": {
      "text/plain": [
       "(21293, 18025)"
      ]
     },
     "execution_count": 8,
     "metadata": {},
     "output_type": "execute_result"
    }
   ],
   "source": [
    "#primero vamos a usar one hot encoding para pasar a algo que sklearn pueda leer \n",
    "#¿solo las categoricas, transaction se deja quieta\n",
    "#primero usar el label enconder para que las reciba el one hot\n",
    "\n",
    "enc = preprocessing.LabelEncoder()\n",
    "enc_feat = data_bread[['Date','Time','Item']].apply(enc.fit_transform)\n",
    "\n",
    "enc_feat = pd.DataFrame(enc_feat)\n",
    "encoded_data = pd.concat([data_bread['Transaction'],enc_feat],axis=1)\n",
    "#ahora si onehot\n",
    "onehot = preprocessing.OneHotEncoder(sparse=False)\n",
    "onehot.fit(encoded_data)\n",
    "\n",
    "hot_bread = onehot.transform(encoded_data)\n",
    "\n",
    "np.shape(hot_bread)"
   ]
  },
  {
   "cell_type": "code",
   "execution_count": 9,
   "metadata": {},
   "outputs": [
    {
     "name": "stdout",
     "output_type": "stream",
     "text": [
      "First eigen-vector var fraction: 0.3381874180269079  second var 0.19417695709663269\n"
     ]
    },
    {
     "data": {
      "image/png": "[encoded data removed]",
      "text/plain": [
       "<Figure size 432x288 with 1 Axes>"
      ]
     },
     "metadata": {},
     "output_type": "display_data"
    }
   ],
   "source": [
    "pca = PCA(n_components=10)\n",
    "pca.fit(hot_bread)\n",
    "var=pca.explained_variance_\n",
    "n_com=np.linspace(1,10,10)\n",
    "plt.scatter(n_com,var/np.sum(var),marker='x')\n",
    "plt.xlabel('Eigenvectors')\n",
    "plt.ylabel('Variance')\n",
    "print('First eigen-vector var fraction:', var[0]/np.sum(var), ' second var', var[1]/np.sum(var))"
   ]
  },
  {
   "cell_type": "code",
   "execution_count": 10,
   "metadata": {},
   "outputs": [
    {
     "data": {
      "image/png": "[encoded data removed]",
      "text/plain": [
       "<Figure size 720x432 with 4 Axes>"
      ]
     },
     "metadata": {},
     "output_type": "display_data"
    }
   ],
   "source": [
    "#veamos la proyeccion\n",
    "bread_proj= pca.transform(hot_bread)\n",
    "fig1, ax1= plt.subplots(2,2,figsize=(10,6))\n",
    "ax1[0,0].scatter(bread_proj[:,0],bread_proj[:,1])\n",
    "ax1[0,0].set_xlabel('First Principal Component')\n",
    "ax1[0,0].set_ylabel('Second Principal Component')\n",
    "ax1[1,0].scatter(bread_proj[:,0],bread_proj[:,2])\n",
    "ax1[1,0].set_xlabel('First Principal Component')\n",
    "ax1[1,0].set_ylabel('Third Principal Component')\n",
    "ax1[0,1].scatter(bread_proj[:,1],bread_proj[:,2])\n",
    "ax1[0,1].set_xlabel('Second Principal Component')\n",
    "ax1[0,1].set_ylabel('Third Principal Component')\n",
    "ax1[1,1].scatter(bread_proj[:,0],bread_proj[:,3])\n",
    "ax1[1,1].set_xlabel('First Principal Component')\n",
    "ax1[1,1].set_ylabel('Fourth Principal Component')\n",
    "\n",
    "\n",
    "fig1.tight_layout()"
   ]
  },
  {
   "cell_type": "code",
   "execution_count": 11,
   "metadata": {},
   "outputs": [
    {
     "data": {
      "image/png": "[encoded data removed]",
      "text/plain": [
       "<Figure size 432x288 with 1 Axes>"
      ]
     },
     "metadata": {},
     "output_type": "display_data"
    },
    {
     "name": "stdout",
     "output_type": "stream",
     "text": [
      "4 clusters podria ser una buena opcion\n"
     ]
    }
   ],
   "source": [
    "#Intentar generar clusters  con los datos reducidos por pca porque sin pca se demora mucho\n",
    "inert = []\n",
    "#elbow method\n",
    "for i in range(1,11):\n",
    "    kmeans = KMeans(n_clusters=i,init='k-means++',max_iter=500,n_init=10)\n",
    "    kmeans.fit(bread_proj)\n",
    "    inert.append(kmeans.inertia_)\n",
    "plt.plot(range(1,11),inert)\n",
    "plt.title('Elbow Method')\n",
    "plt.xlabel('Number of clusters')\n",
    "plt.ylabel('Inertia')\n",
    "plt.show()\n",
    "print('4 clusters podria ser una buena opcion')"
   ]
  },
  {
   "cell_type": "code",
   "execution_count": 12,
   "metadata": {},
   "outputs": [
    {
     "data": {
      "image/png": "[encoded data removed]",
      "text/plain": [
       "<Figure size 432x288 with 1 Axes>"
      ]
     },
     "metadata": {},
     "output_type": "display_data"
    },
    {
     "name": "stdout",
     "output_type": "stream",
     "text": [
      "Esto indica que hay 4 tipos de muestras distintas\n"
     ]
    }
   ],
   "source": [
    "kmeans_pca = KMeans(n_clusters=4,init='k-means++',max_iter=500,n_init=10,random_state=0) \n",
    "clus_index = kmeans_pca.fit_predict(bread_proj) #indices para cada cluster\n",
    "colors=['g','r','c','m','y','k','b']\n",
    "\n",
    "for i in range(0,4):\n",
    "    plt.scatter(np.asarray(bread_proj)[clus_index == i, 0], np.asarray(bread_proj)[clus_index == i,1],c=colors[i], alpha=0.7)\n",
    "\n",
    "plt.scatter(kmeans_pca.cluster_centers_[:,0], kmeans_pca.cluster_centers_[:,1],marker='x',s=100,c='black')\n",
    "\n",
    "\n",
    "plt.title('Clusters for bread')\n",
    "plt.show()\n",
    "print('Esto indica que hay 4 tipos de muestras distintas')"
   ]
  },
  {
   "cell_type": "code",
   "execution_count": 13,
   "metadata": {},
   "outputs": [
    {
     "name": "stdout",
     "output_type": "stream",
     "text": [
      "95\n"
     ]
    }
   ],
   "source": [
    "sales=np.asarray(data_bread['Item'])\n",
    "products=['Bread']\n",
    "#vamos a ver cuales son los productos que se venden\n",
    "for i in range(1,len(sales)):\n",
    "    current = sales[i]\n",
    "    isin= current in products\n",
    "    if(isin==False):\n",
    "        products.append(current)\n",
    "print(len(products))\n",
    "#def count_products(cluster_num):\n",
    "#    counts = np.zeros(len(products))\n",
    "#    cluster_c=data_bread.iloc[clus_index == cluster_num]\n",
    "#    for j in range(0,len(counts)):\n",
    "#        counts[j]=  "
   ]
  },
  {
   "cell_type": "code",
   "execution_count": 22,
   "metadata": {},
   "outputs": [
    {
     "name": "stdout",
     "output_type": "stream",
     "text": [
      "cantidad de veces en las que aparecen los productos en el primer cluster:\n",
      "Cafe: 5471\n",
      "Tea: 0\n"
     ]
    },
    {
     "data": {
      "text/html": [
       "<div>\n",
       "<style scoped>\n",
       "    .dataframe tbody tr th:only-of-type {\n",
       "        vertical-align: middle;\n",
       "    }\n",
       "\n",
       "    .dataframe tbody tr th {\n",
       "        vertical-align: top;\n",
       "    }\n",
       "\n",
       "    .dataframe thead th {\n",
       "        text-align: right;\n",
       "    }\n",
       "</style>\n",
       "<table border=\"1\" class=\"dataframe\">\n",
       "  <thead>\n",
       "    <tr style=\"text-align: right;\">\n",
       "      <th></th>\n",
       "      <th>Date</th>\n",
       "      <th>Time</th>\n",
       "      <th>Transaction</th>\n",
       "      <th>Item</th>\n",
       "    </tr>\n",
       "  </thead>\n",
       "  <tbody>\n",
       "    <tr>\n",
       "      <th>7</th>\n",
       "      <td>2016-10-30</td>\n",
       "      <td>10:13:03</td>\n",
       "      <td>5</td>\n",
       "      <td>Coffee</td>\n",
       "    </tr>\n",
       "    <tr>\n",
       "      <th>15</th>\n",
       "      <td>2016-10-30</td>\n",
       "      <td>10:19:12</td>\n",
       "      <td>7</td>\n",
       "      <td>Coffee</td>\n",
       "    </tr>\n",
       "    <tr>\n",
       "      <th>28</th>\n",
       "      <td>2016-10-30</td>\n",
       "      <td>10:30:14</td>\n",
       "      <td>12</td>\n",
       "      <td>Coffee</td>\n",
       "    </tr>\n",
       "    <tr>\n",
       "      <th>34</th>\n",
       "      <td>2016-10-30</td>\n",
       "      <td>10:31:24</td>\n",
       "      <td>13</td>\n",
       "      <td>Coffee</td>\n",
       "    </tr>\n",
       "    <tr>\n",
       "      <th>44</th>\n",
       "      <td>2016-10-30</td>\n",
       "      <td>10:37:08</td>\n",
       "      <td>16</td>\n",
       "      <td>Coffee</td>\n",
       "    </tr>\n",
       "  </tbody>\n",
       "</table>\n",
       "</div>"
      ],
      "text/plain": [
       "          Date      Time  Transaction    Item\n",
       "7   2016-10-30  10:13:03            5  Coffee\n",
       "15  2016-10-30  10:19:12            7  Coffee\n",
       "28  2016-10-30  10:30:14           12  Coffee\n",
       "34  2016-10-30  10:31:24           13  Coffee\n",
       "44  2016-10-30  10:37:08           16  Coffee"
      ]
     },
     "execution_count": 22,
     "metadata": {},
     "output_type": "execute_result"
    }
   ],
   "source": [
    "#vamos a ver que representa cada una de estas muestras con el cluster index\n",
    "current_c=data_bread.iloc[clus_index == 0]\n",
    "numcof=len(current_c['Item'][current_c['Item'] == 'Coffee'])\n",
    "numtea=len(current_c['Item'][current_c['Item'] == 'Tea'])\n",
    "\n",
    "\n",
    "print('cantidad de veces en las que aparecen los productos en el primer cluster:')\n",
    "print('Cafe:',numcof)\n",
    "print('Tea:',numtea)\n",
    "data_bread.iloc[clus_index == 0].head()\n"
   ]
  },
  {
   "cell_type": "code",
   "execution_count": 15,
   "metadata": {},
   "outputs": [
    {
     "data": {
      "text/html": [
       "<div>\n",
       "<style scoped>\n",
       "    .dataframe tbody tr th:only-of-type {\n",
       "        vertical-align: middle;\n",
       "    }\n",
       "\n",
       "    .dataframe tbody tr th {\n",
       "        vertical-align: top;\n",
       "    }\n",
       "\n",
       "    .dataframe thead th {\n",
       "        text-align: right;\n",
       "    }\n",
       "</style>\n",
       "<table border=\"1\" class=\"dataframe\">\n",
       "  <thead>\n",
       "    <tr style=\"text-align: right;\">\n",
       "      <th></th>\n",
       "      <th>Date</th>\n",
       "      <th>Time</th>\n",
       "      <th>Transaction</th>\n",
       "      <th>Item</th>\n",
       "    </tr>\n",
       "  </thead>\n",
       "  <tbody>\n",
       "    <tr>\n",
       "      <th>1</th>\n",
       "      <td>2016-10-30</td>\n",
       "      <td>10:05:34</td>\n",
       "      <td>2</td>\n",
       "      <td>Scandinavian</td>\n",
       "    </tr>\n",
       "    <tr>\n",
       "      <th>2</th>\n",
       "      <td>2016-10-30</td>\n",
       "      <td>10:05:34</td>\n",
       "      <td>2</td>\n",
       "      <td>Scandinavian</td>\n",
       "    </tr>\n",
       "    <tr>\n",
       "      <th>3</th>\n",
       "      <td>2016-10-30</td>\n",
       "      <td>10:07:57</td>\n",
       "      <td>3</td>\n",
       "      <td>Hot chocolate</td>\n",
       "    </tr>\n",
       "    <tr>\n",
       "      <th>4</th>\n",
       "      <td>2016-10-30</td>\n",
       "      <td>10:07:57</td>\n",
       "      <td>3</td>\n",
       "      <td>Jam</td>\n",
       "    </tr>\n",
       "    <tr>\n",
       "      <th>5</th>\n",
       "      <td>2016-10-30</td>\n",
       "      <td>10:07:57</td>\n",
       "      <td>3</td>\n",
       "      <td>Cookies</td>\n",
       "    </tr>\n",
       "  </tbody>\n",
       "</table>\n",
       "</div>"
      ],
      "text/plain": [
       "         Date      Time  Transaction           Item\n",
       "1  2016-10-30  10:05:34            2   Scandinavian\n",
       "2  2016-10-30  10:05:34            2   Scandinavian\n",
       "3  2016-10-30  10:07:57            3  Hot chocolate\n",
       "4  2016-10-30  10:07:57            3            Jam\n",
       "5  2016-10-30  10:07:57            3        Cookies"
      ]
     },
     "execution_count": 15,
     "metadata": {},
     "output_type": "execute_result"
    }
   ],
   "source": [
    "data_bread.iloc[clus_index == 1].head()"
   ]
  },
  {
   "cell_type": "code",
   "execution_count": 16,
   "metadata": {},
   "outputs": [
    {
     "data": {
      "text/html": [
       "<div>\n",
       "<style scoped>\n",
       "    .dataframe tbody tr th:only-of-type {\n",
       "        vertical-align: middle;\n",
       "    }\n",
       "\n",
       "    .dataframe tbody tr th {\n",
       "        vertical-align: top;\n",
       "    }\n",
       "\n",
       "    .dataframe thead th {\n",
       "        text-align: right;\n",
       "    }\n",
       "</style>\n",
       "<table border=\"1\" class=\"dataframe\">\n",
       "  <thead>\n",
       "    <tr style=\"text-align: right;\">\n",
       "      <th></th>\n",
       "      <th>Date</th>\n",
       "      <th>Time</th>\n",
       "      <th>Transaction</th>\n",
       "      <th>Item</th>\n",
       "    </tr>\n",
       "  </thead>\n",
       "  <tbody>\n",
       "    <tr>\n",
       "      <th>0</th>\n",
       "      <td>2016-10-30</td>\n",
       "      <td>09:58:11</td>\n",
       "      <td>1</td>\n",
       "      <td>Bread</td>\n",
       "    </tr>\n",
       "    <tr>\n",
       "      <th>9</th>\n",
       "      <td>2016-10-30</td>\n",
       "      <td>10:13:03</td>\n",
       "      <td>5</td>\n",
       "      <td>Bread</td>\n",
       "    </tr>\n",
       "    <tr>\n",
       "      <th>18</th>\n",
       "      <td>2016-10-30</td>\n",
       "      <td>10:20:51</td>\n",
       "      <td>8</td>\n",
       "      <td>Bread</td>\n",
       "    </tr>\n",
       "    <tr>\n",
       "      <th>19</th>\n",
       "      <td>2016-10-30</td>\n",
       "      <td>10:21:59</td>\n",
       "      <td>9</td>\n",
       "      <td>Bread</td>\n",
       "    </tr>\n",
       "    <tr>\n",
       "      <th>23</th>\n",
       "      <td>2016-10-30</td>\n",
       "      <td>10:27:21</td>\n",
       "      <td>11</td>\n",
       "      <td>Bread</td>\n",
       "    </tr>\n",
       "  </tbody>\n",
       "</table>\n",
       "</div>"
      ],
      "text/plain": [
       "          Date      Time  Transaction   Item\n",
       "0   2016-10-30  09:58:11            1  Bread\n",
       "9   2016-10-30  10:13:03            5  Bread\n",
       "18  2016-10-30  10:20:51            8  Bread\n",
       "19  2016-10-30  10:21:59            9  Bread\n",
       "23  2016-10-30  10:27:21           11  Bread"
      ]
     },
     "execution_count": 16,
     "metadata": {},
     "output_type": "execute_result"
    }
   ],
   "source": [
    "data_bread.iloc[clus_index == 2].head()"
   ]
  },
  {
   "cell_type": "code",
   "execution_count": 17,
   "metadata": {},
   "outputs": [
    {
     "data": {
      "text/html": [
       "<div>\n",
       "<style scoped>\n",
       "    .dataframe tbody tr th:only-of-type {\n",
       "        vertical-align: middle;\n",
       "    }\n",
       "\n",
       "    .dataframe tbody tr th {\n",
       "        vertical-align: top;\n",
       "    }\n",
       "\n",
       "    .dataframe thead th {\n",
       "        text-align: right;\n",
       "    }\n",
       "</style>\n",
       "<table border=\"1\" class=\"dataframe\">\n",
       "  <thead>\n",
       "    <tr style=\"text-align: right;\">\n",
       "      <th></th>\n",
       "      <th>Date</th>\n",
       "      <th>Time</th>\n",
       "      <th>Transaction</th>\n",
       "      <th>Item</th>\n",
       "    </tr>\n",
       "  </thead>\n",
       "  <tbody>\n",
       "    <tr>\n",
       "      <th>16</th>\n",
       "      <td>2016-10-30</td>\n",
       "      <td>10:19:12</td>\n",
       "      <td>7</td>\n",
       "      <td>Tea</td>\n",
       "    </tr>\n",
       "    <tr>\n",
       "      <th>31</th>\n",
       "      <td>2016-10-30</td>\n",
       "      <td>10:30:14</td>\n",
       "      <td>12</td>\n",
       "      <td>Tea</td>\n",
       "    </tr>\n",
       "    <tr>\n",
       "      <th>76</th>\n",
       "      <td>2016-10-30</td>\n",
       "      <td>11:33:08</td>\n",
       "      <td>36</td>\n",
       "      <td>Tea</td>\n",
       "    </tr>\n",
       "    <tr>\n",
       "      <th>82</th>\n",
       "      <td>2016-10-30</td>\n",
       "      <td>11:42:40</td>\n",
       "      <td>38</td>\n",
       "      <td>Tea</td>\n",
       "    </tr>\n",
       "    <tr>\n",
       "      <th>91</th>\n",
       "      <td>2016-10-30</td>\n",
       "      <td>11:57:45</td>\n",
       "      <td>42</td>\n",
       "      <td>Tea</td>\n",
       "    </tr>\n",
       "  </tbody>\n",
       "</table>\n",
       "</div>"
      ],
      "text/plain": [
       "          Date      Time  Transaction Item\n",
       "16  2016-10-30  10:19:12            7  Tea\n",
       "31  2016-10-30  10:30:14           12  Tea\n",
       "76  2016-10-30  11:33:08           36  Tea\n",
       "82  2016-10-30  11:42:40           38  Tea\n",
       "91  2016-10-30  11:57:45           42  Tea"
      ]
     },
     "execution_count": 17,
     "metadata": {},
     "output_type": "execute_result"
    }
   ],
   "source": [
    "data_bread.iloc[clus_index == 3].head()"
   ]
  },
  {
   "cell_type": "code",
   "execution_count": null,
   "metadata": {},
   "outputs": [],
   "source": []
  },
  {
   "cell_type": "code",
   "execution_count": null,
   "metadata": {},
   "outputs": [],
   "source": []
  }
 ],
 "metadata": {
  "kernelspec": {
   "display_name": "Python 3",
   "language": "python",
   "name": "python3"
  },
  "language_info": {
   "codemirror_mode": {
    "name": "ipython",
    "version": 3
   },
   "file_extension": ".py",
   "mimetype": "text/x-python",
   "name": "python",
   "nbconvert_exporter": "python",
   "pygments_lexer": "ipython3",
   "version": "3.6.5"
  }
 },
 "nbformat": 4,
 "nbformat_minor": 2
}
