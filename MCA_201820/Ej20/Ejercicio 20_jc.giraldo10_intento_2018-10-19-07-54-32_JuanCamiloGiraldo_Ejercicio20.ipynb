{
 "cells": [
  {
   "cell_type": "code",
   "execution_count": 1,
   "metadata": {},
   "outputs": [],
   "source": [
    "import numpy as np\n",
    "import matplotlib.pyplot as plt\n",
    "import pandas as pd\n",
    "from sklearn.model_selection import train_test_split\n",
    "from sklearn.ensemble import BaggingClassifier\n",
    "from sklearn.ensemble import RandomForestClassifier\n",
    "from sklearn import tree\n",
    "import sklearn.metrics\n",
    "%matplotlib inline"
   ]
  },
  {
   "cell_type": "markdown",
   "metadata": {},
   "source": [
    "## a)"
   ]
  },
  {
   "cell_type": "code",
   "execution_count": 2,
   "metadata": {},
   "outputs": [
    {
     "data": {
      "text/html": [
       "<div>\n",
       "<style scoped>\n",
       "    .dataframe tbody tr th:only-of-type {\n",
       "        vertical-align: middle;\n",
       "    }\n",
       "\n",
       "    .dataframe tbody tr th {\n",
       "        vertical-align: top;\n",
       "    }\n",
       "\n",
       "    .dataframe thead th {\n",
       "        text-align: right;\n",
       "    }\n",
       "</style>\n",
       "<table border=\"1\" class=\"dataframe\">\n",
       "  <thead>\n",
       "    <tr style=\"text-align: right;\">\n",
       "      <th></th>\n",
       "      <th>0</th>\n",
       "      <th>1</th>\n",
       "      <th>2</th>\n",
       "      <th>3</th>\n",
       "      <th>4</th>\n",
       "      <th>5</th>\n",
       "      <th>6</th>\n",
       "      <th>7</th>\n",
       "      <th>8</th>\n",
       "      <th>9</th>\n",
       "      <th>10</th>\n",
       "      <th>11</th>\n",
       "      <th>12</th>\n",
       "      <th>13</th>\n",
       "    </tr>\n",
       "  </thead>\n",
       "  <tbody>\n",
       "    <tr>\n",
       "      <th>0</th>\n",
       "      <td>40.0</td>\n",
       "      <td>1.0</td>\n",
       "      <td>2.0</td>\n",
       "      <td>140.0</td>\n",
       "      <td>289.0</td>\n",
       "      <td>0.0</td>\n",
       "      <td>0.0</td>\n",
       "      <td>172.0</td>\n",
       "      <td>0.0</td>\n",
       "      <td>0.0</td>\n",
       "      <td>-9.0</td>\n",
       "      <td>-9.0</td>\n",
       "      <td>-9.0</td>\n",
       "      <td>0.0</td>\n",
       "    </tr>\n",
       "    <tr>\n",
       "      <th>1</th>\n",
       "      <td>49.0</td>\n",
       "      <td>0.0</td>\n",
       "      <td>3.0</td>\n",
       "      <td>160.0</td>\n",
       "      <td>180.0</td>\n",
       "      <td>0.0</td>\n",
       "      <td>0.0</td>\n",
       "      <td>156.0</td>\n",
       "      <td>0.0</td>\n",
       "      <td>1.0</td>\n",
       "      <td>2.0</td>\n",
       "      <td>-9.0</td>\n",
       "      <td>-9.0</td>\n",
       "      <td>1.0</td>\n",
       "    </tr>\n",
       "    <tr>\n",
       "      <th>2</th>\n",
       "      <td>37.0</td>\n",
       "      <td>1.0</td>\n",
       "      <td>2.0</td>\n",
       "      <td>130.0</td>\n",
       "      <td>283.0</td>\n",
       "      <td>0.0</td>\n",
       "      <td>1.0</td>\n",
       "      <td>98.0</td>\n",
       "      <td>0.0</td>\n",
       "      <td>0.0</td>\n",
       "      <td>-9.0</td>\n",
       "      <td>-9.0</td>\n",
       "      <td>-9.0</td>\n",
       "      <td>0.0</td>\n",
       "    </tr>\n",
       "    <tr>\n",
       "      <th>3</th>\n",
       "      <td>48.0</td>\n",
       "      <td>0.0</td>\n",
       "      <td>4.0</td>\n",
       "      <td>138.0</td>\n",
       "      <td>214.0</td>\n",
       "      <td>0.0</td>\n",
       "      <td>0.0</td>\n",
       "      <td>108.0</td>\n",
       "      <td>1.0</td>\n",
       "      <td>1.5</td>\n",
       "      <td>2.0</td>\n",
       "      <td>-9.0</td>\n",
       "      <td>-9.0</td>\n",
       "      <td>3.0</td>\n",
       "    </tr>\n",
       "    <tr>\n",
       "      <th>4</th>\n",
       "      <td>54.0</td>\n",
       "      <td>1.0</td>\n",
       "      <td>3.0</td>\n",
       "      <td>150.0</td>\n",
       "      <td>-9.0</td>\n",
       "      <td>0.0</td>\n",
       "      <td>0.0</td>\n",
       "      <td>122.0</td>\n",
       "      <td>0.0</td>\n",
       "      <td>0.0</td>\n",
       "      <td>-9.0</td>\n",
       "      <td>-9.0</td>\n",
       "      <td>-9.0</td>\n",
       "      <td>0.0</td>\n",
       "    </tr>\n",
       "  </tbody>\n",
       "</table>\n",
       "</div>"
      ],
      "text/plain": [
       "     0    1    2      3      4    5    6      7    8    9    10   11   12   13\n",
       "0  40.0  1.0  2.0  140.0  289.0  0.0  0.0  172.0  0.0  0.0 -9.0 -9.0 -9.0  0.0\n",
       "1  49.0  0.0  3.0  160.0  180.0  0.0  0.0  156.0  0.0  1.0  2.0 -9.0 -9.0  1.0\n",
       "2  37.0  1.0  2.0  130.0  283.0  0.0  1.0   98.0  0.0  0.0 -9.0 -9.0 -9.0  0.0\n",
       "3  48.0  0.0  4.0  138.0  214.0  0.0  0.0  108.0  1.0  1.5  2.0 -9.0 -9.0  3.0\n",
       "4  54.0  1.0  3.0  150.0   -9.0  0.0  0.0  122.0  0.0  0.0 -9.0 -9.0 -9.0  0.0"
      ]
     },
     "execution_count": 2,
     "metadata": {},
     "output_type": "execute_result"
    }
   ],
   "source": [
    "#data=pd.read_csv('OJ.csv')\n",
    "heart_data=np.loadtxt('reprocessed.hungarian.data.txt')\n",
    "data=pd.DataFrame(heart_data)\n",
    "data=data.dropna()\n",
    "data.head()"
   ]
  },
  {
   "cell_type": "code",
   "execution_count": 3,
   "metadata": {},
   "outputs": [],
   "source": [
    "#Tomamos los datos target, y los simplificamos para hacer la clasificación binaria\n",
    "Y=data[13]\n",
    "mask=Y>1.0\n",
    "Y.loc[mask]=1.0\n",
    "#Tomamos los datos X, todos menos el target, y guardamos las llaves de los predictores para cuando se estimen los mejores parametros\n",
    "X=data.drop(13,axis=1)"
   ]
  },
  {
   "cell_type": "code",
   "execution_count": 4,
   "metadata": {},
   "outputs": [],
   "source": [
    "x_train, x_test, y_train, y_test = train_test_split(X,Y,test_size=0.3)"
   ]
  },
  {
   "cell_type": "code",
   "execution_count": 5,
   "metadata": {},
   "outputs": [],
   "source": [
    "n_trees=np.linspace(1,200,200)\n",
    "l=len(n_trees)\n",
    "error=np.zeros(l)\n",
    "bagg_err=np.zeros(l)\n",
    "oob_err=np.zeros(l)\n",
    "oob_forest=np.zeros(l)"
   ]
  },
  {
   "cell_type": "code",
   "execution_count": 7,
   "metadata": {},
   "outputs": [],
   "source": [
    "for i in range(1,l):\n",
    "    #inicializa los clasificadores de bagging y random forest\n",
    "    bclass=BaggingClassifier(n_estimators=i)\n",
    "    forest=RandomForestClassifier(n_estimators=i)\n",
    "    #se hace el fit del conjunto train\n",
    "    bclass.fit(x_train,y_train)\n",
    "    forest.fit(x_train,y_train)\n",
    "    #halla la porcion del set que no se uso\n",
    "    oob=bclass.estimators_samples_[0]\n",
    "    x_oob=x_train.drop(x_train.index[oob])\n",
    "    #predicciones del test\n",
    "    model=bclass.predict(x_test)\n",
    "    model_prob=bclass.predict_proba(x_test)[:,1]\n",
    "    forest_prob=forest.predict_proba(x_test)[:,1]\n",
    "    #predicciones del sub-set oob\n",
    "    oob_prob=bclass.predict_proba(x_oob)[:,1]\n",
    "    \n",
    "    #oob_f=forest.estimator_\n",
    "    \n",
    "    error[i]=sklearn.metrics.log_loss(y_test,model_prob, normalize=True)\n",
    "    oob_err[i]=sklearn.metrics.log_loss(y_train.drop(y_train.index[oob]),oob_prob, normalize=True)\n",
    "    bagg_err[i]=sklearn.metrics.log_loss(y_test,forest_prob, normalize=True)"
   ]
  },
  {
   "cell_type": "code",
   "execution_count": 8,
   "metadata": {},
   "outputs": [
    {
     "data": {
      "text/plain": [
       "<matplotlib.legend.Legend at 0x7fd0cf82eb70>"
      ]
     },
     "execution_count": 8,
     "metadata": {},
     "output_type": "execute_result"
    },
    {
     "data": {
      "image/png": "[encoded data removed]",
      "text/plain": [
       "<Figure size 432x288 with 1 Axes>"
      ]
     },
     "metadata": {
      "needs_background": "light"
     },
     "output_type": "display_data"
    }
   ],
   "source": [
    "arbol=tree.DecisionTreeClassifier()\n",
    "arbol.fit(x_train,y_train)\n",
    "probs1=arbol.predict_proba(x_test)\n",
    "dashed_line=sklearn.metrics.log_loss(y_test,probs1, normalize=True)\n",
    "\n",
    "plt.plot(n_trees,error,label='test bagging')\n",
    "plt.plot(n_trees, oob_err,label='oob bagging')\n",
    "plt.plot(n_trees, bagg_err,label='test random forest')\n",
    "plt.xlabel('Number of trees')\n",
    "plt.ylabel('error')\n",
    "plt.hlines(dashed_line,xmin=1,xmax=len(n_trees),linestyles='dashed')\n",
    "plt.title('Figure 8.8')\n",
    "plt.legend()"
   ]
  },
  {
   "cell_type": "markdown",
   "metadata": {},
   "source": [
    "## b)"
   ]
  },
  {
   "cell_type": "code",
   "execution_count": 2,
   "metadata": {},
   "outputs": [
    {
     "data": {
      "text/html": [
       "<div>\n",
       "<style scoped>\n",
       "    .dataframe tbody tr th:only-of-type {\n",
       "        vertical-align: middle;\n",
       "    }\n",
       "\n",
       "    .dataframe tbody tr th {\n",
       "        vertical-align: top;\n",
       "    }\n",
       "\n",
       "    .dataframe thead th {\n",
       "        text-align: right;\n",
       "    }\n",
       "</style>\n",
       "<table border=\"1\" class=\"dataframe\">\n",
       "  <thead>\n",
       "    <tr style=\"text-align: right;\">\n",
       "      <th></th>\n",
       "      <th>Unnamed: 0</th>\n",
       "      <th>Purchase</th>\n",
       "      <th>WeekofPurchase</th>\n",
       "      <th>StoreID</th>\n",
       "      <th>PriceCH</th>\n",
       "      <th>PriceMM</th>\n",
       "      <th>DiscCH</th>\n",
       "      <th>DiscMM</th>\n",
       "      <th>SpecialCH</th>\n",
       "      <th>SpecialMM</th>\n",
       "      <th>LoyalCH</th>\n",
       "      <th>SalePriceMM</th>\n",
       "      <th>SalePriceCH</th>\n",
       "      <th>PriceDiff</th>\n",
       "      <th>Store7</th>\n",
       "      <th>PctDiscMM</th>\n",
       "      <th>PctDiscCH</th>\n",
       "      <th>ListPriceDiff</th>\n",
       "      <th>STORE</th>\n",
       "    </tr>\n",
       "  </thead>\n",
       "  <tbody>\n",
       "    <tr>\n",
       "      <th>0</th>\n",
       "      <td>1</td>\n",
       "      <td>CH</td>\n",
       "      <td>237</td>\n",
       "      <td>1</td>\n",
       "      <td>1.75</td>\n",
       "      <td>1.99</td>\n",
       "      <td>0.00</td>\n",
       "      <td>0.0</td>\n",
       "      <td>0</td>\n",
       "      <td>0</td>\n",
       "      <td>0.500000</td>\n",
       "      <td>1.99</td>\n",
       "      <td>1.75</td>\n",
       "      <td>0.24</td>\n",
       "      <td>No</td>\n",
       "      <td>0.000000</td>\n",
       "      <td>0.000000</td>\n",
       "      <td>0.24</td>\n",
       "      <td>1</td>\n",
       "    </tr>\n",
       "    <tr>\n",
       "      <th>1</th>\n",
       "      <td>2</td>\n",
       "      <td>CH</td>\n",
       "      <td>239</td>\n",
       "      <td>1</td>\n",
       "      <td>1.75</td>\n",
       "      <td>1.99</td>\n",
       "      <td>0.00</td>\n",
       "      <td>0.3</td>\n",
       "      <td>0</td>\n",
       "      <td>1</td>\n",
       "      <td>0.600000</td>\n",
       "      <td>1.69</td>\n",
       "      <td>1.75</td>\n",
       "      <td>-0.06</td>\n",
       "      <td>No</td>\n",
       "      <td>0.150754</td>\n",
       "      <td>0.000000</td>\n",
       "      <td>0.24</td>\n",
       "      <td>1</td>\n",
       "    </tr>\n",
       "    <tr>\n",
       "      <th>2</th>\n",
       "      <td>3</td>\n",
       "      <td>CH</td>\n",
       "      <td>245</td>\n",
       "      <td>1</td>\n",
       "      <td>1.86</td>\n",
       "      <td>2.09</td>\n",
       "      <td>0.17</td>\n",
       "      <td>0.0</td>\n",
       "      <td>0</td>\n",
       "      <td>0</td>\n",
       "      <td>0.680000</td>\n",
       "      <td>2.09</td>\n",
       "      <td>1.69</td>\n",
       "      <td>0.40</td>\n",
       "      <td>No</td>\n",
       "      <td>0.000000</td>\n",
       "      <td>0.091398</td>\n",
       "      <td>0.23</td>\n",
       "      <td>1</td>\n",
       "    </tr>\n",
       "    <tr>\n",
       "      <th>3</th>\n",
       "      <td>4</td>\n",
       "      <td>MM</td>\n",
       "      <td>227</td>\n",
       "      <td>1</td>\n",
       "      <td>1.69</td>\n",
       "      <td>1.69</td>\n",
       "      <td>0.00</td>\n",
       "      <td>0.0</td>\n",
       "      <td>0</td>\n",
       "      <td>0</td>\n",
       "      <td>0.400000</td>\n",
       "      <td>1.69</td>\n",
       "      <td>1.69</td>\n",
       "      <td>0.00</td>\n",
       "      <td>No</td>\n",
       "      <td>0.000000</td>\n",
       "      <td>0.000000</td>\n",
       "      <td>0.00</td>\n",
       "      <td>1</td>\n",
       "    </tr>\n",
       "    <tr>\n",
       "      <th>4</th>\n",
       "      <td>5</td>\n",
       "      <td>CH</td>\n",
       "      <td>228</td>\n",
       "      <td>7</td>\n",
       "      <td>1.69</td>\n",
       "      <td>1.69</td>\n",
       "      <td>0.00</td>\n",
       "      <td>0.0</td>\n",
       "      <td>0</td>\n",
       "      <td>0</td>\n",
       "      <td>0.956535</td>\n",
       "      <td>1.69</td>\n",
       "      <td>1.69</td>\n",
       "      <td>0.00</td>\n",
       "      <td>Yes</td>\n",
       "      <td>0.000000</td>\n",
       "      <td>0.000000</td>\n",
       "      <td>0.00</td>\n",
       "      <td>0</td>\n",
       "    </tr>\n",
       "  </tbody>\n",
       "</table>\n",
       "</div>"
      ],
      "text/plain": [
       "   Unnamed: 0 Purchase  WeekofPurchase  StoreID  PriceCH  PriceMM  DiscCH  \\\n",
       "0           1       CH             237        1     1.75     1.99    0.00   \n",
       "1           2       CH             239        1     1.75     1.99    0.00   \n",
       "2           3       CH             245        1     1.86     2.09    0.17   \n",
       "3           4       MM             227        1     1.69     1.69    0.00   \n",
       "4           5       CH             228        7     1.69     1.69    0.00   \n",
       "\n",
       "   DiscMM  SpecialCH  SpecialMM   LoyalCH  SalePriceMM  SalePriceCH  \\\n",
       "0     0.0          0          0  0.500000         1.99         1.75   \n",
       "1     0.3          0          1  0.600000         1.69         1.75   \n",
       "2     0.0          0          0  0.680000         2.09         1.69   \n",
       "3     0.0          0          0  0.400000         1.69         1.69   \n",
       "4     0.0          0          0  0.956535         1.69         1.69   \n",
       "\n",
       "   PriceDiff Store7  PctDiscMM  PctDiscCH  ListPriceDiff  STORE  \n",
       "0       0.24     No   0.000000   0.000000           0.24      1  \n",
       "1      -0.06     No   0.150754   0.000000           0.24      1  \n",
       "2       0.40     No   0.000000   0.091398           0.23      1  \n",
       "3       0.00     No   0.000000   0.000000           0.00      1  \n",
       "4       0.00    Yes   0.000000   0.000000           0.00      0  "
      ]
     },
     "execution_count": 2,
     "metadata": {},
     "output_type": "execute_result"
    }
   ],
   "source": [
    "oj = pd.read_csv('OJ.csv')\n",
    "oj.head()"
   ]
  },
  {
   "cell_type": "code",
   "execution_count": 3,
   "metadata": {},
   "outputs": [],
   "source": [
    "oj=oj.drop('Unnamed: 0', axis=1)\n",
    "oj['Purchase']=[0 if label=='MM' else 1 for label in oj['Purchase']]\n",
    "Y=oj['Purchase']\n",
    "X=oj.drop(['Purchase','Store7'],axis=1)"
   ]
  },
  {
   "cell_type": "code",
   "execution_count": 4,
   "metadata": {},
   "outputs": [],
   "source": [
    "#mask=np.array(Y=='CH')\n",
    "#Y[mask]=1\n",
    "#Y[np.invert(mask)]=0\n",
    "x_train2, x_test2, y_train2, y_test2 = train_test_split(X,Y,test_size=0.3)"
   ]
  },
  {
   "cell_type": "code",
   "execution_count": 12,
   "metadata": {},
   "outputs": [
    {
     "name": "stdout",
     "output_type": "stream",
     "text": [
      "50\n",
      "100\n",
      "150\n"
     ]
    }
   ],
   "source": [
    "n_trees = np.linspace(1,200,200)\n",
    "error_p = np.zeros(l)\n",
    "error_halve=np.zeros(l)\n",
    "error_sqrt=np.zeros(l)\n",
    "\n",
    "for i in range(1,l):\n",
    "    if i%50==0:\n",
    "        print (i)\n",
    "    #m=sqrt(p)\n",
    "    forest1=RandomForestClassifier(n_estimators=i)\n",
    "    forest1.fit(x_train2,y_train2)\n",
    "    sqrt_prob=forest1.predict_proba(x_test2)[:,1]\n",
    "    \n",
    "    #m=p/2\n",
    "    forest2=RandomForestClassifier(n_estimators=i,max_features=8)\n",
    "    forest2.fit(x_train2,y_train2)\n",
    "    halve_prob=forest2.predict_proba(x_test2)[:,1]\n",
    "    \n",
    "    #m=p\n",
    "    forest3=RandomForestClassifier(n_estimators=i,max_features=16)\n",
    "    forest3.fit(x_train2,y_train2)\n",
    "    prob=forest3.predict_proba(x_test2)[:,1]\n",
    "    \n",
    "    error_sqrt[i]=sklearn.metrics.log_loss(y_test2,sqrt_prob, normalize=True)\n",
    "    error_halve[i]=sklearn.metrics.log_loss(y_test2,halve_prob, normalize=True)\n",
    "    error_p[i]=sklearn.metrics.log_loss(y_test2,prob, normalize=True)"
   ]
  },
  {
   "cell_type": "code",
   "execution_count": 13,
   "metadata": {},
   "outputs": [
    {
     "data": {
      "text/plain": [
       "Text(0.5, 1.0, 'Figure 8.10')"
      ]
     },
     "execution_count": 13,
     "metadata": {},
     "output_type": "execute_result"
    },
    {
     "data": {
      "image/png": "[encoded data removed]",
      "text/plain": [
       "<Figure size 432x288 with 1 Axes>"
      ]
     },
     "metadata": {
      "needs_background": "light"
     },
     "output_type": "display_data"
    }
   ],
   "source": [
    "plt.plot(n_trees,error_sqrt,label='$m=\\sqrt{p}$')\n",
    "plt.plot(n_trees,error_halve,label='$m=p/2$')\n",
    "plt.plot(n_trees,error_p,label='$m=p$')\n",
    "plt.legend(loc='best')\n",
    "plt.xlabel('numero de arboles')\n",
    "plt.ylabel('Test Classification Error')\n",
    "plt.title('Figure 8.10')"
   ]
  },
  {
   "cell_type": "markdown",
   "metadata": {},
   "source": [
    "## c)"
   ]
  },
  {
   "cell_type": "code",
   "execution_count": 29,
   "metadata": {},
   "outputs": [],
   "source": [
    "def F1(y_true,y_model):\n",
    "    r=sklearn.metrics.recall_score(y_true,y_model,average='macro')\n",
    "    p=sklearn.metrics.precision_score(y_true,y_model,average='macro')\n",
    "    #F1 = 2 * (precision * recall) / (precision + recall)\n",
    "    return 2*(p*r)/(p+r)"
   ]
  },
  {
   "cell_type": "code",
   "execution_count": 5,
   "metadata": {},
   "outputs": [],
   "source": [
    "from sklearn.linear_model import LogisticRegression"
   ]
  },
  {
   "cell_type": "code",
   "execution_count": 30,
   "metadata": {},
   "outputs": [],
   "source": [
    "#regresion logistica\n",
    "logreg = LogisticRegression(C=1e5, solver='newton-cg')\n",
    "logreg.fit(X,Y)\n",
    "model=logreg.predict(x_test2)\n",
    "CM1=sklearn.metrics.confusion_matrix(y_test2,model)\n",
    "CM1\n",
    "probs=logreg.predict_proba(x_test2)\n",
    "logF1=F1(y_test2,model)"
   ]
  },
  {
   "cell_type": "code",
   "execution_count": 12,
   "metadata": {},
   "outputs": [],
   "source": [
    "precision1,recall1,thresholds1=sklearn.metrics.precision_recall_curve(y_test2,probs[:,1])"
   ]
  },
  {
   "cell_type": "code",
   "execution_count": 13,
   "metadata": {},
   "outputs": [],
   "source": [
    "#linear discriminant analysis\n",
    "from sklearn.discriminant_analysis import LinearDiscriminantAnalysis"
   ]
  },
  {
   "cell_type": "code",
   "execution_count": 14,
   "metadata": {},
   "outputs": [
    {
     "name": "stderr",
     "output_type": "stream",
     "text": [
      "/srv/conda/lib/python3.6/site-packages/sklearn/discriminant_analysis.py:388: UserWarning: Variables are collinear.\n",
      "  warnings.warn(\"Variables are collinear.\")\n"
     ]
    }
   ],
   "source": [
    "LDA=LinearDiscriminantAnalysis()\n",
    "LDA.fit(X,Y)\n",
    "model=LDA.predict(x_test2)\n",
    "CM2=sklearn.metrics.confusion_matrix(y_test2,model)\n",
    "CM2\n",
    "probs=LDA.predict_proba(x_test2)\n",
    "LDAF1=F1(y_test2,model)\n",
    "precision2,recall2,thresholds2=sklearn.metrics.precision_recall_curve(y_test2,probs[:,1])"
   ]
  },
  {
   "cell_type": "code",
   "execution_count": 23,
   "metadata": {},
   "outputs": [],
   "source": [
    "#Classification Tree\n",
    "from sklearn.model_selection import KFold\n",
    "def K_Fold(X,Y,depth):\n",
    "    regressor=tree.DecisionTreeClassifier(max_depth=depth)\n",
    "    kf=KFold(n_splits=6)\n",
    "    ERR=[]\n",
    "    for train_index, test_index in kf.split(X):\n",
    "        xk_train, xk_test = X.iloc[train_index], X.iloc[test_index]\n",
    "        yk_train, yk_test = Y[train_index], Y[test_index]\n",
    "        regressor.fit(xk_test,yk_test)\n",
    "        model=regressor.predict(xk_test)\n",
    "        ERR.append(sklearn.metrics.mean_squared_error(yk_test,model))\n",
    "    return np.mean(ERR)\n",
    "def evaluation(X_train,X_test,Y_train,Y_test,depth):\n",
    "    a=depth\n",
    "    regressor=tree.DecisionTreeClassifier(max_depth=a)\n",
    "    regressor.fit(X_train,Y_train)\n",
    "    model=regressor.predict(X_test)\n",
    "    train_model=regressor.predict(X_train)\n",
    "    return sklearn.metrics.mean_squared_error(Y_test,model),sklearn.metrics.mean_squared_error(Y_train,train_model)"
   ]
  },
  {
   "cell_type": "code",
   "execution_count": 24,
   "metadata": {},
   "outputs": [],
   "source": [
    "nodes=np.linspace(1,10,10).astype(int)\n",
    "cv=[]\n",
    "test,train=[],[]\n",
    "for i in range(nodes.size):\n",
    "    a,b=evaluation(x_train2,x_test2,y_train2,y_test2,nodes[i]//1)\n",
    "    c=K_Fold(X,Y,nodes[i]//1)\n",
    "    test.append(a),train.append(b),cv.append(c)\n",
    "bestTreeDepth=nodes[np.argmin(test)]"
   ]
  },
  {
   "cell_type": "code",
   "execution_count": 27,
   "metadata": {},
   "outputs": [
    {
     "data": {
      "text/plain": [
       "4"
      ]
     },
     "execution_count": 27,
     "metadata": {},
     "output_type": "execute_result"
    }
   ],
   "source": [
    "bestTreeDepth"
   ]
  },
  {
   "cell_type": "code",
   "execution_count": 25,
   "metadata": {},
   "outputs": [],
   "source": [
    "Tree=tree.DecisionTreeClassifier(max_depth=bestTreeDepth)\n",
    "Tree.fit(X,Y)\n",
    "model=Tree.predict(x_test2)\n",
    "CM3=sklearn.metrics.confusion_matrix(y_test2,model)\n",
    "CM3\n",
    "probs=Tree.predict_proba(x_test2)[:,0]\n",
    "TreeF1=F1(y_test2,model)\n",
    "precision3,recall3,thresholds3=sklearn.metrics.precision_recall_curve(y_test2,probs)"
   ]
  },
  {
   "cell_type": "code",
   "execution_count": 32,
   "metadata": {},
   "outputs": [
    {
     "data": {
      "text/plain": [
       "Text(0.5, 1.0, 'Precision Recall curves')"
      ]
     },
     "execution_count": 32,
     "metadata": {},
     "output_type": "execute_result"
    },
    {
     "data": {
      "image/png": "[encoded data removed]",
      "text/plain": [
       "<Figure size 432x288 with 1 Axes>"
      ]
     },
     "metadata": {
      "needs_background": "light"
     },
     "output_type": "display_data"
    }
   ],
   "source": [
    "label1='LR, F1='+str(logF1)\n",
    "label2='LDA, F1='#+str(LDAF1)\n",
    "label3='Tree, F1='#+str(TreeF1)\n",
    "plt.plot(recall1,precision1,label=label1)\n",
    "plt.plot(recall2,precision2,label=label2)\n",
    "plt.plot(recall3,precision3,label=label3)\n",
    "plt.legend(loc='best')\n",
    "plt.xlabel('recall')\n",
    "plt.ylabel('Precision')\n",
    "plt.title('Precision Recall curves')"
   ]
  }
 ],
 "metadata": {
  "kernelspec": {
   "display_name": "Python 3",
   "language": "python",
   "name": "python3"
  },
  "language_info": {
   "codemirror_mode": {
    "name": "ipython",
    "version": 3
   },
   "file_extension": ".py",
   "mimetype": "text/x-python",
   "name": "python",
   "nbconvert_exporter": "python",
   "pygments_lexer": "ipython3",
   "version": "3.6.6"
  }
 },
 "nbformat": 4,
 "nbformat_minor": 2
}
