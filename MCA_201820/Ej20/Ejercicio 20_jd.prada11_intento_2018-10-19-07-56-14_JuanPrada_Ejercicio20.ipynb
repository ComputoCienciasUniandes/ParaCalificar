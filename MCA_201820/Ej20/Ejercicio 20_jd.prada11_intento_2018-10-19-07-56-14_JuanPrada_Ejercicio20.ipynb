{
 "cells": [
  {
   "cell_type": "code",
   "execution_count": 31,
   "metadata": {},
   "outputs": [],
   "source": [
    "import numpy as np\n",
    "import pandas as pd\n",
    "import matplotlib.pyplot as plt\n",
    "import sklearn.model_selection\n",
    "import sklearn.ensemble\n",
    "import itertools\n",
    "import scipy"
   ]
  },
  {
   "cell_type": "markdown",
   "metadata": {},
   "source": [
    "# Primera Parte "
   ]
  },
  {
   "cell_type": "markdown",
   "metadata": {},
   "source": [
    "a) Reproduzca la Figura 8.8 del texto guia."
   ]
  },
  {
   "cell_type": "code",
   "execution_count": 3,
   "metadata": {},
   "outputs": [],
   "source": [
    "data = pd.read_csv('Heart.csv')\n",
    "Y = data['AHD'].values.reshape(-1,1).ravel()\n",
    "X = data[['Age', 'Sex', 'RestBP', 'Chol', 'Fbs', 'RestECG', 'MaxHR', 'ExAng', 'Oldpeak', 'Slope']] # quite 'ChestPain', 'Ca', 'Thal' para que me de algo por ahora"
   ]
  },
  {
   "cell_type": "code",
   "execution_count": 4,
   "metadata": {},
   "outputs": [],
   "source": [
    "def Vote(n_Yes_predict, n_No_predict):\n",
    "    # majority votes en cada uno de los subsets\n",
    "    maj_vote = ''\n",
    "    if(n_Yes_predict > n_No_predict):\n",
    "        maj_vote = 'Yes'\n",
    "    elif(n_Yes_predict < n_No_predict):\n",
    "        maj_vote = 'No'\n",
    "    else:\n",
    "        pass\n",
    "\n",
    "    return maj_vote"
   ]
  },
  {
   "cell_type": "code",
   "execution_count": 5,
   "metadata": {},
   "outputs": [],
   "source": [
    "# Bagging\n",
    "\n",
    "def Bagging_Error(X, Y, B):\n",
    "    X_train, X_test, Y_train, Y_test = sklearn.model_selection.train_test_split(X, Y, test_size=0.2, random_state=42, shuffle=True)\n",
    "    \n",
    "    kf = sklearn.model_selection.KFold(n_splits=B, shuffle=True)\n",
    "    #num_splits = kf.get_n_splits(X_train) # n_splits = B\n",
    "    \n",
    "    Error_test = []\n",
    "    for train_index, test_index in kf.split(X_train):\n",
    "        # elijo aleatoeriamente B subsets de X_train \n",
    "        x_train, x_test = X.values[train_index, :] , X.values[test_index, :]\n",
    "        y_train, y_test = Y[train_index] , Y[test_index]\n",
    "\n",
    "        # hago predicciones sobre cada x_train\n",
    "        bf = sklearn.ensemble.BaggingClassifier()\n",
    "        bf.fit(x_train, y_train)\n",
    "        Y_predict = bf.predict(x_train)\n",
    "        \n",
    "        score = bf.score(x_test, y_test)\n",
    "        Error_test.append(score)\n",
    "\n",
    "        Yes_predict = (Y_predict == 'Yes')  \n",
    "        No_predict = (Y_predict == 'No')  \n",
    "\n",
    "        # cuento el numero de predicciones en Yes y No\n",
    "        n_Yes_predict = np.count_nonzero(Yes_predict)\n",
    "        n_No_predict = np.count_nonzero(No_predict)\n",
    "\n",
    "        Vote(n_Yes_predict, n_No_predict)\n",
    "\n",
    "    # busco ahora cual es el majority vote de todos los majority votes (me salgo del for)\n",
    "    Yes_predict = (Y_predict == 'Yes')  \n",
    "    No_predict = (Y_predict == 'No')  \n",
    "\n",
    "    # cuento el numero de predicciones en Yes y No\n",
    "    n_Yes_predict = np.count_nonzero(Yes_predict)\n",
    "    n_No_predict = np.count_nonzero(No_predict)\n",
    "\n",
    "    return Vote(n_Yes_predict, n_No_predict), Error_test\n",
    "\n",
    "#print(len(Bagging_Error(X, Y, 5)[1]))"
   ]
  },
  {
   "cell_type": "code",
   "execution_count": 6,
   "metadata": {},
   "outputs": [],
   "source": [
    "# Random Forest\n",
    "\n",
    "def Random_Forest_Error(X, Y, all_predictors, B):\n",
    "    X_train, X_test, Y_train, Y_test = sklearn.model_selection.train_test_split(X, Y, test_size=0.2, random_state=42, shuffle=True)\n",
    "\n",
    "    # elijo aleatoeriamente B subsets de X_train \n",
    "    kf = sklearn.model_selection.KFold(n_splits=B, shuffle=True)\n",
    "    num_splits = kf.get_n_splits(X_train) # n_splits = B7\n",
    "\n",
    "    # genero una lista de predictores con tamaño m para elegir despues\n",
    "    m_predictors = int(np.sqrt(len(all_predictors)))\n",
    "    combinations = itertools.combinations(all_predictors, m_predictors)\n",
    "\n",
    "    Predictors = []\n",
    "    for c in combinations:\n",
    "        predictors = list(c)\n",
    "        Predictors.append(predictors)\n",
    "\n",
    "    # elijo aleatoriamente los predictores que voy a usar con el tamaño que fije (m), lo hago antes de hacer el split de datos para no tener problemas con el tipopandas frame o nparray\n",
    "    predictors = Predictors[np.random.randint(low=0, high=len(Predictors))]\n",
    "\n",
    "    Error_test = [] # aqui voy a meter el error de la prediccion respecto al test\n",
    "    # Hago el split de los datos en train y test con los parametros elegidos ya modificados \n",
    "    for train_index, test_index in kf.split(X_train):\n",
    "        x_train, x_test = X[predictors].values[train_index, :] , X[predictors].values[test_index, :]\n",
    "        y_train, y_test = Y[train_index] , Y[test_index]\n",
    "\n",
    "        # hago predicciones sobre cada x_train\n",
    "        bf = sklearn.ensemble.BaggingClassifier()\n",
    "        bf.fit(x_train, y_train)\n",
    "        Y_predict = bf.predict(x_train)\n",
    "\n",
    "        score = bf.score(x_test, y_test)\n",
    "        Error_test.append(score)\n",
    "\n",
    "        Yes_predict = (Y_predict == 'Yes')  \n",
    "        No_predict = (Y_predict == 'No')  \n",
    "\n",
    "        # cuento el numero de predicciones en Yes y No\n",
    "        n_Yes_predict = np.count_nonzero(Yes_predict)\n",
    "        n_No_predict = np.count_nonzero(No_predict)\n",
    "\n",
    "        Vote(n_Yes_predict, n_No_predict)\n",
    "\n",
    "    # busco ahora cual es el majority vote de todos los majority votes (me salgo del for)\n",
    "    Yes_predict = (Y_predict == 'Yes')  \n",
    "    No_predict = (Y_predict == 'No')  \n",
    "\n",
    "    # cuento el numero de predicciones en Yes y No\n",
    "    n_Yes_predict = np.count_nonzero(Yes_predict)\n",
    "    n_No_predict = np.count_nonzero(No_predict)\n",
    "\n",
    "    return Vote(n_Yes_predict, n_No_predict), Error_test\n",
    "\n",
    "\n",
    "all_predictors = ['Age', 'Sex', 'RestBP', 'Chol', 'Fbs', 'RestECG', 'MaxHR', 'ExAng', 'Oldpeak', 'Slope']\n",
    "\n",
    "#print(len(Random_Forest_Error(X,Y, all_predictors, 200)[1]))\n"
   ]
  },
  {
   "cell_type": "code",
   "execution_count": 7,
   "metadata": {},
   "outputs": [
    {
     "data": {
      "text/plain": [
       "<matplotlib.collections.PathCollection at 0x7f0fbb391e10>"
      ]
     },
     "execution_count": 7,
     "metadata": {},
     "output_type": "execute_result"
    },
    {
     "data": {
      "image/png": "[encoded data removed]",
      "text/plain": [
       "<Figure size 432x288 with 1 Axes>"
      ]
     },
     "metadata": {
      "needs_background": "light"
     },
     "output_type": "display_data"
    }
   ],
   "source": [
    "B = np.arange(0, 200, 1)\n",
    "plt.figure()\n",
    "plt.scatter(B, Random_Forest_Error(X,Y, all_predictors, len(B))[1])\n",
    "plt.scatter(B, Bagging_Error(X,Y, len(B))[1])"
   ]
  },
  {
   "cell_type": "markdown",
   "metadata": {},
   "source": [
    "b) Reproduzca la Figura 8.10 del texto guia. Utilice el dataset OJ."
   ]
  },
  {
   "cell_type": "code",
   "execution_count": 6,
   "metadata": {},
   "outputs": [],
   "source": [
    "data = pd.read_csv('OJ.csv')\n",
    "Y = data['Purchase'].values.reshape(-1,1).ravel()\n",
    "X = data[['WeekofPurchase', 'StoreID', 'PriceCH', 'PriceMM', 'DiscCH','DiscMM' , 'SpecialCH',  'SpecialMM',   'LoyalCH', 'SalePriceMM', 'SalePriceCH', 'PriceDiff', 'PctDiscMM',  'PctDiscCH',  'ListPriceDiff',  'STORE']]"
   ]
  },
  {
   "cell_type": "code",
   "execution_count": 18,
   "metadata": {},
   "outputs": [],
   "source": [
    "def Random_Forest(X, Y, all_predictors, m_predictors, B):\n",
    "    X_train, X_test, Y_train, Y_test = sklearn.model_selection.train_test_split(X, Y, test_size=0.2, random_state=42, shuffle=True)\n",
    "\n",
    "    # elijo aleatoeriamente B subsets de X_train \n",
    "    kf = sklearn.model_selection.KFold(n_splits=B, shuffle=True)\n",
    "    num_splits = kf.get_n_splits(X_train) # n_splits = B7\n",
    "\n",
    "    # genero una lista de predictores con tamaño m para elegir despues\n",
    "    combinations = itertools.combinations(all_predictors, m_predictors)\n",
    "\n",
    "    Predictors = []\n",
    "    for c in combinations:\n",
    "        predictors = list(c)\n",
    "        Predictors.append(predictors)\n",
    "\n",
    "    # elijo aleatoriamente los predictores que voy a usar con el tamaño que fije (m), lo hago antes de hacer el split de datos para no tener problemas con el tipopandas frame o nparray\n",
    "    predictors = Predictors[np.random.randint(low=0, high=len(Predictors))]\n",
    "\n",
    "    Error_test = [] # aqui voy a meter el error de la prediccion respecto al test\n",
    "    # Hago el split de los datos en train y test con los parametros elegidos ya modificados \n",
    "    for train_index, test_index in kf.split(X_train):\n",
    "        x_train, x_test = X[predictors].values[train_index, :] , X[predictors].values[test_index, :]\n",
    "        y_train, y_test = Y[train_index] , Y[test_index]\n",
    "\n",
    "        # hago predicciones sobre cada x_train\n",
    "        bf = sklearn.ensemble.BaggingClassifier()\n",
    "        bf.fit(x_train, y_train)\n",
    "        Y_predict = bf.predict(x_train)\n",
    "\n",
    "        score = bf.score(x_test, y_test)\n",
    "        Error_test.append(score)\n",
    "\n",
    "        Yes_predict = (Y_predict == 'Yes')  \n",
    "        No_predict = (Y_predict == 'No')  \n",
    "\n",
    "        # cuento el numero de predicciones en Yes y No\n",
    "        n_Yes_predict = np.count_nonzero(Yes_predict)\n",
    "        n_No_predict = np.count_nonzero(No_predict)\n",
    "\n",
    "        Vote(n_Yes_predict, n_No_predict)\n",
    "\n",
    "    # busco ahora cual es el majority vote de todos los majority votes (me salgo del for)\n",
    "    Yes_predict = (Y_predict == 'Yes')  \n",
    "    No_predict = (Y_predict == 'No')  \n",
    "\n",
    "    # cuento el numero de predicciones en Yes y No\n",
    "    n_Yes_predict = np.count_nonzero(Yes_predict)\n",
    "    n_No_predict = np.count_nonzero(No_predict)\n",
    "\n",
    "    return Vote(n_Yes_predict, n_No_predict), Error_test"
   ]
  },
  {
   "cell_type": "code",
   "execution_count": 20,
   "metadata": {},
   "outputs": [
    {
     "data": {
      "text/plain": [
       "<Figure size 432x288 with 0 Axes>"
      ]
     },
     "execution_count": 20,
     "metadata": {},
     "output_type": "execute_result"
    },
    {
     "data": {
      "text/plain": [
       "<Figure size 432x288 with 0 Axes>"
      ]
     },
     "metadata": {},
     "output_type": "display_data"
    }
   ],
   "source": [
    "all_predictors = ['Age', 'Sex', 'RestBP', 'Chol', 'Fbs', 'RestECG', 'MaxHR', 'ExAng', 'Oldpeak', 'Slope']\n",
    "p = len(all_predictors)\n",
    "m_predictors = [p, int(p/2), int(np.sqrt(p))]\n",
    "B = np.arange(0, 200, 1)\n",
    "        \n",
    "plt.figure()\n",
    "#plt.plot(B, Random_Forest_Error(X, Y, all_predictors, m_predictors[0], len(B))[1])\n",
    "#plt.plot(B, Random_Forest_Error(X, Y, all_predictors, m_predictors[1], len(B))[1])\n",
    "#plt.plot(B, Random_Forest(X, Y, all_predictors, m_predictors[2], len(B))[1])"
   ]
  },
  {
   "cell_type": "markdown",
   "metadata": {},
   "source": [
    "# (Segunda parte)"
   ]
  },
  {
   "cell_type": "markdown",
   "metadata": {},
   "source": [
    "c) Utilice el data set OJ para encontrar cual de los siguientes modelos logra predecir mejor el target Purchase:\n",
    "\n",
    "    Logistic regresion.\n",
    "    Linear discriminant analysis.\n",
    "    Classification Tree.\n",
    "    Random Forest. Haga explicito el criterio que utiliza para comparar los modelos.\n"
   ]
  },
  {
   "cell_type": "code",
   "execution_count": 21,
   "metadata": {},
   "outputs": [],
   "source": [
    "data = pd.read_csv('OJ.csv')\n",
    "Y = data['Purchase'].values.reshape(-1,1).ravel()\n",
    "X = data[['WeekofPurchase', 'StoreID', 'PriceCH', 'PriceMM', 'DiscCH','DiscMM' , 'SpecialCH',  'SpecialMM',   'LoyalCH', 'SalePriceMM', 'SalePriceCH', 'PriceDiff', 'PctDiscMM',  'PctDiscCH',  'ListPriceDiff',  'STORE']]"
   ]
  },
  {
   "cell_type": "code",
   "execution_count": 61,
   "metadata": {},
   "outputs": [],
   "source": [
    "# logistic regresssion \n",
    "import sklearn.linear_model\n",
    "import sklearn.discriminant_analysis\n",
    "\n",
    "f = sklearn.linear_model.LogisticRegression()\n",
    "g = sklearn.discriminant_analysis.LinearDiscriminantAnalysis()\n",
    "\n",
    "def fit(X, Y, f_method, plot=True):\n",
    "    # Split in train and test\n",
    "    X_train, X_test, Y_train, Y_test = sklearn.model_selection.train_test_split(X,Y, test_size=0.4)\n",
    "\n",
    "    #  Fit with train\n",
    "    f_method.fit(X_train, Y_train)\n",
    "\n",
    "    # Predict with test\n",
    "    predict = f_method.predict(X_test)\n",
    "\n",
    "    # This is the probability for the '+' class\n",
    "    proba_yes = f_method.predict_proba(X_test)[:,1]\n",
    "\n",
    "    # loop over n_p different values for the threshold probabiity\n",
    "    n_p = 100\n",
    "    error_rate = np.zeros(n_p)\n",
    "    precision = np.zeros(n_p)\n",
    "    recall = np.zeros(n_p)\n",
    "    tp_rate = np.zeros(n_p)\n",
    "    fp_rate = np.zeros(n_p)\n",
    "    threshold = np.linspace(0,0.99, n_p)\n",
    "\n",
    "    for i in range(n_p):\n",
    "        ii = proba_yes>threshold[i]\n",
    "        predict[ii] = 'CH'\n",
    "        predict[~ii] = 'MM'\n",
    "        true_positive = (Y_test == 'CH') & (predict == 'CH') \n",
    "        false_positive = (Y_test == 'MM') & (predict == 'CH')\n",
    "        false_negative = (Y_test == 'CH') & (predict == 'MM')\n",
    "        true_negative = (Y_test == 'MM') & (predict == 'MM')\n",
    "        n_tp = np.count_nonzero(true_positive)\n",
    "        n_fp= np.count_nonzero(false_positive)\n",
    "        n_fn = np.count_nonzero(false_negative)\n",
    "        n_tn = np.count_nonzero(true_negative)\n",
    "        if((n_tp+n_fp)>0): precision[i] = n_tp/(n_tp + n_fp)\n",
    "        if((n_tp+n_fn)>0): recall[i] = n_tp/(n_tp + n_fn); tp_rate[i] = recall[i]  \n",
    "        if((n_fp+n_tn)>0): fp_rate[i] = n_fp/(n_fp+n_tn)\n",
    "\n",
    "    # compute the area under each curve\n",
    "    ii = np.argsort(recall)\n",
    "    pr_area = scipy.integrate.trapz(precision[ii], recall[ii])\n",
    "    \n",
    "    ii = np.argsort(fp_rate)\n",
    "    roc_area = scipy.integrate.trapz(tp_rate[ii], fp_rate[ii])\n",
    "            \n",
    "    # compute F1\n",
    "    F1 = np.max(2.0*precision*recall/(precision+recall+1E-12))\n",
    "    \n",
    "    return {'pr_area':pr_area, 'roc_area':roc_area, 'F1':F1}"
   ]
  },
  {
   "cell_type": "code",
   "execution_count": 62,
   "metadata": {},
   "outputs": [],
   "source": [
    "# classification tree\n",
    "import sklearn.tree\n",
    "\n",
    "def fit_ctree(X,Y, B):\n",
    "    for i in range(len(B)):\n",
    "        if(i==0):\n",
    "            pass\n",
    "        else:\n",
    "            h = sklearn.tree.DecisionTreeClassifier(max_depth=int(i))\n",
    "            h.fit(X, Y)\n",
    "\n",
    "            predict = h.predict(X_test)\n",
    "\n",
    "            # This is the probability for the '+' class\n",
    "            proba_yes = h.predict_proba(X_test)[:,1]\n",
    "\n",
    "            # loop over n_p different values for the threshold probabiity\n",
    "            n_p = 100\n",
    "            error_rate = np.zeros(n_p)\n",
    "            precision = np.zeros(n_p)\n",
    "            recall = np.zeros(n_p)\n",
    "            tp_rate = np.zeros(n_p)\n",
    "            fp_rate = np.zeros(n_p)\n",
    "            threshold = np.linspace(0,0.99, n_p)\n",
    "\n",
    "            for i in range(n_p):\n",
    "                ii = proba_yes>threshold[i]\n",
    "                predict[ii] = 'CH'\n",
    "                predict[~ii] = 'MM'\n",
    "                true_positive = (Y_test == 'CH') & (predict == 'CH') \n",
    "                false_positive = (Y_test == 'MM') & (predict == 'CH')\n",
    "                false_negative = (Y_test == 'CH') & (predict == 'MM')\n",
    "                true_negative = (Y_test == 'MM') & (predict == 'MM')\n",
    "                n_tp = np.count_nonzero(true_positive)\n",
    "                n_fp= np.count_nonzero(false_positive)\n",
    "                n_fn = np.count_nonzero(false_negative)\n",
    "                n_tn = np.count_nonzero(true_negative)\n",
    "                if((n_tp+n_fp)>0): precision[i] = n_tp/(n_tp + n_fp)\n",
    "                if((n_tp+n_fn)>0): recall[i] = n_tp/(n_tp + n_fn); tp_rate[i] = recall[i]  \n",
    "                if((n_fp+n_tn)>0): fp_rate[i] = n_fp/(n_fp+n_tn)\n",
    "\n",
    "            # compute the area under each curve\n",
    "            ii = np.argsort(recall)\n",
    "            pr_area = scipy.integrate.trapz(precision[ii], recall[ii])\n",
    "\n",
    "            ii = np.argsort(fp_rate)\n",
    "            roc_area = scipy.integrate.trapz(tp_rate[ii], fp_rate[ii])\n",
    "\n",
    "            # compute F1\n",
    "            F1 = np.max(2.0*precision*recall/(precision+recall+1E-12))\n",
    "    return {'pr_area':pr_area, 'roc_area':roc_area, 'F1':F1}"
   ]
  },
  {
   "cell_type": "code",
   "execution_count": 71,
   "metadata": {},
   "outputs": [],
   "source": [
    "import sklearn.ensemble\n",
    "\n",
    "def fit_RF(X,Y,B):\n",
    "    X_train, X_test, Y_train, Y_test = sklearn.model_selection.train_test_split(X, Y, test_size=0.2, random_state=42, shuffle=True)\n",
    "    for i in range(len(B)):\n",
    "        if(i==0):\n",
    "            pass\n",
    "        else: \n",
    "            j = sklearn.ensemble.RandomForestClassifier(n_estimators=int(i), oob_score=True)\n",
    "            j.fit(X_train, Y_train)\n",
    "            predict = h.predict(X_test)\n",
    "            proba_yes = h.predict_proba(X_test)[:,1]\n",
    "\n",
    "             # loop over n_p different values for the threshold probabiity\n",
    "            n_p = 100\n",
    "            error_rate = np.zeros(n_p)\n",
    "            precision = np.zeros(n_p)\n",
    "            recall = np.zeros(n_p)\n",
    "            tp_rate = np.zeros(n_p)\n",
    "            fp_rate = np.zeros(n_p)\n",
    "            threshold = np.linspace(0,0.99, n_p)\n",
    "\n",
    "            for i in range(n_p):\n",
    "                ii = proba_yes>threshold[i]\n",
    "                predict[ii] = 'CH'\n",
    "                predict[~ii] = 'MM'\n",
    "                true_positive = (Y_test == 'CH') & (predict == 'CH') \n",
    "                false_positive = (Y_test == 'MM') & (predict == 'CH')\n",
    "                false_negative = (Y_test == 'CH') & (predict == 'MM')\n",
    "                true_negative = (Y_test == 'MM') & (predict == 'MM')\n",
    "                n_tp = np.count_nonzero(true_positive)\n",
    "                n_fp= np.count_nonzero(false_positive)\n",
    "                n_fn = np.count_nonzero(false_negative)\n",
    "                n_tn = np.count_nonzero(true_negative)\n",
    "                if((n_tp+n_fp)>0): precision[i] = n_tp/(n_tp + n_fp)\n",
    "                if((n_tp+n_fn)>0): recall[i] = n_tp/(n_tp + n_fn); tp_rate[i] = recall[i]  \n",
    "                if((n_fp+n_tn)>0): fp_rate[i] = n_fp/(n_fp+n_tn)\n",
    "\n",
    "            # compute the area under each curve\n",
    "            ii = np.argsort(recall)\n",
    "            pr_area = scipy.integrate.trapz(precision[ii], recall[ii])\n",
    "\n",
    "            ii = np.argsort(fp_rate)\n",
    "            roc_area = scipy.integrate.trapz(tp_rate[ii], fp_rate[ii])\n",
    "\n",
    "            # compute F1\n",
    "            F1 = np.max(2.0*precision*recall/(precision+recall+1E-12))\n",
    "    return {'pr_area':pr_area, 'roc_area':roc_area, 'F1':F1}"
   ]
  },
  {
   "cell_type": "markdown",
   "metadata": {},
   "source": [
    "Como el area de la curva de precision-recall es directamente propiorcional a que tan bueno es el modelo, \n",
    "de acuerdo a el siguiente kernel es evidente que para estasituacion los metodos de logisitc regression i discriminant analysis \n",
    "son mejores que classification tree y random forest, para los cuales el area de p-r es muy pequeña\n"
   ]
  },
  {
   "cell_type": "code",
   "execution_count": 72,
   "metadata": {},
   "outputs": [
    {
     "name": "stderr",
     "output_type": "stream",
     "text": [
      "/srv/conda/lib/python3.6/site-packages/sklearn/linear_model/logistic.py:432: FutureWarning: Default solver will be changed to 'lbfgs' in 0.22. Specify a solver to silence this warning.\n",
      "  FutureWarning)\n",
      "/srv/conda/lib/python3.6/site-packages/sklearn/discriminant_analysis.py:388: UserWarning: Variables are collinear.\n",
      "  warnings.warn(\"Variables are collinear.\")\n"
     ]
    },
    {
     "name": "stdout",
     "output_type": "stream",
     "text": [
      "{'pr_area': 0.41670340816286494, 'roc_area': 0.0949879018320083, 'F1': 0.7612156295219598}\n",
      "{'pr_area': 0.4168884902065972, 'roc_area': 0.10596201600294308, 'F1': 0.7594202898546014}\n",
      "{'pr_area': 0.00108038029386344, 'roc_area': 0.001144688644688645, 'F1': 0.04587155963254608}\n"
     ]
    },
    {
     "name": "stderr",
     "output_type": "stream",
     "text": [
      "/srv/conda/lib/python3.6/site-packages/sklearn/ensemble/forest.py:460: UserWarning: Some inputs do not have OOB scores. This probably means too few trees were used to compute any reliable oob estimates.\n",
      "  warn(\"Some inputs do not have OOB scores. \"\n",
      "/srv/conda/lib/python3.6/site-packages/sklearn/ensemble/forest.py:465: RuntimeWarning: invalid value encountered in true_divide\n",
      "  predictions[k].sum(axis=1)[:, np.newaxis])\n",
      "/srv/conda/lib/python3.6/site-packages/sklearn/ensemble/forest.py:460: UserWarning: Some inputs do not have OOB scores. This probably means too few trees were used to compute any reliable oob estimates.\n",
      "  warn(\"Some inputs do not have OOB scores. \"\n",
      "/srv/conda/lib/python3.6/site-packages/sklearn/ensemble/forest.py:465: RuntimeWarning: invalid value encountered in true_divide\n",
      "  predictions[k].sum(axis=1)[:, np.newaxis])\n",
      "/srv/conda/lib/python3.6/site-packages/sklearn/ensemble/forest.py:460: UserWarning: Some inputs do not have OOB scores. This probably means too few trees were used to compute any reliable oob estimates.\n",
      "  warn(\"Some inputs do not have OOB scores. \"\n",
      "/srv/conda/lib/python3.6/site-packages/sklearn/ensemble/forest.py:465: RuntimeWarning: invalid value encountered in true_divide\n",
      "  predictions[k].sum(axis=1)[:, np.newaxis])\n",
      "/srv/conda/lib/python3.6/site-packages/sklearn/ensemble/forest.py:460: UserWarning: Some inputs do not have OOB scores. This probably means too few trees were used to compute any reliable oob estimates.\n",
      "  warn(\"Some inputs do not have OOB scores. \"\n",
      "/srv/conda/lib/python3.6/site-packages/sklearn/ensemble/forest.py:465: RuntimeWarning: invalid value encountered in true_divide\n",
      "  predictions[k].sum(axis=1)[:, np.newaxis])\n",
      "/srv/conda/lib/python3.6/site-packages/sklearn/ensemble/forest.py:460: UserWarning: Some inputs do not have OOB scores. This probably means too few trees were used to compute any reliable oob estimates.\n",
      "  warn(\"Some inputs do not have OOB scores. \"\n",
      "/srv/conda/lib/python3.6/site-packages/sklearn/ensemble/forest.py:465: RuntimeWarning: invalid value encountered in true_divide\n",
      "  predictions[k].sum(axis=1)[:, np.newaxis])\n",
      "/srv/conda/lib/python3.6/site-packages/sklearn/ensemble/forest.py:460: UserWarning: Some inputs do not have OOB scores. This probably means too few trees were used to compute any reliable oob estimates.\n",
      "  warn(\"Some inputs do not have OOB scores. \"\n",
      "/srv/conda/lib/python3.6/site-packages/sklearn/ensemble/forest.py:465: RuntimeWarning: invalid value encountered in true_divide\n",
      "  predictions[k].sum(axis=1)[:, np.newaxis])\n",
      "/srv/conda/lib/python3.6/site-packages/sklearn/ensemble/forest.py:460: UserWarning: Some inputs do not have OOB scores. This probably means too few trees were used to compute any reliable oob estimates.\n",
      "  warn(\"Some inputs do not have OOB scores. \"\n",
      "/srv/conda/lib/python3.6/site-packages/sklearn/ensemble/forest.py:465: RuntimeWarning: invalid value encountered in true_divide\n",
      "  predictions[k].sum(axis=1)[:, np.newaxis])\n",
      "/srv/conda/lib/python3.6/site-packages/sklearn/ensemble/forest.py:460: UserWarning: Some inputs do not have OOB scores. This probably means too few trees were used to compute any reliable oob estimates.\n",
      "  warn(\"Some inputs do not have OOB scores. \"\n",
      "/srv/conda/lib/python3.6/site-packages/sklearn/ensemble/forest.py:465: RuntimeWarning: invalid value encountered in true_divide\n",
      "  predictions[k].sum(axis=1)[:, np.newaxis])\n",
      "/srv/conda/lib/python3.6/site-packages/sklearn/ensemble/forest.py:460: UserWarning: Some inputs do not have OOB scores. This probably means too few trees were used to compute any reliable oob estimates.\n",
      "  warn(\"Some inputs do not have OOB scores. \"\n",
      "/srv/conda/lib/python3.6/site-packages/sklearn/ensemble/forest.py:465: RuntimeWarning: invalid value encountered in true_divide\n",
      "  predictions[k].sum(axis=1)[:, np.newaxis])\n",
      "/srv/conda/lib/python3.6/site-packages/sklearn/ensemble/forest.py:460: UserWarning: Some inputs do not have OOB scores. This probably means too few trees were used to compute any reliable oob estimates.\n",
      "  warn(\"Some inputs do not have OOB scores. \"\n",
      "/srv/conda/lib/python3.6/site-packages/sklearn/ensemble/forest.py:465: RuntimeWarning: invalid value encountered in true_divide\n",
      "  predictions[k].sum(axis=1)[:, np.newaxis])\n",
      "/srv/conda/lib/python3.6/site-packages/sklearn/ensemble/forest.py:460: UserWarning: Some inputs do not have OOB scores. This probably means too few trees were used to compute any reliable oob estimates.\n",
      "  warn(\"Some inputs do not have OOB scores. \"\n",
      "/srv/conda/lib/python3.6/site-packages/sklearn/ensemble/forest.py:465: RuntimeWarning: invalid value encountered in true_divide\n",
      "  predictions[k].sum(axis=1)[:, np.newaxis])\n",
      "/srv/conda/lib/python3.6/site-packages/sklearn/ensemble/forest.py:460: UserWarning: Some inputs do not have OOB scores. This probably means too few trees were used to compute any reliable oob estimates.\n",
      "  warn(\"Some inputs do not have OOB scores. \"\n",
      "/srv/conda/lib/python3.6/site-packages/sklearn/ensemble/forest.py:465: RuntimeWarning: invalid value encountered in true_divide\n",
      "  predictions[k].sum(axis=1)[:, np.newaxis])\n",
      "/srv/conda/lib/python3.6/site-packages/sklearn/ensemble/forest.py:460: UserWarning: Some inputs do not have OOB scores. This probably means too few trees were used to compute any reliable oob estimates.\n",
      "  warn(\"Some inputs do not have OOB scores. \"\n",
      "/srv/conda/lib/python3.6/site-packages/sklearn/ensemble/forest.py:465: RuntimeWarning: invalid value encountered in true_divide\n",
      "  predictions[k].sum(axis=1)[:, np.newaxis])\n",
      "/srv/conda/lib/python3.6/site-packages/sklearn/ensemble/forest.py:460: UserWarning: Some inputs do not have OOB scores. This probably means too few trees were used to compute any reliable oob estimates.\n",
      "  warn(\"Some inputs do not have OOB scores. \"\n",
      "/srv/conda/lib/python3.6/site-packages/sklearn/ensemble/forest.py:465: RuntimeWarning: invalid value encountered in true_divide\n",
      "  predictions[k].sum(axis=1)[:, np.newaxis])\n",
      "/srv/conda/lib/python3.6/site-packages/sklearn/ensemble/forest.py:460: UserWarning: Some inputs do not have OOB scores. This probably means too few trees were used to compute any reliable oob estimates.\n",
      "  warn(\"Some inputs do not have OOB scores. \"\n",
      "/srv/conda/lib/python3.6/site-packages/sklearn/ensemble/forest.py:465: RuntimeWarning: invalid value encountered in true_divide\n",
      "  predictions[k].sum(axis=1)[:, np.newaxis])\n",
      "/srv/conda/lib/python3.6/site-packages/sklearn/ensemble/forest.py:460: UserWarning: Some inputs do not have OOB scores. This probably means too few trees were used to compute any reliable oob estimates.\n",
      "  warn(\"Some inputs do not have OOB scores. \"\n",
      "/srv/conda/lib/python3.6/site-packages/sklearn/ensemble/forest.py:465: RuntimeWarning: invalid value encountered in true_divide\n",
      "  predictions[k].sum(axis=1)[:, np.newaxis])\n"
     ]
    },
    {
     "name": "stdout",
     "output_type": "stream",
     "text": [
      "{'pr_area': 0.00108038029386344, 'roc_area': 0.001144688644688645, 'F1': 0.04587155963254608}\n"
     ]
    }
   ],
   "source": [
    "# Logistic regrsssion\n",
    "print(fit(X, Y, f, plot=True))\n",
    "#lda \n",
    "print(fit(X, Y, g, plot=True))\n",
    "# classification tree\n",
    "B = np.arange(1, 100, 1)\n",
    "print(fit_ctree(X,Y, B))\n",
    "# Random forest\n",
    "print(fit_RF(X,Y, B))"
   ]
  },
  {
   "cell_type": "code",
   "execution_count": null,
   "metadata": {},
   "outputs": [],
   "source": []
  },
  {
   "cell_type": "code",
   "execution_count": null,
   "metadata": {},
   "outputs": [],
   "source": []
  }
 ],
 "metadata": {
  "kernelspec": {
   "display_name": "Python 3",
   "language": "python",
   "name": "python3"
  },
  "language_info": {
   "codemirror_mode": {
    "name": "ipython",
    "version": 3
   },
   "file_extension": ".py",
   "mimetype": "text/x-python",
   "name": "python",
   "nbconvert_exporter": "python",
   "pygments_lexer": "ipython3",
   "version": "3.6.6"
  }
 },
 "nbformat": 4,
 "nbformat_minor": 2
}
