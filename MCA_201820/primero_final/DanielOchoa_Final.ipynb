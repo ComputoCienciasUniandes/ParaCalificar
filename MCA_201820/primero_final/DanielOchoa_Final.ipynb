{
 "cells": [
  {
   "cell_type": "markdown",
   "metadata": {},
   "source": [
    "# Daniel Ochoa : Final\n",
    "### Not:  Before running install both kmodes and plotly"
   ]
  },
  {
   "cell_type": "code",
   "execution_count": 18,
   "metadata": {},
   "outputs": [
    {
     "data": {
      "text/html": [
       "<script type=\"text/javascript\">window.PlotlyConfig = {MathJaxConfig: 'local'};</script><script type=\"text/javascript\">if (window.MathJax) {MathJax.Hub.Config({SVG: {font: \"STIX-Web\"}});}</script><script>requirejs.config({paths: { 'plotly': ['https://cdn.plot.ly/plotly-latest.min']},});if(!window._Plotly) {require(['plotly'],function(plotly) {window._Plotly=plotly;});}</script>"
      ],
      "text/vnd.plotly.v1+html": [
       "<script type=\"text/javascript\">window.PlotlyConfig = {MathJaxConfig: 'local'};</script><script type=\"text/javascript\">if (window.MathJax) {MathJax.Hub.Config({SVG: {font: \"STIX-Web\"}});}</script><script>requirejs.config({paths: { 'plotly': ['https://cdn.plot.ly/plotly-latest.min']},});if(!window._Plotly) {require(['plotly'],function(plotly) {window._Plotly=plotly;});}</script>"
      ]
     },
     "metadata": {},
     "output_type": "display_data"
    }
   ],
   "source": [
    "## NUMPY, PANDAS, MATPLOTLIB\n",
    "import numpy as np\n",
    "import matplotlib.pyplot as plt\n",
    "%matplotlib inline\n",
    "import pandas as pd\n",
    "## PLOTLY\n",
    "from plotly.offline import download_plotlyjs, init_notebook_mode\n",
    "import plotly.offline as py\n",
    "import plotly.graph_objs as go\n",
    "import plotly.figure_factory as ff\n",
    "from plotly import tools\n",
    "## For offline plotting\n",
    "init_notebook_mode(connected=True)\n",
    "## KMODES\n",
    "from kmodes.kmodes import KModes"
   ]
  },
  {
   "cell_type": "markdown",
   "metadata": {},
   "source": [
    "## DATA PREPARATION"
   ]
  },
  {
   "cell_type": "code",
   "execution_count": 2,
   "metadata": {},
   "outputs": [],
   "source": [
    "data_survey = pd.read_csv(\"multipleChoiceResponses.csv\", low_memory=False)"
   ]
  },
  {
   "cell_type": "code",
   "execution_count": 3,
   "metadata": {},
   "outputs": [
    {
     "name": "stdout",
     "output_type": "stream",
     "text": [
      "Remaining Questions: Index(['Q1', 'Q1_OTHER_TEXT', 'Q2', 'Q3', 'Q4', 'Q5', 'Q6', 'Q6_OTHER_TEXT',\n",
      "       'Q7', 'Q7_OTHER_TEXT', 'Q8', 'Q9'],\n",
      "      dtype='object')\n"
     ]
    }
   ],
   "source": [
    "# Drop from question Q11 onwards because those questions were\n",
    "# not answered by more than 50% of the people that \n",
    "# took the survey\n",
    "\n",
    "# I also drop the Q10 question as it would rule out\n",
    "# the people that are not employed and the Time\n",
    "# taken to answer the survey\n",
    "data_survey = data_survey.iloc[:,1:13]\n",
    "print(\"Remaining Questions:\", data_survey.columns)"
   ]
  },
  {
   "cell_type": "code",
   "execution_count": 4,
   "metadata": {},
   "outputs": [
    {
     "data": {
      "text/html": [
       "<div>\n",
       "<style scoped>\n",
       "    .dataframe tbody tr th:only-of-type {\n",
       "        vertical-align: middle;\n",
       "    }\n",
       "\n",
       "    .dataframe tbody tr th {\n",
       "        vertical-align: top;\n",
       "    }\n",
       "\n",
       "    .dataframe thead th {\n",
       "        text-align: right;\n",
       "    }\n",
       "</style>\n",
       "<table border=\"1\" class=\"dataframe\">\n",
       "  <thead>\n",
       "    <tr style=\"text-align: right;\">\n",
       "      <th></th>\n",
       "      <th>Q1</th>\n",
       "      <th>Q2</th>\n",
       "      <th>Q3</th>\n",
       "      <th>Q4</th>\n",
       "      <th>Q5</th>\n",
       "      <th>Q6</th>\n",
       "      <th>Q7</th>\n",
       "      <th>Q8</th>\n",
       "      <th>Q9</th>\n",
       "    </tr>\n",
       "  </thead>\n",
       "  <tbody>\n",
       "    <tr>\n",
       "      <th>0</th>\n",
       "      <td>What is your gender? - Selected Choice</td>\n",
       "      <td>What is your age (# years)?</td>\n",
       "      <td>In which country do you currently reside?</td>\n",
       "      <td>What is the highest level of formal education ...</td>\n",
       "      <td>Which best describes your undergraduate major?...</td>\n",
       "      <td>Select the title most similar to your current ...</td>\n",
       "      <td>In what industry is your current employer/cont...</td>\n",
       "      <td>How many years of experience do you have in yo...</td>\n",
       "      <td>What is your current yearly compensation (appr...</td>\n",
       "    </tr>\n",
       "    <tr>\n",
       "      <th>2</th>\n",
       "      <td>Male</td>\n",
       "      <td>30-34</td>\n",
       "      <td>Indonesia</td>\n",
       "      <td>Bachelor’s degree</td>\n",
       "      <td>Engineering (non-computer focused)</td>\n",
       "      <td>Other</td>\n",
       "      <td>Manufacturing/Fabrication</td>\n",
       "      <td>5-10</td>\n",
       "      <td>10-20,000</td>\n",
       "    </tr>\n",
       "    <tr>\n",
       "      <th>3</th>\n",
       "      <td>Female</td>\n",
       "      <td>30-34</td>\n",
       "      <td>United States of America</td>\n",
       "      <td>Master’s degree</td>\n",
       "      <td>Computer science (software engineering, etc.)</td>\n",
       "      <td>Data Scientist</td>\n",
       "      <td>I am a student</td>\n",
       "      <td>0-1</td>\n",
       "      <td>0-10,000</td>\n",
       "    </tr>\n",
       "    <tr>\n",
       "      <th>5</th>\n",
       "      <td>Male</td>\n",
       "      <td>22-24</td>\n",
       "      <td>India</td>\n",
       "      <td>Master’s degree</td>\n",
       "      <td>Mathematics or statistics</td>\n",
       "      <td>Data Analyst</td>\n",
       "      <td>I am a student</td>\n",
       "      <td>0-1</td>\n",
       "      <td>0-10,000</td>\n",
       "    </tr>\n",
       "    <tr>\n",
       "      <th>6</th>\n",
       "      <td>Male</td>\n",
       "      <td>25-29</td>\n",
       "      <td>Colombia</td>\n",
       "      <td>Bachelor’s degree</td>\n",
       "      <td>Physics or astronomy</td>\n",
       "      <td>Data Scientist</td>\n",
       "      <td>Computers/Technology</td>\n",
       "      <td>0-1</td>\n",
       "      <td>I do not wish to disclose my approximate yearl...</td>\n",
       "    </tr>\n",
       "  </tbody>\n",
       "</table>\n",
       "</div>"
      ],
      "text/plain": [
       "                                       Q1                           Q2  \\\n",
       "0  What is your gender? - Selected Choice  What is your age (# years)?   \n",
       "2                                    Male                        30-34   \n",
       "3                                  Female                        30-34   \n",
       "5                                    Male                        22-24   \n",
       "6                                    Male                        25-29   \n",
       "\n",
       "                                          Q3  \\\n",
       "0  In which country do you currently reside?   \n",
       "2                                  Indonesia   \n",
       "3                   United States of America   \n",
       "5                                      India   \n",
       "6                                   Colombia   \n",
       "\n",
       "                                                  Q4  \\\n",
       "0  What is the highest level of formal education ...   \n",
       "2                                  Bachelor’s degree   \n",
       "3                                    Master’s degree   \n",
       "5                                    Master’s degree   \n",
       "6                                  Bachelor’s degree   \n",
       "\n",
       "                                                  Q5  \\\n",
       "0  Which best describes your undergraduate major?...   \n",
       "2                 Engineering (non-computer focused)   \n",
       "3      Computer science (software engineering, etc.)   \n",
       "5                          Mathematics or statistics   \n",
       "6                               Physics or astronomy   \n",
       "\n",
       "                                                  Q6  \\\n",
       "0  Select the title most similar to your current ...   \n",
       "2                                              Other   \n",
       "3                                     Data Scientist   \n",
       "5                                       Data Analyst   \n",
       "6                                     Data Scientist   \n",
       "\n",
       "                                                  Q7  \\\n",
       "0  In what industry is your current employer/cont...   \n",
       "2                          Manufacturing/Fabrication   \n",
       "3                                     I am a student   \n",
       "5                                     I am a student   \n",
       "6                               Computers/Technology   \n",
       "\n",
       "                                                  Q8  \\\n",
       "0  How many years of experience do you have in yo...   \n",
       "2                                               5-10   \n",
       "3                                                0-1   \n",
       "5                                                0-1   \n",
       "6                                                0-1   \n",
       "\n",
       "                                                  Q9  \n",
       "0  What is your current yearly compensation (appr...  \n",
       "2                                          10-20,000  \n",
       "3                                           0-10,000  \n",
       "5                                           0-10,000  \n",
       "6  I do not wish to disclose my approximate yearl...  "
      ]
     },
     "execution_count": 4,
     "metadata": {},
     "output_type": "execute_result"
    }
   ],
   "source": [
    "# Dropping the aclaratory answers related with a multiple choice\n",
    "# question i.e Q1_OTHER_TEXT, Q6_OTHER_TEXT...\n",
    "\n",
    "# Define a set of the questions to be dropped\n",
    "q_drop_set = {'Q1_OTHER_TEXT', 'Q6_OTHER_TEXT', 'Q7_OTHER_TEXT'}\n",
    "\n",
    "# Get the complete set of questions\n",
    "q_current_set = set(data_survey.columns)\n",
    "\n",
    "# Get the remaining list of questions by\n",
    "# using set operations (\"-\")\n",
    "q_remaining_list = sorted(list(q_current_set - q_drop_set))\n",
    "\n",
    "# Index the dataframe with the obtained list of\n",
    "# questions\n",
    "data_survey = data_survey[q_remaining_list].dropna()\n",
    "\n",
    "# No headers\n",
    "data_survey_nq = data_survey.iloc[1:,:]\n",
    "data_survey.head(5)"
   ]
  },
  {
   "cell_type": "markdown",
   "metadata": {},
   "source": [
    "## VISUALIZATION"
   ]
  },
  {
   "cell_type": "markdown",
   "metadata": {},
   "source": [
    "I used this activity as a an opportunity to learn about an alternative visualization tool: Plotly. It uses javascript plotting libraries to render interactive plots in the browser which sometimes can be richer than the ones obtained with plain matplotlib.\n",
    "https://plot.ly/python/"
   ]
  },
  {
   "cell_type": "markdown",
   "metadata": {},
   "source": [
    "### Visualizing the number of entries per country"
   ]
  },
  {
   "cell_type": "markdown",
   "metadata": {},
   "source": [
    "#### Count the number of entries per country, get gender and carrer level percentages"
   ]
  },
  {
   "cell_type": "code",
   "execution_count": 5,
   "metadata": {},
   "outputs": [],
   "source": [
    "from collections import Counter\n",
    "data_country = data_survey_nq[\"Q3\"].values\n",
    "entries_by_country = Counter(data_country)\n",
    "\n",
    "# Create a dataframe from the dictionary object Counter\n",
    "df_entry_by_country = pd.DataFrame()\n",
    "df_entry_by_country[\"country\"] = entries_by_country.keys()\n",
    "df_entry_by_country[\"count\"] = entries_by_country.values()\n",
    "\n",
    "def count_ocurr_country(df, country_name, key, key_value):\n",
    "    df_country = df[df[\"Q3\"] == country_name]\n",
    "    df_keys = df_country[df_country[key] == key_value]\n",
    "    return df_keys.shape[0]\n",
    "\n",
    "# GENDER\n",
    "for key in [\"Male\", \"Female\"]:\n",
    "    df_entry_by_country[key] = df_entry_by_country.apply(\n",
    "                                        lambda x: count_ocurr_country(data_survey_nq, x[\"country\"],\"Q1\", key),\n",
    "                                        axis = 1\n",
    "                                    )\n",
    "    \n",
    "df_entry_by_country[\"other_gender\"] = df_entry_by_country.apply(\n",
    "                                    lambda x: (x[\"count\"] - x[\"Male\"] - x[\"Female\"]), axis = 1 )\n",
    "\n",
    "# CARRER LEVEL\n",
    "df_entry_by_country[\"ProfBach\"] = df_entry_by_country.apply(\n",
    "                                    lambda x: count_ocurr_country(data_survey_nq, x[\"country\"], \"Q4\", \"Bachelor’s degree\")+\\\n",
    "                                    count_ocurr_country(data_survey_nq, x[\"country\"], \"Q4\", \"Professional degree\"),                                        \n",
    "                                    axis = 1)\n",
    "\n",
    "for key in [\"Master’s degree\", \"Doctoral degree\"]:\n",
    "    df_entry_by_country[key] = df_entry_by_country.apply(\n",
    "                                        lambda x: count_ocurr_country(data_survey_nq, \n",
    "                                                                                     x[\"country\"], \n",
    "                                                                                     \"Q4\",\n",
    "                                                                                     key), axis = 1)\n",
    "df_entry_by_country[\"other_career\"] = df_entry_by_country.apply(\n",
    "                                    lambda x: (x[\"count\"] - x[\"Master’s degree\"] - x[\"Doctoral degree\"]-\\\n",
    "                                                x[\"ProfBach\"]), axis = 1 )\n",
    "\n",
    "for key in [\"Male\", \"Female\", \"other_gender\", \"Master’s degree\", \"Doctoral degree\", \"ProfBach\", \"other_career\"]:\n",
    "    df_entry_by_country[key] =  df_entry_by_country.apply(lambda x: x[key]*100/x[\"count\"], axis = 1 )\n",
    "\n",
    "df_entry_by_country = df_entry_by_country.round(2)\n",
    "\n",
    "# Replace some names so that a future conversion\n",
    "# to country codes does not have problems\n",
    "dict_replace_names = {'United Kingdom of Great Britain and Northern Ireland': 'United Kingdom',\n",
    "                     'United States of America':'United States',\n",
    "                     'Iran, Islamic Republic of...':'Iran',\n",
    "                     'Hong Kong (S.A.R.)':'Hong Kong',\n",
    "                     'South Korea': 'Korea, South',\n",
    "                     'Republic of Korea': 'Korea, North',\n",
    "                     'Viet Nam': 'Vietnam'}\n",
    "df_entry_by_country = df_entry_by_country.replace(dict_replace_names)\n",
    "\n",
    "# Remove the country entries that are not disclosed or listed.\n",
    "df_entry_by_country = df_entry_by_country[~df_entry_by_country[\"country\"].isin([\"Other\", \"I do not wish to disclose my location\"])]\n",
    "\n"
   ]
  },
  {
   "cell_type": "markdown",
   "metadata": {},
   "source": [
    "#### Associate country codes to the names for plotting"
   ]
  },
  {
   "cell_type": "code",
   "execution_count": 6,
   "metadata": {},
   "outputs": [],
   "source": [
    "# Download plotly data containing country-code relations\n",
    "df_country_code = pd.read_csv('https://raw.githubusercontent.com/plotly/datasets/master/2014_world_gdp_with_codes.csv')\n",
    "country_names = df_country_code[\"COUNTRY\"].values\n",
    "country_code = df_country_code[\"CODE\"].values\n",
    "\n",
    "# Create dictionary to easy access of code by indexing with the country name\n",
    "dict_country_code = {key: value for (key, value) in zip(country_names, country_code)}\n",
    "\n",
    "# Create an empty column in the df_entry_by_country dataframe\n",
    "# then fill it with the codes in dict_country_code\n",
    "df_entry_by_country[\"code\"] = df_entry_by_country.apply(lambda x: dict_country_code[x[\"country\"]], axis = 1)"
   ]
  },
  {
   "cell_type": "markdown",
   "metadata": {},
   "source": [
    "#### Specify the data and layout for the Plotly graphic"
   ]
  },
  {
   "cell_type": "code",
   "execution_count": 7,
   "metadata": {},
   "outputs": [
    {
     "data": {
      "application/vnd.plotly.v1+json": {
       "config": {
        "linkText": "Export to plot.ly",
        "plotlyServerURL": "https://plot.ly",
        "showLink": true
       },
       "data": [
        {
         "autocolorscale": true,
         "colorbar": {
          "autotick": true,
          "title": "Number of Entries"
         },
         "locations": [
          "IDN",
          "USA",
          "IND",
          "COL",
          "CHL",
          "HUN",
          "IRL",
          "ARG",
          "JPN",
          "NGA",
          "ESP",
          "IRN",
          "GBR",
          "TUR",
          "POL",
          "KEN",
          "DNK",
          "NLD",
          "CHN",
          "SWE",
          "UKR",
          "CAN",
          "AUS",
          "RUS",
          "AUT",
          "ITA",
          "MEX",
          "DEU",
          "SGP",
          "FRA",
          "BRA",
          "ZAF",
          "KOR",
          "MYS",
          "HKG",
          "EGY",
          "TUN",
          "PRT",
          "THA",
          "MAR",
          "PAK",
          "CZE",
          "ROU",
          "ISR",
          "CHE",
          "PHL",
          "BGD",
          "BLR",
          "VNM",
          "BEL",
          "NZL",
          "NOR",
          "FIN",
          "GRC",
          "PER",
          "PRK"
         ],
         "marker": {
          "line": {
           "color": "rgb(180,180,180)",
           "width": 0.5
          }
         },
         "reversescale": false,
         "text": [
          "Indonesia<br>Entries by Gender:<br>  *Female: 19.57%<br>  *Male: 78.26%<br>  *Other: 2.17%<br>Entries by Carrer:<br>  *Bachelor-Professional: 50.72%<br>  *Master's: 34.78%<br>  *Doctoral: 7.97%<br>  *Other: 6.52%<br>",
          "United States<br>Entries by Gender:<br>  *Female: 22.39%<br>  *Male: 75.62%<br>  *Other: 1.99%<br>Entries by Carrer:<br>  *Bachelor-Professional: 27.12%<br>  *Master's: 49.2%<br>  *Doctoral: 19.37%<br>  *Other: 4.31%<br>",
          "India<br>Entries by Gender:<br>  *Female: 13.06%<br>  *Male: 86.12%<br>  *Other: 0.82%<br>Entries by Carrer:<br>  *Bachelor-Professional: 53.17%<br>  *Master's: 36.99%<br>  *Doctoral: 5.73%<br>  *Other: 4.12%<br>",
          "Colombia<br>Entries by Gender:<br>  *Female: 12.28%<br>  *Male: 87.72%<br>  *Other: 0.0%<br>Entries by Carrer:<br>  *Bachelor-Professional: 36.84%<br>  *Master's: 48.25%<br>  *Doctoral: 8.77%<br>  *Other: 6.14%<br>",
          "Chile<br>Entries by Gender:<br>  *Female: 12.86%<br>  *Male: 87.14%<br>  *Other: 0.0%<br>Entries by Carrer:<br>  *Bachelor-Professional: 31.43%<br>  *Master's: 51.43%<br>  *Doctoral: 12.86%<br>  *Other: 4.29%<br>",
          "Hungary<br>Entries by Gender:<br>  *Female: 11.9%<br>  *Male: 88.1%<br>  *Other: 0.0%<br>Entries by Carrer:<br>  *Bachelor-Professional: 17.86%<br>  *Master's: 55.95%<br>  *Doctoral: 19.05%<br>  *Other: 7.14%<br>",
          "Ireland<br>Entries by Gender:<br>  *Female: 15.12%<br>  *Male: 84.88%<br>  *Other: 0.0%<br>Entries by Carrer:<br>  *Bachelor-Professional: 27.91%<br>  *Master's: 40.7%<br>  *Doctoral: 25.58%<br>  *Other: 5.81%<br>",
          "Argentina<br>Entries by Gender:<br>  *Female: 10.0%<br>  *Male: 87.27%<br>  *Other: 2.73%<br>Entries by Carrer:<br>  *Bachelor-Professional: 40.91%<br>  *Master's: 36.36%<br>  *Doctoral: 14.55%<br>  *Other: 8.18%<br>",
          "Japan<br>Entries by Gender:<br>  *Female: 5.07%<br>  *Male: 94.32%<br>  *Other: 0.61%<br>Entries by Carrer:<br>  *Bachelor-Professional: 25.76%<br>  *Master's: 50.1%<br>  *Doctoral: 12.98%<br>  *Other: 11.16%<br>",
          "Nigeria<br>Entries by Gender:<br>  *Female: 13.41%<br>  *Male: 86.59%<br>  *Other: 0.0%<br>Entries by Carrer:<br>  *Bachelor-Professional: 57.93%<br>  *Master's: 31.1%<br>  *Doctoral: 5.49%<br>  *Other: 5.49%<br>",
          "Spain<br>Entries by Gender:<br>  *Female: 15.12%<br>  *Male: 84.15%<br>  *Other: 0.73%<br>Entries by Carrer:<br>  *Bachelor-Professional: 18.05%<br>  *Master's: 59.27%<br>  *Doctoral: 18.05%<br>  *Other: 4.63%<br>",
          "Iran<br>Entries by Gender:<br>  *Female: 20.48%<br>  *Male: 79.52%<br>  *Other: 0.0%<br>Entries by Carrer:<br>  *Bachelor-Professional: 3.61%<br>  *Master's: 68.67%<br>  *Doctoral: 25.3%<br>  *Other: 2.41%<br>",
          "United Kingdom<br>Entries by Gender:<br>  *Female: 19.6%<br>  *Male: 78.39%<br>  *Other: 2.01%<br>Entries by Carrer:<br>  *Bachelor-Professional: 27.97%<br>  *Master's: 41.88%<br>  *Doctoral: 26.47%<br>  *Other: 3.69%<br>",
          "Turkey<br>Entries by Gender:<br>  *Female: 15.79%<br>  *Male: 83.08%<br>  *Other: 1.13%<br>Entries by Carrer:<br>  *Bachelor-Professional: 34.21%<br>  *Master's: 39.47%<br>  *Doctoral: 19.92%<br>  *Other: 6.39%<br>",
          "Poland<br>Entries by Gender:<br>  *Female: 18.01%<br>  *Male: 80.84%<br>  *Other: 1.15%<br>Entries by Carrer:<br>  *Bachelor-Professional: 16.09%<br>  *Master's: 62.45%<br>  *Doctoral: 16.48%<br>  *Other: 4.98%<br>",
          "Kenya<br>Entries by Gender:<br>  *Female: 22.22%<br>  *Male: 77.78%<br>  *Other: 0.0%<br>Entries by Carrer:<br>  *Bachelor-Professional: 52.78%<br>  *Master's: 37.5%<br>  *Doctoral: 2.78%<br>  *Other: 6.94%<br>",
          "Denmark<br>Entries by Gender:<br>  *Female: 6.52%<br>  *Male: 92.39%<br>  *Other: 1.09%<br>Entries by Carrer:<br>  *Bachelor-Professional: 16.3%<br>  *Master's: 57.61%<br>  *Doctoral: 22.83%<br>  *Other: 3.26%<br>",
          "Netherlands<br>Entries by Gender:<br>  *Female: 16.02%<br>  *Male: 82.25%<br>  *Other: 1.73%<br>Entries by Carrer:<br>  *Bachelor-Professional: 21.65%<br>  *Master's: 58.44%<br>  *Doctoral: 17.75%<br>  *Other: 2.16%<br>",
          "China<br>Entries by Gender:<br>  *Female: 15.44%<br>  *Male: 82.61%<br>  *Other: 1.96%<br>Entries by Carrer:<br>  *Bachelor-Professional: 24.85%<br>  *Master's: 54.44%<br>  *Doctoral: 11.67%<br>  *Other: 9.04%<br>",
          "Sweden<br>Entries by Gender:<br>  *Female: 15.79%<br>  *Male: 81.2%<br>  *Other: 3.01%<br>Entries by Carrer:<br>  *Bachelor-Professional: 12.78%<br>  *Master's: 59.4%<br>  *Doctoral: 22.56%<br>  *Other: 5.26%<br>",
          "Ukraine<br>Entries by Gender:<br>  *Female: 12.68%<br>  *Male: 85.85%<br>  *Other: 1.46%<br>Entries by Carrer:<br>  *Bachelor-Professional: 30.24%<br>  *Master's: 53.17%<br>  *Doctoral: 10.24%<br>  *Other: 6.34%<br>",
          "Canada<br>Entries by Gender:<br>  *Female: 19.08%<br>  *Male: 80.15%<br>  *Other: 0.76%<br>Entries by Carrer:<br>  *Bachelor-Professional: 39.5%<br>  *Master's: 40.27%<br>  *Doctoral: 17.18%<br>  *Other: 3.05%<br>",
          "Australia<br>Entries by Gender:<br>  *Female: 13.38%<br>  *Male: 84.86%<br>  *Other: 1.76%<br>Entries by Carrer:<br>  *Bachelor-Professional: 39.08%<br>  *Master's: 37.32%<br>  *Doctoral: 19.01%<br>  *Other: 4.58%<br>",
          "Russia<br>Entries by Gender:<br>  *Female: 12.89%<br>  *Male: 85.71%<br>  *Other: 1.4%<br>Entries by Carrer:<br>  *Bachelor-Professional: 28.43%<br>  *Master's: 50.98%<br>  *Doctoral: 12.04%<br>  *Other: 8.54%<br>",
          "Austria<br>Entries by Gender:<br>  *Female: 11.11%<br>  *Male: 88.89%<br>  *Other: 0.0%<br>Entries by Carrer:<br>  *Bachelor-Professional: 18.52%<br>  *Master's: 59.26%<br>  *Doctoral: 18.52%<br>  *Other: 3.7%<br>",
          "Italy<br>Entries by Gender:<br>  *Female: 12.11%<br>  *Male: 86.51%<br>  *Other: 1.38%<br>Entries by Carrer:<br>  *Bachelor-Professional: 20.07%<br>  *Master's: 51.56%<br>  *Doctoral: 23.18%<br>  *Other: 5.19%<br>",
          "Mexico<br>Entries by Gender:<br>  *Female: 15.22%<br>  *Male: 83.7%<br>  *Other: 1.09%<br>Entries by Carrer:<br>  *Bachelor-Professional: 38.04%<br>  *Master's: 37.5%<br>  *Doctoral: 19.02%<br>  *Other: 5.43%<br>",
          "Germany<br>Entries by Gender:<br>  *Female: 13.66%<br>  *Male: 85.09%<br>  *Other: 1.26%<br>Entries by Carrer:<br>  *Bachelor-Professional: 14.29%<br>  *Master's: 53.06%<br>  *Doctoral: 28.89%<br>  *Other: 3.77%<br>",
          "Singapore<br>Entries by Gender:<br>  *Female: 21.47%<br>  *Male: 76.69%<br>  *Other: 1.84%<br>Entries by Carrer:<br>  *Bachelor-Professional: 36.81%<br>  *Master's: 44.17%<br>  *Doctoral: 16.56%<br>  *Other: 2.45%<br>",
          "France<br>Entries by Gender:<br>  *Female: 17.02%<br>  *Male: 82.21%<br>  *Other: 0.77%<br>Entries by Carrer:<br>  *Bachelor-Professional: 5.8%<br>  *Master's: 69.83%<br>  *Doctoral: 23.21%<br>  *Other: 1.16%<br>",
          "Brazil<br>Entries by Gender:<br>  *Female: 7.91%<br>  *Male: 91.32%<br>  *Other: 0.78%<br>Entries by Carrer:<br>  *Bachelor-Professional: 41.55%<br>  *Master's: 37.52%<br>  *Doctoral: 13.95%<br>  *Other: 6.98%<br>",
          "South Africa<br>Entries by Gender:<br>  *Female: 20.0%<br>  *Male: 78.52%<br>  *Other: 1.48%<br>Entries by Carrer:<br>  *Bachelor-Professional: 35.56%<br>  *Master's: 50.37%<br>  *Doctoral: 7.41%<br>  *Other: 6.67%<br>",
          "Korea, South<br>Entries by Gender:<br>  *Female: 15.54%<br>  *Male: 84.46%<br>  *Other: 0.0%<br>Entries by Carrer:<br>  *Bachelor-Professional: 37.84%<br>  *Master's: 41.89%<br>  *Doctoral: 12.16%<br>  *Other: 8.11%<br>",
          "Malaysia<br>Entries by Gender:<br>  *Female: 23.76%<br>  *Male: 74.26%<br>  *Other: 1.98%<br>Entries by Carrer:<br>  *Bachelor-Professional: 46.53%<br>  *Master's: 33.66%<br>  *Doctoral: 15.84%<br>  *Other: 3.96%<br>",
          "Hong Kong<br>Entries by Gender:<br>  *Female: 13.04%<br>  *Male: 82.61%<br>  *Other: 4.35%<br>Entries by Carrer:<br>  *Bachelor-Professional: 43.48%<br>  *Master's: 43.48%<br>  *Doctoral: 13.04%<br>  *Other: 0.0%<br>",
          "Egypt<br>Entries by Gender:<br>  *Female: 26.25%<br>  *Male: 72.5%<br>  *Other: 1.25%<br>Entries by Carrer:<br>  *Bachelor-Professional: 50.0%<br>  *Master's: 27.5%<br>  *Doctoral: 10.0%<br>  *Other: 12.5%<br>",
          "Tunisia<br>Entries by Gender:<br>  *Female: 39.58%<br>  *Male: 60.42%<br>  *Other: 0.0%<br>Entries by Carrer:<br>  *Bachelor-Professional: 18.75%<br>  *Master's: 56.25%<br>  *Doctoral: 18.75%<br>  *Other: 6.25%<br>",
          "Portugal<br>Entries by Gender:<br>  *Female: 17.46%<br>  *Male: 82.54%<br>  *Other: 0.0%<br>Entries by Carrer:<br>  *Bachelor-Professional: 11.11%<br>  *Master's: 60.32%<br>  *Doctoral: 28.57%<br>  *Other: 0.0%<br>",
          "Thailand<br>Entries by Gender:<br>  *Female: 12.7%<br>  *Male: 85.71%<br>  *Other: 1.59%<br>Entries by Carrer:<br>  *Bachelor-Professional: 31.75%<br>  *Master's: 53.97%<br>  *Doctoral: 11.11%<br>  *Other: 3.17%<br>",
          "Morocco<br>Entries by Gender:<br>  *Female: 27.45%<br>  *Male: 72.55%<br>  *Other: 0.0%<br>Entries by Carrer:<br>  *Bachelor-Professional: 11.76%<br>  *Master's: 43.14%<br>  *Doctoral: 39.22%<br>  *Other: 5.88%<br>",
          "Pakistan<br>Entries by Gender:<br>  *Female: 16.42%<br>  *Male: 83.58%<br>  *Other: 0.0%<br>Entries by Carrer:<br>  *Bachelor-Professional: 35.07%<br>  *Master's: 48.51%<br>  *Doctoral: 12.69%<br>  *Other: 3.73%<br>",
          "Czech Republic<br>Entries by Gender:<br>  *Female: 4.69%<br>  *Male: 93.75%<br>  *Other: 1.56%<br>Entries by Carrer:<br>  *Bachelor-Professional: 10.94%<br>  *Master's: 57.81%<br>  *Doctoral: 21.88%<br>  *Other: 9.38%<br>",
          "Romania<br>Entries by Gender:<br>  *Female: 23.19%<br>  *Male: 76.81%<br>  *Other: 0.0%<br>Entries by Carrer:<br>  *Bachelor-Professional: 23.19%<br>  *Master's: 56.52%<br>  *Doctoral: 14.49%<br>  *Other: 5.8%<br>",
          "Israel<br>Entries by Gender:<br>  *Female: 15.17%<br>  *Male: 83.45%<br>  *Other: 1.38%<br>Entries by Carrer:<br>  *Bachelor-Professional: 24.14%<br>  *Master's: 57.24%<br>  *Doctoral: 15.17%<br>  *Other: 3.45%<br>",
          "Switzerland<br>Entries by Gender:<br>  *Female: 12.41%<br>  *Male: 85.4%<br>  *Other: 2.19%<br>Entries by Carrer:<br>  *Bachelor-Professional: 13.87%<br>  *Master's: 54.74%<br>  *Doctoral: 30.66%<br>  *Other: 0.73%<br>",
          "Philippines<br>Entries by Gender:<br>  *Female: 20.0%<br>  *Male: 76.92%<br>  *Other: 3.08%<br>Entries by Carrer:<br>  *Bachelor-Professional: 44.62%<br>  *Master's: 46.15%<br>  *Doctoral: 3.08%<br>  *Other: 6.15%<br>",
          "Bangladesh<br>Entries by Gender:<br>  *Female: 7.5%<br>  *Male: 92.5%<br>  *Other: 0.0%<br>Entries by Carrer:<br>  *Bachelor-Professional: 42.5%<br>  *Master's: 43.75%<br>  *Doctoral: 3.75%<br>  *Other: 10.0%<br>",
          "Belarus<br>Entries by Gender:<br>  *Female: 15.79%<br>  *Male: 84.21%<br>  *Other: 0.0%<br>Entries by Carrer:<br>  *Bachelor-Professional: 31.58%<br>  *Master's: 51.32%<br>  *Doctoral: 7.89%<br>  *Other: 9.21%<br>",
          "Vietnam<br>Entries by Gender:<br>  *Female: 14.73%<br>  *Male: 84.5%<br>  *Other: 0.78%<br>Entries by Carrer:<br>  *Bachelor-Professional: 54.26%<br>  *Master's: 31.78%<br>  *Doctoral: 5.43%<br>  *Other: 8.53%<br>",
          "Belgium<br>Entries by Gender:<br>  *Female: 8.42%<br>  *Male: 90.53%<br>  *Other: 1.05%<br>Entries by Carrer:<br>  *Bachelor-Professional: 9.47%<br>  *Master's: 70.53%<br>  *Doctoral: 17.89%<br>  *Other: 2.11%<br>",
          "New Zealand<br>Entries by Gender:<br>  *Female: 17.91%<br>  *Male: 80.6%<br>  *Other: 1.49%<br>Entries by Carrer:<br>  *Bachelor-Professional: 32.84%<br>  *Master's: 41.79%<br>  *Doctoral: 20.9%<br>  *Other: 4.48%<br>",
          "Norway<br>Entries by Gender:<br>  *Female: 10.77%<br>  *Male: 86.15%<br>  *Other: 3.08%<br>Entries by Carrer:<br>  *Bachelor-Professional: 15.38%<br>  *Master's: 56.92%<br>  *Doctoral: 20.0%<br>  *Other: 7.69%<br>",
          "Finland<br>Entries by Gender:<br>  *Female: 6.35%<br>  *Male: 87.3%<br>  *Other: 6.35%<br>Entries by Carrer:<br>  *Bachelor-Professional: 14.29%<br>  *Master's: 53.97%<br>  *Doctoral: 26.98%<br>  *Other: 4.76%<br>",
          "Greece<br>Entries by Gender:<br>  *Female: 17.65%<br>  *Male: 81.37%<br>  *Other: 0.98%<br>Entries by Carrer:<br>  *Bachelor-Professional: 15.69%<br>  *Master's: 60.78%<br>  *Doctoral: 21.57%<br>  *Other: 1.96%<br>",
          "Peru<br>Entries by Gender:<br>  *Female: 14.86%<br>  *Male: 85.14%<br>  *Other: 0.0%<br>Entries by Carrer:<br>  *Bachelor-Professional: 39.19%<br>  *Master's: 40.54%<br>  *Doctoral: 6.76%<br>  *Other: 13.51%<br>",
          "Korea, North<br>Entries by Gender:<br>  *Female: 7.02%<br>  *Male: 91.23%<br>  *Other: 1.75%<br>Entries by Carrer:<br>  *Bachelor-Professional: 43.86%<br>  *Master's: 33.33%<br>  *Doctoral: 15.79%<br>  *Other: 7.02%<br>"
         ],
         "type": "choropleth",
         "z": [
          138,
          4126,
          3423,
          114,
          70,
          84,
          86,
          110,
          493,
          164,
          410,
          83,
          597,
          266,
          261,
          72,
          92,
          231,
          1328,
          133,
          205,
          524,
          284,
          714,
          54,
          289,
          184,
          637,
          163,
          517,
          645,
          135,
          148,
          101,
          69,
          80,
          48,
          126,
          63,
          51,
          134,
          64,
          69,
          145,
          137,
          65,
          80,
          76,
          129,
          95,
          67,
          65,
          63,
          102,
          74,
          57
         ]
        }
       ],
       "layout": {
        "geo": {
         "projection": {
          "type": "natural earth"
         },
         "showcoastlines": true,
         "showframe": false
        },
        "title": "Kaggle 2018 Survey"
       }
      },
      "text/html": [
       "<div id=\"898d9726-c253-4db2-aa81-9a6189bd80a9\" style=\"height: 525px; width: 100%;\" class=\"plotly-graph-div\"></div><script type=\"text/javascript\">require([\"plotly\"], function(Plotly) { window.PLOTLYENV=window.PLOTLYENV || {};window.PLOTLYENV.BASE_URL=\"https://plot.ly\";Plotly.newPlot(\"898d9726-c253-4db2-aa81-9a6189bd80a9\", [{\"type\": \"choropleth\", \"locations\": [\"IDN\", \"USA\", \"IND\", \"COL\", \"CHL\", \"HUN\", \"IRL\", \"ARG\", \"JPN\", \"NGA\", \"ESP\", \"IRN\", \"GBR\", \"TUR\", \"POL\", \"KEN\", \"DNK\", \"NLD\", \"CHN\", \"SWE\", \"UKR\", \"CAN\", \"AUS\", \"RUS\", \"AUT\", \"ITA\", \"MEX\", \"DEU\", \"SGP\", \"FRA\", \"BRA\", \"ZAF\", \"KOR\", \"MYS\", \"HKG\", \"EGY\", \"TUN\", \"PRT\", \"THA\", \"MAR\", \"PAK\", \"CZE\", \"ROU\", \"ISR\", \"CHE\", \"PHL\", \"BGD\", \"BLR\", \"VNM\", \"BEL\", \"NZL\", \"NOR\", \"FIN\", \"GRC\", \"PER\", \"PRK\"], \"z\": [138, 4126, 3423, 114, 70, 84, 86, 110, 493, 164, 410, 83, 597, 266, 261, 72, 92, 231, 1328, 133, 205, 524, 284, 714, 54, 289, 184, 637, 163, 517, 645, 135, 148, 101, 69, 80, 48, 126, 63, 51, 134, 64, 69, 145, 137, 65, 80, 76, 129, 95, 67, 65, 63, 102, 74, 57], \"text\": [\"Indonesia<br>Entries by Gender:<br>  *Female: 19.57%<br>  *Male: 78.26%<br>  *Other: 2.17%<br>Entries by Carrer:<br>  *Bachelor-Professional: 50.72%<br>  *Master's: 34.78%<br>  *Doctoral: 7.97%<br>  *Other: 6.52%<br>\", \"United States<br>Entries by Gender:<br>  *Female: 22.39%<br>  *Male: 75.62%<br>  *Other: 1.99%<br>Entries by Carrer:<br>  *Bachelor-Professional: 27.12%<br>  *Master's: 49.2%<br>  *Doctoral: 19.37%<br>  *Other: 4.31%<br>\", \"India<br>Entries by Gender:<br>  *Female: 13.06%<br>  *Male: 86.12%<br>  *Other: 0.82%<br>Entries by Carrer:<br>  *Bachelor-Professional: 53.17%<br>  *Master's: 36.99%<br>  *Doctoral: 5.73%<br>  *Other: 4.12%<br>\", \"Colombia<br>Entries by Gender:<br>  *Female: 12.28%<br>  *Male: 87.72%<br>  *Other: 0.0%<br>Entries by Carrer:<br>  *Bachelor-Professional: 36.84%<br>  *Master's: 48.25%<br>  *Doctoral: 8.77%<br>  *Other: 6.14%<br>\", \"Chile<br>Entries by Gender:<br>  *Female: 12.86%<br>  *Male: 87.14%<br>  *Other: 0.0%<br>Entries by Carrer:<br>  *Bachelor-Professional: 31.43%<br>  *Master's: 51.43%<br>  *Doctoral: 12.86%<br>  *Other: 4.29%<br>\", \"Hungary<br>Entries by Gender:<br>  *Female: 11.9%<br>  *Male: 88.1%<br>  *Other: 0.0%<br>Entries by Carrer:<br>  *Bachelor-Professional: 17.86%<br>  *Master's: 55.95%<br>  *Doctoral: 19.05%<br>  *Other: 7.14%<br>\", \"Ireland<br>Entries by Gender:<br>  *Female: 15.12%<br>  *Male: 84.88%<br>  *Other: 0.0%<br>Entries by Carrer:<br>  *Bachelor-Professional: 27.91%<br>  *Master's: 40.7%<br>  *Doctoral: 25.58%<br>  *Other: 5.81%<br>\", \"Argentina<br>Entries by Gender:<br>  *Female: 10.0%<br>  *Male: 87.27%<br>  *Other: 2.73%<br>Entries by Carrer:<br>  *Bachelor-Professional: 40.91%<br>  *Master's: 36.36%<br>  *Doctoral: 14.55%<br>  *Other: 8.18%<br>\", \"Japan<br>Entries by Gender:<br>  *Female: 5.07%<br>  *Male: 94.32%<br>  *Other: 0.61%<br>Entries by Carrer:<br>  *Bachelor-Professional: 25.76%<br>  *Master's: 50.1%<br>  *Doctoral: 12.98%<br>  *Other: 11.16%<br>\", \"Nigeria<br>Entries by Gender:<br>  *Female: 13.41%<br>  *Male: 86.59%<br>  *Other: 0.0%<br>Entries by Carrer:<br>  *Bachelor-Professional: 57.93%<br>  *Master's: 31.1%<br>  *Doctoral: 5.49%<br>  *Other: 5.49%<br>\", \"Spain<br>Entries by Gender:<br>  *Female: 15.12%<br>  *Male: 84.15%<br>  *Other: 0.73%<br>Entries by Carrer:<br>  *Bachelor-Professional: 18.05%<br>  *Master's: 59.27%<br>  *Doctoral: 18.05%<br>  *Other: 4.63%<br>\", \"Iran<br>Entries by Gender:<br>  *Female: 20.48%<br>  *Male: 79.52%<br>  *Other: 0.0%<br>Entries by Carrer:<br>  *Bachelor-Professional: 3.61%<br>  *Master's: 68.67%<br>  *Doctoral: 25.3%<br>  *Other: 2.41%<br>\", \"United Kingdom<br>Entries by Gender:<br>  *Female: 19.6%<br>  *Male: 78.39%<br>  *Other: 2.01%<br>Entries by Carrer:<br>  *Bachelor-Professional: 27.97%<br>  *Master's: 41.88%<br>  *Doctoral: 26.47%<br>  *Other: 3.69%<br>\", \"Turkey<br>Entries by Gender:<br>  *Female: 15.79%<br>  *Male: 83.08%<br>  *Other: 1.13%<br>Entries by Carrer:<br>  *Bachelor-Professional: 34.21%<br>  *Master's: 39.47%<br>  *Doctoral: 19.92%<br>  *Other: 6.39%<br>\", \"Poland<br>Entries by Gender:<br>  *Female: 18.01%<br>  *Male: 80.84%<br>  *Other: 1.15%<br>Entries by Carrer:<br>  *Bachelor-Professional: 16.09%<br>  *Master's: 62.45%<br>  *Doctoral: 16.48%<br>  *Other: 4.98%<br>\", \"Kenya<br>Entries by Gender:<br>  *Female: 22.22%<br>  *Male: 77.78%<br>  *Other: 0.0%<br>Entries by Carrer:<br>  *Bachelor-Professional: 52.78%<br>  *Master's: 37.5%<br>  *Doctoral: 2.78%<br>  *Other: 6.94%<br>\", \"Denmark<br>Entries by Gender:<br>  *Female: 6.52%<br>  *Male: 92.39%<br>  *Other: 1.09%<br>Entries by Carrer:<br>  *Bachelor-Professional: 16.3%<br>  *Master's: 57.61%<br>  *Doctoral: 22.83%<br>  *Other: 3.26%<br>\", \"Netherlands<br>Entries by Gender:<br>  *Female: 16.02%<br>  *Male: 82.25%<br>  *Other: 1.73%<br>Entries by Carrer:<br>  *Bachelor-Professional: 21.65%<br>  *Master's: 58.44%<br>  *Doctoral: 17.75%<br>  *Other: 2.16%<br>\", \"China<br>Entries by Gender:<br>  *Female: 15.44%<br>  *Male: 82.61%<br>  *Other: 1.96%<br>Entries by Carrer:<br>  *Bachelor-Professional: 24.85%<br>  *Master's: 54.44%<br>  *Doctoral: 11.67%<br>  *Other: 9.04%<br>\", \"Sweden<br>Entries by Gender:<br>  *Female: 15.79%<br>  *Male: 81.2%<br>  *Other: 3.01%<br>Entries by Carrer:<br>  *Bachelor-Professional: 12.78%<br>  *Master's: 59.4%<br>  *Doctoral: 22.56%<br>  *Other: 5.26%<br>\", \"Ukraine<br>Entries by Gender:<br>  *Female: 12.68%<br>  *Male: 85.85%<br>  *Other: 1.46%<br>Entries by Carrer:<br>  *Bachelor-Professional: 30.24%<br>  *Master's: 53.17%<br>  *Doctoral: 10.24%<br>  *Other: 6.34%<br>\", \"Canada<br>Entries by Gender:<br>  *Female: 19.08%<br>  *Male: 80.15%<br>  *Other: 0.76%<br>Entries by Carrer:<br>  *Bachelor-Professional: 39.5%<br>  *Master's: 40.27%<br>  *Doctoral: 17.18%<br>  *Other: 3.05%<br>\", \"Australia<br>Entries by Gender:<br>  *Female: 13.38%<br>  *Male: 84.86%<br>  *Other: 1.76%<br>Entries by Carrer:<br>  *Bachelor-Professional: 39.08%<br>  *Master's: 37.32%<br>  *Doctoral: 19.01%<br>  *Other: 4.58%<br>\", \"Russia<br>Entries by Gender:<br>  *Female: 12.89%<br>  *Male: 85.71%<br>  *Other: 1.4%<br>Entries by Carrer:<br>  *Bachelor-Professional: 28.43%<br>  *Master's: 50.98%<br>  *Doctoral: 12.04%<br>  *Other: 8.54%<br>\", \"Austria<br>Entries by Gender:<br>  *Female: 11.11%<br>  *Male: 88.89%<br>  *Other: 0.0%<br>Entries by Carrer:<br>  *Bachelor-Professional: 18.52%<br>  *Master's: 59.26%<br>  *Doctoral: 18.52%<br>  *Other: 3.7%<br>\", \"Italy<br>Entries by Gender:<br>  *Female: 12.11%<br>  *Male: 86.51%<br>  *Other: 1.38%<br>Entries by Carrer:<br>  *Bachelor-Professional: 20.07%<br>  *Master's: 51.56%<br>  *Doctoral: 23.18%<br>  *Other: 5.19%<br>\", \"Mexico<br>Entries by Gender:<br>  *Female: 15.22%<br>  *Male: 83.7%<br>  *Other: 1.09%<br>Entries by Carrer:<br>  *Bachelor-Professional: 38.04%<br>  *Master's: 37.5%<br>  *Doctoral: 19.02%<br>  *Other: 5.43%<br>\", \"Germany<br>Entries by Gender:<br>  *Female: 13.66%<br>  *Male: 85.09%<br>  *Other: 1.26%<br>Entries by Carrer:<br>  *Bachelor-Professional: 14.29%<br>  *Master's: 53.06%<br>  *Doctoral: 28.89%<br>  *Other: 3.77%<br>\", \"Singapore<br>Entries by Gender:<br>  *Female: 21.47%<br>  *Male: 76.69%<br>  *Other: 1.84%<br>Entries by Carrer:<br>  *Bachelor-Professional: 36.81%<br>  *Master's: 44.17%<br>  *Doctoral: 16.56%<br>  *Other: 2.45%<br>\", \"France<br>Entries by Gender:<br>  *Female: 17.02%<br>  *Male: 82.21%<br>  *Other: 0.77%<br>Entries by Carrer:<br>  *Bachelor-Professional: 5.8%<br>  *Master's: 69.83%<br>  *Doctoral: 23.21%<br>  *Other: 1.16%<br>\", \"Brazil<br>Entries by Gender:<br>  *Female: 7.91%<br>  *Male: 91.32%<br>  *Other: 0.78%<br>Entries by Carrer:<br>  *Bachelor-Professional: 41.55%<br>  *Master's: 37.52%<br>  *Doctoral: 13.95%<br>  *Other: 6.98%<br>\", \"South Africa<br>Entries by Gender:<br>  *Female: 20.0%<br>  *Male: 78.52%<br>  *Other: 1.48%<br>Entries by Carrer:<br>  *Bachelor-Professional: 35.56%<br>  *Master's: 50.37%<br>  *Doctoral: 7.41%<br>  *Other: 6.67%<br>\", \"Korea, South<br>Entries by Gender:<br>  *Female: 15.54%<br>  *Male: 84.46%<br>  *Other: 0.0%<br>Entries by Carrer:<br>  *Bachelor-Professional: 37.84%<br>  *Master's: 41.89%<br>  *Doctoral: 12.16%<br>  *Other: 8.11%<br>\", \"Malaysia<br>Entries by Gender:<br>  *Female: 23.76%<br>  *Male: 74.26%<br>  *Other: 1.98%<br>Entries by Carrer:<br>  *Bachelor-Professional: 46.53%<br>  *Master's: 33.66%<br>  *Doctoral: 15.84%<br>  *Other: 3.96%<br>\", \"Hong Kong<br>Entries by Gender:<br>  *Female: 13.04%<br>  *Male: 82.61%<br>  *Other: 4.35%<br>Entries by Carrer:<br>  *Bachelor-Professional: 43.48%<br>  *Master's: 43.48%<br>  *Doctoral: 13.04%<br>  *Other: 0.0%<br>\", \"Egypt<br>Entries by Gender:<br>  *Female: 26.25%<br>  *Male: 72.5%<br>  *Other: 1.25%<br>Entries by Carrer:<br>  *Bachelor-Professional: 50.0%<br>  *Master's: 27.5%<br>  *Doctoral: 10.0%<br>  *Other: 12.5%<br>\", \"Tunisia<br>Entries by Gender:<br>  *Female: 39.58%<br>  *Male: 60.42%<br>  *Other: 0.0%<br>Entries by Carrer:<br>  *Bachelor-Professional: 18.75%<br>  *Master's: 56.25%<br>  *Doctoral: 18.75%<br>  *Other: 6.25%<br>\", \"Portugal<br>Entries by Gender:<br>  *Female: 17.46%<br>  *Male: 82.54%<br>  *Other: 0.0%<br>Entries by Carrer:<br>  *Bachelor-Professional: 11.11%<br>  *Master's: 60.32%<br>  *Doctoral: 28.57%<br>  *Other: 0.0%<br>\", \"Thailand<br>Entries by Gender:<br>  *Female: 12.7%<br>  *Male: 85.71%<br>  *Other: 1.59%<br>Entries by Carrer:<br>  *Bachelor-Professional: 31.75%<br>  *Master's: 53.97%<br>  *Doctoral: 11.11%<br>  *Other: 3.17%<br>\", \"Morocco<br>Entries by Gender:<br>  *Female: 27.45%<br>  *Male: 72.55%<br>  *Other: 0.0%<br>Entries by Carrer:<br>  *Bachelor-Professional: 11.76%<br>  *Master's: 43.14%<br>  *Doctoral: 39.22%<br>  *Other: 5.88%<br>\", \"Pakistan<br>Entries by Gender:<br>  *Female: 16.42%<br>  *Male: 83.58%<br>  *Other: 0.0%<br>Entries by Carrer:<br>  *Bachelor-Professional: 35.07%<br>  *Master's: 48.51%<br>  *Doctoral: 12.69%<br>  *Other: 3.73%<br>\", \"Czech Republic<br>Entries by Gender:<br>  *Female: 4.69%<br>  *Male: 93.75%<br>  *Other: 1.56%<br>Entries by Carrer:<br>  *Bachelor-Professional: 10.94%<br>  *Master's: 57.81%<br>  *Doctoral: 21.88%<br>  *Other: 9.38%<br>\", \"Romania<br>Entries by Gender:<br>  *Female: 23.19%<br>  *Male: 76.81%<br>  *Other: 0.0%<br>Entries by Carrer:<br>  *Bachelor-Professional: 23.19%<br>  *Master's: 56.52%<br>  *Doctoral: 14.49%<br>  *Other: 5.8%<br>\", \"Israel<br>Entries by Gender:<br>  *Female: 15.17%<br>  *Male: 83.45%<br>  *Other: 1.38%<br>Entries by Carrer:<br>  *Bachelor-Professional: 24.14%<br>  *Master's: 57.24%<br>  *Doctoral: 15.17%<br>  *Other: 3.45%<br>\", \"Switzerland<br>Entries by Gender:<br>  *Female: 12.41%<br>  *Male: 85.4%<br>  *Other: 2.19%<br>Entries by Carrer:<br>  *Bachelor-Professional: 13.87%<br>  *Master's: 54.74%<br>  *Doctoral: 30.66%<br>  *Other: 0.73%<br>\", \"Philippines<br>Entries by Gender:<br>  *Female: 20.0%<br>  *Male: 76.92%<br>  *Other: 3.08%<br>Entries by Carrer:<br>  *Bachelor-Professional: 44.62%<br>  *Master's: 46.15%<br>  *Doctoral: 3.08%<br>  *Other: 6.15%<br>\", \"Bangladesh<br>Entries by Gender:<br>  *Female: 7.5%<br>  *Male: 92.5%<br>  *Other: 0.0%<br>Entries by Carrer:<br>  *Bachelor-Professional: 42.5%<br>  *Master's: 43.75%<br>  *Doctoral: 3.75%<br>  *Other: 10.0%<br>\", \"Belarus<br>Entries by Gender:<br>  *Female: 15.79%<br>  *Male: 84.21%<br>  *Other: 0.0%<br>Entries by Carrer:<br>  *Bachelor-Professional: 31.58%<br>  *Master's: 51.32%<br>  *Doctoral: 7.89%<br>  *Other: 9.21%<br>\", \"Vietnam<br>Entries by Gender:<br>  *Female: 14.73%<br>  *Male: 84.5%<br>  *Other: 0.78%<br>Entries by Carrer:<br>  *Bachelor-Professional: 54.26%<br>  *Master's: 31.78%<br>  *Doctoral: 5.43%<br>  *Other: 8.53%<br>\", \"Belgium<br>Entries by Gender:<br>  *Female: 8.42%<br>  *Male: 90.53%<br>  *Other: 1.05%<br>Entries by Carrer:<br>  *Bachelor-Professional: 9.47%<br>  *Master's: 70.53%<br>  *Doctoral: 17.89%<br>  *Other: 2.11%<br>\", \"New Zealand<br>Entries by Gender:<br>  *Female: 17.91%<br>  *Male: 80.6%<br>  *Other: 1.49%<br>Entries by Carrer:<br>  *Bachelor-Professional: 32.84%<br>  *Master's: 41.79%<br>  *Doctoral: 20.9%<br>  *Other: 4.48%<br>\", \"Norway<br>Entries by Gender:<br>  *Female: 10.77%<br>  *Male: 86.15%<br>  *Other: 3.08%<br>Entries by Carrer:<br>  *Bachelor-Professional: 15.38%<br>  *Master's: 56.92%<br>  *Doctoral: 20.0%<br>  *Other: 7.69%<br>\", \"Finland<br>Entries by Gender:<br>  *Female: 6.35%<br>  *Male: 87.3%<br>  *Other: 6.35%<br>Entries by Carrer:<br>  *Bachelor-Professional: 14.29%<br>  *Master's: 53.97%<br>  *Doctoral: 26.98%<br>  *Other: 4.76%<br>\", \"Greece<br>Entries by Gender:<br>  *Female: 17.65%<br>  *Male: 81.37%<br>  *Other: 0.98%<br>Entries by Carrer:<br>  *Bachelor-Professional: 15.69%<br>  *Master's: 60.78%<br>  *Doctoral: 21.57%<br>  *Other: 1.96%<br>\", \"Peru<br>Entries by Gender:<br>  *Female: 14.86%<br>  *Male: 85.14%<br>  *Other: 0.0%<br>Entries by Carrer:<br>  *Bachelor-Professional: 39.19%<br>  *Master's: 40.54%<br>  *Doctoral: 6.76%<br>  *Other: 13.51%<br>\", \"Korea, North<br>Entries by Gender:<br>  *Female: 7.02%<br>  *Male: 91.23%<br>  *Other: 1.75%<br>Entries by Carrer:<br>  *Bachelor-Professional: 43.86%<br>  *Master's: 33.33%<br>  *Doctoral: 15.79%<br>  *Other: 7.02%<br>\"], \"autocolorscale\": true, \"reversescale\": false, \"marker\": {\"line\": {\"color\": \"rgb(180,180,180)\", \"width\": 0.5}}, \"colorbar\": {\"autotick\": true, \"title\": \"Number of Entries\"}}], {\"title\": \"Kaggle 2018 Survey\", \"geo\": {\"showframe\": false, \"showcoastlines\": true, \"projection\": {\"type\": \"natural earth\"}}}, {\"showLink\": true, \"linkText\": \"Export to plot.ly\", \"plotlyServerURL\": \"https://plot.ly\"})});</script><script type=\"text/javascript\">window.addEventListener(\"resize\", function(){window._Plotly.Plots.resize(document.getElementById(\"898d9726-c253-4db2-aa81-9a6189bd80a9\"));});</script>"
      ],
      "text/vnd.plotly.v1+html": [
       "<div id=\"898d9726-c253-4db2-aa81-9a6189bd80a9\" style=\"height: 525px; width: 100%;\" class=\"plotly-graph-div\"></div><script type=\"text/javascript\">require([\"plotly\"], function(Plotly) { window.PLOTLYENV=window.PLOTLYENV || {};window.PLOTLYENV.BASE_URL=\"https://plot.ly\";Plotly.newPlot(\"898d9726-c253-4db2-aa81-9a6189bd80a9\", [{\"type\": \"choropleth\", \"locations\": [\"IDN\", \"USA\", \"IND\", \"COL\", \"CHL\", \"HUN\", \"IRL\", \"ARG\", \"JPN\", \"NGA\", \"ESP\", \"IRN\", \"GBR\", \"TUR\", \"POL\", \"KEN\", \"DNK\", \"NLD\", \"CHN\", \"SWE\", \"UKR\", \"CAN\", \"AUS\", \"RUS\", \"AUT\", \"ITA\", \"MEX\", \"DEU\", \"SGP\", \"FRA\", \"BRA\", \"ZAF\", \"KOR\", \"MYS\", \"HKG\", \"EGY\", \"TUN\", \"PRT\", \"THA\", \"MAR\", \"PAK\", \"CZE\", \"ROU\", \"ISR\", \"CHE\", \"PHL\", \"BGD\", \"BLR\", \"VNM\", \"BEL\", \"NZL\", \"NOR\", \"FIN\", \"GRC\", \"PER\", \"PRK\"], \"z\": [138, 4126, 3423, 114, 70, 84, 86, 110, 493, 164, 410, 83, 597, 266, 261, 72, 92, 231, 1328, 133, 205, 524, 284, 714, 54, 289, 184, 637, 163, 517, 645, 135, 148, 101, 69, 80, 48, 126, 63, 51, 134, 64, 69, 145, 137, 65, 80, 76, 129, 95, 67, 65, 63, 102, 74, 57], \"text\": [\"Indonesia<br>Entries by Gender:<br>  *Female: 19.57%<br>  *Male: 78.26%<br>  *Other: 2.17%<br>Entries by Carrer:<br>  *Bachelor-Professional: 50.72%<br>  *Master's: 34.78%<br>  *Doctoral: 7.97%<br>  *Other: 6.52%<br>\", \"United States<br>Entries by Gender:<br>  *Female: 22.39%<br>  *Male: 75.62%<br>  *Other: 1.99%<br>Entries by Carrer:<br>  *Bachelor-Professional: 27.12%<br>  *Master's: 49.2%<br>  *Doctoral: 19.37%<br>  *Other: 4.31%<br>\", \"India<br>Entries by Gender:<br>  *Female: 13.06%<br>  *Male: 86.12%<br>  *Other: 0.82%<br>Entries by Carrer:<br>  *Bachelor-Professional: 53.17%<br>  *Master's: 36.99%<br>  *Doctoral: 5.73%<br>  *Other: 4.12%<br>\", \"Colombia<br>Entries by Gender:<br>  *Female: 12.28%<br>  *Male: 87.72%<br>  *Other: 0.0%<br>Entries by Carrer:<br>  *Bachelor-Professional: 36.84%<br>  *Master's: 48.25%<br>  *Doctoral: 8.77%<br>  *Other: 6.14%<br>\", \"Chile<br>Entries by Gender:<br>  *Female: 12.86%<br>  *Male: 87.14%<br>  *Other: 0.0%<br>Entries by Carrer:<br>  *Bachelor-Professional: 31.43%<br>  *Master's: 51.43%<br>  *Doctoral: 12.86%<br>  *Other: 4.29%<br>\", \"Hungary<br>Entries by Gender:<br>  *Female: 11.9%<br>  *Male: 88.1%<br>  *Other: 0.0%<br>Entries by Carrer:<br>  *Bachelor-Professional: 17.86%<br>  *Master's: 55.95%<br>  *Doctoral: 19.05%<br>  *Other: 7.14%<br>\", \"Ireland<br>Entries by Gender:<br>  *Female: 15.12%<br>  *Male: 84.88%<br>  *Other: 0.0%<br>Entries by Carrer:<br>  *Bachelor-Professional: 27.91%<br>  *Master's: 40.7%<br>  *Doctoral: 25.58%<br>  *Other: 5.81%<br>\", \"Argentina<br>Entries by Gender:<br>  *Female: 10.0%<br>  *Male: 87.27%<br>  *Other: 2.73%<br>Entries by Carrer:<br>  *Bachelor-Professional: 40.91%<br>  *Master's: 36.36%<br>  *Doctoral: 14.55%<br>  *Other: 8.18%<br>\", \"Japan<br>Entries by Gender:<br>  *Female: 5.07%<br>  *Male: 94.32%<br>  *Other: 0.61%<br>Entries by Carrer:<br>  *Bachelor-Professional: 25.76%<br>  *Master's: 50.1%<br>  *Doctoral: 12.98%<br>  *Other: 11.16%<br>\", \"Nigeria<br>Entries by Gender:<br>  *Female: 13.41%<br>  *Male: 86.59%<br>  *Other: 0.0%<br>Entries by Carrer:<br>  *Bachelor-Professional: 57.93%<br>  *Master's: 31.1%<br>  *Doctoral: 5.49%<br>  *Other: 5.49%<br>\", \"Spain<br>Entries by Gender:<br>  *Female: 15.12%<br>  *Male: 84.15%<br>  *Other: 0.73%<br>Entries by Carrer:<br>  *Bachelor-Professional: 18.05%<br>  *Master's: 59.27%<br>  *Doctoral: 18.05%<br>  *Other: 4.63%<br>\", \"Iran<br>Entries by Gender:<br>  *Female: 20.48%<br>  *Male: 79.52%<br>  *Other: 0.0%<br>Entries by Carrer:<br>  *Bachelor-Professional: 3.61%<br>  *Master's: 68.67%<br>  *Doctoral: 25.3%<br>  *Other: 2.41%<br>\", \"United Kingdom<br>Entries by Gender:<br>  *Female: 19.6%<br>  *Male: 78.39%<br>  *Other: 2.01%<br>Entries by Carrer:<br>  *Bachelor-Professional: 27.97%<br>  *Master's: 41.88%<br>  *Doctoral: 26.47%<br>  *Other: 3.69%<br>\", \"Turkey<br>Entries by Gender:<br>  *Female: 15.79%<br>  *Male: 83.08%<br>  *Other: 1.13%<br>Entries by Carrer:<br>  *Bachelor-Professional: 34.21%<br>  *Master's: 39.47%<br>  *Doctoral: 19.92%<br>  *Other: 6.39%<br>\", \"Poland<br>Entries by Gender:<br>  *Female: 18.01%<br>  *Male: 80.84%<br>  *Other: 1.15%<br>Entries by Carrer:<br>  *Bachelor-Professional: 16.09%<br>  *Master's: 62.45%<br>  *Doctoral: 16.48%<br>  *Other: 4.98%<br>\", \"Kenya<br>Entries by Gender:<br>  *Female: 22.22%<br>  *Male: 77.78%<br>  *Other: 0.0%<br>Entries by Carrer:<br>  *Bachelor-Professional: 52.78%<br>  *Master's: 37.5%<br>  *Doctoral: 2.78%<br>  *Other: 6.94%<br>\", \"Denmark<br>Entries by Gender:<br>  *Female: 6.52%<br>  *Male: 92.39%<br>  *Other: 1.09%<br>Entries by Carrer:<br>  *Bachelor-Professional: 16.3%<br>  *Master's: 57.61%<br>  *Doctoral: 22.83%<br>  *Other: 3.26%<br>\", \"Netherlands<br>Entries by Gender:<br>  *Female: 16.02%<br>  *Male: 82.25%<br>  *Other: 1.73%<br>Entries by Carrer:<br>  *Bachelor-Professional: 21.65%<br>  *Master's: 58.44%<br>  *Doctoral: 17.75%<br>  *Other: 2.16%<br>\", \"China<br>Entries by Gender:<br>  *Female: 15.44%<br>  *Male: 82.61%<br>  *Other: 1.96%<br>Entries by Carrer:<br>  *Bachelor-Professional: 24.85%<br>  *Master's: 54.44%<br>  *Doctoral: 11.67%<br>  *Other: 9.04%<br>\", \"Sweden<br>Entries by Gender:<br>  *Female: 15.79%<br>  *Male: 81.2%<br>  *Other: 3.01%<br>Entries by Carrer:<br>  *Bachelor-Professional: 12.78%<br>  *Master's: 59.4%<br>  *Doctoral: 22.56%<br>  *Other: 5.26%<br>\", \"Ukraine<br>Entries by Gender:<br>  *Female: 12.68%<br>  *Male: 85.85%<br>  *Other: 1.46%<br>Entries by Carrer:<br>  *Bachelor-Professional: 30.24%<br>  *Master's: 53.17%<br>  *Doctoral: 10.24%<br>  *Other: 6.34%<br>\", \"Canada<br>Entries by Gender:<br>  *Female: 19.08%<br>  *Male: 80.15%<br>  *Other: 0.76%<br>Entries by Carrer:<br>  *Bachelor-Professional: 39.5%<br>  *Master's: 40.27%<br>  *Doctoral: 17.18%<br>  *Other: 3.05%<br>\", \"Australia<br>Entries by Gender:<br>  *Female: 13.38%<br>  *Male: 84.86%<br>  *Other: 1.76%<br>Entries by Carrer:<br>  *Bachelor-Professional: 39.08%<br>  *Master's: 37.32%<br>  *Doctoral: 19.01%<br>  *Other: 4.58%<br>\", \"Russia<br>Entries by Gender:<br>  *Female: 12.89%<br>  *Male: 85.71%<br>  *Other: 1.4%<br>Entries by Carrer:<br>  *Bachelor-Professional: 28.43%<br>  *Master's: 50.98%<br>  *Doctoral: 12.04%<br>  *Other: 8.54%<br>\", \"Austria<br>Entries by Gender:<br>  *Female: 11.11%<br>  *Male: 88.89%<br>  *Other: 0.0%<br>Entries by Carrer:<br>  *Bachelor-Professional: 18.52%<br>  *Master's: 59.26%<br>  *Doctoral: 18.52%<br>  *Other: 3.7%<br>\", \"Italy<br>Entries by Gender:<br>  *Female: 12.11%<br>  *Male: 86.51%<br>  *Other: 1.38%<br>Entries by Carrer:<br>  *Bachelor-Professional: 20.07%<br>  *Master's: 51.56%<br>  *Doctoral: 23.18%<br>  *Other: 5.19%<br>\", \"Mexico<br>Entries by Gender:<br>  *Female: 15.22%<br>  *Male: 83.7%<br>  *Other: 1.09%<br>Entries by Carrer:<br>  *Bachelor-Professional: 38.04%<br>  *Master's: 37.5%<br>  *Doctoral: 19.02%<br>  *Other: 5.43%<br>\", \"Germany<br>Entries by Gender:<br>  *Female: 13.66%<br>  *Male: 85.09%<br>  *Other: 1.26%<br>Entries by Carrer:<br>  *Bachelor-Professional: 14.29%<br>  *Master's: 53.06%<br>  *Doctoral: 28.89%<br>  *Other: 3.77%<br>\", \"Singapore<br>Entries by Gender:<br>  *Female: 21.47%<br>  *Male: 76.69%<br>  *Other: 1.84%<br>Entries by Carrer:<br>  *Bachelor-Professional: 36.81%<br>  *Master's: 44.17%<br>  *Doctoral: 16.56%<br>  *Other: 2.45%<br>\", \"France<br>Entries by Gender:<br>  *Female: 17.02%<br>  *Male: 82.21%<br>  *Other: 0.77%<br>Entries by Carrer:<br>  *Bachelor-Professional: 5.8%<br>  *Master's: 69.83%<br>  *Doctoral: 23.21%<br>  *Other: 1.16%<br>\", \"Brazil<br>Entries by Gender:<br>  *Female: 7.91%<br>  *Male: 91.32%<br>  *Other: 0.78%<br>Entries by Carrer:<br>  *Bachelor-Professional: 41.55%<br>  *Master's: 37.52%<br>  *Doctoral: 13.95%<br>  *Other: 6.98%<br>\", \"South Africa<br>Entries by Gender:<br>  *Female: 20.0%<br>  *Male: 78.52%<br>  *Other: 1.48%<br>Entries by Carrer:<br>  *Bachelor-Professional: 35.56%<br>  *Master's: 50.37%<br>  *Doctoral: 7.41%<br>  *Other: 6.67%<br>\", \"Korea, South<br>Entries by Gender:<br>  *Female: 15.54%<br>  *Male: 84.46%<br>  *Other: 0.0%<br>Entries by Carrer:<br>  *Bachelor-Professional: 37.84%<br>  *Master's: 41.89%<br>  *Doctoral: 12.16%<br>  *Other: 8.11%<br>\", \"Malaysia<br>Entries by Gender:<br>  *Female: 23.76%<br>  *Male: 74.26%<br>  *Other: 1.98%<br>Entries by Carrer:<br>  *Bachelor-Professional: 46.53%<br>  *Master's: 33.66%<br>  *Doctoral: 15.84%<br>  *Other: 3.96%<br>\", \"Hong Kong<br>Entries by Gender:<br>  *Female: 13.04%<br>  *Male: 82.61%<br>  *Other: 4.35%<br>Entries by Carrer:<br>  *Bachelor-Professional: 43.48%<br>  *Master's: 43.48%<br>  *Doctoral: 13.04%<br>  *Other: 0.0%<br>\", \"Egypt<br>Entries by Gender:<br>  *Female: 26.25%<br>  *Male: 72.5%<br>  *Other: 1.25%<br>Entries by Carrer:<br>  *Bachelor-Professional: 50.0%<br>  *Master's: 27.5%<br>  *Doctoral: 10.0%<br>  *Other: 12.5%<br>\", \"Tunisia<br>Entries by Gender:<br>  *Female: 39.58%<br>  *Male: 60.42%<br>  *Other: 0.0%<br>Entries by Carrer:<br>  *Bachelor-Professional: 18.75%<br>  *Master's: 56.25%<br>  *Doctoral: 18.75%<br>  *Other: 6.25%<br>\", \"Portugal<br>Entries by Gender:<br>  *Female: 17.46%<br>  *Male: 82.54%<br>  *Other: 0.0%<br>Entries by Carrer:<br>  *Bachelor-Professional: 11.11%<br>  *Master's: 60.32%<br>  *Doctoral: 28.57%<br>  *Other: 0.0%<br>\", \"Thailand<br>Entries by Gender:<br>  *Female: 12.7%<br>  *Male: 85.71%<br>  *Other: 1.59%<br>Entries by Carrer:<br>  *Bachelor-Professional: 31.75%<br>  *Master's: 53.97%<br>  *Doctoral: 11.11%<br>  *Other: 3.17%<br>\", \"Morocco<br>Entries by Gender:<br>  *Female: 27.45%<br>  *Male: 72.55%<br>  *Other: 0.0%<br>Entries by Carrer:<br>  *Bachelor-Professional: 11.76%<br>  *Master's: 43.14%<br>  *Doctoral: 39.22%<br>  *Other: 5.88%<br>\", \"Pakistan<br>Entries by Gender:<br>  *Female: 16.42%<br>  *Male: 83.58%<br>  *Other: 0.0%<br>Entries by Carrer:<br>  *Bachelor-Professional: 35.07%<br>  *Master's: 48.51%<br>  *Doctoral: 12.69%<br>  *Other: 3.73%<br>\", \"Czech Republic<br>Entries by Gender:<br>  *Female: 4.69%<br>  *Male: 93.75%<br>  *Other: 1.56%<br>Entries by Carrer:<br>  *Bachelor-Professional: 10.94%<br>  *Master's: 57.81%<br>  *Doctoral: 21.88%<br>  *Other: 9.38%<br>\", \"Romania<br>Entries by Gender:<br>  *Female: 23.19%<br>  *Male: 76.81%<br>  *Other: 0.0%<br>Entries by Carrer:<br>  *Bachelor-Professional: 23.19%<br>  *Master's: 56.52%<br>  *Doctoral: 14.49%<br>  *Other: 5.8%<br>\", \"Israel<br>Entries by Gender:<br>  *Female: 15.17%<br>  *Male: 83.45%<br>  *Other: 1.38%<br>Entries by Carrer:<br>  *Bachelor-Professional: 24.14%<br>  *Master's: 57.24%<br>  *Doctoral: 15.17%<br>  *Other: 3.45%<br>\", \"Switzerland<br>Entries by Gender:<br>  *Female: 12.41%<br>  *Male: 85.4%<br>  *Other: 2.19%<br>Entries by Carrer:<br>  *Bachelor-Professional: 13.87%<br>  *Master's: 54.74%<br>  *Doctoral: 30.66%<br>  *Other: 0.73%<br>\", \"Philippines<br>Entries by Gender:<br>  *Female: 20.0%<br>  *Male: 76.92%<br>  *Other: 3.08%<br>Entries by Carrer:<br>  *Bachelor-Professional: 44.62%<br>  *Master's: 46.15%<br>  *Doctoral: 3.08%<br>  *Other: 6.15%<br>\", \"Bangladesh<br>Entries by Gender:<br>  *Female: 7.5%<br>  *Male: 92.5%<br>  *Other: 0.0%<br>Entries by Carrer:<br>  *Bachelor-Professional: 42.5%<br>  *Master's: 43.75%<br>  *Doctoral: 3.75%<br>  *Other: 10.0%<br>\", \"Belarus<br>Entries by Gender:<br>  *Female: 15.79%<br>  *Male: 84.21%<br>  *Other: 0.0%<br>Entries by Carrer:<br>  *Bachelor-Professional: 31.58%<br>  *Master's: 51.32%<br>  *Doctoral: 7.89%<br>  *Other: 9.21%<br>\", \"Vietnam<br>Entries by Gender:<br>  *Female: 14.73%<br>  *Male: 84.5%<br>  *Other: 0.78%<br>Entries by Carrer:<br>  *Bachelor-Professional: 54.26%<br>  *Master's: 31.78%<br>  *Doctoral: 5.43%<br>  *Other: 8.53%<br>\", \"Belgium<br>Entries by Gender:<br>  *Female: 8.42%<br>  *Male: 90.53%<br>  *Other: 1.05%<br>Entries by Carrer:<br>  *Bachelor-Professional: 9.47%<br>  *Master's: 70.53%<br>  *Doctoral: 17.89%<br>  *Other: 2.11%<br>\", \"New Zealand<br>Entries by Gender:<br>  *Female: 17.91%<br>  *Male: 80.6%<br>  *Other: 1.49%<br>Entries by Carrer:<br>  *Bachelor-Professional: 32.84%<br>  *Master's: 41.79%<br>  *Doctoral: 20.9%<br>  *Other: 4.48%<br>\", \"Norway<br>Entries by Gender:<br>  *Female: 10.77%<br>  *Male: 86.15%<br>  *Other: 3.08%<br>Entries by Carrer:<br>  *Bachelor-Professional: 15.38%<br>  *Master's: 56.92%<br>  *Doctoral: 20.0%<br>  *Other: 7.69%<br>\", \"Finland<br>Entries by Gender:<br>  *Female: 6.35%<br>  *Male: 87.3%<br>  *Other: 6.35%<br>Entries by Carrer:<br>  *Bachelor-Professional: 14.29%<br>  *Master's: 53.97%<br>  *Doctoral: 26.98%<br>  *Other: 4.76%<br>\", \"Greece<br>Entries by Gender:<br>  *Female: 17.65%<br>  *Male: 81.37%<br>  *Other: 0.98%<br>Entries by Carrer:<br>  *Bachelor-Professional: 15.69%<br>  *Master's: 60.78%<br>  *Doctoral: 21.57%<br>  *Other: 1.96%<br>\", \"Peru<br>Entries by Gender:<br>  *Female: 14.86%<br>  *Male: 85.14%<br>  *Other: 0.0%<br>Entries by Carrer:<br>  *Bachelor-Professional: 39.19%<br>  *Master's: 40.54%<br>  *Doctoral: 6.76%<br>  *Other: 13.51%<br>\", \"Korea, North<br>Entries by Gender:<br>  *Female: 7.02%<br>  *Male: 91.23%<br>  *Other: 1.75%<br>Entries by Carrer:<br>  *Bachelor-Professional: 43.86%<br>  *Master's: 33.33%<br>  *Doctoral: 15.79%<br>  *Other: 7.02%<br>\"], \"autocolorscale\": true, \"reversescale\": false, \"marker\": {\"line\": {\"color\": \"rgb(180,180,180)\", \"width\": 0.5}}, \"colorbar\": {\"autotick\": true, \"title\": \"Number of Entries\"}}], {\"title\": \"Kaggle 2018 Survey\", \"geo\": {\"showframe\": false, \"showcoastlines\": true, \"projection\": {\"type\": \"natural earth\"}}}, {\"showLink\": true, \"linkText\": \"Export to plot.ly\", \"plotlyServerURL\": \"https://plot.ly\"})});</script><script type=\"text/javascript\">window.addEventListener(\"resize\", function(){window._Plotly.Plots.resize(document.getElementById(\"898d9726-c253-4db2-aa81-9a6189bd80a9\"));});</script>"
      ]
     },
     "metadata": {},
     "output_type": "display_data"
    }
   ],
   "source": [
    "df_entry_by_country[\"text\"] = df_entry_by_country['country'].astype(str) +\"<br>\"+\\\n",
    "                              \"Entries by Gender:\"+\"<br>\"+\\\n",
    "                              \"  *Female: \"+ df_entry_by_country[\"Female\"].astype(str)+\"%<br>\"+\\\n",
    "                              \"  *Male: \"+ df_entry_by_country[\"Male\"].astype(str)+\"%<br>\"+\\\n",
    "                              \"  *Other: \"+ df_entry_by_country[\"other_gender\"].astype(str) + \"%<br>\"+\\\n",
    "                              \"Entries by Carrer:\"+\"<br>\"+\\\n",
    "                              \"  *Bachelor-Professional: \"+ df_entry_by_country[\"ProfBach\"].astype(str)+\"%<br>\"+\\\n",
    "                              \"  *Master's: \"+ df_entry_by_country[\"Master’s degree\"].astype(str)+\"%<br>\"+\\\n",
    "                              \"  *Doctoral: \"+ df_entry_by_country[\"Doctoral degree\"].astype(str) + \"%<br>\"+\\\n",
    "                              \"  *Other: \"+ df_entry_by_country[\"other_career\"].astype(str) + \"%<br>\"\n",
    "    \n",
    "                                \n",
    "data = [ dict(\n",
    "        type = 'choropleth',\n",
    "        locations = df_entry_by_country['code'],\n",
    "        z = df_entry_by_country['count'],\n",
    "        text = df_entry_by_country['text'],\n",
    "        autocolorscale = True,\n",
    "        reversescale = False,\n",
    "        marker = dict(\n",
    "            line = dict (\n",
    "                color = 'rgb(180,180,180)',\n",
    "                width = 0.5\n",
    "            ) ),\n",
    "        colorbar = dict(\n",
    "            autotick = True,\n",
    "            title = 'Number of Entries'),\n",
    "      ) ]\n",
    "\n",
    "layout = dict(\n",
    "    title = 'Kaggle 2018 Survey',  \n",
    "    geo = dict(\n",
    "        showframe = False,\n",
    "        showcoastlines = True,\n",
    "        projection = dict(\n",
    "            type = 'natural earth'\n",
    "        )\n",
    "    )\n",
    ")\n",
    "\n",
    "fig = dict( data=data, layout=layout )\n",
    "py.iplot(fig, validate=False, filename='d3-world-map' )"
   ]
  },
  {
   "cell_type": "markdown",
   "metadata": {},
   "source": [
    "The obtained graphics from Plotly are interactive. For the obtained map plot, you can drag it, zoom in and zoom out and obtain information from the number of entriesin addition to some percentages regarding the gender and career level for each country by hovering over the country of interest.\n",
    "\n",
    "In order to visualize better the extracted percentages related with the gender and carreer level I decided to choose four countries: Colombia, Canada, USA and India. The latter 2 because they are the countries with the most entries in the survey, as can be seen in the above presented map, the second one out of personal interest and the first one because is my natal country.\n",
    "\n",
    "#### Gender proportion data for Colombia, Canada, United States and India"
   ]
  },
  {
   "cell_type": "code",
   "execution_count": 8,
   "metadata": {},
   "outputs": [
    {
     "name": "stdout",
     "output_type": "stream",
     "text": [
      "This is the format of your plot grid:\n",
      "[ (1,1) x1,y1 ]  [ (1,2) x2,y2 ]\n",
      "[ (2,1) x3,y3 ]  [ (2,2) x4,y4 ]\n",
      "\n"
     ]
    },
    {
     "data": {
      "application/vnd.plotly.v1+json": {
       "config": {
        "linkText": "Export to plot.ly",
        "plotlyServerURL": "https://plot.ly",
        "showLink": true
       },
       "data": [
        {
         "domain": {
          "x": [
           0,
           0.48
          ],
          "y": [
           0,
           0.49
          ]
         },
         "hole": 0.4,
         "hoverinfo": "label+name",
         "labels": [
          "Male",
          "Female",
          "Other"
         ],
         "name": "Colombia",
         "text": [
          "Colombia"
         ],
         "textposition": "inside",
         "type": "pie",
         "uid": "60eb64f3-2bfc-41f4-b993-6e7f6798a87b",
         "values": [
          87.72,
          12.28,
          0
         ]
        },
        {
         "domain": {
          "x": [
           0.52,
           1
          ],
          "y": [
           0,
           0.49
          ]
         },
         "hole": 0.4,
         "hoverinfo": "label+name",
         "labels": [
          "Male",
          "Female",
          "Other"
         ],
         "name": "Canada",
         "text": [
          "Canada"
         ],
         "textposition": "inside",
         "type": "pie",
         "uid": "b8db4195-c385-46eb-b596-4f16c0232860",
         "values": [
          80.15,
          19.08,
          0.76
         ]
        },
        {
         "domain": {
          "x": [
           0,
           0.48
          ],
          "y": [
           0.51,
           1
          ]
         },
         "hole": 0.4,
         "hoverinfo": "label+name",
         "labels": [
          "Male",
          "Female",
          "Other"
         ],
         "name": "United States",
         "text": [
          "United States"
         ],
         "textposition": "inside",
         "type": "pie",
         "uid": "7bdf984d-039d-472b-b72e-333c1c5954e3",
         "values": [
          75.62,
          22.39,
          1.99
         ]
        },
        {
         "domain": {
          "x": [
           0.52,
           1
          ],
          "y": [
           0.51,
           1
          ]
         },
         "hole": 0.4,
         "hoverinfo": "label+name",
         "labels": [
          "Male",
          "Female",
          "Other"
         ],
         "name": "India",
         "text": [
          "India"
         ],
         "textposition": "inside",
         "type": "pie",
         "uid": "a10ffa98-ba09-4c0d-85b0-b50d7239e895",
         "values": [
          86.12,
          13.06,
          0.82
         ]
        }
       ],
       "layout": {
        "showlegend": true,
        "title": "Gender proportions by country"
       }
      },
      "text/html": [
       "<div id=\"bc2a7c4c-d629-461c-9a44-90f1f4f6295e\" style=\"height: 525px; width: 100%;\" class=\"plotly-graph-div\"></div><script type=\"text/javascript\">require([\"plotly\"], function(Plotly) { window.PLOTLYENV=window.PLOTLYENV || {};window.PLOTLYENV.BASE_URL=\"https://plot.ly\";Plotly.newPlot(\"bc2a7c4c-d629-461c-9a44-90f1f4f6295e\", [{\"domain\": {\"x\": [0, 0.48], \"y\": [0, 0.49]}, \"hole\": 0.4, \"hoverinfo\": \"label+name\", \"labels\": [\"Male\", \"Female\", \"Other\"], \"name\": \"Colombia\", \"text\": [\"Colombia\"], \"textposition\": \"inside\", \"values\": [87.72, 12.28, 0.0], \"type\": \"pie\", \"uid\": \"a3a0152e-2ec3-4cef-b25f-a7deb397e7c1\"}, {\"domain\": {\"x\": [0.52, 1], \"y\": [0, 0.49]}, \"hole\": 0.4, \"hoverinfo\": \"label+name\", \"labels\": [\"Male\", \"Female\", \"Other\"], \"name\": \"Canada\", \"text\": [\"Canada\"], \"textposition\": \"inside\", \"values\": [80.15, 19.08, 0.76], \"type\": \"pie\", \"uid\": \"f569abf1-ba5b-4c13-ad04-edf2d5efbaac\"}, {\"domain\": {\"x\": [0, 0.48], \"y\": [0.51, 1]}, \"hole\": 0.4, \"hoverinfo\": \"label+name\", \"labels\": [\"Male\", \"Female\", \"Other\"], \"name\": \"United States\", \"text\": [\"United States\"], \"textposition\": \"inside\", \"values\": [75.62, 22.39, 1.99], \"type\": \"pie\", \"uid\": \"adaa9a89-7d96-4ea3-9eb9-8b30cb47c110\"}, {\"domain\": {\"x\": [0.52, 1], \"y\": [0.51, 1]}, \"hole\": 0.4, \"hoverinfo\": \"label+name\", \"labels\": [\"Male\", \"Female\", \"Other\"], \"name\": \"India\", \"text\": [\"India\"], \"textposition\": \"inside\", \"values\": [86.12, 13.06, 0.82], \"type\": \"pie\", \"uid\": \"a196e982-60e5-4b1c-ba66-2c9719d74d61\"}], {\"showlegend\": true, \"title\": \"Gender proportions by country\"}, {\"showLink\": true, \"linkText\": \"Export to plot.ly\", \"plotlyServerURL\": \"https://plot.ly\"})});</script><script type=\"text/javascript\">window.addEventListener(\"resize\", function(){window._Plotly.Plots.resize(document.getElementById(\"bc2a7c4c-d629-461c-9a44-90f1f4f6295e\"));});</script>"
      ],
      "text/vnd.plotly.v1+html": [
       "<div id=\"bc2a7c4c-d629-461c-9a44-90f1f4f6295e\" style=\"height: 525px; width: 100%;\" class=\"plotly-graph-div\"></div><script type=\"text/javascript\">require([\"plotly\"], function(Plotly) { window.PLOTLYENV=window.PLOTLYENV || {};window.PLOTLYENV.BASE_URL=\"https://plot.ly\";Plotly.newPlot(\"bc2a7c4c-d629-461c-9a44-90f1f4f6295e\", [{\"domain\": {\"x\": [0, 0.48], \"y\": [0, 0.49]}, \"hole\": 0.4, \"hoverinfo\": \"label+name\", \"labels\": [\"Male\", \"Female\", \"Other\"], \"name\": \"Colombia\", \"text\": [\"Colombia\"], \"textposition\": \"inside\", \"values\": [87.72, 12.28, 0.0], \"type\": \"pie\", \"uid\": \"a3a0152e-2ec3-4cef-b25f-a7deb397e7c1\"}, {\"domain\": {\"x\": [0.52, 1], \"y\": [0, 0.49]}, \"hole\": 0.4, \"hoverinfo\": \"label+name\", \"labels\": [\"Male\", \"Female\", \"Other\"], \"name\": \"Canada\", \"text\": [\"Canada\"], \"textposition\": \"inside\", \"values\": [80.15, 19.08, 0.76], \"type\": \"pie\", \"uid\": \"f569abf1-ba5b-4c13-ad04-edf2d5efbaac\"}, {\"domain\": {\"x\": [0, 0.48], \"y\": [0.51, 1]}, \"hole\": 0.4, \"hoverinfo\": \"label+name\", \"labels\": [\"Male\", \"Female\", \"Other\"], \"name\": \"United States\", \"text\": [\"United States\"], \"textposition\": \"inside\", \"values\": [75.62, 22.39, 1.99], \"type\": \"pie\", \"uid\": \"adaa9a89-7d96-4ea3-9eb9-8b30cb47c110\"}, {\"domain\": {\"x\": [0.52, 1], \"y\": [0.51, 1]}, \"hole\": 0.4, \"hoverinfo\": \"label+name\", \"labels\": [\"Male\", \"Female\", \"Other\"], \"name\": \"India\", \"text\": [\"India\"], \"textposition\": \"inside\", \"values\": [86.12, 13.06, 0.82], \"type\": \"pie\", \"uid\": \"a196e982-60e5-4b1c-ba66-2c9719d74d61\"}], {\"showlegend\": true, \"title\": \"Gender proportions by country\"}, {\"showLink\": true, \"linkText\": \"Export to plot.ly\", \"plotlyServerURL\": \"https://plot.ly\"})});</script><script type=\"text/javascript\">window.addEventListener(\"resize\", function(){window._Plotly.Plots.resize(document.getElementById(\"bc2a7c4c-d629-461c-9a44-90f1f4f6295e\"));});</script>"
      ]
     },
     "metadata": {},
     "output_type": "display_data"
    }
   ],
   "source": [
    "country_names = [\"Colombia\", \"Canada\", \"United States\", \"India\"]\n",
    "\n",
    "def plot_donuts_country(df, countries, labels, label_display, title):\n",
    "    \n",
    "    fig_rates = tools.make_subplots(rows = 2, cols = 2);\n",
    "    dict_data = {key: None for key in country_names}\n",
    "    for country_name in countries:\n",
    "        values = []\n",
    "        for label in labels:\n",
    "            values.append((df[df[\"country\"] == country_name][label]).values[0])\n",
    "        dict_data[country_name] = values\n",
    "        \n",
    "    x_pos = [[0, .48], [.52, 1], [0, .48], [.52, 1]]\n",
    "    y_pos = [[0, .49], [0, .49], [.51, 1], [.51, 1]]\n",
    "    data = [{'labels': label_display,\n",
    "             'values': dict_data[country_name],\n",
    "             'type': 'pie',\n",
    "             'name': country_name,\n",
    "             'text':[country_name],\n",
    "             'textposition':\"inside\",\n",
    "             'hoverinfo':\"label+name\",\n",
    "             \"hole\": .4,\n",
    "             'domain': {'x': x_pos[idx], 'y': y_pos[idx]}\n",
    "            } for idx, country_name in enumerate(country_names)]\n",
    "\n",
    "    layout = {\"title\": title,\n",
    "              \"showlegend\": True\n",
    "             }\n",
    "\n",
    "    fig = {\"data\": data, \"layout\": layout}\n",
    "    py.iplot(fig, filename = 'pie_chart_subplots')\n",
    "    \n",
    "gender_labels = [\"Male\", \"Female\", \"other_gender\"]\n",
    "gender_labels_display = [\"Male\", \"Female\", \"Other\"]\n",
    "    \n",
    "plot_donuts_country(df_entry_by_country, country_names, gender_labels, gender_labels_display,\n",
    "            \"Gender proportions by country\")"
   ]
  },
  {
   "cell_type": "markdown",
   "metadata": {},
   "source": [
    "The trend is clear for the studied countries in what gender respects. The bulk of the population that answered the survey is male with Canada and United States having a slightly higher portion of female entries in comparison to India and Colombia.\n",
    "\n",
    "#### Education level proportion data for Colombia, Canada, United States and India"
   ]
  },
  {
   "cell_type": "code",
   "execution_count": 17,
   "metadata": {},
   "outputs": [
    {
     "name": "stdout",
     "output_type": "stream",
     "text": [
      "This is the format of your plot grid:\n",
      "[ (1,1) x1,y1 ]  [ (1,2) x2,y2 ]\n",
      "[ (2,1) x3,y3 ]  [ (2,2) x4,y4 ]\n",
      "\n"
     ]
    },
    {
     "data": {
      "application/vnd.plotly.v1+json": {
       "config": {
        "linkText": "Export to plot.ly",
        "plotlyServerURL": "https://plot.ly",
        "showLink": true
       },
       "data": [
        {
         "domain": {
          "x": [
           0,
           0.48
          ],
          "y": [
           0,
           0.49
          ]
         },
         "hole": 0.4,
         "hoverinfo": "label+name",
         "labels": [
          "Professional - Bachelor's Degree",
          "Master's Degree",
          "Doctoral Degree",
          "Other"
         ],
         "name": "Colombia",
         "text": [
          "Colombia"
         ],
         "textposition": "inside",
         "type": "pie",
         "uid": "0c72759d-22ab-4927-a823-e57349d2485f",
         "values": [
          36.84,
          48.25,
          8.77,
          6.14
         ]
        },
        {
         "domain": {
          "x": [
           0.52,
           1
          ],
          "y": [
           0,
           0.49
          ]
         },
         "hole": 0.4,
         "hoverinfo": "label+name",
         "labels": [
          "Professional - Bachelor's Degree",
          "Master's Degree",
          "Doctoral Degree",
          "Other"
         ],
         "name": "Canada",
         "text": [
          "Canada"
         ],
         "textposition": "inside",
         "type": "pie",
         "uid": "0305a968-8302-48d5-9fc2-8b5905aca3cf",
         "values": [
          39.5,
          40.27,
          17.18,
          3.05
         ]
        },
        {
         "domain": {
          "x": [
           0,
           0.48
          ],
          "y": [
           0.51,
           1
          ]
         },
         "hole": 0.4,
         "hoverinfo": "label+name",
         "labels": [
          "Professional - Bachelor's Degree",
          "Master's Degree",
          "Doctoral Degree",
          "Other"
         ],
         "name": "United States",
         "text": [
          "United States"
         ],
         "textposition": "inside",
         "type": "pie",
         "uid": "8e99ddfe-3ef8-464d-96b6-8db146e5c622",
         "values": [
          27.12,
          49.2,
          19.37,
          4.31
         ]
        },
        {
         "domain": {
          "x": [
           0.52,
           1
          ],
          "y": [
           0.51,
           1
          ]
         },
         "hole": 0.4,
         "hoverinfo": "label+name",
         "labels": [
          "Professional - Bachelor's Degree",
          "Master's Degree",
          "Doctoral Degree",
          "Other"
         ],
         "name": "India",
         "text": [
          "India"
         ],
         "textposition": "inside",
         "type": "pie",
         "uid": "54c22c78-3f20-413a-8d2d-7a8ed26f9131",
         "values": [
          53.17,
          36.99,
          5.73,
          4.12
         ]
        }
       ],
       "layout": {
        "showlegend": true,
        "title": "Education Level proportions by country"
       }
      },
      "text/html": [
       "<div id=\"e4268e45-c7b3-4ca9-a5c2-68aae050823d\" style=\"height: 525px; width: 100%;\" class=\"plotly-graph-div\"></div><script type=\"text/javascript\">require([\"plotly\"], function(Plotly) { window.PLOTLYENV=window.PLOTLYENV || {};window.PLOTLYENV.BASE_URL=\"https://plot.ly\";Plotly.newPlot(\"e4268e45-c7b3-4ca9-a5c2-68aae050823d\", [{\"domain\": {\"x\": [0, 0.48], \"y\": [0, 0.49]}, \"hole\": 0.4, \"hoverinfo\": \"label+name\", \"labels\": [\"Professional - Bachelor's Degree\", \"Master's Degree\", \"Doctoral Degree\", \"Other\"], \"name\": \"Colombia\", \"text\": [\"Colombia\"], \"textposition\": \"inside\", \"values\": [36.84, 48.25, 8.77, 6.14], \"type\": \"pie\", \"uid\": \"1642c03b-9d06-47fe-9740-2121d1a6ae32\"}, {\"domain\": {\"x\": [0.52, 1], \"y\": [0, 0.49]}, \"hole\": 0.4, \"hoverinfo\": \"label+name\", \"labels\": [\"Professional - Bachelor's Degree\", \"Master's Degree\", \"Doctoral Degree\", \"Other\"], \"name\": \"Canada\", \"text\": [\"Canada\"], \"textposition\": \"inside\", \"values\": [39.5, 40.27, 17.18, 3.05], \"type\": \"pie\", \"uid\": \"eed6e25f-e881-42f9-bc4e-2f1f7b63132c\"}, {\"domain\": {\"x\": [0, 0.48], \"y\": [0.51, 1]}, \"hole\": 0.4, \"hoverinfo\": \"label+name\", \"labels\": [\"Professional - Bachelor's Degree\", \"Master's Degree\", \"Doctoral Degree\", \"Other\"], \"name\": \"United States\", \"text\": [\"United States\"], \"textposition\": \"inside\", \"values\": [27.12, 49.2, 19.37, 4.31], \"type\": \"pie\", \"uid\": \"428dc70f-2ec4-469a-a4e4-10730f2951af\"}, {\"domain\": {\"x\": [0.52, 1], \"y\": [0.51, 1]}, \"hole\": 0.4, \"hoverinfo\": \"label+name\", \"labels\": [\"Professional - Bachelor's Degree\", \"Master's Degree\", \"Doctoral Degree\", \"Other\"], \"name\": \"India\", \"text\": [\"India\"], \"textposition\": \"inside\", \"values\": [53.17, 36.99, 5.73, 4.12], \"type\": \"pie\", \"uid\": \"033d59d0-1ca7-4c54-a106-ce5547a5eb08\"}], {\"showlegend\": true, \"title\": \"Education Level proportions by country\"}, {\"showLink\": true, \"linkText\": \"Export to plot.ly\", \"plotlyServerURL\": \"https://plot.ly\"})});</script><script type=\"text/javascript\">window.addEventListener(\"resize\", function(){window._Plotly.Plots.resize(document.getElementById(\"e4268e45-c7b3-4ca9-a5c2-68aae050823d\"));});</script>"
      ],
      "text/vnd.plotly.v1+html": [
       "<div id=\"e4268e45-c7b3-4ca9-a5c2-68aae050823d\" style=\"height: 525px; width: 100%;\" class=\"plotly-graph-div\"></div><script type=\"text/javascript\">require([\"plotly\"], function(Plotly) { window.PLOTLYENV=window.PLOTLYENV || {};window.PLOTLYENV.BASE_URL=\"https://plot.ly\";Plotly.newPlot(\"e4268e45-c7b3-4ca9-a5c2-68aae050823d\", [{\"domain\": {\"x\": [0, 0.48], \"y\": [0, 0.49]}, \"hole\": 0.4, \"hoverinfo\": \"label+name\", \"labels\": [\"Professional - Bachelor's Degree\", \"Master's Degree\", \"Doctoral Degree\", \"Other\"], \"name\": \"Colombia\", \"text\": [\"Colombia\"], \"textposition\": \"inside\", \"values\": [36.84, 48.25, 8.77, 6.14], \"type\": \"pie\", \"uid\": \"1642c03b-9d06-47fe-9740-2121d1a6ae32\"}, {\"domain\": {\"x\": [0.52, 1], \"y\": [0, 0.49]}, \"hole\": 0.4, \"hoverinfo\": \"label+name\", \"labels\": [\"Professional - Bachelor's Degree\", \"Master's Degree\", \"Doctoral Degree\", \"Other\"], \"name\": \"Canada\", \"text\": [\"Canada\"], \"textposition\": \"inside\", \"values\": [39.5, 40.27, 17.18, 3.05], \"type\": \"pie\", \"uid\": \"eed6e25f-e881-42f9-bc4e-2f1f7b63132c\"}, {\"domain\": {\"x\": [0, 0.48], \"y\": [0.51, 1]}, \"hole\": 0.4, \"hoverinfo\": \"label+name\", \"labels\": [\"Professional - Bachelor's Degree\", \"Master's Degree\", \"Doctoral Degree\", \"Other\"], \"name\": \"United States\", \"text\": [\"United States\"], \"textposition\": \"inside\", \"values\": [27.12, 49.2, 19.37, 4.31], \"type\": \"pie\", \"uid\": \"428dc70f-2ec4-469a-a4e4-10730f2951af\"}, {\"domain\": {\"x\": [0.52, 1], \"y\": [0.51, 1]}, \"hole\": 0.4, \"hoverinfo\": \"label+name\", \"labels\": [\"Professional - Bachelor's Degree\", \"Master's Degree\", \"Doctoral Degree\", \"Other\"], \"name\": \"India\", \"text\": [\"India\"], \"textposition\": \"inside\", \"values\": [53.17, 36.99, 5.73, 4.12], \"type\": \"pie\", \"uid\": \"033d59d0-1ca7-4c54-a106-ce5547a5eb08\"}], {\"showlegend\": true, \"title\": \"Education Level proportions by country\"}, {\"showLink\": true, \"linkText\": \"Export to plot.ly\", \"plotlyServerURL\": \"https://plot.ly\"})});</script><script type=\"text/javascript\">window.addEventListener(\"resize\", function(){window._Plotly.Plots.resize(document.getElementById(\"e4268e45-c7b3-4ca9-a5c2-68aae050823d\"));});</script>"
      ]
     },
     "metadata": {},
     "output_type": "display_data"
    }
   ],
   "source": [
    "career_labels = [\"ProfBach\", \"Master’s degree\", \"Doctoral degree\", \"other_career\"]\n",
    "career_labels_display = [\"Professional - Bachelor's Degree\", \"Master's Degree\", \"Doctoral Degree\", \"Other\"]\n",
    "plot_donuts_country(df_entry_by_country, country_names, career_labels, career_labels_display,\n",
    "            \"Education Level proportions by country\")"
   ]
  },
  {
   "cell_type": "markdown",
   "metadata": {},
   "source": [
    "With this pie charts one can observe the carrer level proportions for each studied country. While comparing Colombia and USA it can be seen that the proportion of people with master's degree is similar but that of the people with doctoral degree in Colombia is half of the one seen for USA. Although the number of people that answered the survey in Colombia could not make a representative sample, the difference in doctoral degree proportion could be explained by the mere fact that this education level is not promoted neither by the country nor society in general within the country."
   ]
  },
  {
   "cell_type": "markdown",
   "metadata": {},
   "source": [
    "## CLUSTERING"
   ]
  },
  {
   "cell_type": "markdown",
   "metadata": {},
   "source": [
    "Now I study the yearly compensation in relation with the gender, education level and major. To do so I use the Kmodes algorithm described in *Huang, Z.: Clustering large data sets with mixed numeric and categorical values, Proceedings of the First Pacific Asia Knowledge Discovery and Data Mining Conference, Singapore, pp. 21-34, 1997* and implemented in the kmodes-python library (https://github.com/nicodv/kmodes).\n",
    "\n",
    "This uses a similarity measure instead of the usual Euclidean measure used in K-means in order to handle categorical data. The similarity is, in broad terms, calculated for each element by checking wether or not the categorical value of the element is the same as the mode of the associated feature in a given cluster. If it is, the similarity measure is increased, otherwise it is kept unchanged. The procedure is repeated for each categorical feature associated with the element. The rest of the procedure to obtain the clusters is similar to the one of K-means."
   ]
  },
  {
   "cell_type": "code",
   "execution_count": 10,
   "metadata": {},
   "outputs": [],
   "source": [
    "keys = [\"Q1\", \"Q4\", \"Q5\", \"Q9\"]\n",
    "data_comp = data_survey_nq[keys]\n",
    "\n",
    "# Remove entries that do not disclose yearly compensation\n",
    "dict_replace_compensation = {\"I do not wish to disclose my approximate yearly compensation\": np.nan}\n",
    "data_comp = data_comp.replace(dict_replace_compensation).dropna().values"
   ]
  },
  {
   "cell_type": "code",
   "execution_count": 11,
   "metadata": {},
   "outputs": [
    {
     "data": {
      "image/png": "[encoded data removed]",
      "text/plain": [
       "<Figure size 1296x576 with 2 Axes>"
      ]
     },
     "metadata": {
      "needs_background": "light"
     },
     "output_type": "display_data"
    }
   ],
   "source": [
    "def score_k_modes(X, sizes, max_iter):\n",
    "    scores = np.zeros(len(sizes))\n",
    "    \n",
    "    for id_size, size in enumerate(sizes):\n",
    "        scores_size = []\n",
    "        km = KModes(n_clusters = size, max_iter = max_iter)\n",
    "        km.fit(X)\n",
    "        scores[id_size] = km.cost_\n",
    "    return scores\n",
    "\n",
    "def plot_score_k_modes(X, size_min, size_max, step = 1, max_iter = 300):\n",
    "    assert size_max > size_min, \"size_max must be greater than size_min\"\n",
    "    sizes = range(size_min, size_max, step)\n",
    "    scores =  score_k_modes(X, sizes, max_iter)\n",
    "    \n",
    "    fig, axs = plt.subplots(2, 1, figsize = (18, 8), constrained_layout = True)\n",
    "    axs[0].plot(sizes, scores)\n",
    "    axs[0].scatter(sizes, scores)\n",
    "    axs[0].set_ylabel(\"Cost\")\n",
    "    axs[0].set_xlabel(\"Number of clusters\")\n",
    "    axs[0].set_xticks(sizes)\n",
    "    line_domain = np.linspace(sizes[0], sizes[-1])\n",
    "    y_line = (scores[-1] - scores[0])/(sizes[-1] - sizes[0])*(line_domain - line_domain[0]) +\\\n",
    "                scores[0]\n",
    "    axs[0].plot(line_domain, y_line, c = 'r')\n",
    "    \n",
    "    \n",
    "    def distance_to_line(x0, y0, x1, y1, x2, y2):\n",
    "        \"\"\"\n",
    "        Calculates the distance from (x0,y0) to the \n",
    "        line defined by (x1,y1) and (x2,y2)\n",
    "        Based on:\n",
    "        https://www.linkedin.com/pulse/finding-optimal-number-clusters-k-means-through-elbow-asanka-perera/\n",
    "        https://medium.com/@joao.figueira/what-is-k-ddf36926a752\n",
    "        \"\"\"\n",
    "        dx = x2 - x1\n",
    "        dy = y2 - y1\n",
    "        return abs(dy * x0 - dx * y0 + x2 * y1 - y2 * x1) / \\\n",
    "               np.sqrt(dx * dx + dy * dy)\n",
    "\n",
    "    distances_to_line = [distance_to_line(x, y, sizes[0], scores[0],\n",
    "                                          sizes[-1], scores[-1]) for x, y in zip(sizes, list(scores))]\n",
    "    axs[1].plot(sizes, distances_to_line)\n",
    "    axs[1].set_ylabel(\"Distance to line\")\n",
    "    axs[1].set_xticks(sizes)\n",
    "    \n",
    "plot_score_k_modes(data_comp, 1, 35 , step = 1)"
   ]
  },
  {
   "cell_type": "markdown",
   "metadata": {},
   "source": [
    "Here I extract the \"optimal\" number of clusters found with K-modes. In order to do so I calculate the distances from the cost (related to the similarity measure) found for each number of clusters to a line going from the first to the last value of the cost optimized by the K-modes algorithm. The \"optimal\" found number is 11. "
   ]
  },
  {
   "cell_type": "code",
   "execution_count": 19,
   "metadata": {},
   "outputs": [
    {
     "data": {
      "text/html": [
       "<div>\n",
       "<style scoped>\n",
       "    .dataframe tbody tr th:only-of-type {\n",
       "        vertical-align: middle;\n",
       "    }\n",
       "\n",
       "    .dataframe tbody tr th {\n",
       "        vertical-align: top;\n",
       "    }\n",
       "\n",
       "    .dataframe thead th {\n",
       "        text-align: right;\n",
       "    }\n",
       "</style>\n",
       "<table border=\"1\" class=\"dataframe\">\n",
       "  <thead>\n",
       "    <tr style=\"text-align: right;\">\n",
       "      <th></th>\n",
       "      <th>Gender</th>\n",
       "      <th>Degree Level</th>\n",
       "      <th>Major</th>\n",
       "      <th>Compensation</th>\n",
       "      <th>cluster_label</th>\n",
       "    </tr>\n",
       "  </thead>\n",
       "  <tbody>\n",
       "    <tr>\n",
       "      <th>0</th>\n",
       "      <td>Male</td>\n",
       "      <td>Bachelor’s degree</td>\n",
       "      <td>Engineering (non-computer focused)</td>\n",
       "      <td>10-20,000</td>\n",
       "      <td>1</td>\n",
       "    </tr>\n",
       "    <tr>\n",
       "      <th>1</th>\n",
       "      <td>Female</td>\n",
       "      <td>Master’s degree</td>\n",
       "      <td>Computer science (software engineering, etc.)</td>\n",
       "      <td>0-10,000</td>\n",
       "      <td>0</td>\n",
       "    </tr>\n",
       "    <tr>\n",
       "      <th>2</th>\n",
       "      <td>Male</td>\n",
       "      <td>Master’s degree</td>\n",
       "      <td>Mathematics or statistics</td>\n",
       "      <td>0-10,000</td>\n",
       "      <td>0</td>\n",
       "    </tr>\n",
       "    <tr>\n",
       "      <th>3</th>\n",
       "      <td>Male</td>\n",
       "      <td>Doctoral degree</td>\n",
       "      <td>Information technology, networking, or system ...</td>\n",
       "      <td>10-20,000</td>\n",
       "      <td>8</td>\n",
       "    </tr>\n",
       "    <tr>\n",
       "      <th>4</th>\n",
       "      <td>Male</td>\n",
       "      <td>Master’s degree</td>\n",
       "      <td>Information technology, networking, or system ...</td>\n",
       "      <td>0-10,000</td>\n",
       "      <td>0</td>\n",
       "    </tr>\n",
       "  </tbody>\n",
       "</table>\n",
       "</div>"
      ],
      "text/plain": [
       "   Gender       Degree Level  \\\n",
       "0    Male  Bachelor’s degree   \n",
       "1  Female    Master’s degree   \n",
       "2    Male    Master’s degree   \n",
       "3    Male    Doctoral degree   \n",
       "4    Male    Master’s degree   \n",
       "\n",
       "                                               Major Compensation  \\\n",
       "0                 Engineering (non-computer focused)    10-20,000   \n",
       "1      Computer science (software engineering, etc.)     0-10,000   \n",
       "2                          Mathematics or statistics     0-10,000   \n",
       "3  Information technology, networking, or system ...    10-20,000   \n",
       "4  Information technology, networking, or system ...     0-10,000   \n",
       "\n",
       "  cluster_label  \n",
       "0             1  \n",
       "1             0  \n",
       "2             0  \n",
       "3             8  \n",
       "4             0  "
      ]
     },
     "execution_count": 19,
     "metadata": {},
     "output_type": "execute_result"
    }
   ],
   "source": [
    "n_clusters = 11\n",
    "km = KModes(n_clusters = n_clusters)\n",
    "km.fit(data_comp)\n",
    "km_labels = km.predict(data_comp).reshape(-1, 1)\n",
    "data_comp_cluster = np.append(data_comp, km_labels, axis = 1)\n",
    "df_comp_cluster = pd.DataFrame(data = data_comp_cluster, \n",
    "                               columns = [\"Gender\", \"Degree Level\", \"Major\", \"Compensation\",  \"cluster_label\"])\n",
    "df_comp_cluster.head(5)"
   ]
  },
  {
   "cell_type": "code",
   "execution_count": 20,
   "metadata": {},
   "outputs": [],
   "source": [
    "dict_clusters = {cluster_label: {} for cluster_label in range(n_clusters)}\n",
    "for cluster_label in dict_clusters.keys():\n",
    "    for column in (set(df_comp_cluster.columns) - {\"cluster_label\"}):\n",
    "        counts_column = Counter((df_comp_cluster[df_comp_cluster[\"cluster_label\"] == cluster_label])[column])\n",
    "        dict_clusters[cluster_label][column] = counts_column        "
   ]
  },
  {
   "cell_type": "code",
   "execution_count": 21,
   "metadata": {},
   "outputs": [],
   "source": [
    "def plot_donuts_cluster(cluster_dict, title):\n",
    "    fig_rates = tools.make_subplots(rows = 2, cols = 2);\n",
    "        \n",
    "    x_pos = [[0, .48], [.52, 1], [0, .48], [.52, 1]]\n",
    "    y_pos = [[0, .49], [0, .49], [.51, 1], [.51, 1]]\n",
    "    data = [{'labels': list(cluster_dict[key].keys()),\n",
    "             'values': list(cluster_dict[key].values()),\n",
    "             'type': 'pie',\n",
    "             'name': key,\n",
    "             'text':[key],\n",
    "             'textposition':\"inside\",\n",
    "             'hoverinfo':\"label+name\",\n",
    "             \"hole\": .4,\n",
    "             'domain': {'x': x_pos[idx], 'y': y_pos[idx]}\n",
    "            } for idx, key in enumerate(cluster_dict.keys())]\n",
    "\n",
    "    layout = {\"title\": title,\n",
    "              \"showlegend\": False\n",
    "             }\n",
    "\n",
    "    fig = {\"data\": data, \"layout\": layout}\n",
    "    py.iplot(fig, filename = 'pie_chart_subplots')"
   ]
  },
  {
   "cell_type": "code",
   "execution_count": 22,
   "metadata": {
    "scrolled": false
   },
   "outputs": [
    {
     "name": "stdout",
     "output_type": "stream",
     "text": [
      "This is the format of your plot grid:\n",
      "[ (1,1) x1,y1 ]  [ (1,2) x2,y2 ]\n",
      "[ (2,1) x3,y3 ]  [ (2,2) x4,y4 ]\n",
      "\n"
     ]
    },
    {
     "data": {
      "application/vnd.plotly.v1+json": {
       "config": {
        "linkText": "Export to plot.ly",
        "plotlyServerURL": "https://plot.ly",
        "showLink": true
       },
       "data": [
        {
         "domain": {
          "x": [
           0,
           0.48
          ],
          "y": [
           0,
           0.49
          ]
         },
         "hole": 0.4,
         "hoverinfo": "label+name",
         "labels": [
          "0-10,000",
          "50-60,000",
          "100-125,000",
          "80-90,000",
          "70-80,000",
          "90-100,000",
          "40-50,000",
          "125-150,000",
          "30-40,000",
          "150-200,000",
          "10-20,000",
          "20-30,000",
          "60-70,000",
          "500,000+",
          "200-250,000",
          "400-500,000",
          "250-300,000",
          "300-400,000"
         ],
         "name": "Compensation",
         "text": [
          "Compensation"
         ],
         "textposition": "inside",
         "type": "pie",
         "uid": "955751c6-a09b-4e2f-af31-c9c5117f2713",
         "values": [
          3228,
          281,
          244,
          135,
          207,
          180,
          196,
          136,
          345,
          121,
          364,
          262,
          212,
          19,
          45,
          5,
          16,
          14
         ]
        },
        {
         "domain": {
          "x": [
           0.52,
           1
          ],
          "y": [
           0,
           0.49
          ]
         },
         "hole": 0.4,
         "hoverinfo": "label+name",
         "labels": [
          "Female",
          "Male",
          "Prefer not to say",
          "Prefer to self-describe"
         ],
         "name": "Gender",
         "text": [
          "Gender"
         ],
         "textposition": "inside",
         "type": "pie",
         "uid": "7bf2fbae-8cd0-499b-8ca3-404a0381bf57",
         "values": [
          984,
          4957,
          43,
          26
         ]
        },
        {
         "domain": {
          "x": [
           0,
           0.48
          ],
          "y": [
           0.51,
           1
          ]
         },
         "hole": 0.4,
         "hoverinfo": "label+name",
         "labels": [
          "Computer science (software engineering, etc.)",
          "Mathematics or statistics",
          "Information technology, networking, or system administration",
          "Environmental science or geology",
          "Medical or life sciences (biology, chemistry, medicine, etc.)",
          "Other",
          "Humanities (history, literature, philosophy, etc.)",
          "A business discipline (accounting, economics, finance, etc.)",
          "Engineering (non-computer focused)",
          "I never declared a major",
          "Physics or astronomy",
          "Social sciences (anthropology, psychology, sociology, etc.)",
          "Fine arts or performing arts"
         ],
         "name": "Major",
         "text": [
          "Major"
         ],
         "textposition": "inside",
         "type": "pie",
         "uid": "8c7cb689-8777-4cc0-abf5-75948625e1db",
         "values": [
          4140,
          234,
          259,
          69,
          204,
          199,
          91,
          126,
          275,
          15,
          226,
          149,
          23
         ]
        },
        {
         "domain": {
          "x": [
           0.52,
           1
          ],
          "y": [
           0.51,
           1
          ]
         },
         "hole": 0.4,
         "hoverinfo": "label+name",
         "labels": [
          "Master’s degree",
          "Professional degree",
          "Some college/university study without earning a bachelor’s degree",
          "Bachelor’s degree",
          "Doctoral degree",
          "I prefer not to answer"
         ],
         "name": "Degree Level",
         "text": [
          "Degree Level"
         ],
         "textposition": "inside",
         "type": "pie",
         "uid": "b22ead4e-8b5f-4a4a-bb88-f97f1c4b7ce6",
         "values": [
          4366,
          170,
          265,
          1008,
          135,
          66
         ]
        }
       ],
       "layout": {
        "showlegend": false,
        "title": "Cluster 0 data"
       }
      },
      "text/html": [
       "<div id=\"4e4f3491-1593-43d0-9476-2e61de70340a\" style=\"height: 525px; width: 100%;\" class=\"plotly-graph-div\"></div><script type=\"text/javascript\">require([\"plotly\"], function(Plotly) { window.PLOTLYENV=window.PLOTLYENV || {};window.PLOTLYENV.BASE_URL=\"https://plot.ly\";Plotly.newPlot(\"4e4f3491-1593-43d0-9476-2e61de70340a\", [{\"domain\": {\"x\": [0, 0.48], \"y\": [0, 0.49]}, \"hole\": 0.4, \"hoverinfo\": \"label+name\", \"labels\": [\"0-10,000\", \"50-60,000\", \"100-125,000\", \"80-90,000\", \"70-80,000\", \"90-100,000\", \"40-50,000\", \"125-150,000\", \"30-40,000\", \"150-200,000\", \"10-20,000\", \"20-30,000\", \"60-70,000\", \"500,000+\", \"200-250,000\", \"400-500,000\", \"250-300,000\", \"300-400,000\"], \"name\": \"Compensation\", \"text\": [\"Compensation\"], \"textposition\": \"inside\", \"values\": [3228, 281, 244, 135, 207, 180, 196, 136, 345, 121, 364, 262, 212, 19, 45, 5, 16, 14], \"type\": \"pie\", \"uid\": \"1da77dd3-a66a-48cd-8e8e-ba491be7bc27\"}, {\"domain\": {\"x\": [0.52, 1], \"y\": [0, 0.49]}, \"hole\": 0.4, \"hoverinfo\": \"label+name\", \"labels\": [\"Female\", \"Male\", \"Prefer not to say\", \"Prefer to self-describe\"], \"name\": \"Gender\", \"text\": [\"Gender\"], \"textposition\": \"inside\", \"values\": [984, 4957, 43, 26], \"type\": \"pie\", \"uid\": \"47ae670c-8bfe-4104-abce-2d6686e2146d\"}, {\"domain\": {\"x\": [0, 0.48], \"y\": [0.51, 1]}, \"hole\": 0.4, \"hoverinfo\": \"label+name\", \"labels\": [\"Computer science (software engineering, etc.)\", \"Mathematics or statistics\", \"Information technology, networking, or system administration\", \"Environmental science or geology\", \"Medical or life sciences (biology, chemistry, medicine, etc.)\", \"Other\", \"Humanities (history, literature, philosophy, etc.)\", \"A business discipline (accounting, economics, finance, etc.)\", \"Engineering (non-computer focused)\", \"I never declared a major\", \"Physics or astronomy\", \"Social sciences (anthropology, psychology, sociology, etc.)\", \"Fine arts or performing arts\"], \"name\": \"Major\", \"text\": [\"Major\"], \"textposition\": \"inside\", \"values\": [4140, 234, 259, 69, 204, 199, 91, 126, 275, 15, 226, 149, 23], \"type\": \"pie\", \"uid\": \"e3631e59-21cf-46b9-91dc-c2945067faff\"}, {\"domain\": {\"x\": [0.52, 1], \"y\": [0.51, 1]}, \"hole\": 0.4, \"hoverinfo\": \"label+name\", \"labels\": [\"Master\\u2019s degree\", \"Professional degree\", \"Some college/university study without earning a bachelor\\u2019s degree\", \"Bachelor\\u2019s degree\", \"Doctoral degree\", \"I prefer not to answer\"], \"name\": \"Degree Level\", \"text\": [\"Degree Level\"], \"textposition\": \"inside\", \"values\": [4366, 170, 265, 1008, 135, 66], \"type\": \"pie\", \"uid\": \"75f0643c-5b8d-401f-8522-c6d7e223f024\"}], {\"showlegend\": false, \"title\": \"Cluster 0 data\"}, {\"showLink\": true, \"linkText\": \"Export to plot.ly\", \"plotlyServerURL\": \"https://plot.ly\"})});</script><script type=\"text/javascript\">window.addEventListener(\"resize\", function(){window._Plotly.Plots.resize(document.getElementById(\"4e4f3491-1593-43d0-9476-2e61de70340a\"));});</script>"
      ],
      "text/vnd.plotly.v1+html": [
       "<div id=\"4e4f3491-1593-43d0-9476-2e61de70340a\" style=\"height: 525px; width: 100%;\" class=\"plotly-graph-div\"></div><script type=\"text/javascript\">require([\"plotly\"], function(Plotly) { window.PLOTLYENV=window.PLOTLYENV || {};window.PLOTLYENV.BASE_URL=\"https://plot.ly\";Plotly.newPlot(\"4e4f3491-1593-43d0-9476-2e61de70340a\", [{\"domain\": {\"x\": [0, 0.48], \"y\": [0, 0.49]}, \"hole\": 0.4, \"hoverinfo\": \"label+name\", \"labels\": [\"0-10,000\", \"50-60,000\", \"100-125,000\", \"80-90,000\", \"70-80,000\", \"90-100,000\", \"40-50,000\", \"125-150,000\", \"30-40,000\", \"150-200,000\", \"10-20,000\", \"20-30,000\", \"60-70,000\", \"500,000+\", \"200-250,000\", \"400-500,000\", \"250-300,000\", \"300-400,000\"], \"name\": \"Compensation\", \"text\": [\"Compensation\"], \"textposition\": \"inside\", \"values\": [3228, 281, 244, 135, 207, 180, 196, 136, 345, 121, 364, 262, 212, 19, 45, 5, 16, 14], \"type\": \"pie\", \"uid\": \"1da77dd3-a66a-48cd-8e8e-ba491be7bc27\"}, {\"domain\": {\"x\": [0.52, 1], \"y\": [0, 0.49]}, \"hole\": 0.4, \"hoverinfo\": \"label+name\", \"labels\": [\"Female\", \"Male\", \"Prefer not to say\", \"Prefer to self-describe\"], \"name\": \"Gender\", \"text\": [\"Gender\"], \"textposition\": \"inside\", \"values\": [984, 4957, 43, 26], \"type\": \"pie\", \"uid\": \"47ae670c-8bfe-4104-abce-2d6686e2146d\"}, {\"domain\": {\"x\": [0, 0.48], \"y\": [0.51, 1]}, \"hole\": 0.4, \"hoverinfo\": \"label+name\", \"labels\": [\"Computer science (software engineering, etc.)\", \"Mathematics or statistics\", \"Information technology, networking, or system administration\", \"Environmental science or geology\", \"Medical or life sciences (biology, chemistry, medicine, etc.)\", \"Other\", \"Humanities (history, literature, philosophy, etc.)\", \"A business discipline (accounting, economics, finance, etc.)\", \"Engineering (non-computer focused)\", \"I never declared a major\", \"Physics or astronomy\", \"Social sciences (anthropology, psychology, sociology, etc.)\", \"Fine arts or performing arts\"], \"name\": \"Major\", \"text\": [\"Major\"], \"textposition\": \"inside\", \"values\": [4140, 234, 259, 69, 204, 199, 91, 126, 275, 15, 226, 149, 23], \"type\": \"pie\", \"uid\": \"e3631e59-21cf-46b9-91dc-c2945067faff\"}, {\"domain\": {\"x\": [0.52, 1], \"y\": [0.51, 1]}, \"hole\": 0.4, \"hoverinfo\": \"label+name\", \"labels\": [\"Master\\u2019s degree\", \"Professional degree\", \"Some college/university study without earning a bachelor\\u2019s degree\", \"Bachelor\\u2019s degree\", \"Doctoral degree\", \"I prefer not to answer\"], \"name\": \"Degree Level\", \"text\": [\"Degree Level\"], \"textposition\": \"inside\", \"values\": [4366, 170, 265, 1008, 135, 66], \"type\": \"pie\", \"uid\": \"75f0643c-5b8d-401f-8522-c6d7e223f024\"}], {\"showlegend\": false, \"title\": \"Cluster 0 data\"}, {\"showLink\": true, \"linkText\": \"Export to plot.ly\", \"plotlyServerURL\": \"https://plot.ly\"})});</script><script type=\"text/javascript\">window.addEventListener(\"resize\", function(){window._Plotly.Plots.resize(document.getElementById(\"4e4f3491-1593-43d0-9476-2e61de70340a\"));});</script>"
      ]
     },
     "metadata": {},
     "output_type": "display_data"
    },
    {
     "name": "stdout",
     "output_type": "stream",
     "text": [
      "This is the format of your plot grid:\n",
      "[ (1,1) x1,y1 ]  [ (1,2) x2,y2 ]\n",
      "[ (2,1) x3,y3 ]  [ (2,2) x4,y4 ]\n",
      "\n"
     ]
    },
    {
     "data": {
      "application/vnd.plotly.v1+json": {
       "config": {
        "linkText": "Export to plot.ly",
        "plotlyServerURL": "https://plot.ly",
        "showLink": true
       },
       "data": [
        {
         "domain": {
          "x": [
           0,
           0.48
          ],
          "y": [
           0,
           0.49
          ]
         },
         "hole": 0.4,
         "hoverinfo": "label+name",
         "labels": [
          "10-20,000",
          "90-100,000",
          "0-10,000",
          "60-70,000",
          "30-40,000",
          "20-30,000",
          "50-60,000",
          "70-80,000",
          "40-50,000",
          "300-400,000",
          "150-200,000",
          "500,000+",
          "100-125,000",
          "80-90,000",
          "125-150,000",
          "200-250,000",
          "250-300,000",
          "400-500,000"
         ],
         "name": "Compensation",
         "text": [
          "Compensation"
         ],
         "textposition": "inside",
         "type": "pie",
         "uid": "8bec6a6a-1e6c-4fe6-b596-fd0211cc9d3b",
         "values": [
          824,
          57,
          282,
          100,
          87,
          55,
          98,
          83,
          95,
          5,
          44,
          10,
          87,
          60,
          66,
          11,
          8,
          3
         ]
        },
        {
         "domain": {
          "x": [
           0.52,
           1
          ],
          "y": [
           0,
           0.49
          ]
         },
         "hole": 0.4,
         "hoverinfo": "label+name",
         "labels": [
          "Male",
          "Female",
          "Prefer not to say",
          "Prefer to self-describe"
         ],
         "name": "Gender",
         "text": [
          "Gender"
         ],
         "textposition": "inside",
         "type": "pie",
         "uid": "3910656f-19b5-4313-979e-39dfb7095ca5",
         "values": [
          1731,
          221,
          21,
          2
         ]
        },
        {
         "domain": {
          "x": [
           0,
           0.48
          ],
          "y": [
           0.51,
           1
          ]
         },
         "hole": 0.4,
         "hoverinfo": "label+name",
         "labels": [
          "Engineering (non-computer focused)",
          "A business discipline (accounting, economics, finance, etc.)",
          "Computer science (software engineering, etc.)",
          "Mathematics or statistics",
          "Social sciences (anthropology, psychology, sociology, etc.)",
          "Other",
          "Humanities (history, literature, philosophy, etc.)",
          "Information technology, networking, or system administration",
          "Medical or life sciences (biology, chemistry, medicine, etc.)",
          "Environmental science or geology",
          "Fine arts or performing arts",
          "Physics or astronomy",
          "I never declared a major"
         ],
         "name": "Major",
         "text": [
          "Major"
         ],
         "textposition": "inside",
         "type": "pie",
         "uid": "b76091a5-75c4-4693-ac3f-30fd0abc07e3",
         "values": [
          963,
          190,
          286,
          52,
          65,
          92,
          33,
          108,
          70,
          23,
          17,
          70,
          6
         ]
        },
        {
         "domain": {
          "x": [
           0.52,
           1
          ],
          "y": [
           0.51,
           1
          ]
         },
         "hole": 0.4,
         "hoverinfo": "label+name",
         "labels": [
          "Bachelor’s degree",
          "Master’s degree",
          "I prefer not to answer",
          "Some college/university study without earning a bachelor’s degree",
          "Professional degree",
          "Doctoral degree"
         ],
         "name": "Degree Level",
         "text": [
          "Degree Level"
         ],
         "textposition": "inside",
         "type": "pie",
         "uid": "efbd4711-674b-46cd-88c4-01c8637571bf",
         "values": [
          1685,
          162,
          14,
          27,
          44,
          43
         ]
        }
       ],
       "layout": {
        "showlegend": false,
        "title": "Cluster 1 data"
       }
      },
      "text/html": [
       "<div id=\"1566ec43-dd16-4644-a9a8-03cd22ea3673\" style=\"height: 525px; width: 100%;\" class=\"plotly-graph-div\"></div><script type=\"text/javascript\">require([\"plotly\"], function(Plotly) { window.PLOTLYENV=window.PLOTLYENV || {};window.PLOTLYENV.BASE_URL=\"https://plot.ly\";Plotly.newPlot(\"1566ec43-dd16-4644-a9a8-03cd22ea3673\", [{\"domain\": {\"x\": [0, 0.48], \"y\": [0, 0.49]}, \"hole\": 0.4, \"hoverinfo\": \"label+name\", \"labels\": [\"10-20,000\", \"90-100,000\", \"0-10,000\", \"60-70,000\", \"30-40,000\", \"20-30,000\", \"50-60,000\", \"70-80,000\", \"40-50,000\", \"300-400,000\", \"150-200,000\", \"500,000+\", \"100-125,000\", \"80-90,000\", \"125-150,000\", \"200-250,000\", \"250-300,000\", \"400-500,000\"], \"name\": \"Compensation\", \"text\": [\"Compensation\"], \"textposition\": \"inside\", \"values\": [824, 57, 282, 100, 87, 55, 98, 83, 95, 5, 44, 10, 87, 60, 66, 11, 8, 3], \"type\": \"pie\", \"uid\": \"ea4e087c-a427-43fd-ba73-4fa3e0db61d4\"}, {\"domain\": {\"x\": [0.52, 1], \"y\": [0, 0.49]}, \"hole\": 0.4, \"hoverinfo\": \"label+name\", \"labels\": [\"Male\", \"Female\", \"Prefer not to say\", \"Prefer to self-describe\"], \"name\": \"Gender\", \"text\": [\"Gender\"], \"textposition\": \"inside\", \"values\": [1731, 221, 21, 2], \"type\": \"pie\", \"uid\": \"414d3689-a249-4ae9-92fd-c9c643c4c9d7\"}, {\"domain\": {\"x\": [0, 0.48], \"y\": [0.51, 1]}, \"hole\": 0.4, \"hoverinfo\": \"label+name\", \"labels\": [\"Engineering (non-computer focused)\", \"A business discipline (accounting, economics, finance, etc.)\", \"Computer science (software engineering, etc.)\", \"Mathematics or statistics\", \"Social sciences (anthropology, psychology, sociology, etc.)\", \"Other\", \"Humanities (history, literature, philosophy, etc.)\", \"Information technology, networking, or system administration\", \"Medical or life sciences (biology, chemistry, medicine, etc.)\", \"Environmental science or geology\", \"Fine arts or performing arts\", \"Physics or astronomy\", \"I never declared a major\"], \"name\": \"Major\", \"text\": [\"Major\"], \"textposition\": \"inside\", \"values\": [963, 190, 286, 52, 65, 92, 33, 108, 70, 23, 17, 70, 6], \"type\": \"pie\", \"uid\": \"1dd08cac-3898-45ec-9637-400f34283ae2\"}, {\"domain\": {\"x\": [0.52, 1], \"y\": [0.51, 1]}, \"hole\": 0.4, \"hoverinfo\": \"label+name\", \"labels\": [\"Bachelor\\u2019s degree\", \"Master\\u2019s degree\", \"I prefer not to answer\", \"Some college/university study without earning a bachelor\\u2019s degree\", \"Professional degree\", \"Doctoral degree\"], \"name\": \"Degree Level\", \"text\": [\"Degree Level\"], \"textposition\": \"inside\", \"values\": [1685, 162, 14, 27, 44, 43], \"type\": \"pie\", \"uid\": \"b9d48b9c-a8e4-4402-be91-521c9b43e478\"}], {\"showlegend\": false, \"title\": \"Cluster 1 data\"}, {\"showLink\": true, \"linkText\": \"Export to plot.ly\", \"plotlyServerURL\": \"https://plot.ly\"})});</script><script type=\"text/javascript\">window.addEventListener(\"resize\", function(){window._Plotly.Plots.resize(document.getElementById(\"1566ec43-dd16-4644-a9a8-03cd22ea3673\"));});</script>"
      ],
      "text/vnd.plotly.v1+html": [
       "<div id=\"1566ec43-dd16-4644-a9a8-03cd22ea3673\" style=\"height: 525px; width: 100%;\" class=\"plotly-graph-div\"></div><script type=\"text/javascript\">require([\"plotly\"], function(Plotly) { window.PLOTLYENV=window.PLOTLYENV || {};window.PLOTLYENV.BASE_URL=\"https://plot.ly\";Plotly.newPlot(\"1566ec43-dd16-4644-a9a8-03cd22ea3673\", [{\"domain\": {\"x\": [0, 0.48], \"y\": [0, 0.49]}, \"hole\": 0.4, \"hoverinfo\": \"label+name\", \"labels\": [\"10-20,000\", \"90-100,000\", \"0-10,000\", \"60-70,000\", \"30-40,000\", \"20-30,000\", \"50-60,000\", \"70-80,000\", \"40-50,000\", \"300-400,000\", \"150-200,000\", \"500,000+\", \"100-125,000\", \"80-90,000\", \"125-150,000\", \"200-250,000\", \"250-300,000\", \"400-500,000\"], \"name\": \"Compensation\", \"text\": [\"Compensation\"], \"textposition\": \"inside\", \"values\": [824, 57, 282, 100, 87, 55, 98, 83, 95, 5, 44, 10, 87, 60, 66, 11, 8, 3], \"type\": \"pie\", \"uid\": \"ea4e087c-a427-43fd-ba73-4fa3e0db61d4\"}, {\"domain\": {\"x\": [0.52, 1], \"y\": [0, 0.49]}, \"hole\": 0.4, \"hoverinfo\": \"label+name\", \"labels\": [\"Male\", \"Female\", \"Prefer not to say\", \"Prefer to self-describe\"], \"name\": \"Gender\", \"text\": [\"Gender\"], \"textposition\": \"inside\", \"values\": [1731, 221, 21, 2], \"type\": \"pie\", \"uid\": \"414d3689-a249-4ae9-92fd-c9c643c4c9d7\"}, {\"domain\": {\"x\": [0, 0.48], \"y\": [0.51, 1]}, \"hole\": 0.4, \"hoverinfo\": \"label+name\", \"labels\": [\"Engineering (non-computer focused)\", \"A business discipline (accounting, economics, finance, etc.)\", \"Computer science (software engineering, etc.)\", \"Mathematics or statistics\", \"Social sciences (anthropology, psychology, sociology, etc.)\", \"Other\", \"Humanities (history, literature, philosophy, etc.)\", \"Information technology, networking, or system administration\", \"Medical or life sciences (biology, chemistry, medicine, etc.)\", \"Environmental science or geology\", \"Fine arts or performing arts\", \"Physics or astronomy\", \"I never declared a major\"], \"name\": \"Major\", \"text\": [\"Major\"], \"textposition\": \"inside\", \"values\": [963, 190, 286, 52, 65, 92, 33, 108, 70, 23, 17, 70, 6], \"type\": \"pie\", \"uid\": \"1dd08cac-3898-45ec-9637-400f34283ae2\"}, {\"domain\": {\"x\": [0.52, 1], \"y\": [0.51, 1]}, \"hole\": 0.4, \"hoverinfo\": \"label+name\", \"labels\": [\"Bachelor\\u2019s degree\", \"Master\\u2019s degree\", \"I prefer not to answer\", \"Some college/university study without earning a bachelor\\u2019s degree\", \"Professional degree\", \"Doctoral degree\"], \"name\": \"Degree Level\", \"text\": [\"Degree Level\"], \"textposition\": \"inside\", \"values\": [1685, 162, 14, 27, 44, 43], \"type\": \"pie\", \"uid\": \"b9d48b9c-a8e4-4402-be91-521c9b43e478\"}], {\"showlegend\": false, \"title\": \"Cluster 1 data\"}, {\"showLink\": true, \"linkText\": \"Export to plot.ly\", \"plotlyServerURL\": \"https://plot.ly\"})});</script><script type=\"text/javascript\">window.addEventListener(\"resize\", function(){window._Plotly.Plots.resize(document.getElementById(\"1566ec43-dd16-4644-a9a8-03cd22ea3673\"));});</script>"
      ]
     },
     "metadata": {},
     "output_type": "display_data"
    },
    {
     "name": "stdout",
     "output_type": "stream",
     "text": [
      "This is the format of your plot grid:\n",
      "[ (1,1) x1,y1 ]  [ (1,2) x2,y2 ]\n",
      "[ (2,1) x3,y3 ]  [ (2,2) x4,y4 ]\n",
      "\n"
     ]
    },
    {
     "data": {
      "application/vnd.plotly.v1+json": {
       "config": {
        "linkText": "Export to plot.ly",
        "plotlyServerURL": "https://plot.ly",
        "showLink": true
       },
       "data": [
        {
         "domain": {
          "x": [
           0,
           0.48
          ],
          "y": [
           0,
           0.49
          ]
         },
         "hole": 0.4,
         "hoverinfo": "label+name",
         "labels": [
          "80-90,000",
          "20-30,000",
          "70-80,000",
          "30-40,000",
          "125-150,000",
          "100-125,000",
          "150-200,000",
          "40-50,000",
          "50-60,000",
          "10-20,000",
          "0-10,000",
          "60-70,000",
          "90-100,000",
          "300-400,000",
          "250-300,000",
          "200-250,000",
          "400-500,000",
          "500,000+"
         ],
         "name": "Compensation",
         "text": [
          "Compensation"
         ],
         "textposition": "inside",
         "type": "pie",
         "uid": "cd4c4f0f-504b-46c2-a826-8085c5239fcd",
         "values": [
          68,
          452,
          81,
          126,
          90,
          126,
          84,
          108,
          107,
          34,
          45,
          105,
          77,
          15,
          14,
          37,
          5,
          8
         ]
        },
        {
         "domain": {
          "x": [
           0.52,
           1
          ],
          "y": [
           0,
           0.49
          ]
         },
         "hole": 0.4,
         "hoverinfo": "label+name",
         "labels": [
          "Male",
          "Female",
          "Prefer to self-describe",
          "Prefer not to say"
         ],
         "name": "Gender",
         "text": [
          "Gender"
         ],
         "textposition": "inside",
         "type": "pie",
         "uid": "a0e4455f-0be1-4364-958f-8cb4b7b616eb",
         "values": [
          1280,
          285,
          6,
          11
         ]
        },
        {
         "domain": {
          "x": [
           0,
           0.48
          ],
          "y": [
           0.51,
           1
          ]
         },
         "hole": 0.4,
         "hoverinfo": "label+name",
         "labels": [
          "Physics or astronomy",
          "Engineering (non-computer focused)",
          "Mathematics or statistics",
          "Social sciences (anthropology, psychology, sociology, etc.)",
          "Other",
          "Humanities (history, literature, philosophy, etc.)",
          "Information technology, networking, or system administration",
          "Computer science (software engineering, etc.)",
          "Environmental science or geology",
          "A business discipline (accounting, economics, finance, etc.)",
          "Medical or life sciences (biology, chemistry, medicine, etc.)",
          "I never declared a major",
          "Fine arts or performing arts"
         ],
         "name": "Major",
         "text": [
          "Major"
         ],
         "textposition": "inside",
         "type": "pie",
         "uid": "e086f3d8-3f1c-44d7-93e8-1afbb8456723",
         "values": [
          324,
          37,
          581,
          97,
          51,
          39,
          44,
          87,
          37,
          80,
          193,
          8,
          4
         ]
        },
        {
         "domain": {
          "x": [
           0.52,
           1
          ],
          "y": [
           0.51,
           1
          ]
         },
         "hole": 0.4,
         "hoverinfo": "label+name",
         "labels": [
          "Doctoral degree",
          "Master’s degree",
          "Professional degree",
          "Some college/university study without earning a bachelor’s degree",
          "I prefer not to answer",
          "Bachelor’s degree"
         ],
         "name": "Degree Level",
         "text": [
          "Degree Level"
         ],
         "textposition": "inside",
         "type": "pie",
         "uid": "8d8e6a6b-0d5b-4d1e-8f38-478508b56db0",
         "values": [
          1334,
          100,
          56,
          44,
          11,
          37
         ]
        }
       ],
       "layout": {
        "showlegend": false,
        "title": "Cluster 2 data"
       }
      },
      "text/html": [
       "<div id=\"6e32ccff-f15c-4f86-823a-9b8391fc8219\" style=\"height: 525px; width: 100%;\" class=\"plotly-graph-div\"></div><script type=\"text/javascript\">require([\"plotly\"], function(Plotly) { window.PLOTLYENV=window.PLOTLYENV || {};window.PLOTLYENV.BASE_URL=\"https://plot.ly\";Plotly.newPlot(\"6e32ccff-f15c-4f86-823a-9b8391fc8219\", [{\"domain\": {\"x\": [0, 0.48], \"y\": [0, 0.49]}, \"hole\": 0.4, \"hoverinfo\": \"label+name\", \"labels\": [\"80-90,000\", \"20-30,000\", \"70-80,000\", \"30-40,000\", \"125-150,000\", \"100-125,000\", \"150-200,000\", \"40-50,000\", \"50-60,000\", \"10-20,000\", \"0-10,000\", \"60-70,000\", \"90-100,000\", \"300-400,000\", \"250-300,000\", \"200-250,000\", \"400-500,000\", \"500,000+\"], \"name\": \"Compensation\", \"text\": [\"Compensation\"], \"textposition\": \"inside\", \"values\": [68, 452, 81, 126, 90, 126, 84, 108, 107, 34, 45, 105, 77, 15, 14, 37, 5, 8], \"type\": \"pie\", \"uid\": \"f4bdb79d-df5f-4d23-b121-16c8a1e0e2d9\"}, {\"domain\": {\"x\": [0.52, 1], \"y\": [0, 0.49]}, \"hole\": 0.4, \"hoverinfo\": \"label+name\", \"labels\": [\"Male\", \"Female\", \"Prefer to self-describe\", \"Prefer not to say\"], \"name\": \"Gender\", \"text\": [\"Gender\"], \"textposition\": \"inside\", \"values\": [1280, 285, 6, 11], \"type\": \"pie\", \"uid\": \"9271e112-43ac-442c-94b7-e7acdd005414\"}, {\"domain\": {\"x\": [0, 0.48], \"y\": [0.51, 1]}, \"hole\": 0.4, \"hoverinfo\": \"label+name\", \"labels\": [\"Physics or astronomy\", \"Engineering (non-computer focused)\", \"Mathematics or statistics\", \"Social sciences (anthropology, psychology, sociology, etc.)\", \"Other\", \"Humanities (history, literature, philosophy, etc.)\", \"Information technology, networking, or system administration\", \"Computer science (software engineering, etc.)\", \"Environmental science or geology\", \"A business discipline (accounting, economics, finance, etc.)\", \"Medical or life sciences (biology, chemistry, medicine, etc.)\", \"I never declared a major\", \"Fine arts or performing arts\"], \"name\": \"Major\", \"text\": [\"Major\"], \"textposition\": \"inside\", \"values\": [324, 37, 581, 97, 51, 39, 44, 87, 37, 80, 193, 8, 4], \"type\": \"pie\", \"uid\": \"9324088a-8b90-4677-ab15-492c73dfc2fd\"}, {\"domain\": {\"x\": [0.52, 1], \"y\": [0.51, 1]}, \"hole\": 0.4, \"hoverinfo\": \"label+name\", \"labels\": [\"Doctoral degree\", \"Master\\u2019s degree\", \"Professional degree\", \"Some college/university study without earning a bachelor\\u2019s degree\", \"I prefer not to answer\", \"Bachelor\\u2019s degree\"], \"name\": \"Degree Level\", \"text\": [\"Degree Level\"], \"textposition\": \"inside\", \"values\": [1334, 100, 56, 44, 11, 37], \"type\": \"pie\", \"uid\": \"5bd96946-aa3f-4b46-940d-5d6778f96ede\"}], {\"showlegend\": false, \"title\": \"Cluster 2 data\"}, {\"showLink\": true, \"linkText\": \"Export to plot.ly\", \"plotlyServerURL\": \"https://plot.ly\"})});</script><script type=\"text/javascript\">window.addEventListener(\"resize\", function(){window._Plotly.Plots.resize(document.getElementById(\"6e32ccff-f15c-4f86-823a-9b8391fc8219\"));});</script>"
      ],
      "text/vnd.plotly.v1+html": [
       "<div id=\"6e32ccff-f15c-4f86-823a-9b8391fc8219\" style=\"height: 525px; width: 100%;\" class=\"plotly-graph-div\"></div><script type=\"text/javascript\">require([\"plotly\"], function(Plotly) { window.PLOTLYENV=window.PLOTLYENV || {};window.PLOTLYENV.BASE_URL=\"https://plot.ly\";Plotly.newPlot(\"6e32ccff-f15c-4f86-823a-9b8391fc8219\", [{\"domain\": {\"x\": [0, 0.48], \"y\": [0, 0.49]}, \"hole\": 0.4, \"hoverinfo\": \"label+name\", \"labels\": [\"80-90,000\", \"20-30,000\", \"70-80,000\", \"30-40,000\", \"125-150,000\", \"100-125,000\", \"150-200,000\", \"40-50,000\", \"50-60,000\", \"10-20,000\", \"0-10,000\", \"60-70,000\", \"90-100,000\", \"300-400,000\", \"250-300,000\", \"200-250,000\", \"400-500,000\", \"500,000+\"], \"name\": \"Compensation\", \"text\": [\"Compensation\"], \"textposition\": \"inside\", \"values\": [68, 452, 81, 126, 90, 126, 84, 108, 107, 34, 45, 105, 77, 15, 14, 37, 5, 8], \"type\": \"pie\", \"uid\": \"f4bdb79d-df5f-4d23-b121-16c8a1e0e2d9\"}, {\"domain\": {\"x\": [0.52, 1], \"y\": [0, 0.49]}, \"hole\": 0.4, \"hoverinfo\": \"label+name\", \"labels\": [\"Male\", \"Female\", \"Prefer to self-describe\", \"Prefer not to say\"], \"name\": \"Gender\", \"text\": [\"Gender\"], \"textposition\": \"inside\", \"values\": [1280, 285, 6, 11], \"type\": \"pie\", \"uid\": \"9271e112-43ac-442c-94b7-e7acdd005414\"}, {\"domain\": {\"x\": [0, 0.48], \"y\": [0.51, 1]}, \"hole\": 0.4, \"hoverinfo\": \"label+name\", \"labels\": [\"Physics or astronomy\", \"Engineering (non-computer focused)\", \"Mathematics or statistics\", \"Social sciences (anthropology, psychology, sociology, etc.)\", \"Other\", \"Humanities (history, literature, philosophy, etc.)\", \"Information technology, networking, or system administration\", \"Computer science (software engineering, etc.)\", \"Environmental science or geology\", \"A business discipline (accounting, economics, finance, etc.)\", \"Medical or life sciences (biology, chemistry, medicine, etc.)\", \"I never declared a major\", \"Fine arts or performing arts\"], \"name\": \"Major\", \"text\": [\"Major\"], \"textposition\": \"inside\", \"values\": [324, 37, 581, 97, 51, 39, 44, 87, 37, 80, 193, 8, 4], \"type\": \"pie\", \"uid\": \"9324088a-8b90-4677-ab15-492c73dfc2fd\"}, {\"domain\": {\"x\": [0.52, 1], \"y\": [0.51, 1]}, \"hole\": 0.4, \"hoverinfo\": \"label+name\", \"labels\": [\"Doctoral degree\", \"Master\\u2019s degree\", \"Professional degree\", \"Some college/university study without earning a bachelor\\u2019s degree\", \"I prefer not to answer\", \"Bachelor\\u2019s degree\"], \"name\": \"Degree Level\", \"text\": [\"Degree Level\"], \"textposition\": \"inside\", \"values\": [1334, 100, 56, 44, 11, 37], \"type\": \"pie\", \"uid\": \"5bd96946-aa3f-4b46-940d-5d6778f96ede\"}], {\"showlegend\": false, \"title\": \"Cluster 2 data\"}, {\"showLink\": true, \"linkText\": \"Export to plot.ly\", \"plotlyServerURL\": \"https://plot.ly\"})});</script><script type=\"text/javascript\">window.addEventListener(\"resize\", function(){window._Plotly.Plots.resize(document.getElementById(\"6e32ccff-f15c-4f86-823a-9b8391fc8219\"));});</script>"
      ]
     },
     "metadata": {},
     "output_type": "display_data"
    },
    {
     "name": "stdout",
     "output_type": "stream",
     "text": [
      "This is the format of your plot grid:\n",
      "[ (1,1) x1,y1 ]  [ (1,2) x2,y2 ]\n",
      "[ (2,1) x3,y3 ]  [ (2,2) x4,y4 ]\n",
      "\n"
     ]
    },
    {
     "data": {
      "application/vnd.plotly.v1+json": {
       "config": {
        "linkText": "Export to plot.ly",
        "plotlyServerURL": "https://plot.ly",
        "showLink": true
       },
       "data": [
        {
         "domain": {
          "x": [
           0,
           0.48
          ],
          "y": [
           0,
           0.49
          ]
         },
         "hole": 0.4,
         "hoverinfo": "label+name",
         "labels": [
          "50-60,000",
          "30-40,000",
          "20-30,000",
          "70-80,000",
          "100-125,000",
          "40-50,000",
          "125-150,000",
          "90-100,000",
          "80-90,000",
          "60-70,000",
          "200-250,000",
          "150-200,000",
          "300-400,000",
          "250-300,000",
          "400-500,000",
          "500,000+"
         ],
         "name": "Compensation",
         "text": [
          "Compensation"
         ],
         "textposition": "inside",
         "type": "pie",
         "uid": "cf7358c0-e376-4df1-9ef2-ff3376987ee3",
         "values": [
          62,
          108,
          291,
          62,
          63,
          72,
          38,
          50,
          45,
          56,
          7,
          38,
          6,
          4,
          1,
          9
         ]
        },
        {
         "domain": {
          "x": [
           0.52,
           1
          ],
          "y": [
           0,
           0.49
          ]
         },
         "hole": 0.4,
         "hoverinfo": "label+name",
         "labels": [
          "Male",
          "Female",
          "Prefer not to say",
          "Prefer to self-describe"
         ],
         "name": "Gender",
         "text": [
          "Gender"
         ],
         "textposition": "inside",
         "type": "pie",
         "uid": "dce1b5c0-8056-4155-8fa2-483f3b06b7c8",
         "values": [
          822,
          78,
          7,
          5
         ]
        },
        {
         "domain": {
          "x": [
           0,
           0.48
          ],
          "y": [
           0.51,
           1
          ]
         },
         "hole": 0.4,
         "hoverinfo": "label+name",
         "labels": [
          "Computer science (software engineering, etc.)",
          "Medical or life sciences (biology, chemistry, medicine, etc.)",
          "Information technology, networking, or system administration",
          "Other",
          "A business discipline (accounting, economics, finance, etc.)",
          "Social sciences (anthropology, psychology, sociology, etc.)",
          "Physics or astronomy",
          "Humanities (history, literature, philosophy, etc.)",
          "I never declared a major",
          "Environmental science or geology",
          "Fine arts or performing arts"
         ],
         "name": "Major",
         "text": [
          "Major"
         ],
         "textposition": "inside",
         "type": "pie",
         "uid": "e7538d62-4095-4a68-a880-e4330ec93252",
         "values": [
          814,
          8,
          14,
          16,
          29,
          7,
          13,
          5,
          3,
          2,
          1
         ]
        },
        {
         "domain": {
          "x": [
           0.52,
           1
          ],
          "y": [
           0.51,
           1
          ]
         },
         "hole": 0.4,
         "hoverinfo": "label+name",
         "labels": [
          "Bachelor’s degree",
          "Some college/university study without earning a bachelor’s degree",
          "Professional degree",
          "I prefer not to answer"
         ],
         "name": "Degree Level",
         "text": [
          "Degree Level"
         ],
         "textposition": "inside",
         "type": "pie",
         "uid": "17866ecf-c5b9-4394-b8d9-e9983180f47a",
         "values": [
          870,
          22,
          15,
          5
         ]
        }
       ],
       "layout": {
        "showlegend": false,
        "title": "Cluster 3 data"
       }
      },
      "text/html": [
       "<div id=\"9ebb81d1-7570-4475-8492-929f5e6d08ea\" style=\"height: 525px; width: 100%;\" class=\"plotly-graph-div\"></div><script type=\"text/javascript\">require([\"plotly\"], function(Plotly) { window.PLOTLYENV=window.PLOTLYENV || {};window.PLOTLYENV.BASE_URL=\"https://plot.ly\";Plotly.newPlot(\"9ebb81d1-7570-4475-8492-929f5e6d08ea\", [{\"domain\": {\"x\": [0, 0.48], \"y\": [0, 0.49]}, \"hole\": 0.4, \"hoverinfo\": \"label+name\", \"labels\": [\"50-60,000\", \"30-40,000\", \"20-30,000\", \"70-80,000\", \"100-125,000\", \"40-50,000\", \"125-150,000\", \"90-100,000\", \"80-90,000\", \"60-70,000\", \"200-250,000\", \"150-200,000\", \"300-400,000\", \"250-300,000\", \"400-500,000\", \"500,000+\"], \"name\": \"Compensation\", \"text\": [\"Compensation\"], \"textposition\": \"inside\", \"values\": [62, 108, 291, 62, 63, 72, 38, 50, 45, 56, 7, 38, 6, 4, 1, 9], \"type\": \"pie\", \"uid\": \"147b1936-2625-4876-be86-9b3ec5a24765\"}, {\"domain\": {\"x\": [0.52, 1], \"y\": [0, 0.49]}, \"hole\": 0.4, \"hoverinfo\": \"label+name\", \"labels\": [\"Male\", \"Female\", \"Prefer not to say\", \"Prefer to self-describe\"], \"name\": \"Gender\", \"text\": [\"Gender\"], \"textposition\": \"inside\", \"values\": [822, 78, 7, 5], \"type\": \"pie\", \"uid\": \"09c4c1a8-8348-4d4b-9d9a-4698a361116b\"}, {\"domain\": {\"x\": [0, 0.48], \"y\": [0.51, 1]}, \"hole\": 0.4, \"hoverinfo\": \"label+name\", \"labels\": [\"Computer science (software engineering, etc.)\", \"Medical or life sciences (biology, chemistry, medicine, etc.)\", \"Information technology, networking, or system administration\", \"Other\", \"A business discipline (accounting, economics, finance, etc.)\", \"Social sciences (anthropology, psychology, sociology, etc.)\", \"Physics or astronomy\", \"Humanities (history, literature, philosophy, etc.)\", \"I never declared a major\", \"Environmental science or geology\", \"Fine arts or performing arts\"], \"name\": \"Major\", \"text\": [\"Major\"], \"textposition\": \"inside\", \"values\": [814, 8, 14, 16, 29, 7, 13, 5, 3, 2, 1], \"type\": \"pie\", \"uid\": \"ef328e9e-d468-4824-91ca-46438f5e791d\"}, {\"domain\": {\"x\": [0.52, 1], \"y\": [0.51, 1]}, \"hole\": 0.4, \"hoverinfo\": \"label+name\", \"labels\": [\"Bachelor\\u2019s degree\", \"Some college/university study without earning a bachelor\\u2019s degree\", \"Professional degree\", \"I prefer not to answer\"], \"name\": \"Degree Level\", \"text\": [\"Degree Level\"], \"textposition\": \"inside\", \"values\": [870, 22, 15, 5], \"type\": \"pie\", \"uid\": \"692c21bd-1ba5-42b0-bde9-a11990f6ed45\"}], {\"showlegend\": false, \"title\": \"Cluster 3 data\"}, {\"showLink\": true, \"linkText\": \"Export to plot.ly\", \"plotlyServerURL\": \"https://plot.ly\"})});</script><script type=\"text/javascript\">window.addEventListener(\"resize\", function(){window._Plotly.Plots.resize(document.getElementById(\"9ebb81d1-7570-4475-8492-929f5e6d08ea\"));});</script>"
      ],
      "text/vnd.plotly.v1+html": [
       "<div id=\"9ebb81d1-7570-4475-8492-929f5e6d08ea\" style=\"height: 525px; width: 100%;\" class=\"plotly-graph-div\"></div><script type=\"text/javascript\">require([\"plotly\"], function(Plotly) { window.PLOTLYENV=window.PLOTLYENV || {};window.PLOTLYENV.BASE_URL=\"https://plot.ly\";Plotly.newPlot(\"9ebb81d1-7570-4475-8492-929f5e6d08ea\", [{\"domain\": {\"x\": [0, 0.48], \"y\": [0, 0.49]}, \"hole\": 0.4, \"hoverinfo\": \"label+name\", \"labels\": [\"50-60,000\", \"30-40,000\", \"20-30,000\", \"70-80,000\", \"100-125,000\", \"40-50,000\", \"125-150,000\", \"90-100,000\", \"80-90,000\", \"60-70,000\", \"200-250,000\", \"150-200,000\", \"300-400,000\", \"250-300,000\", \"400-500,000\", \"500,000+\"], \"name\": \"Compensation\", \"text\": [\"Compensation\"], \"textposition\": \"inside\", \"values\": [62, 108, 291, 62, 63, 72, 38, 50, 45, 56, 7, 38, 6, 4, 1, 9], \"type\": \"pie\", \"uid\": \"147b1936-2625-4876-be86-9b3ec5a24765\"}, {\"domain\": {\"x\": [0.52, 1], \"y\": [0, 0.49]}, \"hole\": 0.4, \"hoverinfo\": \"label+name\", \"labels\": [\"Male\", \"Female\", \"Prefer not to say\", \"Prefer to self-describe\"], \"name\": \"Gender\", \"text\": [\"Gender\"], \"textposition\": \"inside\", \"values\": [822, 78, 7, 5], \"type\": \"pie\", \"uid\": \"09c4c1a8-8348-4d4b-9d9a-4698a361116b\"}, {\"domain\": {\"x\": [0, 0.48], \"y\": [0.51, 1]}, \"hole\": 0.4, \"hoverinfo\": \"label+name\", \"labels\": [\"Computer science (software engineering, etc.)\", \"Medical or life sciences (biology, chemistry, medicine, etc.)\", \"Information technology, networking, or system administration\", \"Other\", \"A business discipline (accounting, economics, finance, etc.)\", \"Social sciences (anthropology, psychology, sociology, etc.)\", \"Physics or astronomy\", \"Humanities (history, literature, philosophy, etc.)\", \"I never declared a major\", \"Environmental science or geology\", \"Fine arts or performing arts\"], \"name\": \"Major\", \"text\": [\"Major\"], \"textposition\": \"inside\", \"values\": [814, 8, 14, 16, 29, 7, 13, 5, 3, 2, 1], \"type\": \"pie\", \"uid\": \"ef328e9e-d468-4824-91ca-46438f5e791d\"}, {\"domain\": {\"x\": [0.52, 1], \"y\": [0.51, 1]}, \"hole\": 0.4, \"hoverinfo\": \"label+name\", \"labels\": [\"Bachelor\\u2019s degree\", \"Some college/university study without earning a bachelor\\u2019s degree\", \"Professional degree\", \"I prefer not to answer\"], \"name\": \"Degree Level\", \"text\": [\"Degree Level\"], \"textposition\": \"inside\", \"values\": [870, 22, 15, 5], \"type\": \"pie\", \"uid\": \"692c21bd-1ba5-42b0-bde9-a11990f6ed45\"}], {\"showlegend\": false, \"title\": \"Cluster 3 data\"}, {\"showLink\": true, \"linkText\": \"Export to plot.ly\", \"plotlyServerURL\": \"https://plot.ly\"})});</script><script type=\"text/javascript\">window.addEventListener(\"resize\", function(){window._Plotly.Plots.resize(document.getElementById(\"9ebb81d1-7570-4475-8492-929f5e6d08ea\"));});</script>"
      ]
     },
     "metadata": {},
     "output_type": "display_data"
    },
    {
     "name": "stdout",
     "output_type": "stream",
     "text": [
      "This is the format of your plot grid:\n",
      "[ (1,1) x1,y1 ]  [ (1,2) x2,y2 ]\n",
      "[ (2,1) x3,y3 ]  [ (2,2) x4,y4 ]\n",
      "\n"
     ]
    },
    {
     "data": {
      "application/vnd.plotly.v1+json": {
       "config": {
        "linkText": "Export to plot.ly",
        "plotlyServerURL": "https://plot.ly",
        "showLink": true
       },
       "data": [
        {
         "domain": {
          "x": [
           0,
           0.48
          ],
          "y": [
           0,
           0.49
          ]
         },
         "hole": 0.4,
         "hoverinfo": "label+name",
         "labels": [
          "70-80,000",
          "10-20,000",
          "60-70,000",
          "30-40,000",
          "40-50,000",
          "100-125,000",
          "50-60,000",
          "80-90,000",
          "125-150,000",
          "90-100,000",
          "150-200,000",
          "500,000+",
          "200-250,000",
          "250-300,000",
          "400-500,000",
          "300-400,000"
         ],
         "name": "Compensation",
         "text": [
          "Compensation"
         ],
         "textposition": "inside",
         "type": "pie",
         "uid": "eacf2934-813c-4a60-8404-adf25e40982d",
         "values": [
          59,
          389,
          68,
          83,
          80,
          65,
          91,
          48,
          53,
          36,
          32,
          2,
          10,
          2,
          2,
          2
         ]
        },
        {
         "domain": {
          "x": [
           0.52,
           1
          ],
          "y": [
           0,
           0.49
          ]
         },
         "hole": 0.4,
         "hoverinfo": "label+name",
         "labels": [
          "Male",
          "Female",
          "Prefer not to say",
          "Prefer to self-describe"
         ],
         "name": "Gender",
         "text": [
          "Gender"
         ],
         "textposition": "inside",
         "type": "pie",
         "uid": "baa6c0a6-696e-4200-93a2-ae755ad44468",
         "values": [
          819,
          192,
          8,
          3
         ]
        },
        {
         "domain": {
          "x": [
           0,
           0.48
          ],
          "y": [
           0.51,
           1
          ]
         },
         "hole": 0.4,
         "hoverinfo": "label+name",
         "labels": [
          "Mathematics or statistics",
          "A business discipline (accounting, economics, finance, etc.)",
          "Medical or life sciences (biology, chemistry, medicine, etc.)",
          "Physics or astronomy",
          "Other",
          "Information technology, networking, or system administration",
          "Humanities (history, literature, philosophy, etc.)",
          "Environmental science or geology",
          "Social sciences (anthropology, psychology, sociology, etc.)",
          "Fine arts or performing arts",
          "I never declared a major"
         ],
         "name": "Major",
         "text": [
          "Major"
         ],
         "textposition": "inside",
         "type": "pie",
         "uid": "d650a736-0f2e-4fca-86b7-d6e616912429",
         "values": [
          770,
          83,
          33,
          38,
          27,
          34,
          9,
          11,
          12,
          2,
          3
         ]
        },
        {
         "domain": {
          "x": [
           0.52,
           1
          ],
          "y": [
           0.51,
           1
          ]
         },
         "hole": 0.4,
         "hoverinfo": "label+name",
         "labels": [
          "Master’s degree",
          "I prefer not to answer",
          "Professional degree",
          "Some college/university study without earning a bachelor’s degree"
         ],
         "name": "Degree Level",
         "text": [
          "Degree Level"
         ],
         "textposition": "inside",
         "type": "pie",
         "uid": "037e7380-121a-4fb9-a62c-8780d62d427b",
         "values": [
          1014,
          2,
          3,
          3
         ]
        }
       ],
       "layout": {
        "showlegend": false,
        "title": "Cluster 4 data"
       }
      },
      "text/html": [
       "<div id=\"29d26638-d42a-4664-999b-06190bcec8e1\" style=\"height: 525px; width: 100%;\" class=\"plotly-graph-div\"></div><script type=\"text/javascript\">require([\"plotly\"], function(Plotly) { window.PLOTLYENV=window.PLOTLYENV || {};window.PLOTLYENV.BASE_URL=\"https://plot.ly\";Plotly.newPlot(\"29d26638-d42a-4664-999b-06190bcec8e1\", [{\"domain\": {\"x\": [0, 0.48], \"y\": [0, 0.49]}, \"hole\": 0.4, \"hoverinfo\": \"label+name\", \"labels\": [\"70-80,000\", \"10-20,000\", \"60-70,000\", \"30-40,000\", \"40-50,000\", \"100-125,000\", \"50-60,000\", \"80-90,000\", \"125-150,000\", \"90-100,000\", \"150-200,000\", \"500,000+\", \"200-250,000\", \"250-300,000\", \"400-500,000\", \"300-400,000\"], \"name\": \"Compensation\", \"text\": [\"Compensation\"], \"textposition\": \"inside\", \"values\": [59, 389, 68, 83, 80, 65, 91, 48, 53, 36, 32, 2, 10, 2, 2, 2], \"type\": \"pie\", \"uid\": \"f3b43ad6-2ed9-401d-84b7-5493784e0679\"}, {\"domain\": {\"x\": [0.52, 1], \"y\": [0, 0.49]}, \"hole\": 0.4, \"hoverinfo\": \"label+name\", \"labels\": [\"Male\", \"Female\", \"Prefer not to say\", \"Prefer to self-describe\"], \"name\": \"Gender\", \"text\": [\"Gender\"], \"textposition\": \"inside\", \"values\": [819, 192, 8, 3], \"type\": \"pie\", \"uid\": \"ba5fae58-3dad-4e55-b307-472b4d2cc7b3\"}, {\"domain\": {\"x\": [0, 0.48], \"y\": [0.51, 1]}, \"hole\": 0.4, \"hoverinfo\": \"label+name\", \"labels\": [\"Mathematics or statistics\", \"A business discipline (accounting, economics, finance, etc.)\", \"Medical or life sciences (biology, chemistry, medicine, etc.)\", \"Physics or astronomy\", \"Other\", \"Information technology, networking, or system administration\", \"Humanities (history, literature, philosophy, etc.)\", \"Environmental science or geology\", \"Social sciences (anthropology, psychology, sociology, etc.)\", \"Fine arts or performing arts\", \"I never declared a major\"], \"name\": \"Major\", \"text\": [\"Major\"], \"textposition\": \"inside\", \"values\": [770, 83, 33, 38, 27, 34, 9, 11, 12, 2, 3], \"type\": \"pie\", \"uid\": \"19234cfa-4f81-4af2-ad36-8e4ef37b13e1\"}, {\"domain\": {\"x\": [0.52, 1], \"y\": [0.51, 1]}, \"hole\": 0.4, \"hoverinfo\": \"label+name\", \"labels\": [\"Master\\u2019s degree\", \"I prefer not to answer\", \"Professional degree\", \"Some college/university study without earning a bachelor\\u2019s degree\"], \"name\": \"Degree Level\", \"text\": [\"Degree Level\"], \"textposition\": \"inside\", \"values\": [1014, 2, 3, 3], \"type\": \"pie\", \"uid\": \"86f6fb65-f879-4712-97f3-92e7e85df86e\"}], {\"showlegend\": false, \"title\": \"Cluster 4 data\"}, {\"showLink\": true, \"linkText\": \"Export to plot.ly\", \"plotlyServerURL\": \"https://plot.ly\"})});</script><script type=\"text/javascript\">window.addEventListener(\"resize\", function(){window._Plotly.Plots.resize(document.getElementById(\"29d26638-d42a-4664-999b-06190bcec8e1\"));});</script>"
      ],
      "text/vnd.plotly.v1+html": [
       "<div id=\"29d26638-d42a-4664-999b-06190bcec8e1\" style=\"height: 525px; width: 100%;\" class=\"plotly-graph-div\"></div><script type=\"text/javascript\">require([\"plotly\"], function(Plotly) { window.PLOTLYENV=window.PLOTLYENV || {};window.PLOTLYENV.BASE_URL=\"https://plot.ly\";Plotly.newPlot(\"29d26638-d42a-4664-999b-06190bcec8e1\", [{\"domain\": {\"x\": [0, 0.48], \"y\": [0, 0.49]}, \"hole\": 0.4, \"hoverinfo\": \"label+name\", \"labels\": [\"70-80,000\", \"10-20,000\", \"60-70,000\", \"30-40,000\", \"40-50,000\", \"100-125,000\", \"50-60,000\", \"80-90,000\", \"125-150,000\", \"90-100,000\", \"150-200,000\", \"500,000+\", \"200-250,000\", \"250-300,000\", \"400-500,000\", \"300-400,000\"], \"name\": \"Compensation\", \"text\": [\"Compensation\"], \"textposition\": \"inside\", \"values\": [59, 389, 68, 83, 80, 65, 91, 48, 53, 36, 32, 2, 10, 2, 2, 2], \"type\": \"pie\", \"uid\": \"f3b43ad6-2ed9-401d-84b7-5493784e0679\"}, {\"domain\": {\"x\": [0.52, 1], \"y\": [0, 0.49]}, \"hole\": 0.4, \"hoverinfo\": \"label+name\", \"labels\": [\"Male\", \"Female\", \"Prefer not to say\", \"Prefer to self-describe\"], \"name\": \"Gender\", \"text\": [\"Gender\"], \"textposition\": \"inside\", \"values\": [819, 192, 8, 3], \"type\": \"pie\", \"uid\": \"ba5fae58-3dad-4e55-b307-472b4d2cc7b3\"}, {\"domain\": {\"x\": [0, 0.48], \"y\": [0.51, 1]}, \"hole\": 0.4, \"hoverinfo\": \"label+name\", \"labels\": [\"Mathematics or statistics\", \"A business discipline (accounting, economics, finance, etc.)\", \"Medical or life sciences (biology, chemistry, medicine, etc.)\", \"Physics or astronomy\", \"Other\", \"Information technology, networking, or system administration\", \"Humanities (history, literature, philosophy, etc.)\", \"Environmental science or geology\", \"Social sciences (anthropology, psychology, sociology, etc.)\", \"Fine arts or performing arts\", \"I never declared a major\"], \"name\": \"Major\", \"text\": [\"Major\"], \"textposition\": \"inside\", \"values\": [770, 83, 33, 38, 27, 34, 9, 11, 12, 2, 3], \"type\": \"pie\", \"uid\": \"19234cfa-4f81-4af2-ad36-8e4ef37b13e1\"}, {\"domain\": {\"x\": [0.52, 1], \"y\": [0.51, 1]}, \"hole\": 0.4, \"hoverinfo\": \"label+name\", \"labels\": [\"Master\\u2019s degree\", \"I prefer not to answer\", \"Professional degree\", \"Some college/university study without earning a bachelor\\u2019s degree\"], \"name\": \"Degree Level\", \"text\": [\"Degree Level\"], \"textposition\": \"inside\", \"values\": [1014, 2, 3, 3], \"type\": \"pie\", \"uid\": \"86f6fb65-f879-4712-97f3-92e7e85df86e\"}], {\"showlegend\": false, \"title\": \"Cluster 4 data\"}, {\"showLink\": true, \"linkText\": \"Export to plot.ly\", \"plotlyServerURL\": \"https://plot.ly\"})});</script><script type=\"text/javascript\">window.addEventListener(\"resize\", function(){window._Plotly.Plots.resize(document.getElementById(\"29d26638-d42a-4664-999b-06190bcec8e1\"));});</script>"
      ]
     },
     "metadata": {},
     "output_type": "display_data"
    },
    {
     "name": "stdout",
     "output_type": "stream",
     "text": [
      "This is the format of your plot grid:\n",
      "[ (1,1) x1,y1 ]  [ (1,2) x2,y2 ]\n",
      "[ (2,1) x3,y3 ]  [ (2,2) x4,y4 ]\n",
      "\n"
     ]
    },
    {
     "data": {
      "application/vnd.plotly.v1+json": {
       "config": {
        "linkText": "Export to plot.ly",
        "plotlyServerURL": "https://plot.ly",
        "showLink": true
       },
       "data": [
        {
         "domain": {
          "x": [
           0,
           0.48
          ],
          "y": [
           0,
           0.49
          ]
         },
         "hole": 0.4,
         "hoverinfo": "label+name",
         "labels": [
          "20-30,000",
          "125-150,000",
          "30-40,000",
          "50-60,000",
          "40-50,000",
          "100-125,000",
          "60-70,000",
          "70-80,000",
          "150-200,000",
          "90-100,000",
          "80-90,000",
          "200-250,000",
          "250-300,000",
          "300-400,000",
          "400-500,000",
          "500,000+"
         ],
         "name": "Compensation",
         "text": [
          "Compensation"
         ],
         "textposition": "inside",
         "type": "pie",
         "uid": "271ffbe2-501e-4e7b-b349-f910e9750a61",
         "values": [
          322,
          62,
          82,
          82,
          80,
          94,
          47,
          59,
          59,
          55,
          50,
          20,
          10,
          3,
          2,
          3
         ]
        },
        {
         "domain": {
          "x": [
           0.52,
           1
          ],
          "y": [
           0,
           0.49
          ]
         },
         "hole": 0.4,
         "hoverinfo": "label+name",
         "labels": [
          "Male",
          "Female",
          "Prefer not to say",
          "Prefer to self-describe"
         ],
         "name": "Gender",
         "text": [
          "Gender"
         ],
         "textposition": "inside",
         "type": "pie",
         "uid": "6dcd037f-147f-4259-a421-c7db3295aa20",
         "values": [
          892,
          129,
          7,
          2
         ]
        },
        {
         "domain": {
          "x": [
           0,
           0.48
          ],
          "y": [
           0.51,
           1
          ]
         },
         "hole": 0.4,
         "hoverinfo": "label+name",
         "labels": [
          "Engineering (non-computer focused)",
          "Physics or astronomy",
          "Medical or life sciences (biology, chemistry, medicine, etc.)",
          "Social sciences (anthropology, psychology, sociology, etc.)",
          "Other",
          "A business discipline (accounting, economics, finance, etc.)",
          "Fine arts or performing arts",
          "Information technology, networking, or system administration",
          "Humanities (history, literature, philosophy, etc.)",
          "Environmental science or geology",
          "I never declared a major"
         ],
         "name": "Major",
         "text": [
          "Major"
         ],
         "textposition": "inside",
         "type": "pie",
         "uid": "3dea7983-3a67-4f86-8288-b26b31535e5e",
         "values": [
          835,
          35,
          18,
          27,
          15,
          64,
          2,
          24,
          5,
          4,
          1
         ]
        },
        {
         "domain": {
          "x": [
           0.52,
           1
          ],
          "y": [
           0.51,
           1
          ]
         },
         "hole": 0.4,
         "hoverinfo": "label+name",
         "labels": [
          "Master’s degree",
          "Professional degree",
          "Some college/university study without earning a bachelor’s degree",
          "I prefer not to answer"
         ],
         "name": "Degree Level",
         "text": [
          "Degree Level"
         ],
         "textposition": "inside",
         "type": "pie",
         "uid": "b1e9dee7-b924-4530-a438-505bc9553af0",
         "values": [
          1017,
          6,
          6,
          1
         ]
        }
       ],
       "layout": {
        "showlegend": false,
        "title": "Cluster 5 data"
       }
      },
      "text/html": [
       "<div id=\"f2f33818-e174-48be-be02-4f5f4cac3aae\" style=\"height: 525px; width: 100%;\" class=\"plotly-graph-div\"></div><script type=\"text/javascript\">require([\"plotly\"], function(Plotly) { window.PLOTLYENV=window.PLOTLYENV || {};window.PLOTLYENV.BASE_URL=\"https://plot.ly\";Plotly.newPlot(\"f2f33818-e174-48be-be02-4f5f4cac3aae\", [{\"domain\": {\"x\": [0, 0.48], \"y\": [0, 0.49]}, \"hole\": 0.4, \"hoverinfo\": \"label+name\", \"labels\": [\"20-30,000\", \"125-150,000\", \"30-40,000\", \"50-60,000\", \"40-50,000\", \"100-125,000\", \"60-70,000\", \"70-80,000\", \"150-200,000\", \"90-100,000\", \"80-90,000\", \"200-250,000\", \"250-300,000\", \"300-400,000\", \"400-500,000\", \"500,000+\"], \"name\": \"Compensation\", \"text\": [\"Compensation\"], \"textposition\": \"inside\", \"values\": [322, 62, 82, 82, 80, 94, 47, 59, 59, 55, 50, 20, 10, 3, 2, 3], \"type\": \"pie\", \"uid\": \"6eb5d06d-ed56-4f04-ad81-5f4f7b862f31\"}, {\"domain\": {\"x\": [0.52, 1], \"y\": [0, 0.49]}, \"hole\": 0.4, \"hoverinfo\": \"label+name\", \"labels\": [\"Male\", \"Female\", \"Prefer not to say\", \"Prefer to self-describe\"], \"name\": \"Gender\", \"text\": [\"Gender\"], \"textposition\": \"inside\", \"values\": [892, 129, 7, 2], \"type\": \"pie\", \"uid\": \"0a97d2a0-3737-4121-8eb1-8008235ae0dd\"}, {\"domain\": {\"x\": [0, 0.48], \"y\": [0.51, 1]}, \"hole\": 0.4, \"hoverinfo\": \"label+name\", \"labels\": [\"Engineering (non-computer focused)\", \"Physics or astronomy\", \"Medical or life sciences (biology, chemistry, medicine, etc.)\", \"Social sciences (anthropology, psychology, sociology, etc.)\", \"Other\", \"A business discipline (accounting, economics, finance, etc.)\", \"Fine arts or performing arts\", \"Information technology, networking, or system administration\", \"Humanities (history, literature, philosophy, etc.)\", \"Environmental science or geology\", \"I never declared a major\"], \"name\": \"Major\", \"text\": [\"Major\"], \"textposition\": \"inside\", \"values\": [835, 35, 18, 27, 15, 64, 2, 24, 5, 4, 1], \"type\": \"pie\", \"uid\": \"19ff2f36-8ac9-4657-bd27-0229971ae2d6\"}, {\"domain\": {\"x\": [0.52, 1], \"y\": [0.51, 1]}, \"hole\": 0.4, \"hoverinfo\": \"label+name\", \"labels\": [\"Master\\u2019s degree\", \"Professional degree\", \"Some college/university study without earning a bachelor\\u2019s degree\", \"I prefer not to answer\"], \"name\": \"Degree Level\", \"text\": [\"Degree Level\"], \"textposition\": \"inside\", \"values\": [1017, 6, 6, 1], \"type\": \"pie\", \"uid\": \"e796407c-fc21-4233-a465-e38ea8f5ab22\"}], {\"showlegend\": false, \"title\": \"Cluster 5 data\"}, {\"showLink\": true, \"linkText\": \"Export to plot.ly\", \"plotlyServerURL\": \"https://plot.ly\"})});</script><script type=\"text/javascript\">window.addEventListener(\"resize\", function(){window._Plotly.Plots.resize(document.getElementById(\"f2f33818-e174-48be-be02-4f5f4cac3aae\"));});</script>"
      ],
      "text/vnd.plotly.v1+html": [
       "<div id=\"f2f33818-e174-48be-be02-4f5f4cac3aae\" style=\"height: 525px; width: 100%;\" class=\"plotly-graph-div\"></div><script type=\"text/javascript\">require([\"plotly\"], function(Plotly) { window.PLOTLYENV=window.PLOTLYENV || {};window.PLOTLYENV.BASE_URL=\"https://plot.ly\";Plotly.newPlot(\"f2f33818-e174-48be-be02-4f5f4cac3aae\", [{\"domain\": {\"x\": [0, 0.48], \"y\": [0, 0.49]}, \"hole\": 0.4, \"hoverinfo\": \"label+name\", \"labels\": [\"20-30,000\", \"125-150,000\", \"30-40,000\", \"50-60,000\", \"40-50,000\", \"100-125,000\", \"60-70,000\", \"70-80,000\", \"150-200,000\", \"90-100,000\", \"80-90,000\", \"200-250,000\", \"250-300,000\", \"300-400,000\", \"400-500,000\", \"500,000+\"], \"name\": \"Compensation\", \"text\": [\"Compensation\"], \"textposition\": \"inside\", \"values\": [322, 62, 82, 82, 80, 94, 47, 59, 59, 55, 50, 20, 10, 3, 2, 3], \"type\": \"pie\", \"uid\": \"6eb5d06d-ed56-4f04-ad81-5f4f7b862f31\"}, {\"domain\": {\"x\": [0.52, 1], \"y\": [0, 0.49]}, \"hole\": 0.4, \"hoverinfo\": \"label+name\", \"labels\": [\"Male\", \"Female\", \"Prefer not to say\", \"Prefer to self-describe\"], \"name\": \"Gender\", \"text\": [\"Gender\"], \"textposition\": \"inside\", \"values\": [892, 129, 7, 2], \"type\": \"pie\", \"uid\": \"0a97d2a0-3737-4121-8eb1-8008235ae0dd\"}, {\"domain\": {\"x\": [0, 0.48], \"y\": [0.51, 1]}, \"hole\": 0.4, \"hoverinfo\": \"label+name\", \"labels\": [\"Engineering (non-computer focused)\", \"Physics or astronomy\", \"Medical or life sciences (biology, chemistry, medicine, etc.)\", \"Social sciences (anthropology, psychology, sociology, etc.)\", \"Other\", \"A business discipline (accounting, economics, finance, etc.)\", \"Fine arts or performing arts\", \"Information technology, networking, or system administration\", \"Humanities (history, literature, philosophy, etc.)\", \"Environmental science or geology\", \"I never declared a major\"], \"name\": \"Major\", \"text\": [\"Major\"], \"textposition\": \"inside\", \"values\": [835, 35, 18, 27, 15, 64, 2, 24, 5, 4, 1], \"type\": \"pie\", \"uid\": \"19ff2f36-8ac9-4657-bd27-0229971ae2d6\"}, {\"domain\": {\"x\": [0.52, 1], \"y\": [0.51, 1]}, \"hole\": 0.4, \"hoverinfo\": \"label+name\", \"labels\": [\"Master\\u2019s degree\", \"Professional degree\", \"Some college/university study without earning a bachelor\\u2019s degree\", \"I prefer not to answer\"], \"name\": \"Degree Level\", \"text\": [\"Degree Level\"], \"textposition\": \"inside\", \"values\": [1017, 6, 6, 1], \"type\": \"pie\", \"uid\": \"e796407c-fc21-4233-a465-e38ea8f5ab22\"}], {\"showlegend\": false, \"title\": \"Cluster 5 data\"}, {\"showLink\": true, \"linkText\": \"Export to plot.ly\", \"plotlyServerURL\": \"https://plot.ly\"})});</script><script type=\"text/javascript\">window.addEventListener(\"resize\", function(){window._Plotly.Plots.resize(document.getElementById(\"f2f33818-e174-48be-be02-4f5f4cac3aae\"));});</script>"
      ]
     },
     "metadata": {},
     "output_type": "display_data"
    },
    {
     "name": "stdout",
     "output_type": "stream",
     "text": [
      "This is the format of your plot grid:\n",
      "[ (1,1) x1,y1 ]  [ (1,2) x2,y2 ]\n",
      "[ (2,1) x3,y3 ]  [ (2,2) x4,y4 ]\n",
      "\n"
     ]
    },
    {
     "data": {
      "application/vnd.plotly.v1+json": {
       "config": {
        "linkText": "Export to plot.ly",
        "plotlyServerURL": "https://plot.ly",
        "showLink": true
       },
       "data": [
        {
         "domain": {
          "x": [
           0,
           0.48
          ],
          "y": [
           0,
           0.49
          ]
         },
         "hole": 0.4,
         "hoverinfo": "label+name",
         "labels": [
          "30-40,000",
          "60-70,000",
          "100-125,000",
          "20-30,000",
          "90-100,000",
          "40-50,000",
          "0-10,000",
          "50-60,000",
          "125-150,000",
          "150-200,000",
          "80-90,000",
          "70-80,000",
          "200-250,000",
          "250-300,000",
          "10-20,000",
          "500,000+"
         ],
         "name": "Compensation",
         "text": [
          "Compensation"
         ],
         "textposition": "inside",
         "type": "pie",
         "uid": "c01c74b6-2f58-4fad-a766-b4f721eea449",
         "values": [
          141,
          12,
          9,
          3,
          7,
          16,
          12,
          14,
          10,
          8,
          6,
          13,
          2,
          2,
          4,
          1
         ]
        },
        {
         "domain": {
          "x": [
           0.52,
           1
          ],
          "y": [
           0,
           0.49
          ]
         },
         "hole": 0.4,
         "hoverinfo": "label+name",
         "labels": [
          "Male",
          "Female",
          "Prefer not to say",
          "Prefer to self-describe"
         ],
         "name": "Gender",
         "text": [
          "Gender"
         ],
         "textposition": "inside",
         "type": "pie",
         "uid": "ed211b36-a00d-4f95-bbbf-d6a7e39216a7",
         "values": [
          217,
          39,
          3,
          1
         ]
        },
        {
         "domain": {
          "x": [
           0,
           0.48
          ],
          "y": [
           0.51,
           1
          ]
         },
         "hole": 0.4,
         "hoverinfo": "label+name",
         "labels": [
          "I never declared a major",
          "Social sciences (anthropology, psychology, sociology, etc.)",
          "A business discipline (accounting, economics, finance, etc.)",
          "Computer science (software engineering, etc.)",
          "Physics or astronomy",
          "Medical or life sciences (biology, chemistry, medicine, etc.)",
          "Other",
          "Humanities (history, literature, philosophy, etc.)",
          "Information technology, networking, or system administration",
          "Fine arts or performing arts",
          "Mathematics or statistics",
          "Engineering (non-computer focused)",
          "Environmental science or geology"
         ],
         "name": "Major",
         "text": [
          "Major"
         ],
         "textposition": "inside",
         "type": "pie",
         "uid": "8eb60ce8-39de-4ab3-a76b-a1dce48d42f8",
         "values": [
          21,
          8,
          147,
          17,
          9,
          8,
          9,
          7,
          21,
          8,
          3,
          1,
          1
         ]
        },
        {
         "domain": {
          "x": [
           0.52,
           1
          ],
          "y": [
           0.51,
           1
          ]
         },
         "hole": 0.4,
         "hoverinfo": "label+name",
         "labels": [
          "Some college/university study without earning a bachelor’s degree",
          "Master’s degree",
          "Bachelor’s degree",
          "Professional degree",
          "Doctoral degree",
          "I prefer not to answer"
         ],
         "name": "Degree Level",
         "text": [
          "Degree Level"
         ],
         "textposition": "inside",
         "type": "pie",
         "uid": "3993d291-0126-4238-8d87-ecf9909bd451",
         "values": [
          139,
          56,
          34,
          20,
          7,
          4
         ]
        }
       ],
       "layout": {
        "showlegend": false,
        "title": "Cluster 6 data"
       }
      },
      "text/html": [
       "<div id=\"a6c4d3ea-5a37-44ea-941e-2302a3f3b9e2\" style=\"height: 525px; width: 100%;\" class=\"plotly-graph-div\"></div><script type=\"text/javascript\">require([\"plotly\"], function(Plotly) { window.PLOTLYENV=window.PLOTLYENV || {};window.PLOTLYENV.BASE_URL=\"https://plot.ly\";Plotly.newPlot(\"a6c4d3ea-5a37-44ea-941e-2302a3f3b9e2\", [{\"domain\": {\"x\": [0, 0.48], \"y\": [0, 0.49]}, \"hole\": 0.4, \"hoverinfo\": \"label+name\", \"labels\": [\"30-40,000\", \"60-70,000\", \"100-125,000\", \"20-30,000\", \"90-100,000\", \"40-50,000\", \"0-10,000\", \"50-60,000\", \"125-150,000\", \"150-200,000\", \"80-90,000\", \"70-80,000\", \"200-250,000\", \"250-300,000\", \"10-20,000\", \"500,000+\"], \"name\": \"Compensation\", \"text\": [\"Compensation\"], \"textposition\": \"inside\", \"values\": [141, 12, 9, 3, 7, 16, 12, 14, 10, 8, 6, 13, 2, 2, 4, 1], \"type\": \"pie\", \"uid\": \"17333ed5-aa19-4a13-8675-ee5fd3bb10dd\"}, {\"domain\": {\"x\": [0.52, 1], \"y\": [0, 0.49]}, \"hole\": 0.4, \"hoverinfo\": \"label+name\", \"labels\": [\"Male\", \"Female\", \"Prefer not to say\", \"Prefer to self-describe\"], \"name\": \"Gender\", \"text\": [\"Gender\"], \"textposition\": \"inside\", \"values\": [217, 39, 3, 1], \"type\": \"pie\", \"uid\": \"74136e03-e74b-451d-9636-442bf818efc3\"}, {\"domain\": {\"x\": [0, 0.48], \"y\": [0.51, 1]}, \"hole\": 0.4, \"hoverinfo\": \"label+name\", \"labels\": [\"I never declared a major\", \"Social sciences (anthropology, psychology, sociology, etc.)\", \"A business discipline (accounting, economics, finance, etc.)\", \"Computer science (software engineering, etc.)\", \"Physics or astronomy\", \"Medical or life sciences (biology, chemistry, medicine, etc.)\", \"Other\", \"Humanities (history, literature, philosophy, etc.)\", \"Information technology, networking, or system administration\", \"Fine arts or performing arts\", \"Mathematics or statistics\", \"Engineering (non-computer focused)\", \"Environmental science or geology\"], \"name\": \"Major\", \"text\": [\"Major\"], \"textposition\": \"inside\", \"values\": [21, 8, 147, 17, 9, 8, 9, 7, 21, 8, 3, 1, 1], \"type\": \"pie\", \"uid\": \"f0932656-6953-40e8-ada0-64c73baf8650\"}, {\"domain\": {\"x\": [0.52, 1], \"y\": [0.51, 1]}, \"hole\": 0.4, \"hoverinfo\": \"label+name\", \"labels\": [\"Some college/university study without earning a bachelor\\u2019s degree\", \"Master\\u2019s degree\", \"Bachelor\\u2019s degree\", \"Professional degree\", \"Doctoral degree\", \"I prefer not to answer\"], \"name\": \"Degree Level\", \"text\": [\"Degree Level\"], \"textposition\": \"inside\", \"values\": [139, 56, 34, 20, 7, 4], \"type\": \"pie\", \"uid\": \"3f342056-7ab1-4c71-8909-a573df75cc32\"}], {\"showlegend\": false, \"title\": \"Cluster 6 data\"}, {\"showLink\": true, \"linkText\": \"Export to plot.ly\", \"plotlyServerURL\": \"https://plot.ly\"})});</script><script type=\"text/javascript\">window.addEventListener(\"resize\", function(){window._Plotly.Plots.resize(document.getElementById(\"a6c4d3ea-5a37-44ea-941e-2302a3f3b9e2\"));});</script>"
      ],
      "text/vnd.plotly.v1+html": [
       "<div id=\"a6c4d3ea-5a37-44ea-941e-2302a3f3b9e2\" style=\"height: 525px; width: 100%;\" class=\"plotly-graph-div\"></div><script type=\"text/javascript\">require([\"plotly\"], function(Plotly) { window.PLOTLYENV=window.PLOTLYENV || {};window.PLOTLYENV.BASE_URL=\"https://plot.ly\";Plotly.newPlot(\"a6c4d3ea-5a37-44ea-941e-2302a3f3b9e2\", [{\"domain\": {\"x\": [0, 0.48], \"y\": [0, 0.49]}, \"hole\": 0.4, \"hoverinfo\": \"label+name\", \"labels\": [\"30-40,000\", \"60-70,000\", \"100-125,000\", \"20-30,000\", \"90-100,000\", \"40-50,000\", \"0-10,000\", \"50-60,000\", \"125-150,000\", \"150-200,000\", \"80-90,000\", \"70-80,000\", \"200-250,000\", \"250-300,000\", \"10-20,000\", \"500,000+\"], \"name\": \"Compensation\", \"text\": [\"Compensation\"], \"textposition\": \"inside\", \"values\": [141, 12, 9, 3, 7, 16, 12, 14, 10, 8, 6, 13, 2, 2, 4, 1], \"type\": \"pie\", \"uid\": \"17333ed5-aa19-4a13-8675-ee5fd3bb10dd\"}, {\"domain\": {\"x\": [0.52, 1], \"y\": [0, 0.49]}, \"hole\": 0.4, \"hoverinfo\": \"label+name\", \"labels\": [\"Male\", \"Female\", \"Prefer not to say\", \"Prefer to self-describe\"], \"name\": \"Gender\", \"text\": [\"Gender\"], \"textposition\": \"inside\", \"values\": [217, 39, 3, 1], \"type\": \"pie\", \"uid\": \"74136e03-e74b-451d-9636-442bf818efc3\"}, {\"domain\": {\"x\": [0, 0.48], \"y\": [0.51, 1]}, \"hole\": 0.4, \"hoverinfo\": \"label+name\", \"labels\": [\"I never declared a major\", \"Social sciences (anthropology, psychology, sociology, etc.)\", \"A business discipline (accounting, economics, finance, etc.)\", \"Computer science (software engineering, etc.)\", \"Physics or astronomy\", \"Medical or life sciences (biology, chemistry, medicine, etc.)\", \"Other\", \"Humanities (history, literature, philosophy, etc.)\", \"Information technology, networking, or system administration\", \"Fine arts or performing arts\", \"Mathematics or statistics\", \"Engineering (non-computer focused)\", \"Environmental science or geology\"], \"name\": \"Major\", \"text\": [\"Major\"], \"textposition\": \"inside\", \"values\": [21, 8, 147, 17, 9, 8, 9, 7, 21, 8, 3, 1, 1], \"type\": \"pie\", \"uid\": \"f0932656-6953-40e8-ada0-64c73baf8650\"}, {\"domain\": {\"x\": [0.52, 1], \"y\": [0.51, 1]}, \"hole\": 0.4, \"hoverinfo\": \"label+name\", \"labels\": [\"Some college/university study without earning a bachelor\\u2019s degree\", \"Master\\u2019s degree\", \"Bachelor\\u2019s degree\", \"Professional degree\", \"Doctoral degree\", \"I prefer not to answer\"], \"name\": \"Degree Level\", \"text\": [\"Degree Level\"], \"textposition\": \"inside\", \"values\": [139, 56, 34, 20, 7, 4], \"type\": \"pie\", \"uid\": \"3f342056-7ab1-4c71-8909-a573df75cc32\"}], {\"showlegend\": false, \"title\": \"Cluster 6 data\"}, {\"showLink\": true, \"linkText\": \"Export to plot.ly\", \"plotlyServerURL\": \"https://plot.ly\"})});</script><script type=\"text/javascript\">window.addEventListener(\"resize\", function(){window._Plotly.Plots.resize(document.getElementById(\"a6c4d3ea-5a37-44ea-941e-2302a3f3b9e2\"));});</script>"
      ]
     },
     "metadata": {},
     "output_type": "display_data"
    },
    {
     "name": "stdout",
     "output_type": "stream",
     "text": [
      "This is the format of your plot grid:\n",
      "[ (1,1) x1,y1 ]  [ (1,2) x2,y2 ]\n",
      "[ (2,1) x3,y3 ]  [ (2,2) x4,y4 ]\n",
      "\n"
     ]
    },
    {
     "data": {
      "application/vnd.plotly.v1+json": {
       "config": {
        "linkText": "Export to plot.ly",
        "plotlyServerURL": "https://plot.ly",
        "showLink": true
       },
       "data": [
        {
         "domain": {
          "x": [
           0,
           0.48
          ],
          "y": [
           0,
           0.49
          ]
         },
         "hole": 0.4,
         "hoverinfo": "label+name",
         "labels": [
          "30-40,000",
          "70-80,000",
          "0-10,000",
          "40-50,000",
          "90-100,000",
          "50-60,000",
          "125-150,000",
          "100-125,000",
          "80-90,000",
          "200-250,000",
          "60-70,000",
          "150-200,000",
          "500,000+",
          "250-300,000",
          "300-400,000"
         ],
         "name": "Compensation",
         "text": [
          "Compensation"
         ],
         "textposition": "inside",
         "type": "pie",
         "uid": "135814cc-72c4-433e-af87-def419917d6c",
         "values": [
          34,
          16,
          522,
          36,
          19,
          29,
          12,
          19,
          15,
          5,
          25,
          7,
          2,
          3,
          1
         ]
        },
        {
         "domain": {
          "x": [
           0.52,
           1
          ],
          "y": [
           0,
           0.49
          ]
         },
         "hole": 0.4,
         "hoverinfo": "label+name",
         "labels": [
          "Male",
          "Female",
          "Prefer not to say",
          "Prefer to self-describe"
         ],
         "name": "Gender",
         "text": [
          "Gender"
         ],
         "textposition": "inside",
         "type": "pie",
         "uid": "7d14aaf5-8d29-4746-930c-a3d50c242a36",
         "values": [
          608,
          132,
          4,
          1
         ]
        },
        {
         "domain": {
          "x": [
           0,
           0.48
          ],
          "y": [
           0.51,
           1
          ]
         },
         "hole": 0.4,
         "hoverinfo": "label+name",
         "labels": [
          "Mathematics or statistics",
          "Physics or astronomy",
          "Information technology, networking, or system administration",
          "Medical or life sciences (biology, chemistry, medicine, etc.)",
          "Other",
          "Environmental science or geology",
          "A business discipline (accounting, economics, finance, etc.)",
          "Social sciences (anthropology, psychology, sociology, etc.)",
          "I never declared a major",
          "Humanities (history, literature, philosophy, etc.)"
         ],
         "name": "Major",
         "text": [
          "Major"
         ],
         "textposition": "inside",
         "type": "pie",
         "uid": "0ddfff1f-7de6-4ff9-913b-74d35468d5c6",
         "values": [
          422,
          33,
          89,
          20,
          59,
          11,
          81,
          16,
          8,
          6
         ]
        },
        {
         "domain": {
          "x": [
           0.52,
           1
          ],
          "y": [
           0.51,
           1
          ]
         },
         "hole": 0.4,
         "hoverinfo": "label+name",
         "labels": [
          "Bachelor’s degree",
          "Professional degree",
          "Some college/university study without earning a bachelor’s degree",
          "I prefer not to answer"
         ],
         "name": "Degree Level",
         "text": [
          "Degree Level"
         ],
         "textposition": "inside",
         "type": "pie",
         "uid": "314e71b1-e5b1-460e-931e-29d01d623297",
         "values": [
          702,
          16,
          24,
          3
         ]
        }
       ],
       "layout": {
        "showlegend": false,
        "title": "Cluster 7 data"
       }
      },
      "text/html": [
       "<div id=\"fafd7f45-9120-4005-8397-7bba68bbc04a\" style=\"height: 525px; width: 100%;\" class=\"plotly-graph-div\"></div><script type=\"text/javascript\">require([\"plotly\"], function(Plotly) { window.PLOTLYENV=window.PLOTLYENV || {};window.PLOTLYENV.BASE_URL=\"https://plot.ly\";Plotly.newPlot(\"fafd7f45-9120-4005-8397-7bba68bbc04a\", [{\"domain\": {\"x\": [0, 0.48], \"y\": [0, 0.49]}, \"hole\": 0.4, \"hoverinfo\": \"label+name\", \"labels\": [\"30-40,000\", \"70-80,000\", \"0-10,000\", \"40-50,000\", \"90-100,000\", \"50-60,000\", \"125-150,000\", \"100-125,000\", \"80-90,000\", \"200-250,000\", \"60-70,000\", \"150-200,000\", \"500,000+\", \"250-300,000\", \"300-400,000\"], \"name\": \"Compensation\", \"text\": [\"Compensation\"], \"textposition\": \"inside\", \"values\": [34, 16, 522, 36, 19, 29, 12, 19, 15, 5, 25, 7, 2, 3, 1], \"type\": \"pie\", \"uid\": \"8778a09b-7998-434b-9202-e986070b0a96\"}, {\"domain\": {\"x\": [0.52, 1], \"y\": [0, 0.49]}, \"hole\": 0.4, \"hoverinfo\": \"label+name\", \"labels\": [\"Male\", \"Female\", \"Prefer not to say\", \"Prefer to self-describe\"], \"name\": \"Gender\", \"text\": [\"Gender\"], \"textposition\": \"inside\", \"values\": [608, 132, 4, 1], \"type\": \"pie\", \"uid\": \"d499b1b3-3c72-4e0d-ac3c-39d1ad383fc6\"}, {\"domain\": {\"x\": [0, 0.48], \"y\": [0.51, 1]}, \"hole\": 0.4, \"hoverinfo\": \"label+name\", \"labels\": [\"Mathematics or statistics\", \"Physics or astronomy\", \"Information technology, networking, or system administration\", \"Medical or life sciences (biology, chemistry, medicine, etc.)\", \"Other\", \"Environmental science or geology\", \"A business discipline (accounting, economics, finance, etc.)\", \"Social sciences (anthropology, psychology, sociology, etc.)\", \"I never declared a major\", \"Humanities (history, literature, philosophy, etc.)\"], \"name\": \"Major\", \"text\": [\"Major\"], \"textposition\": \"inside\", \"values\": [422, 33, 89, 20, 59, 11, 81, 16, 8, 6], \"type\": \"pie\", \"uid\": \"e3218ca5-60a4-4819-87a6-77eae06d9d5d\"}, {\"domain\": {\"x\": [0.52, 1], \"y\": [0.51, 1]}, \"hole\": 0.4, \"hoverinfo\": \"label+name\", \"labels\": [\"Bachelor\\u2019s degree\", \"Professional degree\", \"Some college/university study without earning a bachelor\\u2019s degree\", \"I prefer not to answer\"], \"name\": \"Degree Level\", \"text\": [\"Degree Level\"], \"textposition\": \"inside\", \"values\": [702, 16, 24, 3], \"type\": \"pie\", \"uid\": \"4f603e83-5be4-4b14-b069-7b98b98ed953\"}], {\"showlegend\": false, \"title\": \"Cluster 7 data\"}, {\"showLink\": true, \"linkText\": \"Export to plot.ly\", \"plotlyServerURL\": \"https://plot.ly\"})});</script><script type=\"text/javascript\">window.addEventListener(\"resize\", function(){window._Plotly.Plots.resize(document.getElementById(\"fafd7f45-9120-4005-8397-7bba68bbc04a\"));});</script>"
      ],
      "text/vnd.plotly.v1+html": [
       "<div id=\"fafd7f45-9120-4005-8397-7bba68bbc04a\" style=\"height: 525px; width: 100%;\" class=\"plotly-graph-div\"></div><script type=\"text/javascript\">require([\"plotly\"], function(Plotly) { window.PLOTLYENV=window.PLOTLYENV || {};window.PLOTLYENV.BASE_URL=\"https://plot.ly\";Plotly.newPlot(\"fafd7f45-9120-4005-8397-7bba68bbc04a\", [{\"domain\": {\"x\": [0, 0.48], \"y\": [0, 0.49]}, \"hole\": 0.4, \"hoverinfo\": \"label+name\", \"labels\": [\"30-40,000\", \"70-80,000\", \"0-10,000\", \"40-50,000\", \"90-100,000\", \"50-60,000\", \"125-150,000\", \"100-125,000\", \"80-90,000\", \"200-250,000\", \"60-70,000\", \"150-200,000\", \"500,000+\", \"250-300,000\", \"300-400,000\"], \"name\": \"Compensation\", \"text\": [\"Compensation\"], \"textposition\": \"inside\", \"values\": [34, 16, 522, 36, 19, 29, 12, 19, 15, 5, 25, 7, 2, 3, 1], \"type\": \"pie\", \"uid\": \"8778a09b-7998-434b-9202-e986070b0a96\"}, {\"domain\": {\"x\": [0.52, 1], \"y\": [0, 0.49]}, \"hole\": 0.4, \"hoverinfo\": \"label+name\", \"labels\": [\"Male\", \"Female\", \"Prefer not to say\", \"Prefer to self-describe\"], \"name\": \"Gender\", \"text\": [\"Gender\"], \"textposition\": \"inside\", \"values\": [608, 132, 4, 1], \"type\": \"pie\", \"uid\": \"d499b1b3-3c72-4e0d-ac3c-39d1ad383fc6\"}, {\"domain\": {\"x\": [0, 0.48], \"y\": [0.51, 1]}, \"hole\": 0.4, \"hoverinfo\": \"label+name\", \"labels\": [\"Mathematics or statistics\", \"Physics or astronomy\", \"Information technology, networking, or system administration\", \"Medical or life sciences (biology, chemistry, medicine, etc.)\", \"Other\", \"Environmental science or geology\", \"A business discipline (accounting, economics, finance, etc.)\", \"Social sciences (anthropology, psychology, sociology, etc.)\", \"I never declared a major\", \"Humanities (history, literature, philosophy, etc.)\"], \"name\": \"Major\", \"text\": [\"Major\"], \"textposition\": \"inside\", \"values\": [422, 33, 89, 20, 59, 11, 81, 16, 8, 6], \"type\": \"pie\", \"uid\": \"e3218ca5-60a4-4819-87a6-77eae06d9d5d\"}, {\"domain\": {\"x\": [0.52, 1], \"y\": [0.51, 1]}, \"hole\": 0.4, \"hoverinfo\": \"label+name\", \"labels\": [\"Bachelor\\u2019s degree\", \"Professional degree\", \"Some college/university study without earning a bachelor\\u2019s degree\", \"I prefer not to answer\"], \"name\": \"Degree Level\", \"text\": [\"Degree Level\"], \"textposition\": \"inside\", \"values\": [702, 16, 24, 3], \"type\": \"pie\", \"uid\": \"4f603e83-5be4-4b14-b069-7b98b98ed953\"}], {\"showlegend\": false, \"title\": \"Cluster 7 data\"}, {\"showLink\": true, \"linkText\": \"Export to plot.ly\", \"plotlyServerURL\": \"https://plot.ly\"})});</script><script type=\"text/javascript\">window.addEventListener(\"resize\", function(){window._Plotly.Plots.resize(document.getElementById(\"fafd7f45-9120-4005-8397-7bba68bbc04a\"));});</script>"
      ]
     },
     "metadata": {},
     "output_type": "display_data"
    },
    {
     "name": "stdout",
     "output_type": "stream",
     "text": [
      "This is the format of your plot grid:\n",
      "[ (1,1) x1,y1 ]  [ (1,2) x2,y2 ]\n",
      "[ (2,1) x3,y3 ]  [ (2,2) x4,y4 ]\n",
      "\n"
     ]
    },
    {
     "data": {
      "application/vnd.plotly.v1+json": {
       "config": {
        "linkText": "Export to plot.ly",
        "plotlyServerURL": "https://plot.ly",
        "showLink": true
       },
       "data": [
        {
         "domain": {
          "x": [
           0,
           0.48
          ],
          "y": [
           0,
           0.49
          ]
         },
         "hole": 0.4,
         "hoverinfo": "label+name",
         "labels": [
          "10-20,000",
          "400-500,000",
          "40-50,000",
          "50-60,000",
          "70-80,000",
          "150-200,000",
          "100-125,000",
          "30-40,000",
          "80-90,000",
          "60-70,000",
          "125-150,000",
          "200-250,000",
          "90-100,000",
          "250-300,000",
          "300-400,000",
          "500,000+"
         ],
         "name": "Compensation",
         "text": [
          "Compensation"
         ],
         "textposition": "inside",
         "type": "pie",
         "uid": "b3cebb4c-ff6c-4406-ab52-7a91919c8095",
         "values": [
          296,
          3,
          49,
          50,
          24,
          19,
          40,
          67,
          26,
          27,
          24,
          10,
          19,
          8,
          2,
          1
         ]
        },
        {
         "domain": {
          "x": [
           0.52,
           1
          ],
          "y": [
           0,
           0.49
          ]
         },
         "hole": 0.4,
         "hoverinfo": "label+name",
         "labels": [
          "Male",
          "Female",
          "Prefer not to say",
          "Prefer to self-describe"
         ],
         "name": "Gender",
         "text": [
          "Gender"
         ],
         "textposition": "inside",
         "type": "pie",
         "uid": "0b754424-0e14-4344-84ff-751afc1d85fe",
         "values": [
          538,
          117,
          9,
          1
         ]
        },
        {
         "domain": {
          "x": [
           0,
           0.48
          ],
          "y": [
           0.51,
           1
          ]
         },
         "hole": 0.4,
         "hoverinfo": "label+name",
         "labels": [
          "Information technology, networking, or system administration",
          "Computer science (software engineering, etc.)",
          "Other",
          "Medical or life sciences (biology, chemistry, medicine, etc.)",
          "Physics or astronomy",
          "A business discipline (accounting, economics, finance, etc.)",
          "Social sciences (anthropology, psychology, sociology, etc.)",
          "Humanities (history, literature, philosophy, etc.)",
          "Environmental science or geology",
          "I never declared a major"
         ],
         "name": "Major",
         "text": [
          "Major"
         ],
         "textposition": "inside",
         "type": "pie",
         "uid": "8029db64-a7b9-4be6-a4bb-9132e4a8cb0f",
         "values": [
          16,
          559,
          6,
          19,
          32,
          17,
          10,
          3,
          2,
          1
         ]
        },
        {
         "domain": {
          "x": [
           0.52,
           1
          ],
          "y": [
           0.51,
           1
          ]
         },
         "hole": 0.4,
         "hoverinfo": "label+name",
         "labels": [
          "Doctoral degree",
          "I prefer not to answer",
          "Professional degree",
          "Some college/university study without earning a bachelor’s degree"
         ],
         "name": "Degree Level",
         "text": [
          "Degree Level"
         ],
         "textposition": "inside",
         "type": "pie",
         "uid": "c671fc7d-d892-4f76-b755-972ff02bc90a",
         "values": [
          597,
          20,
          26,
          22
         ]
        }
       ],
       "layout": {
        "showlegend": false,
        "title": "Cluster 8 data"
       }
      },
      "text/html": [
       "<div id=\"180c8a3e-d096-4142-8671-5bbb4512f60b\" style=\"height: 525px; width: 100%;\" class=\"plotly-graph-div\"></div><script type=\"text/javascript\">require([\"plotly\"], function(Plotly) { window.PLOTLYENV=window.PLOTLYENV || {};window.PLOTLYENV.BASE_URL=\"https://plot.ly\";Plotly.newPlot(\"180c8a3e-d096-4142-8671-5bbb4512f60b\", [{\"domain\": {\"x\": [0, 0.48], \"y\": [0, 0.49]}, \"hole\": 0.4, \"hoverinfo\": \"label+name\", \"labels\": [\"10-20,000\", \"400-500,000\", \"40-50,000\", \"50-60,000\", \"70-80,000\", \"150-200,000\", \"100-125,000\", \"30-40,000\", \"80-90,000\", \"60-70,000\", \"125-150,000\", \"200-250,000\", \"90-100,000\", \"250-300,000\", \"300-400,000\", \"500,000+\"], \"name\": \"Compensation\", \"text\": [\"Compensation\"], \"textposition\": \"inside\", \"values\": [296, 3, 49, 50, 24, 19, 40, 67, 26, 27, 24, 10, 19, 8, 2, 1], \"type\": \"pie\", \"uid\": \"19b2b560-c226-4da2-a275-f459dedfb4c7\"}, {\"domain\": {\"x\": [0.52, 1], \"y\": [0, 0.49]}, \"hole\": 0.4, \"hoverinfo\": \"label+name\", \"labels\": [\"Male\", \"Female\", \"Prefer not to say\", \"Prefer to self-describe\"], \"name\": \"Gender\", \"text\": [\"Gender\"], \"textposition\": \"inside\", \"values\": [538, 117, 9, 1], \"type\": \"pie\", \"uid\": \"fd034cf3-bb34-4017-9e7c-bd08f1f9cfe9\"}, {\"domain\": {\"x\": [0, 0.48], \"y\": [0.51, 1]}, \"hole\": 0.4, \"hoverinfo\": \"label+name\", \"labels\": [\"Information technology, networking, or system administration\", \"Computer science (software engineering, etc.)\", \"Other\", \"Medical or life sciences (biology, chemistry, medicine, etc.)\", \"Physics or astronomy\", \"A business discipline (accounting, economics, finance, etc.)\", \"Social sciences (anthropology, psychology, sociology, etc.)\", \"Humanities (history, literature, philosophy, etc.)\", \"Environmental science or geology\", \"I never declared a major\"], \"name\": \"Major\", \"text\": [\"Major\"], \"textposition\": \"inside\", \"values\": [16, 559, 6, 19, 32, 17, 10, 3, 2, 1], \"type\": \"pie\", \"uid\": \"51bcfcab-9601-4ae6-a35d-2ba6c3ad3413\"}, {\"domain\": {\"x\": [0.52, 1], \"y\": [0.51, 1]}, \"hole\": 0.4, \"hoverinfo\": \"label+name\", \"labels\": [\"Doctoral degree\", \"I prefer not to answer\", \"Professional degree\", \"Some college/university study without earning a bachelor\\u2019s degree\"], \"name\": \"Degree Level\", \"text\": [\"Degree Level\"], \"textposition\": \"inside\", \"values\": [597, 20, 26, 22], \"type\": \"pie\", \"uid\": \"b2fbbe7b-13b6-44a8-bb67-0bea00f424b9\"}], {\"showlegend\": false, \"title\": \"Cluster 8 data\"}, {\"showLink\": true, \"linkText\": \"Export to plot.ly\", \"plotlyServerURL\": \"https://plot.ly\"})});</script><script type=\"text/javascript\">window.addEventListener(\"resize\", function(){window._Plotly.Plots.resize(document.getElementById(\"180c8a3e-d096-4142-8671-5bbb4512f60b\"));});</script>"
      ],
      "text/vnd.plotly.v1+html": [
       "<div id=\"180c8a3e-d096-4142-8671-5bbb4512f60b\" style=\"height: 525px; width: 100%;\" class=\"plotly-graph-div\"></div><script type=\"text/javascript\">require([\"plotly\"], function(Plotly) { window.PLOTLYENV=window.PLOTLYENV || {};window.PLOTLYENV.BASE_URL=\"https://plot.ly\";Plotly.newPlot(\"180c8a3e-d096-4142-8671-5bbb4512f60b\", [{\"domain\": {\"x\": [0, 0.48], \"y\": [0, 0.49]}, \"hole\": 0.4, \"hoverinfo\": \"label+name\", \"labels\": [\"10-20,000\", \"400-500,000\", \"40-50,000\", \"50-60,000\", \"70-80,000\", \"150-200,000\", \"100-125,000\", \"30-40,000\", \"80-90,000\", \"60-70,000\", \"125-150,000\", \"200-250,000\", \"90-100,000\", \"250-300,000\", \"300-400,000\", \"500,000+\"], \"name\": \"Compensation\", \"text\": [\"Compensation\"], \"textposition\": \"inside\", \"values\": [296, 3, 49, 50, 24, 19, 40, 67, 26, 27, 24, 10, 19, 8, 2, 1], \"type\": \"pie\", \"uid\": \"19b2b560-c226-4da2-a275-f459dedfb4c7\"}, {\"domain\": {\"x\": [0.52, 1], \"y\": [0, 0.49]}, \"hole\": 0.4, \"hoverinfo\": \"label+name\", \"labels\": [\"Male\", \"Female\", \"Prefer not to say\", \"Prefer to self-describe\"], \"name\": \"Gender\", \"text\": [\"Gender\"], \"textposition\": \"inside\", \"values\": [538, 117, 9, 1], \"type\": \"pie\", \"uid\": \"fd034cf3-bb34-4017-9e7c-bd08f1f9cfe9\"}, {\"domain\": {\"x\": [0, 0.48], \"y\": [0.51, 1]}, \"hole\": 0.4, \"hoverinfo\": \"label+name\", \"labels\": [\"Information technology, networking, or system administration\", \"Computer science (software engineering, etc.)\", \"Other\", \"Medical or life sciences (biology, chemistry, medicine, etc.)\", \"Physics or astronomy\", \"A business discipline (accounting, economics, finance, etc.)\", \"Social sciences (anthropology, psychology, sociology, etc.)\", \"Humanities (history, literature, philosophy, etc.)\", \"Environmental science or geology\", \"I never declared a major\"], \"name\": \"Major\", \"text\": [\"Major\"], \"textposition\": \"inside\", \"values\": [16, 559, 6, 19, 32, 17, 10, 3, 2, 1], \"type\": \"pie\", \"uid\": \"51bcfcab-9601-4ae6-a35d-2ba6c3ad3413\"}, {\"domain\": {\"x\": [0.52, 1], \"y\": [0.51, 1]}, \"hole\": 0.4, \"hoverinfo\": \"label+name\", \"labels\": [\"Doctoral degree\", \"I prefer not to answer\", \"Professional degree\", \"Some college/university study without earning a bachelor\\u2019s degree\"], \"name\": \"Degree Level\", \"text\": [\"Degree Level\"], \"textposition\": \"inside\", \"values\": [597, 20, 26, 22], \"type\": \"pie\", \"uid\": \"b2fbbe7b-13b6-44a8-bb67-0bea00f424b9\"}], {\"showlegend\": false, \"title\": \"Cluster 8 data\"}, {\"showLink\": true, \"linkText\": \"Export to plot.ly\", \"plotlyServerURL\": \"https://plot.ly\"})});</script><script type=\"text/javascript\">window.addEventListener(\"resize\", function(){window._Plotly.Plots.resize(document.getElementById(\"180c8a3e-d096-4142-8671-5bbb4512f60b\"));});</script>"
      ]
     },
     "metadata": {},
     "output_type": "display_data"
    },
    {
     "name": "stdout",
     "output_type": "stream",
     "text": [
      "This is the format of your plot grid:\n",
      "[ (1,1) x1,y1 ]  [ (1,2) x2,y2 ]\n",
      "[ (2,1) x3,y3 ]  [ (2,2) x4,y4 ]\n",
      "\n"
     ]
    },
    {
     "data": {
      "application/vnd.plotly.v1+json": {
       "config": {
        "linkText": "Export to plot.ly",
        "plotlyServerURL": "https://plot.ly",
        "showLink": true
       },
       "data": [
        {
         "domain": {
          "x": [
           0,
           0.48
          ],
          "y": [
           0,
           0.49
          ]
         },
         "hole": 0.4,
         "hoverinfo": "label+name",
         "labels": [
          "40-50,000",
          "100-125,000",
          "70-80,000",
          "60-70,000",
          "150-200,000",
          "90-100,000",
          "50-60,000",
          "80-90,000",
          "125-150,000",
          "200-250,000",
          "250-300,000",
          "500,000+",
          "400-500,000",
          "300-400,000"
         ],
         "name": "Compensation",
         "text": [
          "Compensation"
         ],
         "textposition": "inside",
         "type": "pie",
         "uid": "8e7d18fa-3937-40b4-8e50-2165697ba25f",
         "values": [
          193,
          68,
          46,
          48,
          22,
          47,
          62,
          39,
          27,
          9,
          5,
          1,
          1,
          3
         ]
        },
        {
         "domain": {
          "x": [
           0.52,
           1
          ],
          "y": [
           0,
           0.49
          ]
         },
         "hole": 0.4,
         "hoverinfo": "label+name",
         "labels": [
          "Male",
          "Female",
          "Prefer not to say",
          "Prefer to self-describe"
         ],
         "name": "Gender",
         "text": [
          "Gender"
         ],
         "textposition": "inside",
         "type": "pie",
         "uid": "906c8aef-cce4-4147-8143-0d43f2f22f4a",
         "values": [
          460,
          105,
          4,
          2
         ]
        },
        {
         "domain": {
          "x": [
           0,
           0.48
          ],
          "y": [
           0.51,
           1
          ]
         },
         "hole": 0.4,
         "hoverinfo": "label+name",
         "labels": [
          "A business discipline (accounting, economics, finance, etc.)",
          "Information technology, networking, or system administration",
          "Other",
          "Environmental science or geology",
          "Physics or astronomy",
          "Humanities (history, literature, philosophy, etc.)",
          "Fine arts or performing arts",
          "Social sciences (anthropology, psychology, sociology, etc.)",
          "Medical or life sciences (biology, chemistry, medicine, etc.)",
          "I never declared a major"
         ],
         "name": "Major",
         "text": [
          "Major"
         ],
         "textposition": "inside",
         "type": "pie",
         "uid": "f3954665-5f0a-4c58-aab2-cc5282f9c915",
         "values": [
          461,
          15,
          10,
          9,
          31,
          9,
          2,
          16,
          16,
          2
         ]
        },
        {
         "domain": {
          "x": [
           0.52,
           1
          ],
          "y": [
           0.51,
           1
          ]
         },
         "hole": 0.4,
         "hoverinfo": "label+name",
         "labels": [
          "Master’s degree",
          "Doctoral degree",
          "Bachelor’s degree",
          "Professional degree"
         ],
         "name": "Degree Level",
         "text": [
          "Degree Level"
         ],
         "textposition": "inside",
         "type": "pie",
         "uid": "b8924818-8b10-4b03-b6bb-22f79a96a64e",
         "values": [
          533,
          6,
          25,
          7
         ]
        }
       ],
       "layout": {
        "showlegend": false,
        "title": "Cluster 9 data"
       }
      },
      "text/html": [
       "<div id=\"e0530b22-9c38-43a2-b04e-6a358f2b21e7\" style=\"height: 525px; width: 100%;\" class=\"plotly-graph-div\"></div><script type=\"text/javascript\">require([\"plotly\"], function(Plotly) { window.PLOTLYENV=window.PLOTLYENV || {};window.PLOTLYENV.BASE_URL=\"https://plot.ly\";Plotly.newPlot(\"e0530b22-9c38-43a2-b04e-6a358f2b21e7\", [{\"domain\": {\"x\": [0, 0.48], \"y\": [0, 0.49]}, \"hole\": 0.4, \"hoverinfo\": \"label+name\", \"labels\": [\"40-50,000\", \"100-125,000\", \"70-80,000\", \"60-70,000\", \"150-200,000\", \"90-100,000\", \"50-60,000\", \"80-90,000\", \"125-150,000\", \"200-250,000\", \"250-300,000\", \"500,000+\", \"400-500,000\", \"300-400,000\"], \"name\": \"Compensation\", \"text\": [\"Compensation\"], \"textposition\": \"inside\", \"values\": [193, 68, 46, 48, 22, 47, 62, 39, 27, 9, 5, 1, 1, 3], \"type\": \"pie\", \"uid\": \"2171412b-13d7-4ce7-80fb-a5a97c559593\"}, {\"domain\": {\"x\": [0.52, 1], \"y\": [0, 0.49]}, \"hole\": 0.4, \"hoverinfo\": \"label+name\", \"labels\": [\"Male\", \"Female\", \"Prefer not to say\", \"Prefer to self-describe\"], \"name\": \"Gender\", \"text\": [\"Gender\"], \"textposition\": \"inside\", \"values\": [460, 105, 4, 2], \"type\": \"pie\", \"uid\": \"cfe1f220-43fa-4507-b22d-9433d522bd91\"}, {\"domain\": {\"x\": [0, 0.48], \"y\": [0.51, 1]}, \"hole\": 0.4, \"hoverinfo\": \"label+name\", \"labels\": [\"A business discipline (accounting, economics, finance, etc.)\", \"Information technology, networking, or system administration\", \"Other\", \"Environmental science or geology\", \"Physics or astronomy\", \"Humanities (history, literature, philosophy, etc.)\", \"Fine arts or performing arts\", \"Social sciences (anthropology, psychology, sociology, etc.)\", \"Medical or life sciences (biology, chemistry, medicine, etc.)\", \"I never declared a major\"], \"name\": \"Major\", \"text\": [\"Major\"], \"textposition\": \"inside\", \"values\": [461, 15, 10, 9, 31, 9, 2, 16, 16, 2], \"type\": \"pie\", \"uid\": \"69c32f92-9ade-4d3e-aae2-623ff6e5e41c\"}, {\"domain\": {\"x\": [0.52, 1], \"y\": [0.51, 1]}, \"hole\": 0.4, \"hoverinfo\": \"label+name\", \"labels\": [\"Master\\u2019s degree\", \"Doctoral degree\", \"Bachelor\\u2019s degree\", \"Professional degree\"], \"name\": \"Degree Level\", \"text\": [\"Degree Level\"], \"textposition\": \"inside\", \"values\": [533, 6, 25, 7], \"type\": \"pie\", \"uid\": \"e81b4d84-aafb-4b71-9496-07522036ab86\"}], {\"showlegend\": false, \"title\": \"Cluster 9 data\"}, {\"showLink\": true, \"linkText\": \"Export to plot.ly\", \"plotlyServerURL\": \"https://plot.ly\"})});</script><script type=\"text/javascript\">window.addEventListener(\"resize\", function(){window._Plotly.Plots.resize(document.getElementById(\"e0530b22-9c38-43a2-b04e-6a358f2b21e7\"));});</script>"
      ],
      "text/vnd.plotly.v1+html": [
       "<div id=\"e0530b22-9c38-43a2-b04e-6a358f2b21e7\" style=\"height: 525px; width: 100%;\" class=\"plotly-graph-div\"></div><script type=\"text/javascript\">require([\"plotly\"], function(Plotly) { window.PLOTLYENV=window.PLOTLYENV || {};window.PLOTLYENV.BASE_URL=\"https://plot.ly\";Plotly.newPlot(\"e0530b22-9c38-43a2-b04e-6a358f2b21e7\", [{\"domain\": {\"x\": [0, 0.48], \"y\": [0, 0.49]}, \"hole\": 0.4, \"hoverinfo\": \"label+name\", \"labels\": [\"40-50,000\", \"100-125,000\", \"70-80,000\", \"60-70,000\", \"150-200,000\", \"90-100,000\", \"50-60,000\", \"80-90,000\", \"125-150,000\", \"200-250,000\", \"250-300,000\", \"500,000+\", \"400-500,000\", \"300-400,000\"], \"name\": \"Compensation\", \"text\": [\"Compensation\"], \"textposition\": \"inside\", \"values\": [193, 68, 46, 48, 22, 47, 62, 39, 27, 9, 5, 1, 1, 3], \"type\": \"pie\", \"uid\": \"2171412b-13d7-4ce7-80fb-a5a97c559593\"}, {\"domain\": {\"x\": [0.52, 1], \"y\": [0, 0.49]}, \"hole\": 0.4, \"hoverinfo\": \"label+name\", \"labels\": [\"Male\", \"Female\", \"Prefer not to say\", \"Prefer to self-describe\"], \"name\": \"Gender\", \"text\": [\"Gender\"], \"textposition\": \"inside\", \"values\": [460, 105, 4, 2], \"type\": \"pie\", \"uid\": \"cfe1f220-43fa-4507-b22d-9433d522bd91\"}, {\"domain\": {\"x\": [0, 0.48], \"y\": [0.51, 1]}, \"hole\": 0.4, \"hoverinfo\": \"label+name\", \"labels\": [\"A business discipline (accounting, economics, finance, etc.)\", \"Information technology, networking, or system administration\", \"Other\", \"Environmental science or geology\", \"Physics or astronomy\", \"Humanities (history, literature, philosophy, etc.)\", \"Fine arts or performing arts\", \"Social sciences (anthropology, psychology, sociology, etc.)\", \"Medical or life sciences (biology, chemistry, medicine, etc.)\", \"I never declared a major\"], \"name\": \"Major\", \"text\": [\"Major\"], \"textposition\": \"inside\", \"values\": [461, 15, 10, 9, 31, 9, 2, 16, 16, 2], \"type\": \"pie\", \"uid\": \"69c32f92-9ade-4d3e-aae2-623ff6e5e41c\"}, {\"domain\": {\"x\": [0.52, 1], \"y\": [0.51, 1]}, \"hole\": 0.4, \"hoverinfo\": \"label+name\", \"labels\": [\"Master\\u2019s degree\", \"Doctoral degree\", \"Bachelor\\u2019s degree\", \"Professional degree\"], \"name\": \"Degree Level\", \"text\": [\"Degree Level\"], \"textposition\": \"inside\", \"values\": [533, 6, 25, 7], \"type\": \"pie\", \"uid\": \"e81b4d84-aafb-4b71-9496-07522036ab86\"}], {\"showlegend\": false, \"title\": \"Cluster 9 data\"}, {\"showLink\": true, \"linkText\": \"Export to plot.ly\", \"plotlyServerURL\": \"https://plot.ly\"})});</script><script type=\"text/javascript\">window.addEventListener(\"resize\", function(){window._Plotly.Plots.resize(document.getElementById(\"e0530b22-9c38-43a2-b04e-6a358f2b21e7\"));});</script>"
      ]
     },
     "metadata": {},
     "output_type": "display_data"
    },
    {
     "name": "stdout",
     "output_type": "stream",
     "text": [
      "This is the format of your plot grid:\n",
      "[ (1,1) x1,y1 ]  [ (1,2) x2,y2 ]\n",
      "[ (2,1) x3,y3 ]  [ (2,2) x4,y4 ]\n",
      "\n"
     ]
    },
    {
     "data": {
      "application/vnd.plotly.v1+json": {
       "config": {
        "linkText": "Export to plot.ly",
        "plotlyServerURL": "https://plot.ly",
        "showLink": true
       },
       "data": [
        {
         "domain": {
          "x": [
           0,
           0.48
          ],
          "y": [
           0,
           0.49
          ]
         },
         "hole": 0.4,
         "hoverinfo": "label+name",
         "labels": [
          "30-40,000",
          "50-60,000",
          "125-150,000",
          "40-50,000",
          "90-100,000",
          "0-10,000",
          "80-90,000",
          "70-80,000",
          "60-70,000",
          "200-250,000",
          "150-200,000",
          "100-125,000",
          "250-300,000",
          "500,000+",
          "300-400,000"
         ],
         "name": "Compensation",
         "text": [
          "Compensation"
         ],
         "textposition": "inside",
         "type": "pie",
         "uid": "76bcb754-ad00-432a-971f-28573eb1d91a",
         "values": [
          27,
          28,
          13,
          28,
          15,
          216,
          10,
          20,
          28,
          14,
          20,
          23,
          3,
          1,
          1
         ]
        },
        {
         "domain": {
          "x": [
           0.52,
           1
          ],
          "y": [
           0,
           0.49
          ]
         },
         "hole": 0.4,
         "hoverinfo": "label+name",
         "labels": [
          "Male",
          "Prefer not to say",
          "Female",
          "Prefer to self-describe"
         ],
         "name": "Gender",
         "text": [
          "Gender"
         ],
         "textposition": "inside",
         "type": "pie",
         "uid": "a28ca8fe-e055-4188-acf1-d7614a5a867e",
         "values": [
          370,
          5,
          71,
          1
         ]
        },
        {
         "domain": {
          "x": [
           0,
           0.48
          ],
          "y": [
           0.51,
           1
          ]
         },
         "hole": 0.4,
         "hoverinfo": "label+name",
         "labels": [
          "Engineering (non-computer focused)",
          "Medical or life sciences (biology, chemistry, medicine, etc.)",
          "Other",
          "Information technology, networking, or system administration",
          "Physics or astronomy",
          "Environmental science or geology",
          "A business discipline (accounting, economics, finance, etc.)",
          "Humanities (history, literature, philosophy, etc.)",
          "Social sciences (anthropology, psychology, sociology, etc.)"
         ],
         "name": "Major",
         "text": [
          "Major"
         ],
         "textposition": "inside",
         "type": "pie",
         "uid": "b610c6c4-6ff4-4395-92bc-b2a5f945b5ac",
         "values": [
          347,
          22,
          12,
          17,
          30,
          6,
          6,
          3,
          4
         ]
        },
        {
         "domain": {
          "x": [
           0.52,
           1
          ],
          "y": [
           0.51,
           1
          ]
         },
         "hole": 0.4,
         "hoverinfo": "label+name",
         "labels": [
          "Doctoral degree",
          "Professional degree",
          "Some college/university study without earning a bachelor’s degree",
          "I prefer not to answer"
         ],
         "name": "Degree Level",
         "text": [
          "Degree Level"
         ],
         "textposition": "inside",
         "type": "pie",
         "uid": "cfaa5868-1ce4-4ea3-b818-f33161e6d8cd",
         "values": [
          391,
          19,
          34,
          3
         ]
        }
       ],
       "layout": {
        "showlegend": false,
        "title": "Cluster 10 data"
       }
      },
      "text/html": [
       "<div id=\"c959568e-b687-4ded-9b72-81046934d37b\" style=\"height: 525px; width: 100%;\" class=\"plotly-graph-div\"></div><script type=\"text/javascript\">require([\"plotly\"], function(Plotly) { window.PLOTLYENV=window.PLOTLYENV || {};window.PLOTLYENV.BASE_URL=\"https://plot.ly\";Plotly.newPlot(\"c959568e-b687-4ded-9b72-81046934d37b\", [{\"domain\": {\"x\": [0, 0.48], \"y\": [0, 0.49]}, \"hole\": 0.4, \"hoverinfo\": \"label+name\", \"labels\": [\"30-40,000\", \"50-60,000\", \"125-150,000\", \"40-50,000\", \"90-100,000\", \"0-10,000\", \"80-90,000\", \"70-80,000\", \"60-70,000\", \"200-250,000\", \"150-200,000\", \"100-125,000\", \"250-300,000\", \"500,000+\", \"300-400,000\"], \"name\": \"Compensation\", \"text\": [\"Compensation\"], \"textposition\": \"inside\", \"values\": [27, 28, 13, 28, 15, 216, 10, 20, 28, 14, 20, 23, 3, 1, 1], \"type\": \"pie\", \"uid\": \"4b200b51-532d-4517-97c5-10f81f0f04a6\"}, {\"domain\": {\"x\": [0.52, 1], \"y\": [0, 0.49]}, \"hole\": 0.4, \"hoverinfo\": \"label+name\", \"labels\": [\"Male\", \"Prefer not to say\", \"Female\", \"Prefer to self-describe\"], \"name\": \"Gender\", \"text\": [\"Gender\"], \"textposition\": \"inside\", \"values\": [370, 5, 71, 1], \"type\": \"pie\", \"uid\": \"d1546dd9-fbe4-468a-8074-a379ee912ccb\"}, {\"domain\": {\"x\": [0, 0.48], \"y\": [0.51, 1]}, \"hole\": 0.4, \"hoverinfo\": \"label+name\", \"labels\": [\"Engineering (non-computer focused)\", \"Medical or life sciences (biology, chemistry, medicine, etc.)\", \"Other\", \"Information technology, networking, or system administration\", \"Physics or astronomy\", \"Environmental science or geology\", \"A business discipline (accounting, economics, finance, etc.)\", \"Humanities (history, literature, philosophy, etc.)\", \"Social sciences (anthropology, psychology, sociology, etc.)\"], \"name\": \"Major\", \"text\": [\"Major\"], \"textposition\": \"inside\", \"values\": [347, 22, 12, 17, 30, 6, 6, 3, 4], \"type\": \"pie\", \"uid\": \"779ccdd0-ee87-44b1-bbc4-5fb95bf488dd\"}, {\"domain\": {\"x\": [0.52, 1], \"y\": [0.51, 1]}, \"hole\": 0.4, \"hoverinfo\": \"label+name\", \"labels\": [\"Doctoral degree\", \"Professional degree\", \"Some college/university study without earning a bachelor\\u2019s degree\", \"I prefer not to answer\"], \"name\": \"Degree Level\", \"text\": [\"Degree Level\"], \"textposition\": \"inside\", \"values\": [391, 19, 34, 3], \"type\": \"pie\", \"uid\": \"b676eed2-4e44-408f-ac7f-007976d1fa80\"}], {\"showlegend\": false, \"title\": \"Cluster 10 data\"}, {\"showLink\": true, \"linkText\": \"Export to plot.ly\", \"plotlyServerURL\": \"https://plot.ly\"})});</script><script type=\"text/javascript\">window.addEventListener(\"resize\", function(){window._Plotly.Plots.resize(document.getElementById(\"c959568e-b687-4ded-9b72-81046934d37b\"));});</script>"
      ],
      "text/vnd.plotly.v1+html": [
       "<div id=\"c959568e-b687-4ded-9b72-81046934d37b\" style=\"height: 525px; width: 100%;\" class=\"plotly-graph-div\"></div><script type=\"text/javascript\">require([\"plotly\"], function(Plotly) { window.PLOTLYENV=window.PLOTLYENV || {};window.PLOTLYENV.BASE_URL=\"https://plot.ly\";Plotly.newPlot(\"c959568e-b687-4ded-9b72-81046934d37b\", [{\"domain\": {\"x\": [0, 0.48], \"y\": [0, 0.49]}, \"hole\": 0.4, \"hoverinfo\": \"label+name\", \"labels\": [\"30-40,000\", \"50-60,000\", \"125-150,000\", \"40-50,000\", \"90-100,000\", \"0-10,000\", \"80-90,000\", \"70-80,000\", \"60-70,000\", \"200-250,000\", \"150-200,000\", \"100-125,000\", \"250-300,000\", \"500,000+\", \"300-400,000\"], \"name\": \"Compensation\", \"text\": [\"Compensation\"], \"textposition\": \"inside\", \"values\": [27, 28, 13, 28, 15, 216, 10, 20, 28, 14, 20, 23, 3, 1, 1], \"type\": \"pie\", \"uid\": \"4b200b51-532d-4517-97c5-10f81f0f04a6\"}, {\"domain\": {\"x\": [0.52, 1], \"y\": [0, 0.49]}, \"hole\": 0.4, \"hoverinfo\": \"label+name\", \"labels\": [\"Male\", \"Prefer not to say\", \"Female\", \"Prefer to self-describe\"], \"name\": \"Gender\", \"text\": [\"Gender\"], \"textposition\": \"inside\", \"values\": [370, 5, 71, 1], \"type\": \"pie\", \"uid\": \"d1546dd9-fbe4-468a-8074-a379ee912ccb\"}, {\"domain\": {\"x\": [0, 0.48], \"y\": [0.51, 1]}, \"hole\": 0.4, \"hoverinfo\": \"label+name\", \"labels\": [\"Engineering (non-computer focused)\", \"Medical or life sciences (biology, chemistry, medicine, etc.)\", \"Other\", \"Information technology, networking, or system administration\", \"Physics or astronomy\", \"Environmental science or geology\", \"A business discipline (accounting, economics, finance, etc.)\", \"Humanities (history, literature, philosophy, etc.)\", \"Social sciences (anthropology, psychology, sociology, etc.)\"], \"name\": \"Major\", \"text\": [\"Major\"], \"textposition\": \"inside\", \"values\": [347, 22, 12, 17, 30, 6, 6, 3, 4], \"type\": \"pie\", \"uid\": \"779ccdd0-ee87-44b1-bbc4-5fb95bf488dd\"}, {\"domain\": {\"x\": [0.52, 1], \"y\": [0.51, 1]}, \"hole\": 0.4, \"hoverinfo\": \"label+name\", \"labels\": [\"Doctoral degree\", \"Professional degree\", \"Some college/university study without earning a bachelor\\u2019s degree\", \"I prefer not to answer\"], \"name\": \"Degree Level\", \"text\": [\"Degree Level\"], \"textposition\": \"inside\", \"values\": [391, 19, 34, 3], \"type\": \"pie\", \"uid\": \"b676eed2-4e44-408f-ac7f-007976d1fa80\"}], {\"showlegend\": false, \"title\": \"Cluster 10 data\"}, {\"showLink\": true, \"linkText\": \"Export to plot.ly\", \"plotlyServerURL\": \"https://plot.ly\"})});</script><script type=\"text/javascript\">window.addEventListener(\"resize\", function(){window._Plotly.Plots.resize(document.getElementById(\"c959568e-b687-4ded-9b72-81046934d37b\"));});</script>"
      ]
     },
     "metadata": {},
     "output_type": "display_data"
    }
   ],
   "source": [
    "for cluster_label in range(n_clusters):\n",
    "    plot_donuts_cluster(dict_clusters[cluster_label], \"Cluster {} data\".format(cluster_label))"
   ]
  },
  {
   "cell_type": "markdown",
   "metadata": {},
   "source": [
    "In the previous visualization pie charts were drawn for each of the found clusters taking the proportions of each gender, major, degree level and compensation values with respect to the total number of elements in the cluster.\n",
    "\n",
    "As the plotly graphics are interactive you can hover your mouse over each pie chart to check the information and draw interesting relations.\n",
    "\n",
    "For example, it is interesting, and kind of sad, to observe the cluster 6 data. This is dominated by business related people with either complete or partial credits for a Bachelor degree and yearly compensations that go above 30000 dollars. The payment is way above of the one seen for clusters with a majority of graduated people from computer science or engineering !"
   ]
  }
 ],
 "metadata": {
  "kernelspec": {
   "display_name": "Python 3",
   "language": "python",
   "name": "python3"
  },
  "language_info": {
   "codemirror_mode": {
    "name": "ipython",
    "version": 3
   },
   "file_extension": ".py",
   "mimetype": "text/x-python",
   "name": "python",
   "nbconvert_exporter": "python",
   "pygments_lexer": "ipython3",
   "version": "3.7.0"
  }
 },
 "nbformat": 4,
 "nbformat_minor": 2
}
