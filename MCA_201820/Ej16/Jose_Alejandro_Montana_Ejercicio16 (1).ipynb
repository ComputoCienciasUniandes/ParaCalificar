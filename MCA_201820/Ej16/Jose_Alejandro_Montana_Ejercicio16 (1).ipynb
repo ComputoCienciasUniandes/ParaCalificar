{
 "cells": [
  {
   "cell_type": "code",
   "execution_count": 1,
   "metadata": {},
   "outputs": [],
   "source": [
    "import numpy as np\n",
    "import matplotlib.pyplot as plt\n",
    "import pandas as pd\n",
    "%matplotlib inline\n",
    "import sklearn.linear_model\n",
    "from sklearn.model_selection import LeaveOneOut"
   ]
  },
  {
   "cell_type": "code",
   "execution_count": 2,
   "metadata": {},
   "outputs": [],
   "source": [
    "def model(x,c,intercept):\n",
    "    #y=c[0]*np.ones(len(x))\n",
    "    y=np.ones(len(x))*intercept\n",
    "    for i in range(len(c)):\n",
    "        y += c[i]*x[:,i]\n",
    "    return y\n",
    "data = pd.read_csv('Cars93.csv')\n",
    "X = np.array(data[['MPG.city', 'MPG.highway', 'EngineSize', 'Horsepower', 'RPM', 'Rev.per.mile',   'Fuel.tank.capacity', 'Passengers', 'Length',   'Wheelbase', 'Width', 'Turn.circle', 'Weight']],dtype=float)\n",
    "Y= np.array(data[\"Price\"],dtype=float)"
   ]
  },
  {
   "cell_type": "code",
   "execution_count": 3,
   "metadata": {},
   "outputs": [
    {
     "data": {
      "text/plain": [
       "Lasso(alpha=0.1, copy_X=True, fit_intercept=True, max_iter=1000,\n",
       "   normalize=True, positive=False, precompute=False, random_state=None,\n",
       "   selection='cyclic', tol=0.0001, warm_start=False)"
      ]
     },
     "execution_count": 3,
     "metadata": {},
     "output_type": "execute_result"
    }
   ],
   "source": [
    "from sklearn import linear_model\n",
    "clf = linear_model.Lasso(alpha=0.1,normalize=True)\n",
    "clf.fit(X,Y)"
   ]
  },
  {
   "cell_type": "markdown",
   "metadata": {},
   "source": [
    "Prueba para un $\\alpha=0.1$"
   ]
  },
  {
   "cell_type": "code",
   "execution_count": 4,
   "metadata": {},
   "outputs": [
    {
     "name": "stdout",
     "output_type": "stream",
     "text": [
      "34.45904052286169\n"
     ]
    }
   ],
   "source": [
    "loo = LeaveOneOut()\n",
    "R_2=[]\n",
    "for train_index, test_index in loo.split(X):\n",
    "    X_train,X_test = X[train_index], X[test_index]\n",
    "    Y_train, Y_test = Y[train_index], Y[test_index]\n",
    "    clf.fit(X_train,Y_train)\n",
    "    R = np.sum((Y_train-model(X_train,clf.coef_,clf.intercept_))**2)\n",
    "    R= R/len(X_train)\n",
    "    R_2.append(R)\n",
    "print(np.mean(R_2))"
   ]
  },
  {
   "cell_type": "code",
   "execution_count": 5,
   "metadata": {},
   "outputs": [],
   "source": [
    "X = np.array(data[['MPG.city', 'MPG.highway', 'EngineSize', 'Horsepower', 'RPM', 'Rev.per.mile',   'Fuel.tank.capacity', 'Passengers', 'Length',   'Wheelbase', 'Width', 'Turn.circle', 'Weight']],dtype=float)\n",
    "Y= np.array(data[\"Price\"],dtype=float)\n",
    "N=100\n",
    "A=1E-2\n",
    "step=A\n",
    "MSE=np.zeros(N)\n",
    "alphas=np.zeros(N)\n",
    "Coef_list=np.zeros((N,len(X[0])))\n",
    "for i in range(N):\n",
    "    clf = linear_model.Lasso(alpha=A,normalize=True)\n",
    "    loo = LeaveOneOut()\n",
    "    R_2=[]\n",
    "    for train_index, test_index in loo.split(X):\n",
    "        X_train,X_test = X[train_index], X[test_index]\n",
    "        Y_train, Y_test = Y[train_index], Y[test_index]\n",
    "        clf.fit(X_train,Y_train)\n",
    "        R = np.sum((Y_train-model(X_train,clf.coef_,clf.intercept_))**2)\n",
    "        R= R/len(X_train)\n",
    "        R_2.append(R)\n",
    "        Coef_list[i] += clf.coef_ /len(X_train)\n",
    "    MSE[i]=np.mean(R_2)\n",
    "    alphas[i]=A\n",
    "    A+=step"
   ]
  },
  {
   "cell_type": "code",
   "execution_count": 6,
   "metadata": {},
   "outputs": [
    {
     "data": {
      "text/plain": [
       "Text(0, 0.5, 'MSE')"
      ]
     },
     "execution_count": 6,
     "metadata": {},
     "output_type": "execute_result"
    },
    {
     "data": {
      "image/png": "[encoded data removed]",
      "text/plain": [
       "<Figure size 432x288 with 1 Axes>"
      ]
     },
     "metadata": {
      "needs_background": "light"
     },
     "output_type": "display_data"
    }
   ],
   "source": [
    "plt.plot(alphas,MSE,\"--\")\n",
    "plt.scatter(alphas,MSE)\n",
    "plt.xlabel(r\"$\\lambda$\")\n",
    "plt.ylabel(r\"MSE\")"
   ]
  },
  {
   "cell_type": "code",
   "execution_count": null,
   "metadata": {},
   "outputs": [],
   "source": [
    "plt.figure(figsize=(7,7))\n",
    "nombre=['MPG.city', 'MPG.highway', 'EngineSize', 'Horsepower', \n",
    "'RPM', 'Rev.per.mile',   'Fuel.tank.capacity', 'Passengers', \n",
    "'Length',   'Wheelbase', 'Width', 'Turn.circle', 'Weight']\n",
    "for i in range(len(Coef_list[0])):\n",
    "    plt.scatter(alphas,Coef_list[:,i])\n",
    "    plt.plot(alphas,Coef_list[:,i],\"--\",label=nombre[i])\n",
    "plt.legend(loc=\"lower right\")\n",
    "plt.xlabel(r\"$\\lambda$\")\n",
    "plt.ylabel(r\"Coeficientes\")\n",
    "plt.show()"
   ]
  },
  {
   "cell_type": "markdown",
   "metadata": {},
   "source": [
    "entonces todas las variables se pueden ignorar y la variable que cobra más importancia es Horsepower, MP.Highway y Wheelbase"
   ]
  },
  {
   "cell_type": "code",
   "execution_count": null,
   "metadata": {},
   "outputs": [],
   "source": []
  }
 ],
 "metadata": {
  "kernelspec": {
   "display_name": "Python 3",
   "language": "python",
   "name": "python3"
  },
  "language_info": {
   "codemirror_mode": {
    "name": "ipython",
    "version": 3
   },
   "file_extension": ".py",
   "mimetype": "text/x-python",
   "name": "python",
   "nbconvert_exporter": "python",
   "pygments_lexer": "ipython3",
   "version": "3.6.6"
  }
 },
 "nbformat": 4,
 "nbformat_minor": 2
}
