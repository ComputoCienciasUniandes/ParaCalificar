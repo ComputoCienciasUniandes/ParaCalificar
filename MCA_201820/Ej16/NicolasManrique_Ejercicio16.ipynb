{
 "cells": [
  {
   "cell_type": "code",
   "execution_count": 1,
   "metadata": {},
   "outputs": [],
   "source": [
    "import numpy as np\n",
    "import matplotlib.pyplot as plt\n",
    "import pandas as pd\n",
    "import sklearn.linear_model\n",
    "%matplotlib inline"
   ]
  },
  {
   "cell_type": "code",
   "execution_count": 2,
   "metadata": {},
   "outputs": [],
   "source": [
    "data = pd.read_csv('../06.RegresionLineal/Cars93.csv')"
   ]
  },
  {
   "cell_type": "code",
   "execution_count": 49,
   "metadata": {},
   "outputs": [],
   "source": [
    "nom=['MPG.city', 'MPG.highway', 'EngineSize',    'Horsepower', 'RPM', 'Rev.per.mile',   'Fuel.tank.capacity', 'Passengers', 'Length',   'Wheelbase', 'Width', 'Turn.circle', 'Weight']\n",
    "X = np.array(data[nom])\n",
    "Y = np.array(data['Price'].values.reshape(-1,1))"
   ]
  },
  {
   "cell_type": "code",
   "execution_count": 50,
   "metadata": {},
   "outputs": [],
   "source": [
    "from sklearn import linear_model\n",
    "rang=np.logspace(-10, -1, num=50, base=10.0)\n",
    "coef=[]\n",
    "for i in rang:\n",
    "    clf = linear_model.Lasso(alpha=i, normalize=True)\n",
    "    clf.fit(X,Y)\n",
    "    coef.append(clf.coef_)\n",
    "    \n",
    "coef=np.array(coef)"
   ]
  },
  {
   "cell_type": "code",
   "execution_count": 54,
   "metadata": {},
   "outputs": [],
   "source": [
    "from sklearn.model_selection import LeaveOneOut\n",
    "\n",
    "rang=np.logspace(-10, -1, num=50, base=10.0)\n",
    "coef=[]\n",
    "    clf = linear_model.Lasso(alpha=i, normalize=True)\n",
    "    clf.fit(X,Y)\n",
    "    coef.append(clf.coef_)\n",
    "    \n",
    "coef=np.array(coef)\n",
    "\n",
    "loo = LeaveOneOut()\n",
    "for i in rang:\n",
    "    for train, test in loo.split(X):\n",
    "        xtrain, xtest =X[train],X[test]\n",
    "        ytrain, ytest =Y[train],Y[test]\n",
    "        clt = linear_model.Lasso(alpha=i, normalize=True)\n",
    "        clt.fit(xtrain,ytrain)\n",
    "        clt.score(xtest, ytest)"
   ]
  },
  {
   "cell_type": "code",
   "execution_count": null,
   "metadata": {},
   "outputs": [],
   "source": [
    "plt.figure(figsize=(16,9))\n",
    "\n",
    "plt.subplot(1,2,1)\n",
    "plt.scatter(rang, rang, label=\"Datos Experimentales\")\n",
    "plt.xlabel(\"Grado del polinomio\")\n",
    "plt.ylabel(\"CV para LOOCV\")\n",
    "plt.title(\"Error en funcion de grado del polinomio\")\n",
    "\n",
    "plt.subplot(1,2,2)\n",
    "len=np.shape(coef)[1]\n",
    "for i in range(int(len)):\n",
    "    plt.plot(rang, coef[:,i])\n",
    "    \n",
    "plt.xlabel(\"$\\lambda$\")\n",
    "plt.ylabel(\"Coeficientes normalizados\")"
   ]
  },
  {
   "cell_type": "code",
   "execution_count": null,
   "metadata": {},
   "outputs": [],
   "source": []
  }
 ],
 "metadata": {
  "kernelspec": {
   "display_name": "Python 3",
   "language": "python",
   "name": "python3"
  },
  "language_info": {
   "codemirror_mode": {
    "name": "ipython",
    "version": 3
   },
   "file_extension": ".py",
   "mimetype": "text/x-python",
   "name": "python",
   "nbconvert_exporter": "python",
   "pygments_lexer": "ipython3",
   "version": "3.6.6"
  }
 },
 "nbformat": 4,
 "nbformat_minor": 2
}
