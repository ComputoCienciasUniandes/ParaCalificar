{
 "cells": [
  {
   "cell_type": "code",
   "execution_count": 1,
   "metadata": {},
   "outputs": [],
   "source": [
    "import numpy as np\n",
    "import pandas as pd\n",
    "import matplotlib.pyplot as plt\n",
    "from sklearn.model_selection import LeaveOneOut\n",
    "from sklearn import linear_model\n",
    "%matplotlib inline"
   ]
  },
  {
   "cell_type": "code",
   "execution_count": 2,
   "metadata": {},
   "outputs": [],
   "source": [
    "data = pd.read_csv('Cars93.csv')"
   ]
  },
  {
   "cell_type": "code",
   "execution_count": 3,
   "metadata": {},
   "outputs": [],
   "source": [
    "Y = np.array(data['Price'].values.reshape(-1,1))\n",
    "X = np.array(data[['MPG.city', 'MPG.highway', 'EngineSize','Horsepower','RPM','Rev.per.mile','Fuel.tank.capacity','Passengers', 'Length','Wheelbase','Width','Turn.circle','Weight']])"
   ]
  },
  {
   "cell_type": "code",
   "execution_count": 29,
   "metadata": {},
   "outputs": [],
   "source": [
    "def mse(y_a, y_b):\n",
    "    d = (y_a - y_b)**2\n",
    "    return d.mean()\n",
    "\n",
    "def cross_validation(X, Y, alph):\n",
    "    \n",
    "    loo = LeaveOneOut()\n",
    "    n_points = loo.get_n_splits(X)\n",
    "    mse_groups = np.zeros(n_points)\n",
    "    i=0;\n",
    "    for train_index, test_index in loo.split(X):\n",
    "        X_train, X_test = X[train_index], X[test_index]\n",
    "        Y_train, Y_test = Y[train_index], Y[test_index]\n",
    "        \n",
    "        lazaro = linear_model.Lasso(alpha=alph, normalize=True)\n",
    "        lazaro.fit(X_train,Y_train)\n",
    "        params = lazaro.get_params()\n",
    "        \n",
    "        Y_pred = lazaro.predict(X_test)\n",
    "        mse_groups[i] = mse(Y_test, Y_pred)\n",
    "        i += 1\n",
    "    \n",
    "    return mse_groups.mean()"
   ]
  },
  {
   "cell_type": "code",
   "execution_count": null,
   "metadata": {},
   "outputs": [],
   "source": [
    "N = 1000\n",
    "alph = np.linspace(0.001, 0.9, num=N, endpoint=True)\n",
    "params = np.zeros((len(alph),13))\n",
    "val_error = np.zeros(N)\n",
    "for i in range(0,N):\n",
    "    lazaro = linear_model.Lasso(alpha=alph[i],normalize=True)\n",
    "    lazaro.fit(X,Y)\n",
    "    params[i,:] =lazaro.coef_\n",
    "    val_error[i] = cross_validation(X, Y, alph[i])"
   ]
  },
  {
   "cell_type": "code",
   "execution_count": null,
   "metadata": {},
   "outputs": [],
   "source": [
    "plt.figure(figsize=(10,5))\n",
    "\n",
    "plt.subplot(1,2,1)\n",
    "plt.plot(alph,val_error)\n",
    "plt.xscale('log')\n",
    "plt.xlabel('alpha')\n",
    "plt.ylabel('Cross-Validation Error')\n",
    "\n",
    "plt.subplot(1,2,2)\n",
    "plt.plot(alph, params)\n",
    "plt.xscale('log')\n",
    "plt.xlabel('alpha')\n",
    "plt.ylabel('Standarized Coefficients')"
   ]
  },
  {
   "cell_type": "code",
   "execution_count": null,
   "metadata": {},
   "outputs": [],
   "source": []
  }
 ],
 "metadata": {
  "kernelspec": {
   "display_name": "Python 3",
   "language": "python",
   "name": "python3"
  },
  "language_info": {
   "codemirror_mode": {
    "name": "ipython",
    "version": 3
   },
   "file_extension": ".py",
   "mimetype": "text/x-python",
   "name": "python",
   "nbconvert_exporter": "python",
   "pygments_lexer": "ipython3",
   "version": "3.6.6"
  }
 },
 "nbformat": 4,
 "nbformat_minor": 2
}
