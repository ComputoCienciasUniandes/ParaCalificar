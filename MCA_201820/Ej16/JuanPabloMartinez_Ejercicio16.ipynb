{
 "cells": [
  {
   "cell_type": "markdown",
   "metadata": {},
   "source": [
    "### Ejercicio 16"
   ]
  },
  {
   "cell_type": "code",
   "execution_count": 1,
   "metadata": {},
   "outputs": [],
   "source": [
    "import numpy as np\n",
    "import matplotlib.pyplot as plt\n",
    "import pandas as pd\n",
    "import sklearn.linear_model\n",
    "from sklearn.model_selection import LeaveOneOut\n",
    "%matplotlib inline"
   ]
  },
  {
   "cell_type": "code",
   "execution_count": null,
   "metadata": {},
   "outputs": [
    {
     "name": "stdout",
     "output_type": "stream",
     "text": [
      "Iteration over lambdas: 0\n"
     ]
    }
   ],
   "source": [
    "data = pd.read_csv('Cars93.csv')\n",
    "features = ['MPG.city',\n",
    "            'MPG.highway',\n",
    "            'EngineSize',\n",
    "            'Horsepower',\n",
    "            'RPM',\n",
    "            'Rev.per.mile',\n",
    "            'Fuel.tank.capacity',\n",
    "            'Passengers',\n",
    "            'Length',\n",
    "            'Wheelbase',\n",
    "            'Width',\n",
    "            'Turn.circle',\n",
    "            'Weight']\n",
    "X = np.array(data[features])\n",
    "Y = np.array(data['Price'].values.reshape(-1,1))\n",
    "lambdas = 0.5*np.logspace(-4,1,40)\n",
    "loo = LeaveOneOut()\n",
    "MSE_train, MSE_test, betas, betas_0 = [], [], [], [] #List to plot\n",
    "#Lambda looping\n",
    "for i,alpha in enumerate(lambdas):\n",
    "    #Loop indicator\n",
    "    if(i%5 ==0 or i==len(lambdas)-1):\n",
    "        print('Iteration over lambdas: '+str(i))\n",
    "    MSE_train_list, MSE_test_list = [], [] #Temp list\n",
    "    #Looping over data\n",
    "    for train_index, test_index in loo.split(X):\n",
    "        linear_lasso = sklearn.linear_model.Lasso(alpha,normalize=True)\n",
    "        linear_lasso.fit(X[train_index],Y[train_index])\n",
    "        MSE_train_list.append(np.square(Y[train_index] - linear_lasso.predict(X[train_index])).mean())\n",
    "        MSE_test_list.append(np.square(Y[test_index] - linear_lasso.predict(X[test_index])))\n",
    "    MSE_train.append(np.array(MSE_train_list).mean())\n",
    "    MSE_test.append(np.array(MSE_test_list).mean())\n",
    "    #Training with all the data (for the second and third plots)\n",
    "    linear_lasso = sklearn.linear_model.Lasso(alpha,normalize=True)\n",
    "    linear_lasso.fit(X,Y)\n",
    "    betas_0.append(linear_lasso.intercept_)\n",
    "    betas.append(linear_lasso.coef_)\n",
    "    "
   ]
  },
  {
   "cell_type": "code",
   "execution_count": null,
   "metadata": {},
   "outputs": [],
   "source": [
    "best_lambda = lambdas[np.argmin(MSE_test)]\n",
    "plt.figure();\n",
    "plt.semilogx(lambdas,MSE_test);\n",
    "plt.axvline(x=best_lambda,color='r',linestyle='dashed');\n",
    "plt.title('Lambda with min CV-MSE: '+str(best_lambda))\n",
    "plt.ylabel('CV MSE');\n",
    "plt.xlabel('Lambda');\n",
    "plt.figure();\n",
    "plt.semilogx(lambdas,betas_0);\n",
    "plt.axvline(x=best_lambda,color='r',linestyle='dashed');\n",
    "plt.ylabel('Intercept');\n",
    "plt.xlabel('Lambda');\n",
    "plt.figure();\n",
    "plt.semilogx(lambdas,betas);\n",
    "plt.axvline(x=best_lambda,color='r',linestyle='dashed');\n",
    "plt.ylabel('Betas');\n",
    "plt.xlabel('Lambda');"
   ]
  },
  {
   "cell_type": "code",
   "execution_count": null,
   "metadata": {},
   "outputs": [],
   "source": [
    "best_betas = list(betas[np.argmin(MSE_test)])\n",
    "print('BEST BETAS: ')\n",
    "main_feat = []\n",
    "least_feat = []\n",
    "for i in range(len(best_betas)):\n",
    "    beta_i = np.round(best_betas[i],4)\n",
    "    print('Beta_'+str(i+1)+'= '+str(beta_i))\n",
    "    if(abs(beta_i)>=1e-2):\n",
    "        main_feat.append(i)\n",
    "    else:\n",
    "        least_feat.append(i)\n",
    "print('-------------------------')\n",
    "print('Selection th')\n",
    "print('-------------------------')\n",
    "print('MOST IMPORTANT FEATURES: ')\n",
    "print(np.array(features.copy(),dtype=str)[main_feat])\n",
    "print('-------------------------')\n",
    "print('LEAST IMPORTANT FEATURES: ')\n",
    "print(np.array(features.copy(),dtype=str)[least_feat])"
   ]
  },
  {
   "cell_type": "code",
   "execution_count": null,
   "metadata": {},
   "outputs": [],
   "source": []
  }
 ],
 "metadata": {
  "kernelspec": {
   "display_name": "Python 3",
   "language": "python",
   "name": "python3"
  },
  "language_info": {
   "codemirror_mode": {
    "name": "ipython",
    "version": 3
   },
   "file_extension": ".py",
   "mimetype": "text/x-python",
   "name": "python",
   "nbconvert_exporter": "python",
   "pygments_lexer": "ipython3",
   "version": "3.6.6"
  }
 },
 "nbformat": 4,
 "nbformat_minor": 2
}
