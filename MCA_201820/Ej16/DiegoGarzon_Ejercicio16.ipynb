{
 "cells": [
  {
   "cell_type": "code",
   "execution_count": 1,
   "metadata": {},
   "outputs": [],
   "source": [
    "import numpy as np\n",
    "import matplotlib.pyplot as plt\n",
    "import pandas as pd\n",
    "from sklearn.model_selection import LeaveOneOut\n",
    "from sklearn import linear_model"
   ]
  },
  {
   "cell_type": "code",
   "execution_count": 2,
   "metadata": {},
   "outputs": [],
   "source": [
    "data = pd.read_csv('Cars93.csv')"
   ]
  },
  {
   "cell_type": "code",
   "execution_count": 3,
   "metadata": {},
   "outputs": [],
   "source": [
    "Y = data['Price']\n",
    "X = np.array(data[['MPG.city', 'MPG.highway', 'EngineSize',    'Horsepower', 'RPM', 'Rev.per.mile',   'Fuel.tank.capacity', 'Passengers', 'Length',   'Wheelbase', 'Width', 'Turn.circle', 'Weight']], dtype='float')"
   ]
  },
  {
   "cell_type": "code",
   "execution_count": 4,
   "metadata": {},
   "outputs": [
    {
     "data": {
      "image/png": "[encoded data removed]",
      "text/plain": [
       "<Figure size 432x288 with 1 Axes>"
      ]
     },
     "metadata": {
      "needs_background": "light"
     },
     "output_type": "display_data"
    }
   ],
   "source": [
    "def mse(y_a, y_b):\n",
    "    d = (y_a - y_b)**2\n",
    "    return d.mean()\n",
    "\n",
    "\n",
    "def cross_validation(X, Y, N=100):\n",
    "    alpha = np.logspace(-12,0,N)\n",
    "    mse_g = np.zeros(N)\n",
    "    beta = np.zeros((14,N))\n",
    "    l = LeaveOneOut()\n",
    "    for i in range(N):\n",
    "        j=0\n",
    "        ms = np.zeros(len(Y))\n",
    "        for train_index, test_index in l.split(X,Y):\n",
    "            x_train = X[train_index,:]\n",
    "            x_test = X[test_index,:]\n",
    "\n",
    "            y_train = Y[train_index]\n",
    "            y_test = Y[test_index]\n",
    "            \n",
    "            linear = linear_model.Lasso(alpha[i], normalize=True)\n",
    "            linear.fit(x_train, y_train)\n",
    "            beta[0,i] = linear.intercept_\n",
    "            beta[1:,i] = linear.coef_\n",
    "            Y_model = linear.predict(x_test)\n",
    "            ms[j] = mse(Y_model, y_test)\n",
    "            j += 1\n",
    "        mse_g[i] = ms.mean()\n",
    "    plt.plot(np.log10(alpha), mse_g)\n",
    "    gr = np.ones(N)*np.log10(alpha[np.argmin(mse_g)])\n",
    "    gr_ = np.linspace(30,90,100)\n",
    "    plt.plot(gr,gr_)\n",
    "    plt.xlabel(\"$log_{10} \\lambda$\")\n",
    "    plt.ylabel(\"Cross validation Error\")\n",
    "    plt.show()\n",
    "\n",
    "    return beta, alpha, mse_g\n",
    "\n",
    "beta, alpha, mse_g = cross_validation(X,Y,100)"
   ]
  },
  {
   "cell_type": "code",
   "execution_count": 5,
   "metadata": {},
   "outputs": [
    {
     "data": {
      "image/png": "[encoded data removed]",
      "text/plain": [
       "<Figure size 432x288 with 1 Axes>"
      ]
     },
     "metadata": {
      "needs_background": "light"
     },
     "output_type": "display_data"
    }
   ],
   "source": [
    "for i in range(13):\n",
    "    plt.plot(np.log(alpha), beta[i,:], label=str(i))\n",
    "gr = np.ones(100)*np.log10(alpha[np.argmin(mse_g)])\n",
    "gr_ = np.linspace(-30,90,100)\n",
    "plt.plot(gr,gr_)\n",
    "plt.xlabel(\"$log_{10} \\lambda$\")\n",
    "plt.ylabel(\"Parameters\")\n",
    "plt.show()"
   ]
  },
  {
   "cell_type": "markdown",
   "metadata": {},
   "source": [
    "Se puede evidenciar que en el lambda mas pequeño el parametro 0 es de lo que mas tienen influencia"
   ]
  },
  {
   "cell_type": "code",
   "execution_count": null,
   "metadata": {},
   "outputs": [],
   "source": []
  },
  {
   "cell_type": "code",
   "execution_count": null,
   "metadata": {},
   "outputs": [],
   "source": []
  }
 ],
 "metadata": {
  "kernelspec": {
   "display_name": "Python 3",
   "language": "python",
   "name": "python3"
  },
  "language_info": {
   "codemirror_mode": {
    "name": "ipython",
    "version": 3
   },
   "file_extension": ".py",
   "mimetype": "text/x-python",
   "name": "python",
   "nbconvert_exporter": "python",
   "pygments_lexer": "ipython3",
   "version": "3.6.6"
  }
 },
 "nbformat": 4,
 "nbformat_minor": 2
}
