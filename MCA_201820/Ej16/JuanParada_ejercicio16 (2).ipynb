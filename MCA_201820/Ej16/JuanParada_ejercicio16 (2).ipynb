{
 "cells": [
  {
   "cell_type": "code",
   "execution_count": 1,
   "metadata": {},
   "outputs": [],
   "source": [
    "import numpy as np\n",
    "import pandas as pd\n",
    "import matplotlib.pyplot as plt\n",
    "%matplotlib inline"
   ]
  },
  {
   "cell_type": "code",
   "execution_count": 2,
   "metadata": {},
   "outputs": [],
   "source": [
    "data = pd.read_csv('Cars93.csv')"
   ]
  },
  {
   "cell_type": "code",
   "execution_count": 5,
   "metadata": {},
   "outputs": [],
   "source": [
    "def model(x, coefs, intercept):\n",
    "    y = np.zeros(len(x))\n",
    "    p = len(coefs)\n",
    "    y+=intercept\n",
    "    for i in range(p):\n",
    "        y += coefs[i] * x[:,i]\n",
    "    return y\n",
    "\n",
    "    \n",
    "def mse(y_a, y_b):\n",
    "    d = (y_a - y_b)**2\n",
    "    return d.mean()\n",
    "\n",
    "def cross_validation(X, Y,coefs, intercept, n_groups=2):\n",
    "    n_points = len(Y)\n",
    "    ids = np.arange(n_points)\n",
    "    group_ids = ids % n_groups\n",
    "    mse_groups = np.zeros(n_groups)\n",
    "    for i in range(n_groups):\n",
    "        ii = (group_ids ==i)\n",
    "        validation_X = X[ii]\n",
    "        train_X = X[~ii]\n",
    "        \n",
    "        validation_Y = Y[ii]\n",
    "        train_Y = Y[~ii]\n",
    "        \n",
    "        Y_model = model(validation_X, coefs, intercept)\n",
    "        mse_groups[i] = mse(Y_model, validation_Y)\n",
    "        \n",
    "    return mse_groups.mean()"
   ]
  },
  {
   "cell_type": "code",
   "execution_count": 7,
   "metadata": {},
   "outputs": [
    {
     "name": "stdout",
     "output_type": "stream",
     "text": [
      "[[2.500e+01 3.100e+01 1.800e+00 ... 6.800e+01 3.700e+01 2.705e+03]\n",
      " [1.800e+01 2.500e+01 3.200e+00 ... 7.100e+01 3.800e+01 3.560e+03]\n",
      " [2.000e+01 2.600e+01 2.800e+00 ... 6.700e+01 3.700e+01 3.375e+03]\n",
      " ...\n",
      " [1.800e+01 2.500e+01 2.800e+00 ... 6.600e+01 3.600e+01 2.810e+03]\n",
      " [2.100e+01 2.800e+01 2.300e+00 ... 6.700e+01 3.700e+01 2.985e+03]\n",
      " [2.000e+01 2.800e+01 2.400e+00 ... 6.900e+01 3.800e+01 3.245e+03]]\n"
     ]
    }
   ],
   "source": [
    "X = np.array(data[['MPG.city', 'MPG.highway', 'EngineSize',    'Horsepower', 'RPM', 'Rev.per.mile',   'Fuel.tank.capacity', 'Passengers', 'Length',   'Wheelbase', 'Width', 'Turn.circle', 'Weight']],dtype=float)\n",
    "Y = np.array(data['Price'].values.reshape(-1,1),dtype=float)\n",
    "print(X)"
   ]
  },
  {
   "cell_type": "code",
   "execution_count": 8,
   "metadata": {},
   "outputs": [
    {
     "name": "stdout",
     "output_type": "stream",
     "text": [
      "[-0.         -0.02787334  0.          0.11794716  0.          0.\n",
      "  0.         -0.          0.          0.11283772 -0.         -0.\n",
      "  0.        ]\n",
      "[-8.37275355]\n"
     ]
    }
   ],
   "source": [
    "from sklearn import linear_model\n",
    "\n",
    "# Prueba de Lasso con alpha=0.1\n",
    "clf = linear_model.Lasso(alpha=0.1,normalize=True)\n",
    "clf.fit(X, Y)\n",
    "coefs=clf.coef_\n",
    "intercept=clf.intercept_\n",
    "print(clf.coef_)\n",
    "print(clf.intercept_)  "
   ]
  },
  {
   "cell_type": "code",
   "execution_count": 9,
   "metadata": {},
   "outputs": [
    {
     "name": "stdout",
     "output_type": "stream",
     "text": [
      "[18.78522288 27.49618303 22.69889879 23.15024967 27.62336728 15.58532118\n",
      " 23.42279725 25.25007751 23.11215744 27.38334531 38.24981255 14.99460357\n",
      " 15.2760257  21.11494843 15.97958102 23.44932626 23.0560482  24.04273254\n",
      " 37.14698256 21.64337094 19.21246551 20.65292149 12.61666153 12.73326435\n",
      " 14.40450521 20.42822785 14.51734293 37.28769362 12.61666153 28.83814782\n",
      "  8.29349207 16.82843224 13.48136569 14.59998118 15.97725489 21.59980672\n",
      " 19.2644471  26.17600034  7.21458107 12.18430945 20.91849068 13.99796827\n",
      " 19.34941148 10.86789187 16.50246409 12.13743731 17.70702575 36.55400626\n",
      " 24.4007963  29.48506929 22.07339688 28.87345674 11.21285881 13.83046028\n",
      " 21.64517245 21.65224548 31.83936026 18.00001111 28.93709618 13.41683908\n",
      " 20.16580452 12.61666153 26.85724894 14.51403501 20.10540556 21.43400562\n",
      " 21.50920828 20.66726803 15.58532118 23.44932626 23.42279725 12.58744384\n",
      " 10.38346357 15.1339703  21.11494843 26.6505723  23.42279725 18.58607644\n",
      " 12.10301555  9.36147031 12.35154952 17.6336246   9.17890192 10.87434565\n",
      " 17.82910056 17.77433567 20.04140357 10.75505415 16.87448466 18.21825097\n",
      " 22.87026651 16.02789214 22.50987661]\n"
     ]
    }
   ],
   "source": [
    "print(model(X,coefs,intercept))"
   ]
  },
  {
   "cell_type": "code",
   "execution_count": 103,
   "metadata": {},
   "outputs": [
    {
     "name": "stdout",
     "output_type": "stream",
     "text": [
      "[49.49280487]\n",
      "[49.49294678]\n",
      "[49.49312766]\n",
      "[49.49337775]\n",
      "[49.49370889]\n",
      "[49.49414881]\n",
      "[49.4947316]\n",
      "[49.49539643]\n",
      "[49.4962098]\n",
      "[49.4973036]\n",
      "[49.49875282]\n",
      "[49.50068524]\n",
      "[49.50324439]\n",
      "[49.50664185]\n",
      "[49.51374161]\n",
      "[49.51990191]\n",
      "[49.52821438]\n",
      "[49.53912821]\n",
      "[49.55347433]\n",
      "[49.57236455]\n",
      "[49.597269]\n",
      "[49.63014903]\n",
      "[49.67359021]\n",
      "[49.73090233]\n",
      "[49.80682751]\n",
      "[49.76045532]\n",
      "[49.28432145]\n",
      "[48.62245314]\n",
      "[47.8624161]\n",
      "[47.13919562]\n",
      "[44.21559363]\n",
      "[40.00574594]\n",
      "[34.42011811]\n",
      "[27.07574922]\n",
      "[17.37807928]\n",
      "[4.99121062]\n",
      "[-9.42711055]\n",
      "[-22.5873383]\n",
      "[-20.53067764]\n",
      "[-20.89955317]\n",
      "[-21.09061048]\n",
      "[-21.4100491]\n",
      "[-22.06045975]\n",
      "[-22.9169076]\n",
      "[-24.05280809]\n",
      "[-25.56289928]\n",
      "[-27.56335084]\n",
      "[-30.21802417]\n",
      "[-34.22761548]\n",
      "[-41.34503471]\n"
     ]
    },
    {
     "data": {
      "text/plain": [
       "Text(0.5, 0, '$\\\\lambda$')"
      ]
     },
     "execution_count": 103,
     "metadata": {},
     "output_type": "execute_result"
    },
    {
     "data": {
      "image/png": "[encoded data removed]",
      "text/plain": [
       "<Figure size 432x288 with 1 Axes>"
      ]
     },
     "metadata": {
      "needs_background": "light"
     },
     "output_type": "display_data"
    }
   ],
   "source": [
    "\n",
    "alpha=np.logspace(-4,2)\n",
    "cross_val_error=np.zeros(len(alpha))\n",
    "\n",
    "npar=len(X[1,:])+1\n",
    "all_coef=np.zeros((len(alpha),npar))\n",
    "\n",
    "for i in range(len(alpha)):\n",
    "    clf = linear_model.Lasso(alpha=alpha[i])\n",
    "    clf.fit(X, Y)\n",
    "    coefs=clf.coef_\n",
    "    intercept=clf.intercept_\n",
    "    SV_leave_one_out  = cross_validation(X, Y,coefs, intercept, n_groups=len(X))\n",
    "    cross_val_error[i]=SV_leave_one_out\n",
    "    all_coef[i,0]=intercept\n",
    "    all_coef[i,1:]=coefs\n",
    "    print(intercept)\n",
    "plt.plot(alpha,cross_val_error)\n",
    "plt.xscale('log')\n",
    "plt.xlabel(\"$\\lambda$\")\n"
   ]
  },
  {
   "cell_type": "code",
   "execution_count": 106,
   "metadata": {},
   "outputs": [
    {
     "data": {
      "image/png": "[encoded data removed]",
      "text/plain": [
       "<Figure size 432x288 with 1 Axes>"
      ]
     },
     "metadata": {
      "needs_background": "light"
     },
     "output_type": "display_data"
    }
   ],
   "source": [
    "plt.plot(alpha,all_coef)\n",
    "plt.xlabel(\"$\\lambda$\")\n",
    "plt.xscale('log')"
   ]
  },
  {
   "cell_type": "code",
   "execution_count": null,
   "metadata": {},
   "outputs": [],
   "source": []
  },
  {
   "cell_type": "code",
   "execution_count": null,
   "metadata": {},
   "outputs": [],
   "source": []
  },
  {
   "cell_type": "code",
   "execution_count": null,
   "metadata": {},
   "outputs": [],
   "source": []
  }
 ],
 "metadata": {
  "kernelspec": {
   "display_name": "Python 3",
   "language": "python",
   "name": "python3"
  },
  "language_info": {
   "codemirror_mode": {
    "name": "ipython",
    "version": 3
   },
   "file_extension": ".py",
   "mimetype": "text/x-python",
   "name": "python",
   "nbconvert_exporter": "python",
   "pygments_lexer": "ipython3",
   "version": "3.6.6"
  }
 },
 "nbformat": 4,
 "nbformat_minor": 2
}
