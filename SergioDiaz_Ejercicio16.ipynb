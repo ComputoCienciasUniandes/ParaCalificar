{
 "cells": [
  {
   "cell_type": "code",
   "execution_count": 14,
   "metadata": {},
   "outputs": [],
   "source": [
    "import numpy as np\n",
    "import matplotlib.pyplot as plt\n",
    "import pandas as pd\n",
    "from sklearn import linear_model\n",
    "from sklearn.model_selection import LeaveOneOut\n",
    "%matplotlib inline"
   ]
  },
  {
   "cell_type": "code",
   "execution_count": 84,
   "metadata": {},
   "outputs": [
    {
     "name": "stdout",
     "output_type": "stream",
     "text": [
      "[15.9, 33.9, 29.1, 37.7, 30.0, 15.7, 20.8, 23.7, 26.3, 34.7, 40.1, 13.4, 11.4, 15.1, 15.9, 16.3, 16.6, 18.8, 38.0, 18.4, 15.8, 29.5, 9.2, 11.3, 13.3, 19.0, 15.6, 25.8, 12.2, 19.3, 7.4, 10.1, 11.3, 15.9, 14.0, 19.9, 20.2, 20.9, 8.4, 12.5, 19.8, 12.1, 17.5, 8.0, 10.0, 10.0, 13.9, 47.9, 28.0, 35.2, 34.3, 36.1, 8.3, 11.6, 16.5, 19.1, 32.5, 31.9, 61.9, 14.1, 14.9, 10.3, 26.1, 11.8, 15.7, 19.1, 21.5, 13.5, 16.3, 19.5, 20.7, 14.4, 9.0, 11.1, 17.7, 18.5, 24.4, 28.7, 11.1, 8.4, 10.9, 19.5, 8.6, 9.8, 18.4, 18.2, 22.7, 9.1, 19.7, 20.0, 23.3, 22.7, 26.7]\n"
     ]
    }
   ],
   "source": [
    "#Este script ebe ejecutarse al lado del archivo Cars93.csv\n",
    "data = pd.read_csv('Cars93.csv')\n",
    "names= ('MPG.city', 'MPG.highway', 'EngineSize', \n",
    "   'Horsepower', 'RPM', 'Rev.per.mile',\n",
    "   'Fuel.tank.capacity', 'Passengers', 'Length',\n",
    "   'Wheelbase', 'Width', 'Turn.circle', 'Weight')\n",
    "X = data[['MPG.city', 'MPG.highway', 'EngineSize', \n",
    "   'Horsepower', 'RPM', 'Rev.per.mile',\n",
    "   'Fuel.tank.capacity', 'Passengers', 'Length',\n",
    "   'Wheelbase', 'Width', 'Turn.circle', 'Weight']]\n",
    "Y = data['Price'].values.reshape(-1,1)\n",
    "Xn = []\n",
    "Yn = []\n",
    "for i in range(len(Y)):\n",
    "    Yn.append(Y[i][0])\n",
    "for i in range(len(names)):\n",
    "    col = []\n",
    "    for j in range(len(Y)):\n",
    "        col.append(X[names[i]][j])\n",
    "    Xn.append(col)\n",
    "\n",
    "def fun(x,inter,coef):\n",
    "    suma = inter\n",
    "    for i in range(len(coef)):\n",
    "        suma += x[i]*coef[i]\n",
    "    return suma"
   ]
  },
  {
   "cell_type": "code",
   "execution_count": 103,
   "metadata": {},
   "outputs": [
    {
     "name": "stdout",
     "output_type": "stream",
     "text": [
      "<generator object BaseCrossValidator.split at 0x7f1dd879b7d8>\n"
     ]
    },
    {
     "name": "stderr",
     "output_type": "stream",
     "text": [
      "/srv/conda/lib/python3.6/site-packages/ipykernel_launcher.py:26: UserWarning: With alpha=0, this algorithm does not converge well. You are advised to use the LinearRegression estimator\n"
     ]
    },
    {
     "ename": "ValueError",
     "evalue": "Found input variables with inconsistent numbers of samples: [13, 92]",
     "output_type": "error",
     "traceback": [
      "\u001b[0;31m---------------------------------------------------------------------------\u001b[0m",
      "\u001b[0;31mValueError\u001b[0m                                Traceback (most recent call last)",
      "\u001b[0;32m<ipython-input-103-116170bab3f6>\u001b[0m in \u001b[0;36m<module>\u001b[0;34m()\u001b[0m\n\u001b[1;32m     24\u001b[0m \u001b[0;34m\u001b[0m\u001b[0m\n\u001b[1;32m     25\u001b[0m         \u001b[0mclf\u001b[0m \u001b[0;34m=\u001b[0m \u001b[0mlinear_model\u001b[0m\u001b[0;34m.\u001b[0m\u001b[0mLasso\u001b[0m\u001b[0;34m(\u001b[0m\u001b[0malpha\u001b[0m\u001b[0;34m=\u001b[0m\u001b[0malphas\u001b[0m\u001b[0;34m[\u001b[0m\u001b[0malf\u001b[0m\u001b[0;34m]\u001b[0m\u001b[0;34m)\u001b[0m\u001b[0;34m\u001b[0m\u001b[0m\n\u001b[0;32m---> 26\u001b[0;31m         \u001b[0mclf\u001b[0m\u001b[0;34m.\u001b[0m\u001b[0mfit\u001b[0m\u001b[0;34m(\u001b[0m\u001b[0mnp\u001b[0m\u001b[0;34m.\u001b[0m\u001b[0marray\u001b[0m\u001b[0;34m(\u001b[0m\u001b[0mX_train\u001b[0m\u001b[0;34m)\u001b[0m\u001b[0;34m,\u001b[0m\u001b[0mnp\u001b[0m\u001b[0;34m.\u001b[0m\u001b[0marray\u001b[0m\u001b[0;34m(\u001b[0m\u001b[0mY_train\u001b[0m\u001b[0;34m)\u001b[0m\u001b[0;34m)\u001b[0m\u001b[0;34m\u001b[0m\u001b[0m\n\u001b[0m\u001b[1;32m     27\u001b[0m \u001b[0;34m\u001b[0m\u001b[0m\n",
      "\u001b[0;32m/srv/conda/lib/python3.6/site-packages/sklearn/linear_model/coordinate_descent.py\u001b[0m in \u001b[0;36mfit\u001b[0;34m(self, X, y, check_input)\u001b[0m\n\u001b[1;32m    710\u001b[0m             X, y = check_X_y(X, y, accept_sparse='csc',\n\u001b[1;32m    711\u001b[0m                              \u001b[0morder\u001b[0m\u001b[0;34m=\u001b[0m\u001b[0;34m'F'\u001b[0m\u001b[0;34m,\u001b[0m \u001b[0mdtype\u001b[0m\u001b[0;34m=\u001b[0m\u001b[0;34m[\u001b[0m\u001b[0mnp\u001b[0m\u001b[0;34m.\u001b[0m\u001b[0mfloat64\u001b[0m\u001b[0;34m,\u001b[0m \u001b[0mnp\u001b[0m\u001b[0;34m.\u001b[0m\u001b[0mfloat32\u001b[0m\u001b[0;34m]\u001b[0m\u001b[0;34m,\u001b[0m\u001b[0;34m\u001b[0m\u001b[0m\n\u001b[0;32m--> 712\u001b[0;31m                              copy=X_copied, multi_output=True, y_numeric=True)\n\u001b[0m\u001b[1;32m    713\u001b[0m             y = check_array(y, order='F', copy=False, dtype=X.dtype.type,\n\u001b[1;32m    714\u001b[0m                             ensure_2d=False)\n",
      "\u001b[0;32m/srv/conda/lib/python3.6/site-packages/sklearn/utils/validation.py\u001b[0m in \u001b[0;36mcheck_X_y\u001b[0;34m(X, y, accept_sparse, accept_large_sparse, dtype, order, copy, force_all_finite, ensure_2d, allow_nd, multi_output, ensure_min_samples, ensure_min_features, y_numeric, warn_on_dtype, estimator)\u001b[0m\n\u001b[1;32m    755\u001b[0m         \u001b[0my\u001b[0m \u001b[0;34m=\u001b[0m \u001b[0my\u001b[0m\u001b[0;34m.\u001b[0m\u001b[0mastype\u001b[0m\u001b[0;34m(\u001b[0m\u001b[0mnp\u001b[0m\u001b[0;34m.\u001b[0m\u001b[0mfloat64\u001b[0m\u001b[0;34m)\u001b[0m\u001b[0;34m\u001b[0m\u001b[0m\n\u001b[1;32m    756\u001b[0m \u001b[0;34m\u001b[0m\u001b[0m\n\u001b[0;32m--> 757\u001b[0;31m     \u001b[0mcheck_consistent_length\u001b[0m\u001b[0;34m(\u001b[0m\u001b[0mX\u001b[0m\u001b[0;34m,\u001b[0m \u001b[0my\u001b[0m\u001b[0;34m)\u001b[0m\u001b[0;34m\u001b[0m\u001b[0m\n\u001b[0m\u001b[1;32m    758\u001b[0m \u001b[0;34m\u001b[0m\u001b[0m\n\u001b[1;32m    759\u001b[0m     \u001b[0;32mreturn\u001b[0m \u001b[0mX\u001b[0m\u001b[0;34m,\u001b[0m \u001b[0my\u001b[0m\u001b[0;34m\u001b[0m\u001b[0m\n",
      "\u001b[0;32m/srv/conda/lib/python3.6/site-packages/sklearn/utils/validation.py\u001b[0m in \u001b[0;36mcheck_consistent_length\u001b[0;34m(*arrays)\u001b[0m\n\u001b[1;32m    228\u001b[0m     \u001b[0;32mif\u001b[0m \u001b[0mlen\u001b[0m\u001b[0;34m(\u001b[0m\u001b[0muniques\u001b[0m\u001b[0;34m)\u001b[0m \u001b[0;34m>\u001b[0m \u001b[0;36m1\u001b[0m\u001b[0;34m:\u001b[0m\u001b[0;34m\u001b[0m\u001b[0m\n\u001b[1;32m    229\u001b[0m         raise ValueError(\"Found input variables with inconsistent numbers of\"\n\u001b[0;32m--> 230\u001b[0;31m                          \" samples: %r\" % [int(l) for l in lengths])\n\u001b[0m\u001b[1;32m    231\u001b[0m \u001b[0;34m\u001b[0m\u001b[0m\n\u001b[1;32m    232\u001b[0m \u001b[0;34m\u001b[0m\u001b[0m\n",
      "\u001b[0;31mValueError\u001b[0m: Found input variables with inconsistent numbers of samples: [13, 92]"
     ]
    }
   ],
   "source": [
    "#datos del alpha\n",
    "alphas=np.linspace(0,1000,1000)\n",
    "loo = LeaveOneOut()\n",
    "#for i in range(len(alphas)):\n",
    "clf = linear_model.Lasso(alpha=alphas[i])\n",
    "clf.fit(X,Y)\n",
    "#print(clf.coef_)\n",
    "#print(clf.intercept_)\n",
    "print(d)\n",
    "CORRT = []\n",
    "for alf in range(len(alphas)):\n",
    "    corr = 0.0\n",
    "    betas = []\n",
    "    for train, test in loo.split(X):\n",
    "        X_test = []\n",
    "        X_train = []\n",
    "        Y_train = []\n",
    "        for k in range(len(train)):\n",
    "            Y_train.append(Yn[train[k]])\n",
    "        Y_test = [int(test)]\n",
    "        for i in range(len(names)):\n",
    "            X_test.append(Xn[i][int(test)])\n",
    "            col = []\n",
    "            for j in range(len(train)):\n",
    "                col.append(Xn[i][train[j]])\n",
    "            X_train.append(col)\n",
    "            \n",
    "        X_test = np.array(X_test)\n",
    "        Y_test = np.array(Y_test)\n",
    "        X_train = np.array(X_train)\n",
    "        Y_train = np.array(Y_train)\n",
    "        clf = linear_model.Lasso(alpha=alphas[alf])\n",
    "        clf.fit(X_train,Y_train)\n",
    "        betas.append([clf.intercept_.append(clf.coef_)])\n",
    "        corr += (Y_test - fun(X_test,clf.intercept_,clf.coef_))**2\n",
    "    \n",
    "    CORRT.append((corr/len(Y)))\n",
    "    \n",
    "plt.plot(alphas,CORRT)\n",
    "plt.xlabel('Alphas')\n",
    "plt.ylabel('Cross Correlation Error')\n",
    "\n"
   ]
  },
  {
   "cell_type": "code",
   "execution_count": null,
   "metadata": {},
   "outputs": [],
   "source": []
  }
 ],
 "metadata": {
  "kernelspec": {
   "display_name": "Python 3",
   "language": "python",
   "name": "python3"
  },
  "language_info": {
   "codemirror_mode": {
    "name": "ipython",
    "version": 3
   },
   "file_extension": ".py",
   "mimetype": "text/x-python",
   "name": "python",
   "nbconvert_exporter": "python",
   "pygments_lexer": "ipython3",
   "version": "3.6.6"
  }
 },
 "nbformat": 4,
 "nbformat_minor": 2
}
